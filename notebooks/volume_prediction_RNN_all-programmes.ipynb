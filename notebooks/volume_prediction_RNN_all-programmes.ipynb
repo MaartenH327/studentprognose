{
 "cells": [
  {
   "cell_type": "code",
   "execution_count": 1,
   "metadata": {},
   "outputs": [],
   "source": [
    "import os\n",
    "import sys\n",
    "module_path = os.path.abspath(os.path.join('..'))\n",
    "if module_path not in sys.path:\n",
    "    sys.path.append(module_path)"
   ]
  },
  {
   "cell_type": "code",
   "execution_count": 2,
   "metadata": {},
   "outputs": [],
   "source": [
    "import pandas as pd\n",
    "import json\n",
    "import numpy as np\n",
    "import itertools\n",
    "from scripts.load_data import *\n",
    "\n",
    "from sklearn.preprocessing import OneHotEncoder\n",
    "from sklearn.compose import ColumnTransformer\n",
    "from xgboost import XGBRegressor\n",
    "\n",
    "import matplotlib.pyplot as plt\n",
    "from pandas import read_csv\n",
    "import math\n",
    "import tensorflow as tf\n",
    "from tensorflow.keras.models import Sequential\n",
    "from tensorflow.keras.layers import Dense\n",
    "from tensorflow.keras.layers import LSTM\n",
    "from sklearn.preprocessing import MinMaxScaler\n",
    "from sklearn.metrics import mean_squared_error, mean_absolute_error"
   ]
  },
  {
   "cell_type": "code",
   "execution_count": 3,
   "metadata": {},
   "outputs": [],
   "source": [
    "import os\n",
    "os.environ['TF_CPP_MIN_LOG_LEVEL'] = '3'"
   ]
  },
  {
   "cell_type": "code",
   "execution_count": 4,
   "metadata": {},
   "outputs": [],
   "source": [
    "configuration = load_configuration(\"../configuration/configuration.json\")\n",
    "\n",
    "paths = configuration[\"paths\"]\n",
    "data_student_numbers_f = pd.read_excel(paths[\"path_student_count_first-years\"])\n",
    "data_student_numbers_h = pd.read_excel(paths[\"path_student_count_higher-years\"])\n",
    "data_student_numbers_v = pd.read_excel(paths[\"path_student_volume\"])"
   ]
  },
  {
   "cell_type": "code",
   "execution_count": 5,
   "metadata": {},
   "outputs": [
    {
     "data": {
      "text/html": [
       "<div>\n",
       "<style scoped>\n",
       "    .dataframe tbody tr th:only-of-type {\n",
       "        vertical-align: middle;\n",
       "    }\n",
       "\n",
       "    .dataframe tbody tr th {\n",
       "        vertical-align: top;\n",
       "    }\n",
       "\n",
       "    .dataframe thead th {\n",
       "        text-align: right;\n",
       "    }\n",
       "</style>\n",
       "<table border=\"1\" class=\"dataframe\">\n",
       "  <thead>\n",
       "    <tr style=\"text-align: right;\">\n",
       "      <th></th>\n",
       "      <th>Collegejaar</th>\n",
       "      <th>Croho groepeernaam</th>\n",
       "      <th>Herkomst</th>\n",
       "      <th>Aantal_studenten_f</th>\n",
       "      <th>Aantal_studenten_h</th>\n",
       "    </tr>\n",
       "  </thead>\n",
       "  <tbody>\n",
       "    <tr>\n",
       "      <th>0</th>\n",
       "      <td>2012</td>\n",
       "      <td>M Geneeskunde</td>\n",
       "      <td>NL</td>\n",
       "      <td>180</td>\n",
       "      <td>868</td>\n",
       "    </tr>\n",
       "    <tr>\n",
       "      <th>1</th>\n",
       "      <td>2013</td>\n",
       "      <td>M Geneeskunde</td>\n",
       "      <td>NL</td>\n",
       "      <td>173</td>\n",
       "      <td>892</td>\n",
       "    </tr>\n",
       "    <tr>\n",
       "      <th>2</th>\n",
       "      <td>2014</td>\n",
       "      <td>M Geneeskunde</td>\n",
       "      <td>NL</td>\n",
       "      <td>175</td>\n",
       "      <td>916</td>\n",
       "    </tr>\n",
       "    <tr>\n",
       "      <th>3</th>\n",
       "      <td>2015</td>\n",
       "      <td>M Geneeskunde</td>\n",
       "      <td>NL</td>\n",
       "      <td>21</td>\n",
       "      <td>1086</td>\n",
       "    </tr>\n",
       "    <tr>\n",
       "      <th>4</th>\n",
       "      <td>2016</td>\n",
       "      <td>M Geneeskunde</td>\n",
       "      <td>NL</td>\n",
       "      <td>148</td>\n",
       "      <td>984</td>\n",
       "    </tr>\n",
       "    <tr>\n",
       "      <th>...</th>\n",
       "      <td>...</td>\n",
       "      <td>...</td>\n",
       "      <td>...</td>\n",
       "      <td>...</td>\n",
       "      <td>...</td>\n",
       "    </tr>\n",
       "    <tr>\n",
       "      <th>2156</th>\n",
       "      <td>2016</td>\n",
       "      <td>M Leraar Voorbereidend Hoger Onderwijs in Gods...</td>\n",
       "      <td>NL</td>\n",
       "      <td>1</td>\n",
       "      <td>1</td>\n",
       "    </tr>\n",
       "    <tr>\n",
       "      <th>2157</th>\n",
       "      <td>2014</td>\n",
       "      <td>M Leraar Voorbereidend Hoger Onderwijs in Natu...</td>\n",
       "      <td>NL</td>\n",
       "      <td>3</td>\n",
       "      <td>1</td>\n",
       "    </tr>\n",
       "    <tr>\n",
       "      <th>2158</th>\n",
       "      <td>2015</td>\n",
       "      <td>M Leraar Voorbereidend Hoger Onderwijs in Natu...</td>\n",
       "      <td>NL</td>\n",
       "      <td>1</td>\n",
       "      <td>1</td>\n",
       "    </tr>\n",
       "    <tr>\n",
       "      <th>2159</th>\n",
       "      <td>2017</td>\n",
       "      <td>M Leraar Voorbereidend Hoger Onderwijs in Natu...</td>\n",
       "      <td>NL</td>\n",
       "      <td>2</td>\n",
       "      <td>1</td>\n",
       "    </tr>\n",
       "    <tr>\n",
       "      <th>2160</th>\n",
       "      <td>2012</td>\n",
       "      <td>M Kunstgeschiedenis</td>\n",
       "      <td>NL</td>\n",
       "      <td>1</td>\n",
       "      <td>1</td>\n",
       "    </tr>\n",
       "  </tbody>\n",
       "</table>\n",
       "<p>2161 rows × 5 columns</p>\n",
       "</div>"
      ],
      "text/plain": [
       "      Collegejaar                                 Croho groepeernaam Herkomst  \\\n",
       "0            2012                                      M Geneeskunde       NL   \n",
       "1            2013                                      M Geneeskunde       NL   \n",
       "2            2014                                      M Geneeskunde       NL   \n",
       "3            2015                                      M Geneeskunde       NL   \n",
       "4            2016                                      M Geneeskunde       NL   \n",
       "...           ...                                                ...      ...   \n",
       "2156         2016  M Leraar Voorbereidend Hoger Onderwijs in Gods...       NL   \n",
       "2157         2014  M Leraar Voorbereidend Hoger Onderwijs in Natu...       NL   \n",
       "2158         2015  M Leraar Voorbereidend Hoger Onderwijs in Natu...       NL   \n",
       "2159         2017  M Leraar Voorbereidend Hoger Onderwijs in Natu...       NL   \n",
       "2160         2012                                M Kunstgeschiedenis       NL   \n",
       "\n",
       "      Aantal_studenten_f  Aantal_studenten_h  \n",
       "0                    180                 868  \n",
       "1                    173                 892  \n",
       "2                    175                 916  \n",
       "3                     21                1086  \n",
       "4                    148                 984  \n",
       "...                  ...                 ...  \n",
       "2156                   1                   1  \n",
       "2157                   3                   1  \n",
       "2158                   1                   1  \n",
       "2159                   2                   1  \n",
       "2160                   1                   1  \n",
       "\n",
       "[2161 rows x 5 columns]"
      ]
     },
     "execution_count": 5,
     "metadata": {},
     "output_type": "execute_result"
    }
   ],
   "source": [
    "combined_data_student_numbers = data_student_numbers_f.merge(data_student_numbers_h, on=[\"Croho groepeernaam\", \"Herkomst\", \"Collegejaar\"])\n",
    "combined_data_student_numbers = combined_data_student_numbers.rename(columns={\"Aantal_studenten_x\": \"Aantal_studenten_f\", \"Aantal_studenten_y\": \"Aantal_studenten_h\"})\n",
    "combined_data_student_numbers"
   ]
  },
  {
   "cell_type": "code",
   "execution_count": 6,
   "metadata": {},
   "outputs": [
    {
     "data": {
      "text/html": [
       "<div>\n",
       "<style scoped>\n",
       "    .dataframe tbody tr th:only-of-type {\n",
       "        vertical-align: middle;\n",
       "    }\n",
       "\n",
       "    .dataframe tbody tr th {\n",
       "        vertical-align: top;\n",
       "    }\n",
       "\n",
       "    .dataframe thead th {\n",
       "        text-align: right;\n",
       "    }\n",
       "</style>\n",
       "<table border=\"1\" class=\"dataframe\">\n",
       "  <thead>\n",
       "    <tr style=\"text-align: right;\">\n",
       "      <th></th>\n",
       "      <th>Collegejaar</th>\n",
       "      <th>Croho groepeernaam</th>\n",
       "      <th>Herkomst</th>\n",
       "      <th>Aantal_studenten_f</th>\n",
       "      <th>Aantal_studenten_h</th>\n",
       "    </tr>\n",
       "  </thead>\n",
       "  <tbody>\n",
       "    <tr>\n",
       "      <th>1819</th>\n",
       "      <td>2012</td>\n",
       "      <td>B Sociologie</td>\n",
       "      <td>NL</td>\n",
       "      <td>49</td>\n",
       "      <td>76</td>\n",
       "    </tr>\n",
       "    <tr>\n",
       "      <th>1820</th>\n",
       "      <td>2013</td>\n",
       "      <td>B Sociologie</td>\n",
       "      <td>NL</td>\n",
       "      <td>51</td>\n",
       "      <td>88</td>\n",
       "    </tr>\n",
       "    <tr>\n",
       "      <th>1821</th>\n",
       "      <td>2014</td>\n",
       "      <td>B Sociologie</td>\n",
       "      <td>NL</td>\n",
       "      <td>38</td>\n",
       "      <td>108</td>\n",
       "    </tr>\n",
       "    <tr>\n",
       "      <th>1822</th>\n",
       "      <td>2015</td>\n",
       "      <td>B Sociologie</td>\n",
       "      <td>NL</td>\n",
       "      <td>32</td>\n",
       "      <td>105</td>\n",
       "    </tr>\n",
       "    <tr>\n",
       "      <th>1823</th>\n",
       "      <td>2016</td>\n",
       "      <td>B Sociologie</td>\n",
       "      <td>NL</td>\n",
       "      <td>44</td>\n",
       "      <td>95</td>\n",
       "    </tr>\n",
       "    <tr>\n",
       "      <th>1824</th>\n",
       "      <td>2017</td>\n",
       "      <td>B Sociologie</td>\n",
       "      <td>NL</td>\n",
       "      <td>31</td>\n",
       "      <td>98</td>\n",
       "    </tr>\n",
       "    <tr>\n",
       "      <th>1825</th>\n",
       "      <td>2018</td>\n",
       "      <td>B Sociologie</td>\n",
       "      <td>NL</td>\n",
       "      <td>43</td>\n",
       "      <td>89</td>\n",
       "    </tr>\n",
       "    <tr>\n",
       "      <th>1826</th>\n",
       "      <td>2019</td>\n",
       "      <td>B Sociologie</td>\n",
       "      <td>NL</td>\n",
       "      <td>48</td>\n",
       "      <td>99</td>\n",
       "    </tr>\n",
       "    <tr>\n",
       "      <th>1827</th>\n",
       "      <td>2020</td>\n",
       "      <td>B Sociologie</td>\n",
       "      <td>NL</td>\n",
       "      <td>63</td>\n",
       "      <td>99</td>\n",
       "    </tr>\n",
       "    <tr>\n",
       "      <th>1828</th>\n",
       "      <td>2021</td>\n",
       "      <td>B Sociologie</td>\n",
       "      <td>NL</td>\n",
       "      <td>86</td>\n",
       "      <td>111</td>\n",
       "    </tr>\n",
       "    <tr>\n",
       "      <th>1829</th>\n",
       "      <td>2022</td>\n",
       "      <td>B Sociologie</td>\n",
       "      <td>NL</td>\n",
       "      <td>79</td>\n",
       "      <td>141</td>\n",
       "    </tr>\n",
       "    <tr>\n",
       "      <th>1830</th>\n",
       "      <td>2023</td>\n",
       "      <td>B Sociologie</td>\n",
       "      <td>NL</td>\n",
       "      <td>66</td>\n",
       "      <td>162</td>\n",
       "    </tr>\n",
       "    <tr>\n",
       "      <th>1831</th>\n",
       "      <td>2013</td>\n",
       "      <td>B Sociologie</td>\n",
       "      <td>EER</td>\n",
       "      <td>7</td>\n",
       "      <td>1</td>\n",
       "    </tr>\n",
       "    <tr>\n",
       "      <th>1832</th>\n",
       "      <td>2014</td>\n",
       "      <td>B Sociologie</td>\n",
       "      <td>EER</td>\n",
       "      <td>5</td>\n",
       "      <td>2</td>\n",
       "    </tr>\n",
       "    <tr>\n",
       "      <th>1833</th>\n",
       "      <td>2016</td>\n",
       "      <td>B Sociologie</td>\n",
       "      <td>EER</td>\n",
       "      <td>1</td>\n",
       "      <td>4</td>\n",
       "    </tr>\n",
       "    <tr>\n",
       "      <th>1834</th>\n",
       "      <td>2019</td>\n",
       "      <td>B Sociologie</td>\n",
       "      <td>EER</td>\n",
       "      <td>1</td>\n",
       "      <td>2</td>\n",
       "    </tr>\n",
       "  </tbody>\n",
       "</table>\n",
       "</div>"
      ],
      "text/plain": [
       "      Collegejaar Croho groepeernaam Herkomst  Aantal_studenten_f  \\\n",
       "1819         2012       B Sociologie       NL                  49   \n",
       "1820         2013       B Sociologie       NL                  51   \n",
       "1821         2014       B Sociologie       NL                  38   \n",
       "1822         2015       B Sociologie       NL                  32   \n",
       "1823         2016       B Sociologie       NL                  44   \n",
       "1824         2017       B Sociologie       NL                  31   \n",
       "1825         2018       B Sociologie       NL                  43   \n",
       "1826         2019       B Sociologie       NL                  48   \n",
       "1827         2020       B Sociologie       NL                  63   \n",
       "1828         2021       B Sociologie       NL                  86   \n",
       "1829         2022       B Sociologie       NL                  79   \n",
       "1830         2023       B Sociologie       NL                  66   \n",
       "1831         2013       B Sociologie      EER                   7   \n",
       "1832         2014       B Sociologie      EER                   5   \n",
       "1833         2016       B Sociologie      EER                   1   \n",
       "1834         2019       B Sociologie      EER                   1   \n",
       "\n",
       "      Aantal_studenten_h  \n",
       "1819                  76  \n",
       "1820                  88  \n",
       "1821                 108  \n",
       "1822                 105  \n",
       "1823                  95  \n",
       "1824                  98  \n",
       "1825                  89  \n",
       "1826                  99  \n",
       "1827                  99  \n",
       "1828                 111  \n",
       "1829                 141  \n",
       "1830                 162  \n",
       "1831                   1  \n",
       "1832                   2  \n",
       "1833                   4  \n",
       "1834                   2  "
      ]
     },
     "execution_count": 6,
     "metadata": {},
     "output_type": "execute_result"
    }
   ],
   "source": [
    "combined_data_student_numbers[combined_data_student_numbers[\"Croho groepeernaam\"] == \"B Sociologie\"]"
   ]
  },
  {
   "cell_type": "code",
   "execution_count": 7,
   "metadata": {},
   "outputs": [],
   "source": [
    "predict_year = 2023\n",
    "\n",
    "look_back = 6\n",
    "nr_of_epochs = 35"
   ]
  },
  {
   "cell_type": "code",
   "execution_count": 8,
   "metadata": {},
   "outputs": [],
   "source": [
    "all_unique_years = np.sort(combined_data_student_numbers[\"Collegejaar\"].unique())"
   ]
  },
  {
   "cell_type": "code",
   "execution_count": 9,
   "metadata": {},
   "outputs": [
    {
     "name": "stdout",
     "output_type": "stream",
     "text": [
      "Start of: B Algemene Cultuurwetenschappen, EER\n"
     ]
    },
    {
     "name": "stderr",
     "output_type": "stream",
     "text": [
      "c:\\Users\\jjble\\anaconda3\\Lib\\site-packages\\keras\\src\\layers\\rnn\\rnn.py:204: UserWarning: Do not pass an `input_shape`/`input_dim` argument to a layer. When using Sequential models, prefer using an `Input(shape)` object as the first layer in the model instead.\n",
      "  super().__init__(**kwargs)\n"
     ]
    },
    {
     "name": "stdout",
     "output_type": "stream",
     "text": [
      "B Algemene Cultuurwetenschappen, EER: [[20.646328]] => [[15.353672]]\n",
      "Start of: B Algemene Cultuurwetenschappen, NL\n"
     ]
    },
    {
     "name": "stderr",
     "output_type": "stream",
     "text": [
      "c:\\Users\\jjble\\anaconda3\\Lib\\site-packages\\keras\\src\\layers\\rnn\\rnn.py:204: UserWarning: Do not pass an `input_shape`/`input_dim` argument to a layer. When using Sequential models, prefer using an `Input(shape)` object as the first layer in the model instead.\n",
      "  super().__init__(**kwargs)\n"
     ]
    },
    {
     "name": "stdout",
     "output_type": "stream",
     "text": [
      "B Algemene Cultuurwetenschappen, NL: [[76.82928]] => [[0.17072296]]\n",
      "Start of: B Algemene Cultuurwetenschappen, Niet-EER\n"
     ]
    },
    {
     "name": "stderr",
     "output_type": "stream",
     "text": [
      "c:\\Users\\jjble\\anaconda3\\Lib\\site-packages\\keras\\src\\layers\\rnn\\rnn.py:204: UserWarning: Do not pass an `input_shape`/`input_dim` argument to a layer. When using Sequential models, prefer using an `Input(shape)` object as the first layer in the model instead.\n",
      "  super().__init__(**kwargs)\n"
     ]
    },
    {
     "name": "stdout",
     "output_type": "stream",
     "text": [
      "B Algemene Cultuurwetenschappen, Niet-EER: [[5.6126695]] => [[3.3873305]]\n",
      "Start of: B Artificial Intelligence, EER\n"
     ]
    },
    {
     "name": "stderr",
     "output_type": "stream",
     "text": [
      "c:\\Users\\jjble\\anaconda3\\Lib\\site-packages\\keras\\src\\layers\\rnn\\rnn.py:204: UserWarning: Do not pass an `input_shape`/`input_dim` argument to a layer. When using Sequential models, prefer using an `Input(shape)` object as the first layer in the model instead.\n",
      "  super().__init__(**kwargs)\n"
     ]
    },
    {
     "name": "stdout",
     "output_type": "stream",
     "text": [
      "B Artificial Intelligence, EER: [[44.599598]] => [[39.400402]]\n",
      "Start of: B Artificial Intelligence, NL\n"
     ]
    },
    {
     "name": "stderr",
     "output_type": "stream",
     "text": [
      "c:\\Users\\jjble\\anaconda3\\Lib\\site-packages\\keras\\src\\layers\\rnn\\rnn.py:204: UserWarning: Do not pass an `input_shape`/`input_dim` argument to a layer. When using Sequential models, prefer using an `Input(shape)` object as the first layer in the model instead.\n",
      "  super().__init__(**kwargs)\n"
     ]
    },
    {
     "name": "stdout",
     "output_type": "stream",
     "text": [
      "WARNING:tensorflow:5 out of the last 5 calls to <function TensorFlowTrainer.make_predict_function.<locals>.one_step_on_data_distributed at 0x00000200231C7600> triggered tf.function retracing. Tracing is expensive and the excessive number of tracings could be due to (1) creating @tf.function repeatedly in a loop, (2) passing tensors with different shapes, (3) passing Python objects instead of tensors. For (1), please define your @tf.function outside of the loop. For (2), @tf.function has reduce_retracing=True option that can avoid unnecessary retracing. For (3), please refer to https://www.tensorflow.org/guide/function#controlling_retracing and https://www.tensorflow.org/api_docs/python/tf/function for  more details.\n",
      "B Artificial Intelligence, NL: [[222.35043]] => [[52.649567]]\n",
      "Start of: B Artificial Intelligence, Niet-EER\n"
     ]
    },
    {
     "name": "stderr",
     "output_type": "stream",
     "text": [
      "c:\\Users\\jjble\\anaconda3\\Lib\\site-packages\\keras\\src\\layers\\rnn\\rnn.py:204: UserWarning: Do not pass an `input_shape`/`input_dim` argument to a layer. When using Sequential models, prefer using an `Input(shape)` object as the first layer in the model instead.\n",
      "  super().__init__(**kwargs)\n"
     ]
    },
    {
     "name": "stdout",
     "output_type": "stream",
     "text": [
      "WARNING:tensorflow:6 out of the last 6 calls to <function TensorFlowTrainer.make_predict_function.<locals>.one_step_on_data_distributed at 0x000002002549ACA0> triggered tf.function retracing. Tracing is expensive and the excessive number of tracings could be due to (1) creating @tf.function repeatedly in a loop, (2) passing tensors with different shapes, (3) passing Python objects instead of tensors. For (1), please define your @tf.function outside of the loop. For (2), @tf.function has reduce_retracing=True option that can avoid unnecessary retracing. For (3), please refer to https://www.tensorflow.org/guide/function#controlling_retracing and https://www.tensorflow.org/api_docs/python/tf/function for  more details.\n",
      "B Artificial Intelligence, Niet-EER: [[18.626047]] => [[2.6260471]]\n",
      "Start of: B Bedrijfskunde, EER\n"
     ]
    },
    {
     "name": "stderr",
     "output_type": "stream",
     "text": [
      "c:\\Users\\jjble\\anaconda3\\Lib\\site-packages\\keras\\src\\layers\\rnn\\rnn.py:204: UserWarning: Do not pass an `input_shape`/`input_dim` argument to a layer. When using Sequential models, prefer using an `Input(shape)` object as the first layer in the model instead.\n",
      "  super().__init__(**kwargs)\n"
     ]
    },
    {
     "name": "stdout",
     "output_type": "stream",
     "text": [
      "B Bedrijfskunde, EER: [[59.497158]] => [[20.502842]]\n",
      "Start of: B Bedrijfskunde, NL\n"
     ]
    },
    {
     "name": "stderr",
     "output_type": "stream",
     "text": [
      "c:\\Users\\jjble\\anaconda3\\Lib\\site-packages\\keras\\src\\layers\\rnn\\rnn.py:204: UserWarning: Do not pass an `input_shape`/`input_dim` argument to a layer. When using Sequential models, prefer using an `Input(shape)` object as the first layer in the model instead.\n",
      "  super().__init__(**kwargs)\n"
     ]
    },
    {
     "name": "stdout",
     "output_type": "stream",
     "text": [
      "B Bedrijfskunde, NL: [[916.0855]] => [[98.91449]]\n",
      "Start of: B Bedrijfskunde, Niet-EER\n"
     ]
    },
    {
     "name": "stderr",
     "output_type": "stream",
     "text": [
      "c:\\Users\\jjble\\anaconda3\\Lib\\site-packages\\keras\\src\\layers\\rnn\\rnn.py:204: UserWarning: Do not pass an `input_shape`/`input_dim` argument to a layer. When using Sequential models, prefer using an `Input(shape)` object as the first layer in the model instead.\n",
      "  super().__init__(**kwargs)\n"
     ]
    },
    {
     "name": "stdout",
     "output_type": "stream",
     "text": [
      "B Bedrijfskunde, Niet-EER: [[30.07744]] => [[12.07744]]\n",
      "Start of: B Bestuurskunde, EER\n",
      "Start of: B Bestuurskunde, NL\n"
     ]
    },
    {
     "name": "stderr",
     "output_type": "stream",
     "text": [
      "c:\\Users\\jjble\\anaconda3\\Lib\\site-packages\\keras\\src\\layers\\rnn\\rnn.py:204: UserWarning: Do not pass an `input_shape`/`input_dim` argument to a layer. When using Sequential models, prefer using an `Input(shape)` object as the first layer in the model instead.\n",
      "  super().__init__(**kwargs)\n"
     ]
    },
    {
     "name": "stdout",
     "output_type": "stream",
     "text": [
      "B Bestuurskunde, NL: [[215.72774]] => [[21.727737]]\n",
      "Start of: B Bestuurskunde, Niet-EER\n",
      "Start of: B Biology, EER\n"
     ]
    },
    {
     "name": "stderr",
     "output_type": "stream",
     "text": [
      "c:\\Users\\jjble\\anaconda3\\Lib\\site-packages\\keras\\src\\layers\\rnn\\rnn.py:204: UserWarning: Do not pass an `input_shape`/`input_dim` argument to a layer. When using Sequential models, prefer using an `Input(shape)` object as the first layer in the model instead.\n",
      "  super().__init__(**kwargs)\n"
     ]
    },
    {
     "name": "stdout",
     "output_type": "stream",
     "text": [
      "B Biology, EER: [[42.240784]] => [[81.75922]]\n",
      "Start of: B Biology, NL\n"
     ]
    },
    {
     "name": "stderr",
     "output_type": "stream",
     "text": [
      "c:\\Users\\jjble\\anaconda3\\Lib\\site-packages\\keras\\src\\layers\\rnn\\rnn.py:204: UserWarning: Do not pass an `input_shape`/`input_dim` argument to a layer. When using Sequential models, prefer using an `Input(shape)` object as the first layer in the model instead.\n",
      "  super().__init__(**kwargs)\n"
     ]
    },
    {
     "name": "stdout",
     "output_type": "stream",
     "text": [
      "B Biology, NL: [[297.33313]] => [[56.33313]]\n",
      "Start of: B Biology, Niet-EER\n"
     ]
    },
    {
     "name": "stderr",
     "output_type": "stream",
     "text": [
      "c:\\Users\\jjble\\anaconda3\\Lib\\site-packages\\keras\\src\\layers\\rnn\\rnn.py:204: UserWarning: Do not pass an `input_shape`/`input_dim` argument to a layer. When using Sequential models, prefer using an `Input(shape)` object as the first layer in the model instead.\n",
      "  super().__init__(**kwargs)\n"
     ]
    },
    {
     "name": "stdout",
     "output_type": "stream",
     "text": [
      "B Biology, Niet-EER: [[5.6646595]] => [[17.33534]]\n",
      "Start of: B Biomedische Wetenschappen, EER\n",
      "Start of: B Biomedische Wetenschappen, NL\n"
     ]
    },
    {
     "name": "stderr",
     "output_type": "stream",
     "text": [
      "c:\\Users\\jjble\\anaconda3\\Lib\\site-packages\\keras\\src\\layers\\rnn\\rnn.py:204: UserWarning: Do not pass an `input_shape`/`input_dim` argument to a layer. When using Sequential models, prefer using an `Input(shape)` object as the first layer in the model instead.\n",
      "  super().__init__(**kwargs)\n"
     ]
    },
    {
     "name": "stdout",
     "output_type": "stream",
     "text": [
      "B Biomedische Wetenschappen, NL: [[177.78143]] => [[16.218567]]\n",
      "Start of: B Biomedische Wetenschappen, Niet-EER\n",
      "Start of: B Chemistry, EER\n"
     ]
    },
    {
     "name": "stderr",
     "output_type": "stream",
     "text": [
      "c:\\Users\\jjble\\anaconda3\\Lib\\site-packages\\keras\\src\\layers\\rnn\\rnn.py:204: UserWarning: Do not pass an `input_shape`/`input_dim` argument to a layer. When using Sequential models, prefer using an `Input(shape)` object as the first layer in the model instead.\n",
      "  super().__init__(**kwargs)\n"
     ]
    },
    {
     "name": "stdout",
     "output_type": "stream",
     "text": [
      "B Chemistry, EER: [[7.741578]] => [[17.258423]]\n",
      "Start of: B Chemistry, NL\n"
     ]
    },
    {
     "name": "stderr",
     "output_type": "stream",
     "text": [
      "c:\\Users\\jjble\\anaconda3\\Lib\\site-packages\\keras\\src\\layers\\rnn\\rnn.py:204: UserWarning: Do not pass an `input_shape`/`input_dim` argument to a layer. When using Sequential models, prefer using an `Input(shape)` object as the first layer in the model instead.\n",
      "  super().__init__(**kwargs)\n"
     ]
    },
    {
     "name": "stdout",
     "output_type": "stream",
     "text": [
      "B Chemistry, NL: [[62.069668]] => [[14.930332]]\n",
      "Start of: B Chemistry, Niet-EER\n"
     ]
    },
    {
     "name": "stderr",
     "output_type": "stream",
     "text": [
      "c:\\Users\\jjble\\anaconda3\\Lib\\site-packages\\keras\\src\\layers\\rnn\\rnn.py:204: UserWarning: Do not pass an `input_shape`/`input_dim` argument to a layer. When using Sequential models, prefer using an `Input(shape)` object as the first layer in the model instead.\n",
      "  super().__init__(**kwargs)\n"
     ]
    },
    {
     "name": "stdout",
     "output_type": "stream",
     "text": [
      "B Chemistry, Niet-EER: [[6.1418924]] => [[3.8581076]]\n",
      "Start of: B Communicatie- en Informatiewetenschappen, EER\n"
     ]
    },
    {
     "name": "stderr",
     "output_type": "stream",
     "text": [
      "c:\\Users\\jjble\\anaconda3\\Lib\\site-packages\\keras\\src\\layers\\rnn\\rnn.py:204: UserWarning: Do not pass an `input_shape`/`input_dim` argument to a layer. When using Sequential models, prefer using an `Input(shape)` object as the first layer in the model instead.\n",
      "  super().__init__(**kwargs)\n"
     ]
    },
    {
     "name": "stdout",
     "output_type": "stream",
     "text": [
      "B Communicatie- en Informatiewetenschappen, EER: [[47.086697]] => [[1.0866966]]\n",
      "Start of: B Communicatie- en Informatiewetenschappen, NL\n"
     ]
    },
    {
     "name": "stderr",
     "output_type": "stream",
     "text": [
      "c:\\Users\\jjble\\anaconda3\\Lib\\site-packages\\keras\\src\\layers\\rnn\\rnn.py:204: UserWarning: Do not pass an `input_shape`/`input_dim` argument to a layer. When using Sequential models, prefer using an `Input(shape)` object as the first layer in the model instead.\n",
      "  super().__init__(**kwargs)\n"
     ]
    },
    {
     "name": "stdout",
     "output_type": "stream",
     "text": [
      "B Communicatie- en Informatiewetenschappen, NL: [[267.611]] => [[61.610992]]\n",
      "Start of: B Communicatie- en Informatiewetenschappen, Niet-EER\n"
     ]
    },
    {
     "name": "stderr",
     "output_type": "stream",
     "text": [
      "c:\\Users\\jjble\\anaconda3\\Lib\\site-packages\\keras\\src\\layers\\rnn\\rnn.py:204: UserWarning: Do not pass an `input_shape`/`input_dim` argument to a layer. When using Sequential models, prefer using an `Input(shape)` object as the first layer in the model instead.\n",
      "  super().__init__(**kwargs)\n"
     ]
    },
    {
     "name": "stdout",
     "output_type": "stream",
     "text": [
      "B Communicatie- en Informatiewetenschappen, Niet-EER: [[11.809133]] => [[5.8091326]]\n",
      "Start of: B Communicatiewetenschap, EER\n",
      "Start of: B Communicatiewetenschap, NL\n"
     ]
    },
    {
     "name": "stderr",
     "output_type": "stream",
     "text": [
      "c:\\Users\\jjble\\anaconda3\\Lib\\site-packages\\keras\\src\\layers\\rnn\\rnn.py:204: UserWarning: Do not pass an `input_shape`/`input_dim` argument to a layer. When using Sequential models, prefer using an `Input(shape)` object as the first layer in the model instead.\n",
      "  super().__init__(**kwargs)\n"
     ]
    },
    {
     "name": "stdout",
     "output_type": "stream",
     "text": [
      "B Communicatiewetenschap, NL: [[205.70679]] => [[19.293213]]\n",
      "Start of: B Communicatiewetenschap, Niet-EER\n",
      "Start of: B Computing Science, EER\n"
     ]
    },
    {
     "name": "stderr",
     "output_type": "stream",
     "text": [
      "c:\\Users\\jjble\\anaconda3\\Lib\\site-packages\\keras\\src\\layers\\rnn\\rnn.py:204: UserWarning: Do not pass an `input_shape`/`input_dim` argument to a layer. When using Sequential models, prefer using an `Input(shape)` object as the first layer in the model instead.\n",
      "  super().__init__(**kwargs)\n"
     ]
    },
    {
     "name": "stdout",
     "output_type": "stream",
     "text": [
      "B Computing Science, EER: [[30.8368]] => [[67.1632]]\n",
      "Start of: B Computing Science, NL\n"
     ]
    },
    {
     "name": "stderr",
     "output_type": "stream",
     "text": [
      "c:\\Users\\jjble\\anaconda3\\Lib\\site-packages\\keras\\src\\layers\\rnn\\rnn.py:204: UserWarning: Do not pass an `input_shape`/`input_dim` argument to a layer. When using Sequential models, prefer using an `Input(shape)` object as the first layer in the model instead.\n",
      "  super().__init__(**kwargs)\n"
     ]
    },
    {
     "name": "stdout",
     "output_type": "stream",
     "text": [
      "B Computing Science, NL: [[254.52382]] => [[90.47618]]\n",
      "Start of: B Computing Science, Niet-EER\n"
     ]
    },
    {
     "name": "stderr",
     "output_type": "stream",
     "text": [
      "c:\\Users\\jjble\\anaconda3\\Lib\\site-packages\\keras\\src\\layers\\rnn\\rnn.py:204: UserWarning: Do not pass an `input_shape`/`input_dim` argument to a layer. When using Sequential models, prefer using an `Input(shape)` object as the first layer in the model instead.\n",
      "  super().__init__(**kwargs)\n"
     ]
    },
    {
     "name": "stdout",
     "output_type": "stream",
     "text": [
      "B Computing Science, Niet-EER: [[4.053258]] => [[20.946743]]\n",
      "Start of: B Culturele Antropologie en Ontwikkelingssociologie, EER\n",
      "Start of: B Culturele Antropologie en Ontwikkelingssociologie, NL\n"
     ]
    },
    {
     "name": "stderr",
     "output_type": "stream",
     "text": [
      "c:\\Users\\jjble\\anaconda3\\Lib\\site-packages\\keras\\src\\layers\\rnn\\rnn.py:204: UserWarning: Do not pass an `input_shape`/`input_dim` argument to a layer. When using Sequential models, prefer using an `Input(shape)` object as the first layer in the model instead.\n",
      "  super().__init__(**kwargs)\n"
     ]
    },
    {
     "name": "stdout",
     "output_type": "stream",
     "text": [
      "B Culturele Antropologie en Ontwikkelingssociologie, NL: [[100.85714]] => [[12.14286]]\n",
      "Start of: B Culturele Antropologie en Ontwikkelingssociologie, Niet-EER\n",
      "Start of: B Duitse Taal en Cultuur, EER\n",
      "Start of: B Duitse Taal en Cultuur, NL\n"
     ]
    },
    {
     "name": "stderr",
     "output_type": "stream",
     "text": [
      "c:\\Users\\jjble\\anaconda3\\Lib\\site-packages\\keras\\src\\layers\\rnn\\rnn.py:204: UserWarning: Do not pass an `input_shape`/`input_dim` argument to a layer. When using Sequential models, prefer using an `Input(shape)` object as the first layer in the model instead.\n",
      "  super().__init__(**kwargs)\n"
     ]
    },
    {
     "name": "stdout",
     "output_type": "stream",
     "text": [
      "B Duitse Taal en Cultuur, NL: [[30.603273]] => [[13.603273]]\n",
      "Start of: B Duitse Taal en Cultuur, Niet-EER\n",
      "Start of: B Economie en Bedrijfseconomie, EER\n"
     ]
    },
    {
     "name": "stderr",
     "output_type": "stream",
     "text": [
      "c:\\Users\\jjble\\anaconda3\\Lib\\site-packages\\keras\\src\\layers\\rnn\\rnn.py:204: UserWarning: Do not pass an `input_shape`/`input_dim` argument to a layer. When using Sequential models, prefer using an `Input(shape)` object as the first layer in the model instead.\n",
      "  super().__init__(**kwargs)\n"
     ]
    },
    {
     "name": "stdout",
     "output_type": "stream",
     "text": [
      "B Economie en Bedrijfseconomie, EER: [[29.410566]] => [[1.4105663]]\n",
      "Start of: B Economie en Bedrijfseconomie, NL\n"
     ]
    },
    {
     "name": "stderr",
     "output_type": "stream",
     "text": [
      "c:\\Users\\jjble\\anaconda3\\Lib\\site-packages\\keras\\src\\layers\\rnn\\rnn.py:204: UserWarning: Do not pass an `input_shape`/`input_dim` argument to a layer. When using Sequential models, prefer using an `Input(shape)` object as the first layer in the model instead.\n",
      "  super().__init__(**kwargs)\n"
     ]
    },
    {
     "name": "stdout",
     "output_type": "stream",
     "text": [
      "B Economie en Bedrijfseconomie, NL: [[306.92847]] => [[72.07153]]\n",
      "Start of: B Economie en Bedrijfseconomie, Niet-EER\n"
     ]
    },
    {
     "name": "stderr",
     "output_type": "stream",
     "text": [
      "c:\\Users\\jjble\\anaconda3\\Lib\\site-packages\\keras\\src\\layers\\rnn\\rnn.py:204: UserWarning: Do not pass an `input_shape`/`input_dim` argument to a layer. When using Sequential models, prefer using an `Input(shape)` object as the first layer in the model instead.\n",
      "  super().__init__(**kwargs)\n"
     ]
    },
    {
     "name": "stdout",
     "output_type": "stream",
     "text": [
      "B Economie en Bedrijfseconomie, Niet-EER: [[11.389135]] => [[2.6108646]]\n",
      "Start of: B English Language and Culture, EER\n"
     ]
    },
    {
     "name": "stderr",
     "output_type": "stream",
     "text": [
      "c:\\Users\\jjble\\anaconda3\\Lib\\site-packages\\keras\\src\\layers\\rnn\\rnn.py:204: UserWarning: Do not pass an `input_shape`/`input_dim` argument to a layer. When using Sequential models, prefer using an `Input(shape)` object as the first layer in the model instead.\n",
      "  super().__init__(**kwargs)\n"
     ]
    },
    {
     "name": "stdout",
     "output_type": "stream",
     "text": [
      "B English Language and Culture, EER: [[10.997026]] => [[7.0029736]]\n",
      "Start of: B English Language and Culture, NL\n"
     ]
    },
    {
     "name": "stderr",
     "output_type": "stream",
     "text": [
      "c:\\Users\\jjble\\anaconda3\\Lib\\site-packages\\keras\\src\\layers\\rnn\\rnn.py:204: UserWarning: Do not pass an `input_shape`/`input_dim` argument to a layer. When using Sequential models, prefer using an `Input(shape)` object as the first layer in the model instead.\n",
      "  super().__init__(**kwargs)\n"
     ]
    },
    {
     "name": "stdout",
     "output_type": "stream",
     "text": [
      "B English Language and Culture, NL: [[140.6312]] => [[23.368805]]\n",
      "Start of: B English Language and Culture, Niet-EER\n"
     ]
    },
    {
     "name": "stderr",
     "output_type": "stream",
     "text": [
      "c:\\Users\\jjble\\anaconda3\\Lib\\site-packages\\keras\\src\\layers\\rnn\\rnn.py:204: UserWarning: Do not pass an `input_shape`/`input_dim` argument to a layer. When using Sequential models, prefer using an `Input(shape)` object as the first layer in the model instead.\n",
      "  super().__init__(**kwargs)\n"
     ]
    },
    {
     "name": "stdout",
     "output_type": "stream",
     "text": [
      "B English Language and Culture, Niet-EER: [[0.13496533]] => [[1.8650347]]\n",
      "Start of: B European Law School, EER\n"
     ]
    },
    {
     "name": "stderr",
     "output_type": "stream",
     "text": [
      "c:\\Users\\jjble\\anaconda3\\Lib\\site-packages\\keras\\src\\layers\\rnn\\rnn.py:204: UserWarning: Do not pass an `input_shape`/`input_dim` argument to a layer. When using Sequential models, prefer using an `Input(shape)` object as the first layer in the model instead.\n",
      "  super().__init__(**kwargs)\n"
     ]
    },
    {
     "name": "stdout",
     "output_type": "stream",
     "text": [
      "B European Law School, EER: [[1.1779956]] => [[0.82200444]]\n",
      "Start of: B European Law School, NL\n"
     ]
    },
    {
     "name": "stderr",
     "output_type": "stream",
     "text": [
      "c:\\Users\\jjble\\anaconda3\\Lib\\site-packages\\keras\\src\\layers\\rnn\\rnn.py:204: UserWarning: Do not pass an `input_shape`/`input_dim` argument to a layer. When using Sequential models, prefer using an `Input(shape)` object as the first layer in the model instead.\n",
      "  super().__init__(**kwargs)\n"
     ]
    },
    {
     "name": "stdout",
     "output_type": "stream",
     "text": [
      "B European Law School, NL: [[80.679375]] => [[66.320625]]\n",
      "Start of: B European Law School, Niet-EER\n",
      "Start of: B Filosofie, EER\n"
     ]
    },
    {
     "name": "stderr",
     "output_type": "stream",
     "text": [
      "c:\\Users\\jjble\\anaconda3\\Lib\\site-packages\\keras\\src\\layers\\rnn\\rnn.py:204: UserWarning: Do not pass an `input_shape`/`input_dim` argument to a layer. When using Sequential models, prefer using an `Input(shape)` object as the first layer in the model instead.\n",
      "  super().__init__(**kwargs)\n"
     ]
    },
    {
     "name": "stdout",
     "output_type": "stream",
     "text": [
      "B Filosofie, EER: [[38.642788]] => [[18.357212]]\n",
      "Start of: B Filosofie, NL\n"
     ]
    },
    {
     "name": "stderr",
     "output_type": "stream",
     "text": [
      "c:\\Users\\jjble\\anaconda3\\Lib\\site-packages\\keras\\src\\layers\\rnn\\rnn.py:204: UserWarning: Do not pass an `input_shape`/`input_dim` argument to a layer. When using Sequential models, prefer using an `Input(shape)` object as the first layer in the model instead.\n",
      "  super().__init__(**kwargs)\n"
     ]
    },
    {
     "name": "stdout",
     "output_type": "stream",
     "text": [
      "B Filosofie, NL: [[202.25427]] => [[31.745728]]\n",
      "Start of: B Filosofie, Niet-EER\n"
     ]
    },
    {
     "name": "stderr",
     "output_type": "stream",
     "text": [
      "c:\\Users\\jjble\\anaconda3\\Lib\\site-packages\\keras\\src\\layers\\rnn\\rnn.py:204: UserWarning: Do not pass an `input_shape`/`input_dim` argument to a layer. When using Sequential models, prefer using an `Input(shape)` object as the first layer in the model instead.\n",
      "  super().__init__(**kwargs)\n"
     ]
    },
    {
     "name": "stdout",
     "output_type": "stream",
     "text": [
      "B Filosofie, Niet-EER: [[4.644467]] => [[0.6444669]]\n",
      "Start of: B Geneeskunde, EER\n"
     ]
    },
    {
     "name": "stderr",
     "output_type": "stream",
     "text": [
      "c:\\Users\\jjble\\anaconda3\\Lib\\site-packages\\keras\\src\\layers\\rnn\\rnn.py:204: UserWarning: Do not pass an `input_shape`/`input_dim` argument to a layer. When using Sequential models, prefer using an `Input(shape)` object as the first layer in the model instead.\n",
      "  super().__init__(**kwargs)\n"
     ]
    },
    {
     "name": "stdout",
     "output_type": "stream",
     "text": [
      "B Geneeskunde, EER: [[10.050327]] => [[5.0503273]]\n",
      "Start of: B Geneeskunde, NL\n"
     ]
    },
    {
     "name": "stderr",
     "output_type": "stream",
     "text": [
      "c:\\Users\\jjble\\anaconda3\\Lib\\site-packages\\keras\\src\\layers\\rnn\\rnn.py:204: UserWarning: Do not pass an `input_shape`/`input_dim` argument to a layer. When using Sequential models, prefer using an `Input(shape)` object as the first layer in the model instead.\n",
      "  super().__init__(**kwargs)\n"
     ]
    },
    {
     "name": "stdout",
     "output_type": "stream",
     "text": [
      "B Geneeskunde, NL: [[139.70518]] => [[695.2948]]\n",
      "Start of: B Geneeskunde, Niet-EER\n",
      "Start of: B Geografie, Planologie en Milieu, EER\n",
      "Start of: B Geografie, Planologie en Milieu, NL\n"
     ]
    },
    {
     "name": "stderr",
     "output_type": "stream",
     "text": [
      "c:\\Users\\jjble\\anaconda3\\Lib\\site-packages\\keras\\src\\layers\\rnn\\rnn.py:204: UserWarning: Do not pass an `input_shape`/`input_dim` argument to a layer. When using Sequential models, prefer using an `Input(shape)` object as the first layer in the model instead.\n",
      "  super().__init__(**kwargs)\n"
     ]
    },
    {
     "name": "stdout",
     "output_type": "stream",
     "text": [
      "B Geografie, Planologie en Milieu, NL: [[264.18784]] => [[83.812164]]\n",
      "Start of: B Geografie, Planologie en Milieu, Niet-EER\n",
      "Start of: B Geschiedenis, EER\n"
     ]
    },
    {
     "name": "stderr",
     "output_type": "stream",
     "text": [
      "c:\\Users\\jjble\\anaconda3\\Lib\\site-packages\\keras\\src\\layers\\rnn\\rnn.py:204: UserWarning: Do not pass an `input_shape`/`input_dim` argument to a layer. When using Sequential models, prefer using an `Input(shape)` object as the first layer in the model instead.\n",
      "  super().__init__(**kwargs)\n"
     ]
    },
    {
     "name": "stdout",
     "output_type": "stream",
     "text": [
      "B Geschiedenis, EER: [[3.6730113]] => [[2.3269887]]\n",
      "Start of: B Geschiedenis, NL\n"
     ]
    },
    {
     "name": "stderr",
     "output_type": "stream",
     "text": [
      "c:\\Users\\jjble\\anaconda3\\Lib\\site-packages\\keras\\src\\layers\\rnn\\rnn.py:204: UserWarning: Do not pass an `input_shape`/`input_dim` argument to a layer. When using Sequential models, prefer using an `Input(shape)` object as the first layer in the model instead.\n",
      "  super().__init__(**kwargs)\n"
     ]
    },
    {
     "name": "stdout",
     "output_type": "stream",
     "text": [
      "B Geschiedenis, NL: [[213.87254]] => [[112.12746]]\n",
      "Start of: B Geschiedenis, Niet-EER\n"
     ]
    },
    {
     "name": "stderr",
     "output_type": "stream",
     "text": [
      "c:\\Users\\jjble\\anaconda3\\Lib\\site-packages\\keras\\src\\layers\\rnn\\rnn.py:204: UserWarning: Do not pass an `input_shape`/`input_dim` argument to a layer. When using Sequential models, prefer using an `Input(shape)` object as the first layer in the model instead.\n",
      "  super().__init__(**kwargs)\n"
     ]
    },
    {
     "name": "stdout",
     "output_type": "stream",
     "text": [
      "B Geschiedenis, Niet-EER: [[0.18145505]] => [[0.818545]]\n",
      "Start of: B Griekse en Latijnse Taal en Cultuur, EER\n",
      "Start of: B Griekse en Latijnse Taal en Cultuur, NL\n"
     ]
    },
    {
     "name": "stderr",
     "output_type": "stream",
     "text": [
      "c:\\Users\\jjble\\anaconda3\\Lib\\site-packages\\keras\\src\\layers\\rnn\\rnn.py:204: UserWarning: Do not pass an `input_shape`/`input_dim` argument to a layer. When using Sequential models, prefer using an `Input(shape)` object as the first layer in the model instead.\n",
      "  super().__init__(**kwargs)\n"
     ]
    },
    {
     "name": "stdout",
     "output_type": "stream",
     "text": [
      "B Griekse en Latijnse Taal en Cultuur, NL: [[28.18445]] => [[15.81555]]\n",
      "Start of: B Griekse en Latijnse Taal en Cultuur, Niet-EER\n",
      "Start of: B Informatiekunde, EER\n",
      "Start of: B Informatiekunde, NL\n",
      "Start of: B Informatiekunde, Niet-EER\n",
      "Start of: B Islam en Arabisch, EER\n",
      "Start of: B Islam en Arabisch, NL\n",
      "Start of: B Islam en Arabisch, Niet-EER\n",
      "Start of: B Kunstgeschiedenis, EER\n"
     ]
    },
    {
     "name": "stderr",
     "output_type": "stream",
     "text": [
      "c:\\Users\\jjble\\anaconda3\\Lib\\site-packages\\keras\\src\\layers\\rnn\\rnn.py:204: UserWarning: Do not pass an `input_shape`/`input_dim` argument to a layer. When using Sequential models, prefer using an `Input(shape)` object as the first layer in the model instead.\n",
      "  super().__init__(**kwargs)\n"
     ]
    },
    {
     "name": "stdout",
     "output_type": "stream",
     "text": [
      "B Kunstgeschiedenis, EER: [[0.00030997]] => [[2.99969]]\n",
      "Start of: B Kunstgeschiedenis, NL\n"
     ]
    },
    {
     "name": "stderr",
     "output_type": "stream",
     "text": [
      "c:\\Users\\jjble\\anaconda3\\Lib\\site-packages\\keras\\src\\layers\\rnn\\rnn.py:204: UserWarning: Do not pass an `input_shape`/`input_dim` argument to a layer. When using Sequential models, prefer using an `Input(shape)` object as the first layer in the model instead.\n",
      "  super().__init__(**kwargs)\n"
     ]
    },
    {
     "name": "stdout",
     "output_type": "stream",
     "text": [
      "B Kunstgeschiedenis, NL: [[38.99697]] => [[26.003029]]\n",
      "Start of: B Kunstgeschiedenis, Niet-EER\n",
      "Start of: B Molecular Life Sciences, EER\n"
     ]
    },
    {
     "name": "stderr",
     "output_type": "stream",
     "text": [
      "c:\\Users\\jjble\\anaconda3\\Lib\\site-packages\\keras\\src\\layers\\rnn\\rnn.py:204: UserWarning: Do not pass an `input_shape`/`input_dim` argument to a layer. When using Sequential models, prefer using an `Input(shape)` object as the first layer in the model instead.\n",
      "  super().__init__(**kwargs)\n"
     ]
    },
    {
     "name": "stdout",
     "output_type": "stream",
     "text": [
      "B Molecular Life Sciences, EER: [[36.855274]] => [[4.855274]]\n",
      "Start of: B Molecular Life Sciences, NL\n"
     ]
    },
    {
     "name": "stderr",
     "output_type": "stream",
     "text": [
      "c:\\Users\\jjble\\anaconda3\\Lib\\site-packages\\keras\\src\\layers\\rnn\\rnn.py:204: UserWarning: Do not pass an `input_shape`/`input_dim` argument to a layer. When using Sequential models, prefer using an `Input(shape)` object as the first layer in the model instead.\n",
      "  super().__init__(**kwargs)\n"
     ]
    },
    {
     "name": "stdout",
     "output_type": "stream",
     "text": [
      "B Molecular Life Sciences, NL: [[106.10864]] => [[65.89136]]\n",
      "Start of: B Molecular Life Sciences, Niet-EER\n"
     ]
    },
    {
     "name": "stderr",
     "output_type": "stream",
     "text": [
      "c:\\Users\\jjble\\anaconda3\\Lib\\site-packages\\keras\\src\\layers\\rnn\\rnn.py:204: UserWarning: Do not pass an `input_shape`/`input_dim` argument to a layer. When using Sequential models, prefer using an `Input(shape)` object as the first layer in the model instead.\n",
      "  super().__init__(**kwargs)\n"
     ]
    },
    {
     "name": "stdout",
     "output_type": "stream",
     "text": [
      "B Molecular Life Sciences, Niet-EER: [[6.570716]] => [[5.429284]]\n",
      "Start of: B Natuur- en Sterrenkunde, EER\n"
     ]
    },
    {
     "name": "stderr",
     "output_type": "stream",
     "text": [
      "c:\\Users\\jjble\\anaconda3\\Lib\\site-packages\\keras\\src\\layers\\rnn\\rnn.py:204: UserWarning: Do not pass an `input_shape`/`input_dim` argument to a layer. When using Sequential models, prefer using an `Input(shape)` object as the first layer in the model instead.\n",
      "  super().__init__(**kwargs)\n"
     ]
    },
    {
     "name": "stdout",
     "output_type": "stream",
     "text": [
      "B Natuur- en Sterrenkunde, EER: [[3.4844346]] => [[0.4844346]]\n",
      "Start of: B Natuur- en Sterrenkunde, NL\n"
     ]
    },
    {
     "name": "stderr",
     "output_type": "stream",
     "text": [
      "c:\\Users\\jjble\\anaconda3\\Lib\\site-packages\\keras\\src\\layers\\rnn\\rnn.py:204: UserWarning: Do not pass an `input_shape`/`input_dim` argument to a layer. When using Sequential models, prefer using an `Input(shape)` object as the first layer in the model instead.\n",
      "  super().__init__(**kwargs)\n"
     ]
    },
    {
     "name": "stdout",
     "output_type": "stream",
     "text": [
      "B Natuur- en Sterrenkunde, NL: [[168.77881]] => [[49.22119]]\n",
      "Start of: B Natuur- en Sterrenkunde, Niet-EER\n",
      "Start of: B Nederlandse Taal en Cultuur, EER\n",
      "Start of: B Nederlandse Taal en Cultuur, NL\n"
     ]
    },
    {
     "name": "stderr",
     "output_type": "stream",
     "text": [
      "c:\\Users\\jjble\\anaconda3\\Lib\\site-packages\\keras\\src\\layers\\rnn\\rnn.py:204: UserWarning: Do not pass an `input_shape`/`input_dim` argument to a layer. When using Sequential models, prefer using an `Input(shape)` object as the first layer in the model instead.\n",
      "  super().__init__(**kwargs)\n"
     ]
    },
    {
     "name": "stdout",
     "output_type": "stream",
     "text": [
      "B Nederlandse Taal en Cultuur, NL: [[51.71856]] => [[27.28144]]\n",
      "Start of: B Nederlandse Taal en Cultuur, Niet-EER\n",
      "Start of: B Notarieel Recht, EER\n"
     ]
    },
    {
     "name": "stderr",
     "output_type": "stream",
     "text": [
      "c:\\Users\\jjble\\anaconda3\\Lib\\site-packages\\keras\\src\\layers\\rnn\\rnn.py:204: UserWarning: Do not pass an `input_shape`/`input_dim` argument to a layer. When using Sequential models, prefer using an `Input(shape)` object as the first layer in the model instead.\n",
      "  super().__init__(**kwargs)\n"
     ]
    },
    {
     "name": "stdout",
     "output_type": "stream",
     "text": [
      "B Notarieel Recht, EER: [[0.23529066]] => [[1.7647094]]\n",
      "Start of: B Notarieel Recht, NL\n"
     ]
    },
    {
     "name": "stderr",
     "output_type": "stream",
     "text": [
      "c:\\Users\\jjble\\anaconda3\\Lib\\site-packages\\keras\\src\\layers\\rnn\\rnn.py:204: UserWarning: Do not pass an `input_shape`/`input_dim` argument to a layer. When using Sequential models, prefer using an `Input(shape)` object as the first layer in the model instead.\n",
      "  super().__init__(**kwargs)\n"
     ]
    },
    {
     "name": "stdout",
     "output_type": "stream",
     "text": [
      "B Notarieel Recht, NL: [[126.66077]] => [[149.33923]]\n",
      "Start of: B Notarieel Recht, Niet-EER\n",
      "Start of: B Pedagogische Wetenschappen, EER\n",
      "Start of: B Pedagogische Wetenschappen, NL\n"
     ]
    },
    {
     "name": "stderr",
     "output_type": "stream",
     "text": [
      "c:\\Users\\jjble\\anaconda3\\Lib\\site-packages\\keras\\src\\layers\\rnn\\rnn.py:204: UserWarning: Do not pass an `input_shape`/`input_dim` argument to a layer. When using Sequential models, prefer using an `Input(shape)` object as the first layer in the model instead.\n",
      "  super().__init__(**kwargs)\n"
     ]
    },
    {
     "name": "stdout",
     "output_type": "stream",
     "text": [
      "B Pedagogische Wetenschappen, NL: [[111.676445]] => [[616.32355]]\n",
      "Start of: B Pedagogische Wetenschappen, Niet-EER\n",
      "Start of: B Pedagogische Wetenschappen van Primair Onderwijs, EER\n",
      "Start of: B Pedagogische Wetenschappen van Primair Onderwijs, NL\n"
     ]
    },
    {
     "name": "stderr",
     "output_type": "stream",
     "text": [
      "c:\\Users\\jjble\\anaconda3\\Lib\\site-packages\\keras\\src\\layers\\rnn\\rnn.py:204: UserWarning: Do not pass an `input_shape`/`input_dim` argument to a layer. When using Sequential models, prefer using an `Input(shape)` object as the first layer in the model instead.\n",
      "  super().__init__(**kwargs)\n"
     ]
    },
    {
     "name": "stdout",
     "output_type": "stream",
     "text": [
      "B Pedagogische Wetenschappen van Primair Onderwijs, NL: [[53.93338]] => [[35.06662]]\n",
      "Start of: B Pedagogische Wetenschappen van Primair Onderwijs, Niet-EER\n",
      "Start of: B Politicologie, EER\n"
     ]
    },
    {
     "name": "stderr",
     "output_type": "stream",
     "text": [
      "c:\\Users\\jjble\\anaconda3\\Lib\\site-packages\\keras\\src\\layers\\rnn\\rnn.py:204: UserWarning: Do not pass an `input_shape`/`input_dim` argument to a layer. When using Sequential models, prefer using an `Input(shape)` object as the first layer in the model instead.\n",
      "  super().__init__(**kwargs)\n"
     ]
    },
    {
     "name": "stdout",
     "output_type": "stream",
     "text": [
      "B Politicologie, EER: [[2.0609212]] => [[2.9390788]]\n",
      "Start of: B Politicologie, NL\n"
     ]
    },
    {
     "name": "stderr",
     "output_type": "stream",
     "text": [
      "c:\\Users\\jjble\\anaconda3\\Lib\\site-packages\\keras\\src\\layers\\rnn\\rnn.py:204: UserWarning: Do not pass an `input_shape`/`input_dim` argument to a layer. When using Sequential models, prefer using an `Input(shape)` object as the first layer in the model instead.\n",
      "  super().__init__(**kwargs)\n"
     ]
    },
    {
     "name": "stdout",
     "output_type": "stream",
     "text": [
      "B Politicologie, NL: [[238.23662]] => [[9.763382]]\n",
      "Start of: B Politicologie, Niet-EER\n",
      "Start of: B Psychologie, EER\n"
     ]
    },
    {
     "name": "stderr",
     "output_type": "stream",
     "text": [
      "c:\\Users\\jjble\\anaconda3\\Lib\\site-packages\\keras\\src\\layers\\rnn\\rnn.py:204: UserWarning: Do not pass an `input_shape`/`input_dim` argument to a layer. When using Sequential models, prefer using an `Input(shape)` object as the first layer in the model instead.\n",
      "  super().__init__(**kwargs)\n"
     ]
    },
    {
     "name": "stdout",
     "output_type": "stream",
     "text": [
      "B Psychologie, EER: [[363.5211]] => [[75.47891]]\n",
      "Start of: B Psychologie, NL\n"
     ]
    },
    {
     "name": "stderr",
     "output_type": "stream",
     "text": [
      "c:\\Users\\jjble\\anaconda3\\Lib\\site-packages\\keras\\src\\layers\\rnn\\rnn.py:204: UserWarning: Do not pass an `input_shape`/`input_dim` argument to a layer. When using Sequential models, prefer using an `Input(shape)` object as the first layer in the model instead.\n",
      "  super().__init__(**kwargs)\n"
     ]
    },
    {
     "name": "stdout",
     "output_type": "stream",
     "text": [
      "B Psychologie, NL: [[496.4149]] => [[433.5851]]\n",
      "Start of: B Psychologie, Niet-EER\n"
     ]
    },
    {
     "name": "stderr",
     "output_type": "stream",
     "text": [
      "c:\\Users\\jjble\\anaconda3\\Lib\\site-packages\\keras\\src\\layers\\rnn\\rnn.py:204: UserWarning: Do not pass an `input_shape`/`input_dim` argument to a layer. When using Sequential models, prefer using an `Input(shape)` object as the first layer in the model instead.\n",
      "  super().__init__(**kwargs)\n"
     ]
    },
    {
     "name": "stdout",
     "output_type": "stream",
     "text": [
      "B Psychologie, Niet-EER: [[16.629835]] => [[5.370165]]\n",
      "Start of: B Rechtsgeleerdheid, EER\n"
     ]
    },
    {
     "name": "stderr",
     "output_type": "stream",
     "text": [
      "c:\\Users\\jjble\\anaconda3\\Lib\\site-packages\\keras\\src\\layers\\rnn\\rnn.py:204: UserWarning: Do not pass an `input_shape`/`input_dim` argument to a layer. When using Sequential models, prefer using an `Input(shape)` object as the first layer in the model instead.\n",
      "  super().__init__(**kwargs)\n"
     ]
    },
    {
     "name": "stdout",
     "output_type": "stream",
     "text": [
      "B Rechtsgeleerdheid, EER: [[7.5789084]] => [[1.5789084]]\n",
      "Start of: B Rechtsgeleerdheid, NL\n"
     ]
    },
    {
     "name": "stderr",
     "output_type": "stream",
     "text": [
      "c:\\Users\\jjble\\anaconda3\\Lib\\site-packages\\keras\\src\\layers\\rnn\\rnn.py:204: UserWarning: Do not pass an `input_shape`/`input_dim` argument to a layer. When using Sequential models, prefer using an `Input(shape)` object as the first layer in the model instead.\n",
      "  super().__init__(**kwargs)\n"
     ]
    },
    {
     "name": "stdout",
     "output_type": "stream",
     "text": [
      "B Rechtsgeleerdheid, NL: [[909.4645]] => [[77.53552]]\n",
      "Start of: B Rechtsgeleerdheid, Niet-EER\n"
     ]
    },
    {
     "name": "stderr",
     "output_type": "stream",
     "text": [
      "c:\\Users\\jjble\\anaconda3\\Lib\\site-packages\\keras\\src\\layers\\rnn\\rnn.py:204: UserWarning: Do not pass an `input_shape`/`input_dim` argument to a layer. When using Sequential models, prefer using an `Input(shape)` object as the first layer in the model instead.\n",
      "  super().__init__(**kwargs)\n"
     ]
    },
    {
     "name": "stdout",
     "output_type": "stream",
     "text": [
      "B Rechtsgeleerdheid, Niet-EER: [[0.14091912]] => [[4.859081]]\n",
      "Start of: B Religiewetenschappen, EER\n",
      "Start of: B Religiewetenschappen, NL\n"
     ]
    },
    {
     "name": "stderr",
     "output_type": "stream",
     "text": [
      "c:\\Users\\jjble\\anaconda3\\Lib\\site-packages\\keras\\src\\layers\\rnn\\rnn.py:204: UserWarning: Do not pass an `input_shape`/`input_dim` argument to a layer. When using Sequential models, prefer using an `Input(shape)` object as the first layer in the model instead.\n",
      "  super().__init__(**kwargs)\n"
     ]
    },
    {
     "name": "stdout",
     "output_type": "stream",
     "text": [
      "B Religiewetenschappen, NL: [[127.145134]] => [[42.145134]]\n",
      "Start of: B Religiewetenschappen, Niet-EER\n",
      "Start of: B Romaanse Talen en Culturen, EER\n"
     ]
    },
    {
     "name": "stderr",
     "output_type": "stream",
     "text": [
      "c:\\Users\\jjble\\anaconda3\\Lib\\site-packages\\keras\\src\\layers\\rnn\\rnn.py:204: UserWarning: Do not pass an `input_shape`/`input_dim` argument to a layer. When using Sequential models, prefer using an `Input(shape)` object as the first layer in the model instead.\n",
      "  super().__init__(**kwargs)\n"
     ]
    },
    {
     "name": "stdout",
     "output_type": "stream",
     "text": [
      "B Romaanse Talen en Culturen, EER: [[-0.14210683]] => [[1.1421068]]\n",
      "Start of: B Romaanse Talen en Culturen, NL\n"
     ]
    },
    {
     "name": "stderr",
     "output_type": "stream",
     "text": [
      "c:\\Users\\jjble\\anaconda3\\Lib\\site-packages\\keras\\src\\layers\\rnn\\rnn.py:204: UserWarning: Do not pass an `input_shape`/`input_dim` argument to a layer. When using Sequential models, prefer using an `Input(shape)` object as the first layer in the model instead.\n",
      "  super().__init__(**kwargs)\n"
     ]
    },
    {
     "name": "stdout",
     "output_type": "stream",
     "text": [
      "B Romaanse Talen en Culturen, NL: [[39.894615]] => [[12.105385]]\n",
      "Start of: B Romaanse Talen en Culturen, Niet-EER\n",
      "Start of: B Science, EER\n",
      "Start of: B Science, NL\n"
     ]
    },
    {
     "name": "stderr",
     "output_type": "stream",
     "text": [
      "c:\\Users\\jjble\\anaconda3\\Lib\\site-packages\\keras\\src\\layers\\rnn\\rnn.py:204: UserWarning: Do not pass an `input_shape`/`input_dim` argument to a layer. When using Sequential models, prefer using an `Input(shape)` object as the first layer in the model instead.\n",
      "  super().__init__(**kwargs)\n"
     ]
    },
    {
     "name": "stdout",
     "output_type": "stream",
     "text": [
      "B Science, NL: [[53.461796]] => [[0.4617958]]\n",
      "Start of: B Science, Niet-EER\n",
      "Start of: B Sociologie, EER\n",
      "Start of: B Sociologie, NL\n"
     ]
    },
    {
     "name": "stderr",
     "output_type": "stream",
     "text": [
      "c:\\Users\\jjble\\anaconda3\\Lib\\site-packages\\keras\\src\\layers\\rnn\\rnn.py:204: UserWarning: Do not pass an `input_shape`/`input_dim` argument to a layer. When using Sequential models, prefer using an `Input(shape)` object as the first layer in the model instead.\n",
      "  super().__init__(**kwargs)\n"
     ]
    },
    {
     "name": "stdout",
     "output_type": "stream",
     "text": [
      "B Sociologie, NL: [[102.29784]] => [[59.702164]]\n",
      "Start of: B Sociologie, Niet-EER\n",
      "Start of: B Taalwetenschap, EER\n",
      "Start of: B Taalwetenschap, NL\n"
     ]
    },
    {
     "name": "stderr",
     "output_type": "stream",
     "text": [
      "c:\\Users\\jjble\\anaconda3\\Lib\\site-packages\\keras\\src\\layers\\rnn\\rnn.py:204: UserWarning: Do not pass an `input_shape`/`input_dim` argument to a layer. When using Sequential models, prefer using an `Input(shape)` object as the first layer in the model instead.\n",
      "  super().__init__(**kwargs)\n"
     ]
    },
    {
     "name": "stdout",
     "output_type": "stream",
     "text": [
      "B Taalwetenschap, NL: [[62.903687]] => [[2.0963135]]\n",
      "Start of: B Taalwetenschap, Niet-EER\n",
      "Start of: B Tandheelkunde, EER\n",
      "Start of: B Tandheelkunde, NL\n"
     ]
    },
    {
     "name": "stderr",
     "output_type": "stream",
     "text": [
      "c:\\Users\\jjble\\anaconda3\\Lib\\site-packages\\keras\\src\\layers\\rnn\\rnn.py:204: UserWarning: Do not pass an `input_shape`/`input_dim` argument to a layer. When using Sequential models, prefer using an `Input(shape)` object as the first layer in the model instead.\n",
      "  super().__init__(**kwargs)\n"
     ]
    },
    {
     "name": "stdout",
     "output_type": "stream",
     "text": [
      "B Tandheelkunde, NL: [[114.66095]] => [[25.33905]]\n",
      "Start of: B Tandheelkunde, Niet-EER\n",
      "Start of: B Theologie, EER\n",
      "Start of: B Theologie, NL\n"
     ]
    },
    {
     "name": "stderr",
     "output_type": "stream",
     "text": [
      "c:\\Users\\jjble\\anaconda3\\Lib\\site-packages\\keras\\src\\layers\\rnn\\rnn.py:204: UserWarning: Do not pass an `input_shape`/`input_dim` argument to a layer. When using Sequential models, prefer using an `Input(shape)` object as the first layer in the model instead.\n",
      "  super().__init__(**kwargs)\n"
     ]
    },
    {
     "name": "stdout",
     "output_type": "stream",
     "text": [
      "B Theologie, NL: [[31.910843]] => [[3.089157]]\n",
      "Start of: B Theologie, Niet-EER\n",
      "Start of: B Wiskunde, EER\n",
      "Start of: B Wiskunde, NL\n"
     ]
    },
    {
     "name": "stderr",
     "output_type": "stream",
     "text": [
      "c:\\Users\\jjble\\anaconda3\\Lib\\site-packages\\keras\\src\\layers\\rnn\\rnn.py:204: UserWarning: Do not pass an `input_shape`/`input_dim` argument to a layer. When using Sequential models, prefer using an `Input(shape)` object as the first layer in the model instead.\n",
      "  super().__init__(**kwargs)\n"
     ]
    },
    {
     "name": "stdout",
     "output_type": "stream",
     "text": [
      "B Wiskunde, NL: [[53.21053]] => [[49.78947]]\n",
      "Start of: B Wiskunde, Niet-EER\n",
      "Start of: M Anthropology and Development Studies, EER\n",
      "Start of: M Anthropology and Development Studies, NL\n"
     ]
    },
    {
     "name": "stderr",
     "output_type": "stream",
     "text": [
      "c:\\Users\\jjble\\anaconda3\\Lib\\site-packages\\keras\\src\\layers\\rnn\\rnn.py:204: UserWarning: Do not pass an `input_shape`/`input_dim` argument to a layer. When using Sequential models, prefer using an `Input(shape)` object as the first layer in the model instead.\n",
      "  super().__init__(**kwargs)\n"
     ]
    },
    {
     "name": "stdout",
     "output_type": "stream",
     "text": [
      "M Anthropology and Development Studies, NL: [[4.801281]] => [[0.801281]]\n",
      "Start of: M Anthropology and Development Studies, Niet-EER\n",
      "Start of: M Artificial Intelligence, EER\n"
     ]
    },
    {
     "name": "stderr",
     "output_type": "stream",
     "text": [
      "c:\\Users\\jjble\\anaconda3\\Lib\\site-packages\\keras\\src\\layers\\rnn\\rnn.py:204: UserWarning: Do not pass an `input_shape`/`input_dim` argument to a layer. When using Sequential models, prefer using an `Input(shape)` object as the first layer in the model instead.\n",
      "  super().__init__(**kwargs)\n"
     ]
    },
    {
     "name": "stdout",
     "output_type": "stream",
     "text": [
      "M Artificial Intelligence, EER: [[19.32947]] => [[6.6705303]]\n",
      "Start of: M Artificial Intelligence, NL\n"
     ]
    },
    {
     "name": "stderr",
     "output_type": "stream",
     "text": [
      "c:\\Users\\jjble\\anaconda3\\Lib\\site-packages\\keras\\src\\layers\\rnn\\rnn.py:204: UserWarning: Do not pass an `input_shape`/`input_dim` argument to a layer. When using Sequential models, prefer using an `Input(shape)` object as the first layer in the model instead.\n",
      "  super().__init__(**kwargs)\n"
     ]
    },
    {
     "name": "stdout",
     "output_type": "stream",
     "text": [
      "M Artificial Intelligence, NL: [[69.317635]] => [[56.682365]]\n",
      "Start of: M Artificial Intelligence, Niet-EER\n"
     ]
    },
    {
     "name": "stderr",
     "output_type": "stream",
     "text": [
      "c:\\Users\\jjble\\anaconda3\\Lib\\site-packages\\keras\\src\\layers\\rnn\\rnn.py:204: UserWarning: Do not pass an `input_shape`/`input_dim` argument to a layer. When using Sequential models, prefer using an `Input(shape)` object as the first layer in the model instead.\n",
      "  super().__init__(**kwargs)\n"
     ]
    },
    {
     "name": "stdout",
     "output_type": "stream",
     "text": [
      "M Artificial Intelligence, Niet-EER: [[4.1720963]] => [[0.82790375]]\n",
      "Start of: M Behavioural Science (research), EER\n"
     ]
    },
    {
     "name": "stderr",
     "output_type": "stream",
     "text": [
      "c:\\Users\\jjble\\anaconda3\\Lib\\site-packages\\keras\\src\\layers\\rnn\\rnn.py:204: UserWarning: Do not pass an `input_shape`/`input_dim` argument to a layer. When using Sequential models, prefer using an `Input(shape)` object as the first layer in the model instead.\n",
      "  super().__init__(**kwargs)\n"
     ]
    },
    {
     "name": "stdout",
     "output_type": "stream",
     "text": [
      "M Behavioural Science (research), EER: [[12.188929]] => [[9.811071]]\n",
      "Start of: M Behavioural Science (research), NL\n"
     ]
    },
    {
     "name": "stderr",
     "output_type": "stream",
     "text": [
      "c:\\Users\\jjble\\anaconda3\\Lib\\site-packages\\keras\\src\\layers\\rnn\\rnn.py:204: UserWarning: Do not pass an `input_shape`/`input_dim` argument to a layer. When using Sequential models, prefer using an `Input(shape)` object as the first layer in the model instead.\n",
      "  super().__init__(**kwargs)\n"
     ]
    },
    {
     "name": "stdout",
     "output_type": "stream",
     "text": [
      "M Behavioural Science (research), NL: [[19.903908]] => [[3.0960922]]\n",
      "Start of: M Behavioural Science (research), Niet-EER\n"
     ]
    },
    {
     "name": "stderr",
     "output_type": "stream",
     "text": [
      "c:\\Users\\jjble\\anaconda3\\Lib\\site-packages\\keras\\src\\layers\\rnn\\rnn.py:204: UserWarning: Do not pass an `input_shape`/`input_dim` argument to a layer. When using Sequential models, prefer using an `Input(shape)` object as the first layer in the model instead.\n",
      "  super().__init__(**kwargs)\n"
     ]
    },
    {
     "name": "stdout",
     "output_type": "stream",
     "text": [
      "M Behavioural Science (research), Niet-EER: [[4.893707]] => [[4.106293]]\n",
      "Start of: M Bestuurskunde, EER\n"
     ]
    },
    {
     "name": "stderr",
     "output_type": "stream",
     "text": [
      "c:\\Users\\jjble\\anaconda3\\Lib\\site-packages\\keras\\src\\layers\\rnn\\rnn.py:204: UserWarning: Do not pass an `input_shape`/`input_dim` argument to a layer. When using Sequential models, prefer using an `Input(shape)` object as the first layer in the model instead.\n",
      "  super().__init__(**kwargs)\n"
     ]
    },
    {
     "name": "stdout",
     "output_type": "stream",
     "text": [
      "M Bestuurskunde, EER: [[0.19667402]] => [[0.803326]]\n",
      "Start of: M Bestuurskunde, NL\n"
     ]
    },
    {
     "name": "stderr",
     "output_type": "stream",
     "text": [
      "c:\\Users\\jjble\\anaconda3\\Lib\\site-packages\\keras\\src\\layers\\rnn\\rnn.py:204: UserWarning: Do not pass an `input_shape`/`input_dim` argument to a layer. When using Sequential models, prefer using an `Input(shape)` object as the first layer in the model instead.\n",
      "  super().__init__(**kwargs)\n"
     ]
    },
    {
     "name": "stdout",
     "output_type": "stream",
     "text": [
      "M Bestuurskunde, NL: [[49.91778]] => [[9.082218]]\n",
      "Start of: M Bestuurskunde, Niet-EER\n",
      "Start of: M Biology, EER\n"
     ]
    },
    {
     "name": "stderr",
     "output_type": "stream",
     "text": [
      "c:\\Users\\jjble\\anaconda3\\Lib\\site-packages\\keras\\src\\layers\\rnn\\rnn.py:204: UserWarning: Do not pass an `input_shape`/`input_dim` argument to a layer. When using Sequential models, prefer using an `Input(shape)` object as the first layer in the model instead.\n",
      "  super().__init__(**kwargs)\n"
     ]
    },
    {
     "name": "stdout",
     "output_type": "stream",
     "text": [
      "M Biology, EER: [[25.444283]] => [[1.5557175]]\n",
      "Start of: M Biology, NL\n"
     ]
    },
    {
     "name": "stderr",
     "output_type": "stream",
     "text": [
      "c:\\Users\\jjble\\anaconda3\\Lib\\site-packages\\keras\\src\\layers\\rnn\\rnn.py:204: UserWarning: Do not pass an `input_shape`/`input_dim` argument to a layer. When using Sequential models, prefer using an `Input(shape)` object as the first layer in the model instead.\n",
      "  super().__init__(**kwargs)\n"
     ]
    },
    {
     "name": "stdout",
     "output_type": "stream",
     "text": [
      "M Biology, NL: [[82.28525]] => [[38.714752]]\n",
      "Start of: M Biology, Niet-EER\n"
     ]
    },
    {
     "name": "stderr",
     "output_type": "stream",
     "text": [
      "c:\\Users\\jjble\\anaconda3\\Lib\\site-packages\\keras\\src\\layers\\rnn\\rnn.py:204: UserWarning: Do not pass an `input_shape`/`input_dim` argument to a layer. When using Sequential models, prefer using an `Input(shape)` object as the first layer in the model instead.\n",
      "  super().__init__(**kwargs)\n"
     ]
    },
    {
     "name": "stdout",
     "output_type": "stream",
     "text": [
      "M Biology, Niet-EER: [[23.432808]] => [[6.432808]]\n",
      "Start of: M Biomedical Sciences, EER\n"
     ]
    },
    {
     "name": "stderr",
     "output_type": "stream",
     "text": [
      "c:\\Users\\jjble\\anaconda3\\Lib\\site-packages\\keras\\src\\layers\\rnn\\rnn.py:204: UserWarning: Do not pass an `input_shape`/`input_dim` argument to a layer. When using Sequential models, prefer using an `Input(shape)` object as the first layer in the model instead.\n",
      "  super().__init__(**kwargs)\n"
     ]
    },
    {
     "name": "stdout",
     "output_type": "stream",
     "text": [
      "M Biomedical Sciences, EER: [[8.735679]] => [[10.264321]]\n",
      "Start of: M Biomedical Sciences, NL\n"
     ]
    },
    {
     "name": "stderr",
     "output_type": "stream",
     "text": [
      "c:\\Users\\jjble\\anaconda3\\Lib\\site-packages\\keras\\src\\layers\\rnn\\rnn.py:204: UserWarning: Do not pass an `input_shape`/`input_dim` argument to a layer. When using Sequential models, prefer using an `Input(shape)` object as the first layer in the model instead.\n",
      "  super().__init__(**kwargs)\n"
     ]
    },
    {
     "name": "stdout",
     "output_type": "stream",
     "text": [
      "M Biomedical Sciences, NL: [[152.55782]] => [[31.442184]]\n",
      "Start of: M Biomedical Sciences, Niet-EER\n"
     ]
    },
    {
     "name": "stderr",
     "output_type": "stream",
     "text": [
      "c:\\Users\\jjble\\anaconda3\\Lib\\site-packages\\keras\\src\\layers\\rnn\\rnn.py:204: UserWarning: Do not pass an `input_shape`/`input_dim` argument to a layer. When using Sequential models, prefer using an `Input(shape)` object as the first layer in the model instead.\n",
      "  super().__init__(**kwargs)\n"
     ]
    },
    {
     "name": "stdout",
     "output_type": "stream",
     "text": [
      "M Biomedical Sciences, Niet-EER: [[9.759628]] => [[0.7596283]]\n",
      "Start of: M Business Administration, EER\n"
     ]
    },
    {
     "name": "stderr",
     "output_type": "stream",
     "text": [
      "c:\\Users\\jjble\\anaconda3\\Lib\\site-packages\\keras\\src\\layers\\rnn\\rnn.py:204: UserWarning: Do not pass an `input_shape`/`input_dim` argument to a layer. When using Sequential models, prefer using an `Input(shape)` object as the first layer in the model instead.\n",
      "  super().__init__(**kwargs)\n"
     ]
    },
    {
     "name": "stdout",
     "output_type": "stream",
     "text": [
      "M Business Administration, EER: [[10.612686]] => [[3.3873138]]\n",
      "Start of: M Business Administration, NL\n"
     ]
    },
    {
     "name": "stderr",
     "output_type": "stream",
     "text": [
      "c:\\Users\\jjble\\anaconda3\\Lib\\site-packages\\keras\\src\\layers\\rnn\\rnn.py:204: UserWarning: Do not pass an `input_shape`/`input_dim` argument to a layer. When using Sequential models, prefer using an `Input(shape)` object as the first layer in the model instead.\n",
      "  super().__init__(**kwargs)\n"
     ]
    },
    {
     "name": "stdout",
     "output_type": "stream",
     "text": [
      "M Business Administration, NL: [[140.23885]] => [[32.761154]]\n",
      "Start of: M Business Administration, Niet-EER\n"
     ]
    },
    {
     "name": "stderr",
     "output_type": "stream",
     "text": [
      "c:\\Users\\jjble\\anaconda3\\Lib\\site-packages\\keras\\src\\layers\\rnn\\rnn.py:204: UserWarning: Do not pass an `input_shape`/`input_dim` argument to a layer. When using Sequential models, prefer using an `Input(shape)` object as the first layer in the model instead.\n",
      "  super().__init__(**kwargs)\n"
     ]
    },
    {
     "name": "stdout",
     "output_type": "stream",
     "text": [
      "M Business Administration, Niet-EER: [[3.0278797]] => [[0.9721203]]\n",
      "Start of: M Cognitive Neuroscience (research), EER\n"
     ]
    },
    {
     "name": "stderr",
     "output_type": "stream",
     "text": [
      "c:\\Users\\jjble\\anaconda3\\Lib\\site-packages\\keras\\src\\layers\\rnn\\rnn.py:204: UserWarning: Do not pass an `input_shape`/`input_dim` argument to a layer. When using Sequential models, prefer using an `Input(shape)` object as the first layer in the model instead.\n",
      "  super().__init__(**kwargs)\n"
     ]
    },
    {
     "name": "stdout",
     "output_type": "stream",
     "text": [
      "M Cognitive Neuroscience (research), EER: [[36.71474]] => [[9.285259]]\n",
      "Start of: M Cognitive Neuroscience (research), NL\n"
     ]
    },
    {
     "name": "stderr",
     "output_type": "stream",
     "text": [
      "c:\\Users\\jjble\\anaconda3\\Lib\\site-packages\\keras\\src\\layers\\rnn\\rnn.py:204: UserWarning: Do not pass an `input_shape`/`input_dim` argument to a layer. When using Sequential models, prefer using an `Input(shape)` object as the first layer in the model instead.\n",
      "  super().__init__(**kwargs)\n"
     ]
    },
    {
     "name": "stdout",
     "output_type": "stream",
     "text": [
      "M Cognitive Neuroscience (research), NL: [[18.300978]] => [[28.699022]]\n",
      "Start of: M Cognitive Neuroscience (research), Niet-EER\n"
     ]
    },
    {
     "name": "stderr",
     "output_type": "stream",
     "text": [
      "c:\\Users\\jjble\\anaconda3\\Lib\\site-packages\\keras\\src\\layers\\rnn\\rnn.py:204: UserWarning: Do not pass an `input_shape`/`input_dim` argument to a layer. When using Sequential models, prefer using an `Input(shape)` object as the first layer in the model instead.\n",
      "  super().__init__(**kwargs)\n"
     ]
    },
    {
     "name": "stdout",
     "output_type": "stream",
     "text": [
      "M Cognitive Neuroscience (research), Niet-EER: [[9.801871]] => [[6.1981287]]\n",
      "Start of: M Communicatie- & informatiewetenschappen, EER\n"
     ]
    },
    {
     "name": "stderr",
     "output_type": "stream",
     "text": [
      "c:\\Users\\jjble\\anaconda3\\Lib\\site-packages\\keras\\src\\layers\\rnn\\rnn.py:204: UserWarning: Do not pass an `input_shape`/`input_dim` argument to a layer. When using Sequential models, prefer using an `Input(shape)` object as the first layer in the model instead.\n",
      "  super().__init__(**kwargs)\n"
     ]
    },
    {
     "name": "stdout",
     "output_type": "stream",
     "text": [
      "M Communicatie- & informatiewetenschappen, EER: [[0.94692236]] => [[1.0530777]]\n",
      "Start of: M Communicatie- & informatiewetenschappen, NL\n"
     ]
    },
    {
     "name": "stderr",
     "output_type": "stream",
     "text": [
      "c:\\Users\\jjble\\anaconda3\\Lib\\site-packages\\keras\\src\\layers\\rnn\\rnn.py:204: UserWarning: Do not pass an `input_shape`/`input_dim` argument to a layer. When using Sequential models, prefer using an `Input(shape)` object as the first layer in the model instead.\n",
      "  super().__init__(**kwargs)\n"
     ]
    },
    {
     "name": "stdout",
     "output_type": "stream",
     "text": [
      "M Communicatie- & informatiewetenschappen, NL: [[44.678787]] => [[9.678787]]\n",
      "Start of: M Communicatie- & informatiewetenschappen, Niet-EER\n",
      "Start of: M Communicatiewetenschap, EER\n",
      "Start of: M Communicatiewetenschap, NL\n"
     ]
    },
    {
     "name": "stderr",
     "output_type": "stream",
     "text": [
      "c:\\Users\\jjble\\anaconda3\\Lib\\site-packages\\keras\\src\\layers\\rnn\\rnn.py:204: UserWarning: Do not pass an `input_shape`/`input_dim` argument to a layer. When using Sequential models, prefer using an `Input(shape)` object as the first layer in the model instead.\n",
      "  super().__init__(**kwargs)\n"
     ]
    },
    {
     "name": "stdout",
     "output_type": "stream",
     "text": [
      "M Communicatiewetenschap, NL: [[22.25974]] => [[13.740259]]\n",
      "Start of: M Communicatiewetenschap, Niet-EER\n",
      "Start of: M Computing Science, EER\n"
     ]
    },
    {
     "name": "stderr",
     "output_type": "stream",
     "text": [
      "c:\\Users\\jjble\\anaconda3\\Lib\\site-packages\\keras\\src\\layers\\rnn\\rnn.py:204: UserWarning: Do not pass an `input_shape`/`input_dim` argument to a layer. When using Sequential models, prefer using an `Input(shape)` object as the first layer in the model instead.\n",
      "  super().__init__(**kwargs)\n"
     ]
    },
    {
     "name": "stdout",
     "output_type": "stream",
     "text": [
      "M Computing Science, EER: [[24.448158]] => [[20.551842]]\n",
      "Start of: M Computing Science, NL\n"
     ]
    },
    {
     "name": "stderr",
     "output_type": "stream",
     "text": [
      "c:\\Users\\jjble\\anaconda3\\Lib\\site-packages\\keras\\src\\layers\\rnn\\rnn.py:204: UserWarning: Do not pass an `input_shape`/`input_dim` argument to a layer. When using Sequential models, prefer using an `Input(shape)` object as the first layer in the model instead.\n",
      "  super().__init__(**kwargs)\n"
     ]
    },
    {
     "name": "stdout",
     "output_type": "stream",
     "text": [
      "M Computing Science, NL: [[196.0189]] => [[15.981094]]\n",
      "Start of: M Computing Science, Niet-EER\n"
     ]
    },
    {
     "name": "stderr",
     "output_type": "stream",
     "text": [
      "c:\\Users\\jjble\\anaconda3\\Lib\\site-packages\\keras\\src\\layers\\rnn\\rnn.py:204: UserWarning: Do not pass an `input_shape`/`input_dim` argument to a layer. When using Sequential models, prefer using an `Input(shape)` object as the first layer in the model instead.\n",
      "  super().__init__(**kwargs)\n"
     ]
    },
    {
     "name": "stdout",
     "output_type": "stream",
     "text": [
      "M Computing Science, Niet-EER: [[11.240968]] => [[5.7590322]]\n",
      "Start of: M Curriculumontwikkeling voor Primair Onderwijs, EER\n",
      "Start of: M Curriculumontwikkeling voor Primair Onderwijs, NL\n",
      "Start of: M Curriculumontwikkeling voor Primair Onderwijs, Niet-EER\n",
      "Start of: M Economics, EER\n"
     ]
    },
    {
     "name": "stderr",
     "output_type": "stream",
     "text": [
      "c:\\Users\\jjble\\anaconda3\\Lib\\site-packages\\keras\\src\\layers\\rnn\\rnn.py:204: UserWarning: Do not pass an `input_shape`/`input_dim` argument to a layer. When using Sequential models, prefer using an `Input(shape)` object as the first layer in the model instead.\n",
      "  super().__init__(**kwargs)\n"
     ]
    },
    {
     "name": "stdout",
     "output_type": "stream",
     "text": [
      "M Economics, EER: [[8.443639]] => [[4.443639]]\n",
      "Start of: M Economics, NL\n"
     ]
    },
    {
     "name": "stderr",
     "output_type": "stream",
     "text": [
      "c:\\Users\\jjble\\anaconda3\\Lib\\site-packages\\keras\\src\\layers\\rnn\\rnn.py:204: UserWarning: Do not pass an `input_shape`/`input_dim` argument to a layer. When using Sequential models, prefer using an `Input(shape)` object as the first layer in the model instead.\n",
      "  super().__init__(**kwargs)\n"
     ]
    },
    {
     "name": "stdout",
     "output_type": "stream",
     "text": [
      "M Economics, NL: [[59.70476]] => [[4.7047615]]\n",
      "Start of: M Economics, Niet-EER\n"
     ]
    },
    {
     "name": "stderr",
     "output_type": "stream",
     "text": [
      "c:\\Users\\jjble\\anaconda3\\Lib\\site-packages\\keras\\src\\layers\\rnn\\rnn.py:204: UserWarning: Do not pass an `input_shape`/`input_dim` argument to a layer. When using Sequential models, prefer using an `Input(shape)` object as the first layer in the model instead.\n",
      "  super().__init__(**kwargs)\n"
     ]
    },
    {
     "name": "stdout",
     "output_type": "stream",
     "text": [
      "M Economics, Niet-EER: [[3.6198213]] => [[2.6198213]]\n",
      "Start of: M Educatie in de Mens- en Maatschappijwetenschappen, EER\n",
      "Start of: M Educatie in de Mens- en Maatschappijwetenschappen, NL\n"
     ]
    },
    {
     "name": "stderr",
     "output_type": "stream",
     "text": [
      "c:\\Users\\jjble\\anaconda3\\Lib\\site-packages\\keras\\src\\layers\\rnn\\rnn.py:204: UserWarning: Do not pass an `input_shape`/`input_dim` argument to a layer. When using Sequential models, prefer using an `Input(shape)` object as the first layer in the model instead.\n",
      "  super().__init__(**kwargs)\n"
     ]
    },
    {
     "name": "stdout",
     "output_type": "stream",
     "text": [
      "M Educatie in de Mens- en Maatschappijwetenschappen, NL: [[3.5137722]] => [[24.486227]]\n",
      "Start of: M Educatie in de Mens- en Maatschappijwetenschappen, Niet-EER\n",
      "Start of: M Educatie in de Taal- en cultuurwetenschappen, EER\n",
      "Start of: M Educatie in de Taal- en cultuurwetenschappen, NL\n"
     ]
    },
    {
     "name": "stderr",
     "output_type": "stream",
     "text": [
      "c:\\Users\\jjble\\anaconda3\\Lib\\site-packages\\keras\\src\\layers\\rnn\\rnn.py:204: UserWarning: Do not pass an `input_shape`/`input_dim` argument to a layer. When using Sequential models, prefer using an `Input(shape)` object as the first layer in the model instead.\n",
      "  super().__init__(**kwargs)\n"
     ]
    },
    {
     "name": "stdout",
     "output_type": "stream",
     "text": [
      "M Educatie in de Taal- en cultuurwetenschappen, NL: [[14.519781]] => [[21.480219]]\n",
      "Start of: M Educatie in de Taal- en cultuurwetenschappen, Niet-EER\n",
      "Start of: M Environment and Society Studies, EER\n"
     ]
    },
    {
     "name": "stderr",
     "output_type": "stream",
     "text": [
      "c:\\Users\\jjble\\anaconda3\\Lib\\site-packages\\keras\\src\\layers\\rnn\\rnn.py:204: UserWarning: Do not pass an `input_shape`/`input_dim` argument to a layer. When using Sequential models, prefer using an `Input(shape)` object as the first layer in the model instead.\n",
      "  super().__init__(**kwargs)\n"
     ]
    },
    {
     "name": "stdout",
     "output_type": "stream",
     "text": [
      "M Environment and Society Studies, EER: [[10.522064]] => [[0.5220642]]\n",
      "Start of: M Environment and Society Studies, NL\n"
     ]
    },
    {
     "name": "stderr",
     "output_type": "stream",
     "text": [
      "c:\\Users\\jjble\\anaconda3\\Lib\\site-packages\\keras\\src\\layers\\rnn\\rnn.py:204: UserWarning: Do not pass an `input_shape`/`input_dim` argument to a layer. When using Sequential models, prefer using an `Input(shape)` object as the first layer in the model instead.\n",
      "  super().__init__(**kwargs)\n"
     ]
    },
    {
     "name": "stdout",
     "output_type": "stream",
     "text": [
      "M Environment and Society Studies, NL: [[39.264145]] => [[2.735855]]\n",
      "Start of: M Environment and Society Studies, Niet-EER\n",
      "Start of: M European Law, EER\n",
      "Start of: M European Law, NL\n",
      "Start of: M European Law, Niet-EER\n",
      "Start of: M Europese Studies (joint degree), EER\n"
     ]
    },
    {
     "name": "stderr",
     "output_type": "stream",
     "text": [
      "c:\\Users\\jjble\\anaconda3\\Lib\\site-packages\\keras\\src\\layers\\rnn\\rnn.py:204: UserWarning: Do not pass an `input_shape`/`input_dim` argument to a layer. When using Sequential models, prefer using an `Input(shape)` object as the first layer in the model instead.\n",
      "  super().__init__(**kwargs)\n"
     ]
    },
    {
     "name": "stdout",
     "output_type": "stream",
     "text": [
      "M Europese Studies (joint degree), EER: [[1.135477]] => [[1.864523]]\n",
      "Start of: M Europese Studies (joint degree), NL\n"
     ]
    },
    {
     "name": "stderr",
     "output_type": "stream",
     "text": [
      "c:\\Users\\jjble\\anaconda3\\Lib\\site-packages\\keras\\src\\layers\\rnn\\rnn.py:204: UserWarning: Do not pass an `input_shape`/`input_dim` argument to a layer. When using Sequential models, prefer using an `Input(shape)` object as the first layer in the model instead.\n",
      "  super().__init__(**kwargs)\n"
     ]
    },
    {
     "name": "stdout",
     "output_type": "stream",
     "text": [
      "M Europese Studies (joint degree), NL: [[9.2117405]] => [[2.2117405]]\n",
      "Start of: M Europese Studies (joint degree), Niet-EER\n",
      "Start of: M Filosofie, EER\n"
     ]
    },
    {
     "name": "stderr",
     "output_type": "stream",
     "text": [
      "c:\\Users\\jjble\\anaconda3\\Lib\\site-packages\\keras\\src\\layers\\rnn\\rnn.py:204: UserWarning: Do not pass an `input_shape`/`input_dim` argument to a layer. When using Sequential models, prefer using an `Input(shape)` object as the first layer in the model instead.\n",
      "  super().__init__(**kwargs)\n"
     ]
    },
    {
     "name": "stdout",
     "output_type": "stream",
     "text": [
      "M Filosofie, EER: [[0.19179076]] => [[1.8082092]]\n",
      "Start of: M Filosofie, NL\n"
     ]
    },
    {
     "name": "stderr",
     "output_type": "stream",
     "text": [
      "c:\\Users\\jjble\\anaconda3\\Lib\\site-packages\\keras\\src\\layers\\rnn\\rnn.py:204: UserWarning: Do not pass an `input_shape`/`input_dim` argument to a layer. When using Sequential models, prefer using an `Input(shape)` object as the first layer in the model instead.\n",
      "  super().__init__(**kwargs)\n"
     ]
    },
    {
     "name": "stdout",
     "output_type": "stream",
     "text": [
      "M Filosofie, NL: [[75.85224]] => [[7.1477585]]\n",
      "Start of: M Filosofie, Niet-EER\n"
     ]
    },
    {
     "name": "stderr",
     "output_type": "stream",
     "text": [
      "c:\\Users\\jjble\\anaconda3\\Lib\\site-packages\\keras\\src\\layers\\rnn\\rnn.py:204: UserWarning: Do not pass an `input_shape`/`input_dim` argument to a layer. When using Sequential models, prefer using an `Input(shape)` object as the first layer in the model instead.\n",
      "  super().__init__(**kwargs)\n"
     ]
    },
    {
     "name": "stdout",
     "output_type": "stream",
     "text": [
      "M Filosofie, Niet-EER: [[0.00303905]] => [[0.99696094]]\n",
      "Start of: M Filosofie (research), EER\n"
     ]
    },
    {
     "name": "stderr",
     "output_type": "stream",
     "text": [
      "c:\\Users\\jjble\\anaconda3\\Lib\\site-packages\\keras\\src\\layers\\rnn\\rnn.py:204: UserWarning: Do not pass an `input_shape`/`input_dim` argument to a layer. When using Sequential models, prefer using an `Input(shape)` object as the first layer in the model instead.\n",
      "  super().__init__(**kwargs)\n"
     ]
    },
    {
     "name": "stdout",
     "output_type": "stream",
     "text": [
      "M Filosofie (research), EER: [[4.28678]] => [[1.7132201]]\n",
      "Start of: M Filosofie (research), NL\n"
     ]
    },
    {
     "name": "stderr",
     "output_type": "stream",
     "text": [
      "c:\\Users\\jjble\\anaconda3\\Lib\\site-packages\\keras\\src\\layers\\rnn\\rnn.py:204: UserWarning: Do not pass an `input_shape`/`input_dim` argument to a layer. When using Sequential models, prefer using an `Input(shape)` object as the first layer in the model instead.\n",
      "  super().__init__(**kwargs)\n"
     ]
    },
    {
     "name": "stdout",
     "output_type": "stream",
     "text": [
      "M Filosofie (research), NL: [[36.53363]] => [[7.5336304]]\n",
      "Start of: M Filosofie (research), Niet-EER\n"
     ]
    },
    {
     "name": "stderr",
     "output_type": "stream",
     "text": [
      "c:\\Users\\jjble\\anaconda3\\Lib\\site-packages\\keras\\src\\layers\\rnn\\rnn.py:204: UserWarning: Do not pass an `input_shape`/`input_dim` argument to a layer. When using Sequential models, prefer using an `Input(shape)` object as the first layer in the model instead.\n",
      "  super().__init__(**kwargs)\n"
     ]
    },
    {
     "name": "stdout",
     "output_type": "stream",
     "text": [
      "M Filosofie (research), Niet-EER: [[2.7274954]] => [[2.2725046]]\n",
      "Start of: M Fiscaal Recht, EER\n",
      "Start of: M Fiscaal Recht, NL\n"
     ]
    },
    {
     "name": "stderr",
     "output_type": "stream",
     "text": [
      "c:\\Users\\jjble\\anaconda3\\Lib\\site-packages\\keras\\src\\layers\\rnn\\rnn.py:204: UserWarning: Do not pass an `input_shape`/`input_dim` argument to a layer. When using Sequential models, prefer using an `Input(shape)` object as the first layer in the model instead.\n",
      "  super().__init__(**kwargs)\n"
     ]
    },
    {
     "name": "stdout",
     "output_type": "stream",
     "text": [
      "M Fiscaal Recht, NL: [[84.31791]] => [[14.317909]]\n",
      "Start of: M Fiscaal Recht, Niet-EER\n",
      "Start of: M Geneeskunde, EER\n"
     ]
    },
    {
     "name": "stderr",
     "output_type": "stream",
     "text": [
      "c:\\Users\\jjble\\anaconda3\\Lib\\site-packages\\keras\\src\\layers\\rnn\\rnn.py:204: UserWarning: Do not pass an `input_shape`/`input_dim` argument to a layer. When using Sequential models, prefer using an `Input(shape)` object as the first layer in the model instead.\n",
      "  super().__init__(**kwargs)\n"
     ]
    },
    {
     "name": "stdout",
     "output_type": "stream",
     "text": [
      "M Geneeskunde, EER: [[14.034189]] => [[2.0341892]]\n",
      "Start of: M Geneeskunde, NL\n"
     ]
    },
    {
     "name": "stderr",
     "output_type": "stream",
     "text": [
      "c:\\Users\\jjble\\anaconda3\\Lib\\site-packages\\keras\\src\\layers\\rnn\\rnn.py:204: UserWarning: Do not pass an `input_shape`/`input_dim` argument to a layer. When using Sequential models, prefer using an `Input(shape)` object as the first layer in the model instead.\n",
      "  super().__init__(**kwargs)\n"
     ]
    },
    {
     "name": "stdout",
     "output_type": "stream",
     "text": [
      "M Geneeskunde, NL: [[781.9682]] => [[113.0318]]\n",
      "Start of: M Geneeskunde, Niet-EER\n",
      "Start of: M Geschiedenis, EER\n",
      "Start of: M Geschiedenis, NL\n"
     ]
    },
    {
     "name": "stderr",
     "output_type": "stream",
     "text": [
      "c:\\Users\\jjble\\anaconda3\\Lib\\site-packages\\keras\\src\\layers\\rnn\\rnn.py:204: UserWarning: Do not pass an `input_shape`/`input_dim` argument to a layer. When using Sequential models, prefer using an `Input(shape)` object as the first layer in the model instead.\n",
      "  super().__init__(**kwargs)\n"
     ]
    },
    {
     "name": "stdout",
     "output_type": "stream",
     "text": [
      "M Geschiedenis, NL: [[25.33195]] => [[11.668051]]\n",
      "Start of: M Geschiedenis, Niet-EER\n",
      "Start of: M Geschiedenis (research), EER\n",
      "Start of: M Geschiedenis (research), NL\n",
      "Start of: M Geschiedenis (research), Niet-EER\n",
      "Start of: M Historical, Literary and Cultural Studies (research), EER\n"
     ]
    },
    {
     "name": "stderr",
     "output_type": "stream",
     "text": [
      "c:\\Users\\jjble\\anaconda3\\Lib\\site-packages\\keras\\src\\layers\\rnn\\rnn.py:204: UserWarning: Do not pass an `input_shape`/`input_dim` argument to a layer. When using Sequential models, prefer using an `Input(shape)` object as the first layer in the model instead.\n",
      "  super().__init__(**kwargs)\n"
     ]
    },
    {
     "name": "stdout",
     "output_type": "stream",
     "text": [
      "M Historical, Literary and Cultural Studies (research), EER: [[0.40229166]] => [[0.59770834]]\n",
      "Start of: M Historical, Literary and Cultural Studies (research), NL\n"
     ]
    },
    {
     "name": "stderr",
     "output_type": "stream",
     "text": [
      "c:\\Users\\jjble\\anaconda3\\Lib\\site-packages\\keras\\src\\layers\\rnn\\rnn.py:204: UserWarning: Do not pass an `input_shape`/`input_dim` argument to a layer. When using Sequential models, prefer using an `Input(shape)` object as the first layer in the model instead.\n",
      "  super().__init__(**kwargs)\n"
     ]
    },
    {
     "name": "stdout",
     "output_type": "stream",
     "text": [
      "M Historical, Literary and Cultural Studies (research), NL: [[12.992917]] => [[8.007083]]\n",
      "Start of: M Historical, Literary and Cultural Studies (research), Niet-EER\n"
     ]
    },
    {
     "name": "stderr",
     "output_type": "stream",
     "text": [
      "c:\\Users\\jjble\\anaconda3\\Lib\\site-packages\\keras\\src\\layers\\rnn\\rnn.py:204: UserWarning: Do not pass an `input_shape`/`input_dim` argument to a layer. When using Sequential models, prefer using an `Input(shape)` object as the first layer in the model instead.\n",
      "  super().__init__(**kwargs)\n"
     ]
    },
    {
     "name": "stdout",
     "output_type": "stream",
     "text": [
      "M Historical, Literary and Cultural Studies (research), Niet-EER: [[0.7874156]] => [[0.21258438]]\n",
      "Start of: M Human Geography, EER\n"
     ]
    },
    {
     "name": "stderr",
     "output_type": "stream",
     "text": [
      "c:\\Users\\jjble\\anaconda3\\Lib\\site-packages\\keras\\src\\layers\\rnn\\rnn.py:204: UserWarning: Do not pass an `input_shape`/`input_dim` argument to a layer. When using Sequential models, prefer using an `Input(shape)` object as the first layer in the model instead.\n",
      "  super().__init__(**kwargs)\n"
     ]
    },
    {
     "name": "stdout",
     "output_type": "stream",
     "text": [
      "M Human Geography, EER: [[7.3304915]] => [[12.669508]]\n",
      "Start of: M Human Geography, NL\n"
     ]
    },
    {
     "name": "stderr",
     "output_type": "stream",
     "text": [
      "c:\\Users\\jjble\\anaconda3\\Lib\\site-packages\\keras\\src\\layers\\rnn\\rnn.py:204: UserWarning: Do not pass an `input_shape`/`input_dim` argument to a layer. When using Sequential models, prefer using an `Input(shape)` object as the first layer in the model instead.\n",
      "  super().__init__(**kwargs)\n"
     ]
    },
    {
     "name": "stdout",
     "output_type": "stream",
     "text": [
      "M Human Geography, NL: [[112.817924]] => [[22.817924]]\n",
      "Start of: M Human Geography, Niet-EER\n"
     ]
    },
    {
     "name": "stderr",
     "output_type": "stream",
     "text": [
      "c:\\Users\\jjble\\anaconda3\\Lib\\site-packages\\keras\\src\\layers\\rnn\\rnn.py:204: UserWarning: Do not pass an `input_shape`/`input_dim` argument to a layer. When using Sequential models, prefer using an `Input(shape)` object as the first layer in the model instead.\n",
      "  super().__init__(**kwargs)\n"
     ]
    },
    {
     "name": "stdout",
     "output_type": "stream",
     "text": [
      "M Human Geography, Niet-EER: [[2.5827808]] => [[0.41721916]]\n",
      "Start of: M Information Sciences, EER\n",
      "Start of: M Information Sciences, NL\n"
     ]
    },
    {
     "name": "stderr",
     "output_type": "stream",
     "text": [
      "c:\\Users\\jjble\\anaconda3\\Lib\\site-packages\\keras\\src\\layers\\rnn\\rnn.py:204: UserWarning: Do not pass an `input_shape`/`input_dim` argument to a layer. When using Sequential models, prefer using an `Input(shape)` object as the first layer in the model instead.\n",
      "  super().__init__(**kwargs)\n"
     ]
    },
    {
     "name": "stdout",
     "output_type": "stream",
     "text": [
      "M Information Sciences, NL: [[24.09924]] => [[0.09923935]]\n",
      "Start of: M Information Sciences, Niet-EER\n",
      "Start of: M International and European Law, EER\n"
     ]
    },
    {
     "name": "stderr",
     "output_type": "stream",
     "text": [
      "c:\\Users\\jjble\\anaconda3\\Lib\\site-packages\\keras\\src\\layers\\rnn\\rnn.py:204: UserWarning: Do not pass an `input_shape`/`input_dim` argument to a layer. When using Sequential models, prefer using an `Input(shape)` object as the first layer in the model instead.\n",
      "  super().__init__(**kwargs)\n"
     ]
    },
    {
     "name": "stdout",
     "output_type": "stream",
     "text": [
      "M International and European Law, EER: [[6.467652]] => [[10.532349]]\n",
      "Start of: M International and European Law, NL\n"
     ]
    },
    {
     "name": "stderr",
     "output_type": "stream",
     "text": [
      "c:\\Users\\jjble\\anaconda3\\Lib\\site-packages\\keras\\src\\layers\\rnn\\rnn.py:204: UserWarning: Do not pass an `input_shape`/`input_dim` argument to a layer. When using Sequential models, prefer using an `Input(shape)` object as the first layer in the model instead.\n",
      "  super().__init__(**kwargs)\n"
     ]
    },
    {
     "name": "stdout",
     "output_type": "stream",
     "text": [
      "M International and European Law, NL: [[26.797232]] => [[0.7972317]]\n",
      "Start of: M International and European Law, Niet-EER\n"
     ]
    },
    {
     "name": "stderr",
     "output_type": "stream",
     "text": [
      "c:\\Users\\jjble\\anaconda3\\Lib\\site-packages\\keras\\src\\layers\\rnn\\rnn.py:204: UserWarning: Do not pass an `input_shape`/`input_dim` argument to a layer. When using Sequential models, prefer using an `Input(shape)` object as the first layer in the model instead.\n",
      "  super().__init__(**kwargs)\n"
     ]
    },
    {
     "name": "stdout",
     "output_type": "stream",
     "text": [
      "M International and European Law, Niet-EER: [[1.8630017]] => [[2.1369982]]\n",
      "Start of: M Interreligieuze spiritualiteitsstudies, EER\n",
      "Start of: M Interreligieuze spiritualiteitsstudies, NL\n",
      "Start of: M Interreligieuze spiritualiteitsstudies, Niet-EER\n",
      "Start of: M Kunst- & cultuurwetenschappen, EER\n"
     ]
    },
    {
     "name": "stderr",
     "output_type": "stream",
     "text": [
      "c:\\Users\\jjble\\anaconda3\\Lib\\site-packages\\keras\\src\\layers\\rnn\\rnn.py:204: UserWarning: Do not pass an `input_shape`/`input_dim` argument to a layer. When using Sequential models, prefer using an `Input(shape)` object as the first layer in the model instead.\n",
      "  super().__init__(**kwargs)\n"
     ]
    },
    {
     "name": "stdout",
     "output_type": "stream",
     "text": [
      "M Kunst- & cultuurwetenschappen, EER: [[5.0027223]] => [[0.99727774]]\n",
      "Start of: M Kunst- & cultuurwetenschappen, NL\n"
     ]
    },
    {
     "name": "stderr",
     "output_type": "stream",
     "text": [
      "c:\\Users\\jjble\\anaconda3\\Lib\\site-packages\\keras\\src\\layers\\rnn\\rnn.py:204: UserWarning: Do not pass an `input_shape`/`input_dim` argument to a layer. When using Sequential models, prefer using an `Input(shape)` object as the first layer in the model instead.\n",
      "  super().__init__(**kwargs)\n"
     ]
    },
    {
     "name": "stdout",
     "output_type": "stream",
     "text": [
      "M Kunst- & cultuurwetenschappen, NL: [[33.62805]] => [[7.3719482]]\n",
      "Start of: M Kunst- & cultuurwetenschappen, Niet-EER\n"
     ]
    },
    {
     "name": "stderr",
     "output_type": "stream",
     "text": [
      "c:\\Users\\jjble\\anaconda3\\Lib\\site-packages\\keras\\src\\layers\\rnn\\rnn.py:204: UserWarning: Do not pass an `input_shape`/`input_dim` argument to a layer. When using Sequential models, prefer using an `Input(shape)` object as the first layer in the model instead.\n",
      "  super().__init__(**kwargs)\n"
     ]
    },
    {
     "name": "stdout",
     "output_type": "stream",
     "text": [
      "M Kunst- & cultuurwetenschappen, Niet-EER: [[-0.12371144]] => [[1.1237115]]\n",
      "Start of: M Kunst- & cultuurwetenschappen (research), EER\n",
      "Start of: M Kunst- & cultuurwetenschappen (research), NL\n",
      "Start of: M Kunst- & cultuurwetenschappen (research), Niet-EER\n",
      "Start of: M Kunstgeschiedenis, EER\n",
      "Start of: M Kunstgeschiedenis, NL\n",
      "Start of: M Kunstgeschiedenis, Niet-EER\n",
      "Start of: M Leraar Voorbereidend Hoger Onderwijs in Aardrijkskunde, EER\n",
      "Start of: M Leraar Voorbereidend Hoger Onderwijs in Aardrijkskunde, NL\n",
      "Start of: M Leraar Voorbereidend Hoger Onderwijs in Aardrijkskunde, Niet-EER\n",
      "Start of: M Leraar Voorbereidend Hoger Onderwijs in Algemene Economie, EER\n",
      "Start of: M Leraar Voorbereidend Hoger Onderwijs in Algemene Economie, NL\n",
      "Start of: M Leraar Voorbereidend Hoger Onderwijs in Algemene Economie, Niet-EER\n",
      "Start of: M Leraar Voorbereidend Hoger Onderwijs in Biologie, EER\n",
      "Start of: M Leraar Voorbereidend Hoger Onderwijs in Biologie, NL\n",
      "Start of: M Leraar Voorbereidend Hoger Onderwijs in Biologie, Niet-EER\n",
      "Start of: M Leraar Voorbereidend Hoger Onderwijs in Duits, EER\n",
      "Start of: M Leraar Voorbereidend Hoger Onderwijs in Duits, NL\n",
      "Start of: M Leraar Voorbereidend Hoger Onderwijs in Duits, Niet-EER\n",
      "Start of: M Leraar Voorbereidend Hoger Onderwijs in Engels, EER\n",
      "Start of: M Leraar Voorbereidend Hoger Onderwijs in Engels, NL\n",
      "Start of: M Leraar Voorbereidend Hoger Onderwijs in Engels, Niet-EER\n",
      "Start of: M Leraar Voorbereidend Hoger Onderwijs in Filosofie, EER\n",
      "Start of: M Leraar Voorbereidend Hoger Onderwijs in Filosofie, NL\n",
      "Start of: M Leraar Voorbereidend Hoger Onderwijs in Filosofie, Niet-EER\n",
      "Start of: M Leraar Voorbereidend Hoger Onderwijs in Frans, EER\n",
      "Start of: M Leraar Voorbereidend Hoger Onderwijs in Frans, NL\n",
      "Start of: M Leraar Voorbereidend Hoger Onderwijs in Frans, Niet-EER\n",
      "Start of: M Leraar Voorbereidend Hoger Onderwijs in Geschiedenis en Staatsinrichting, EER\n",
      "Start of: M Leraar Voorbereidend Hoger Onderwijs in Geschiedenis en Staatsinrichting, NL\n",
      "Start of: M Leraar Voorbereidend Hoger Onderwijs in Geschiedenis en Staatsinrichting, Niet-EER\n",
      "Start of: M Leraar Voorbereidend Hoger Onderwijs in Godsdienst en Levensbeschouwing, EER\n",
      "Start of: M Leraar Voorbereidend Hoger Onderwijs in Godsdienst en Levensbeschouwing, NL\n",
      "Start of: M Leraar Voorbereidend Hoger Onderwijs in Godsdienst en Levensbeschouwing, Niet-EER\n",
      "Start of: M Leraar Voorbereidend Hoger Onderwijs in Griekse en Latijnse Taal en Cultuur, EER\n",
      "Start of: M Leraar Voorbereidend Hoger Onderwijs in Griekse en Latijnse Taal en Cultuur, NL\n",
      "Start of: M Leraar Voorbereidend Hoger Onderwijs in Griekse en Latijnse Taal en Cultuur, Niet-EER\n",
      "Start of: M Leraar Voorbereidend Hoger Onderwijs in Maatschappijleer en Maatschappijwetenschappen, EER\n",
      "Start of: M Leraar Voorbereidend Hoger Onderwijs in Maatschappijleer en Maatschappijwetenschappen, NL\n",
      "Start of: M Leraar Voorbereidend Hoger Onderwijs in Maatschappijleer en Maatschappijwetenschappen, Niet-EER\n",
      "Start of: M Leraar Voorbereidend Hoger Onderwijs in Management en Organisatie, EER\n",
      "Start of: M Leraar Voorbereidend Hoger Onderwijs in Management en Organisatie, NL\n",
      "Start of: M Leraar Voorbereidend Hoger Onderwijs in Management en Organisatie, Niet-EER\n",
      "Start of: M Leraar Voorbereidend Hoger Onderwijs in Natuurkunde, EER\n",
      "Start of: M Leraar Voorbereidend Hoger Onderwijs in Natuurkunde, NL\n",
      "Start of: M Leraar Voorbereidend Hoger Onderwijs in Natuurkunde, Niet-EER\n",
      "Start of: M Leraar Voorbereidend Hoger Onderwijs in Nederlands, EER\n",
      "Start of: M Leraar Voorbereidend Hoger Onderwijs in Nederlands, NL\n",
      "Start of: M Leraar Voorbereidend Hoger Onderwijs in Nederlands, Niet-EER\n",
      "Start of: M Leraar Voorbereidend Hoger Onderwijs in Scheikunde, EER\n",
      "Start of: M Leraar Voorbereidend Hoger Onderwijs in Scheikunde, NL\n",
      "Start of: M Leraar Voorbereidend Hoger Onderwijs in Scheikunde, Niet-EER\n",
      "Start of: M Leraar Voorbereidend Hoger Onderwijs in Spaans, EER\n",
      "Start of: M Leraar Voorbereidend Hoger Onderwijs in Spaans, NL\n",
      "Start of: M Leraar Voorbereidend Hoger Onderwijs in Spaans, Niet-EER\n",
      "Start of: M Leraar Voorbereidend Hoger Onderwijs in Wiskunde, EER\n",
      "Start of: M Leraar Voorbereidend Hoger Onderwijs in Wiskunde, NL\n",
      "Start of: M Leraar Voorbereidend Hoger Onderwijs in Wiskunde, Niet-EER\n",
      "Start of: M Leraar Voorbereidend Hoger Onderwijs in de Bètawetenschappen, EER\n",
      "Start of: M Leraar Voorbereidend Hoger Onderwijs in de Bètawetenschappen, NL\n"
     ]
    },
    {
     "name": "stderr",
     "output_type": "stream",
     "text": [
      "c:\\Users\\jjble\\anaconda3\\Lib\\site-packages\\keras\\src\\layers\\rnn\\rnn.py:204: UserWarning: Do not pass an `input_shape`/`input_dim` argument to a layer. When using Sequential models, prefer using an `Input(shape)` object as the first layer in the model instead.\n",
      "  super().__init__(**kwargs)\n"
     ]
    },
    {
     "name": "stdout",
     "output_type": "stream",
     "text": [
      "M Leraar Voorbereidend Hoger Onderwijs in de Bètawetenschappen, NL: [[0.70920575]] => [[3.2907944]]\n",
      "Start of: M Leraar Voorbereidend Hoger Onderwijs in de Bètawetenschappen, Niet-EER\n",
      "Start of: M Leraar Voorbereidend Hoger Onderwijs in de Mens- en Maatschappijwetenschappen, EER\n",
      "Start of: M Leraar Voorbereidend Hoger Onderwijs in de Mens- en Maatschappijwetenschappen, NL\n"
     ]
    },
    {
     "name": "stderr",
     "output_type": "stream",
     "text": [
      "c:\\Users\\jjble\\anaconda3\\Lib\\site-packages\\keras\\src\\layers\\rnn\\rnn.py:204: UserWarning: Do not pass an `input_shape`/`input_dim` argument to a layer. When using Sequential models, prefer using an `Input(shape)` object as the first layer in the model instead.\n",
      "  super().__init__(**kwargs)\n"
     ]
    },
    {
     "name": "stdout",
     "output_type": "stream",
     "text": [
      "M Leraar Voorbereidend Hoger Onderwijs in de Mens- en Maatschappijwetenschappen, NL: [[3.665681]] => [[1.3343191]]\n",
      "Start of: M Leraar Voorbereidend Hoger Onderwijs in de Mens- en Maatschappijwetenschappen, Niet-EER\n",
      "Start of: M Leraar Voorbereidend Hoger Onderwijs in de Taal en Cultuurwetenschappen, EER\n",
      "Start of: M Leraar Voorbereidend Hoger Onderwijs in de Taal en Cultuurwetenschappen, NL\n"
     ]
    },
    {
     "name": "stderr",
     "output_type": "stream",
     "text": [
      "c:\\Users\\jjble\\anaconda3\\Lib\\site-packages\\keras\\src\\layers\\rnn\\rnn.py:204: UserWarning: Do not pass an `input_shape`/`input_dim` argument to a layer. When using Sequential models, prefer using an `Input(shape)` object as the first layer in the model instead.\n",
      "  super().__init__(**kwargs)\n"
     ]
    },
    {
     "name": "stdout",
     "output_type": "stream",
     "text": [
      "M Leraar Voorbereidend Hoger Onderwijs in de Taal en Cultuurwetenschappen, NL: [[4.6381454]] => [[0.36185455]]\n",
      "Start of: M Leraar Voorbereidend Hoger Onderwijs in de Taal en Cultuurwetenschappen, Niet-EER\n",
      "Start of: M Letterkunde, EER\n",
      "Start of: M Letterkunde, NL\n"
     ]
    },
    {
     "name": "stderr",
     "output_type": "stream",
     "text": [
      "c:\\Users\\jjble\\anaconda3\\Lib\\site-packages\\keras\\src\\layers\\rnn\\rnn.py:204: UserWarning: Do not pass an `input_shape`/`input_dim` argument to a layer. When using Sequential models, prefer using an `Input(shape)` object as the first layer in the model instead.\n",
      "  super().__init__(**kwargs)\n"
     ]
    },
    {
     "name": "stdout",
     "output_type": "stream",
     "text": [
      "M Letterkunde, NL: [[30.207409]] => [[7.792591]]\n",
      "Start of: M Letterkunde, Niet-EER\n",
      "Start of: M Letterkunde (research), EER\n",
      "Start of: M Letterkunde (research), NL\n",
      "Start of: M Letterkunde (research), Niet-EER\n",
      "Start of: M Linguistics and Communication Sciences (research), EER\n"
     ]
    },
    {
     "name": "stderr",
     "output_type": "stream",
     "text": [
      "c:\\Users\\jjble\\anaconda3\\Lib\\site-packages\\keras\\src\\layers\\rnn\\rnn.py:204: UserWarning: Do not pass an `input_shape`/`input_dim` argument to a layer. When using Sequential models, prefer using an `Input(shape)` object as the first layer in the model instead.\n",
      "  super().__init__(**kwargs)\n"
     ]
    },
    {
     "name": "stdout",
     "output_type": "stream",
     "text": [
      "M Linguistics and Communication Sciences (research), EER: [[1.8826758]] => [[4.1173244]]\n",
      "Start of: M Linguistics and Communication Sciences (research), NL\n"
     ]
    },
    {
     "name": "stderr",
     "output_type": "stream",
     "text": [
      "c:\\Users\\jjble\\anaconda3\\Lib\\site-packages\\keras\\src\\layers\\rnn\\rnn.py:204: UserWarning: Do not pass an `input_shape`/`input_dim` argument to a layer. When using Sequential models, prefer using an `Input(shape)` object as the first layer in the model instead.\n",
      "  super().__init__(**kwargs)\n"
     ]
    },
    {
     "name": "stdout",
     "output_type": "stream",
     "text": [
      "M Linguistics and Communication Sciences (research), NL: [[8.841459]] => [[0.15854073]]\n",
      "Start of: M Linguistics and Communication Sciences (research), Niet-EER\n"
     ]
    },
    {
     "name": "stderr",
     "output_type": "stream",
     "text": [
      "c:\\Users\\jjble\\anaconda3\\Lib\\site-packages\\keras\\src\\layers\\rnn\\rnn.py:204: UserWarning: Do not pass an `input_shape`/`input_dim` argument to a layer. When using Sequential models, prefer using an `Input(shape)` object as the first layer in the model instead.\n",
      "  super().__init__(**kwargs)\n"
     ]
    },
    {
     "name": "stdout",
     "output_type": "stream",
     "text": [
      "M Linguistics and Communication Sciences (research), Niet-EER: [[1.0481395]] => [[3.9518604]]\n",
      "Start of: M Mathematics, EER\n"
     ]
    },
    {
     "name": "stderr",
     "output_type": "stream",
     "text": [
      "c:\\Users\\jjble\\anaconda3\\Lib\\site-packages\\keras\\src\\layers\\rnn\\rnn.py:204: UserWarning: Do not pass an `input_shape`/`input_dim` argument to a layer. When using Sequential models, prefer using an `Input(shape)` object as the first layer in the model instead.\n",
      "  super().__init__(**kwargs)\n"
     ]
    },
    {
     "name": "stdout",
     "output_type": "stream",
     "text": [
      "M Mathematics, EER: [[0.9843607]] => [[1.0156393]]\n",
      "Start of: M Mathematics, NL\n"
     ]
    },
    {
     "name": "stderr",
     "output_type": "stream",
     "text": [
      "c:\\Users\\jjble\\anaconda3\\Lib\\site-packages\\keras\\src\\layers\\rnn\\rnn.py:204: UserWarning: Do not pass an `input_shape`/`input_dim` argument to a layer. When using Sequential models, prefer using an `Input(shape)` object as the first layer in the model instead.\n",
      "  super().__init__(**kwargs)\n"
     ]
    },
    {
     "name": "stdout",
     "output_type": "stream",
     "text": [
      "M Mathematics, NL: [[45.343742]] => [[3.6562576]]\n",
      "Start of: M Mathematics, Niet-EER\n",
      "Start of: M Medical Biology, EER\n"
     ]
    },
    {
     "name": "stderr",
     "output_type": "stream",
     "text": [
      "c:\\Users\\jjble\\anaconda3\\Lib\\site-packages\\keras\\src\\layers\\rnn\\rnn.py:204: UserWarning: Do not pass an `input_shape`/`input_dim` argument to a layer. When using Sequential models, prefer using an `Input(shape)` object as the first layer in the model instead.\n",
      "  super().__init__(**kwargs)\n"
     ]
    },
    {
     "name": "stdout",
     "output_type": "stream",
     "text": [
      "M Medical Biology, EER: [[26.429295]] => [[12.570705]]\n",
      "Start of: M Medical Biology, NL\n"
     ]
    },
    {
     "name": "stderr",
     "output_type": "stream",
     "text": [
      "c:\\Users\\jjble\\anaconda3\\Lib\\site-packages\\keras\\src\\layers\\rnn\\rnn.py:204: UserWarning: Do not pass an `input_shape`/`input_dim` argument to a layer. When using Sequential models, prefer using an `Input(shape)` object as the first layer in the model instead.\n",
      "  super().__init__(**kwargs)\n"
     ]
    },
    {
     "name": "stdout",
     "output_type": "stream",
     "text": [
      "M Medical Biology, NL: [[170.06372]] => [[98.93628]]\n",
      "Start of: M Medical Biology, Niet-EER\n"
     ]
    },
    {
     "name": "stderr",
     "output_type": "stream",
     "text": [
      "c:\\Users\\jjble\\anaconda3\\Lib\\site-packages\\keras\\src\\layers\\rnn\\rnn.py:204: UserWarning: Do not pass an `input_shape`/`input_dim` argument to a layer. When using Sequential models, prefer using an `Input(shape)` object as the first layer in the model instead.\n",
      "  super().__init__(**kwargs)\n"
     ]
    },
    {
     "name": "stdout",
     "output_type": "stream",
     "text": [
      "M Medical Biology, Niet-EER: [[5.10996]] => [[4.89004]]\n",
      "Start of: M Molecular Life Sciences, EER\n",
      "Start of: M Molecular Life Sciences, NL\n",
      "Start of: M Molecular Life Sciences, Niet-EER\n",
      "Start of: M Molecular Mechanisms of Disease (research), EER\n"
     ]
    },
    {
     "name": "stderr",
     "output_type": "stream",
     "text": [
      "c:\\Users\\jjble\\anaconda3\\Lib\\site-packages\\keras\\src\\layers\\rnn\\rnn.py:204: UserWarning: Do not pass an `input_shape`/`input_dim` argument to a layer. When using Sequential models, prefer using an `Input(shape)` object as the first layer in the model instead.\n",
      "  super().__init__(**kwargs)\n"
     ]
    },
    {
     "name": "stdout",
     "output_type": "stream",
     "text": [
      "M Molecular Mechanisms of Disease (research), EER: [[7.3754826]] => [[2.6245174]]\n",
      "Start of: M Molecular Mechanisms of Disease (research), NL\n"
     ]
    },
    {
     "name": "stderr",
     "output_type": "stream",
     "text": [
      "c:\\Users\\jjble\\anaconda3\\Lib\\site-packages\\keras\\src\\layers\\rnn\\rnn.py:204: UserWarning: Do not pass an `input_shape`/`input_dim` argument to a layer. When using Sequential models, prefer using an `Input(shape)` object as the first layer in the model instead.\n",
      "  super().__init__(**kwargs)\n"
     ]
    },
    {
     "name": "stdout",
     "output_type": "stream",
     "text": [
      "M Molecular Mechanisms of Disease (research), NL: [[15.7350025]] => [[2.2649975]]\n",
      "Start of: M Molecular Mechanisms of Disease (research), Niet-EER\n"
     ]
    },
    {
     "name": "stderr",
     "output_type": "stream",
     "text": [
      "c:\\Users\\jjble\\anaconda3\\Lib\\site-packages\\keras\\src\\layers\\rnn\\rnn.py:204: UserWarning: Do not pass an `input_shape`/`input_dim` argument to a layer. When using Sequential models, prefer using an `Input(shape)` object as the first layer in the model instead.\n",
      "  super().__init__(**kwargs)\n"
     ]
    },
    {
     "name": "stdout",
     "output_type": "stream",
     "text": [
      "M Molecular Mechanisms of Disease (research), Niet-EER: [[5.626951]] => [[0.6269512]]\n",
      "Start of: M Molecular Sciences, EER\n"
     ]
    },
    {
     "name": "stderr",
     "output_type": "stream",
     "text": [
      "c:\\Users\\jjble\\anaconda3\\Lib\\site-packages\\keras\\src\\layers\\rnn\\rnn.py:204: UserWarning: Do not pass an `input_shape`/`input_dim` argument to a layer. When using Sequential models, prefer using an `Input(shape)` object as the first layer in the model instead.\n",
      "  super().__init__(**kwargs)\n"
     ]
    },
    {
     "name": "stdout",
     "output_type": "stream",
     "text": [
      "M Molecular Sciences, EER: [[17.670677]] => [[1.3293228]]\n",
      "Start of: M Molecular Sciences, NL\n"
     ]
    },
    {
     "name": "stderr",
     "output_type": "stream",
     "text": [
      "c:\\Users\\jjble\\anaconda3\\Lib\\site-packages\\keras\\src\\layers\\rnn\\rnn.py:204: UserWarning: Do not pass an `input_shape`/`input_dim` argument to a layer. When using Sequential models, prefer using an `Input(shape)` object as the first layer in the model instead.\n",
      "  super().__init__(**kwargs)\n"
     ]
    },
    {
     "name": "stdout",
     "output_type": "stream",
     "text": [
      "M Molecular Sciences, NL: [[82.14884]] => [[50.85116]]\n",
      "Start of: M Molecular Sciences, Niet-EER\n"
     ]
    },
    {
     "name": "stderr",
     "output_type": "stream",
     "text": [
      "c:\\Users\\jjble\\anaconda3\\Lib\\site-packages\\keras\\src\\layers\\rnn\\rnn.py:204: UserWarning: Do not pass an `input_shape`/`input_dim` argument to a layer. When using Sequential models, prefer using an `Input(shape)` object as the first layer in the model instead.\n",
      "  super().__init__(**kwargs)\n"
     ]
    },
    {
     "name": "stdout",
     "output_type": "stream",
     "text": [
      "M Molecular Sciences, Niet-EER: [[2.925414]] => [[0.9254141]]\n",
      "Start of: M Nederlands Recht, EER\n",
      "Start of: M Nederlands Recht, NL\n"
     ]
    },
    {
     "name": "stderr",
     "output_type": "stream",
     "text": [
      "c:\\Users\\jjble\\anaconda3\\Lib\\site-packages\\keras\\src\\layers\\rnn\\rnn.py:204: UserWarning: Do not pass an `input_shape`/`input_dim` argument to a layer. When using Sequential models, prefer using an `Input(shape)` object as the first layer in the model instead.\n",
      "  super().__init__(**kwargs)\n"
     ]
    },
    {
     "name": "stdout",
     "output_type": "stream",
     "text": [
      "M Nederlands Recht, NL: [[599.4508]] => [[1.5491943]]\n",
      "Start of: M Nederlands Recht, Niet-EER\n",
      "Start of: M Noord-Amerika Studies, EER\n",
      "Start of: M Noord-Amerika Studies, NL\n"
     ]
    },
    {
     "name": "stderr",
     "output_type": "stream",
     "text": [
      "c:\\Users\\jjble\\anaconda3\\Lib\\site-packages\\keras\\src\\layers\\rnn\\rnn.py:204: UserWarning: Do not pass an `input_shape`/`input_dim` argument to a layer. When using Sequential models, prefer using an `Input(shape)` object as the first layer in the model instead.\n",
      "  super().__init__(**kwargs)\n"
     ]
    },
    {
     "name": "stdout",
     "output_type": "stream",
     "text": [
      "M Noord-Amerika Studies, NL: [[8.938208]] => [[4.9382076]]\n",
      "Start of: M Noord-Amerika Studies, Niet-EER\n",
      "Start of: M Notarieel Recht, EER\n",
      "Start of: M Notarieel Recht, NL\n"
     ]
    },
    {
     "name": "stderr",
     "output_type": "stream",
     "text": [
      "c:\\Users\\jjble\\anaconda3\\Lib\\site-packages\\keras\\src\\layers\\rnn\\rnn.py:204: UserWarning: Do not pass an `input_shape`/`input_dim` argument to a layer. When using Sequential models, prefer using an `Input(shape)` object as the first layer in the model instead.\n",
      "  super().__init__(**kwargs)\n"
     ]
    },
    {
     "name": "stdout",
     "output_type": "stream",
     "text": [
      "M Notarieel Recht, NL: [[64.52786]] => [[5.4721375]]\n",
      "Start of: M Notarieel Recht, Niet-EER\n",
      "Start of: M Onderneming en Recht (research), EER\n",
      "Start of: M Onderneming en Recht (research), NL\n"
     ]
    },
    {
     "name": "stderr",
     "output_type": "stream",
     "text": [
      "c:\\Users\\jjble\\anaconda3\\Lib\\site-packages\\keras\\src\\layers\\rnn\\rnn.py:204: UserWarning: Do not pass an `input_shape`/`input_dim` argument to a layer. When using Sequential models, prefer using an `Input(shape)` object as the first layer in the model instead.\n",
      "  super().__init__(**kwargs)\n"
     ]
    },
    {
     "name": "stdout",
     "output_type": "stream",
     "text": [
      "M Onderneming en Recht (research), NL: [[5.7271676]] => [[3.2728324]]\n",
      "Start of: M Onderneming en Recht (research), Niet-EER\n",
      "Start of: M Onderwijswetenschappen, EER\n",
      "Start of: M Onderwijswetenschappen, NL\n"
     ]
    },
    {
     "name": "stderr",
     "output_type": "stream",
     "text": [
      "c:\\Users\\jjble\\anaconda3\\Lib\\site-packages\\keras\\src\\layers\\rnn\\rnn.py:204: UserWarning: Do not pass an `input_shape`/`input_dim` argument to a layer. When using Sequential models, prefer using an `Input(shape)` object as the first layer in the model instead.\n",
      "  super().__init__(**kwargs)\n"
     ]
    },
    {
     "name": "stdout",
     "output_type": "stream",
     "text": [
      "M Onderwijswetenschappen, NL: [[41.85113]] => [[6.1488686]]\n",
      "Start of: M Onderwijswetenschappen, Niet-EER\n",
      "Start of: M Oudheidstudies, EER\n",
      "Start of: M Oudheidstudies, NL\n"
     ]
    },
    {
     "name": "stderr",
     "output_type": "stream",
     "text": [
      "c:\\Users\\jjble\\anaconda3\\Lib\\site-packages\\keras\\src\\layers\\rnn\\rnn.py:204: UserWarning: Do not pass an `input_shape`/`input_dim` argument to a layer. When using Sequential models, prefer using an `Input(shape)` object as the first layer in the model instead.\n",
      "  super().__init__(**kwargs)\n"
     ]
    },
    {
     "name": "stdout",
     "output_type": "stream",
     "text": [
      "M Oudheidstudies, NL: [[5.772885]] => [[1.2271152]]\n",
      "Start of: M Oudheidstudies, Niet-EER\n",
      "Start of: M Pedagogische Wetenschappen, EER\n",
      "Start of: M Pedagogische Wetenschappen, NL\n"
     ]
    },
    {
     "name": "stderr",
     "output_type": "stream",
     "text": [
      "c:\\Users\\jjble\\anaconda3\\Lib\\site-packages\\keras\\src\\layers\\rnn\\rnn.py:204: UserWarning: Do not pass an `input_shape`/`input_dim` argument to a layer. When using Sequential models, prefer using an `Input(shape)` object as the first layer in the model instead.\n",
      "  super().__init__(**kwargs)\n"
     ]
    },
    {
     "name": "stdout",
     "output_type": "stream",
     "text": [
      "M Pedagogische Wetenschappen, NL: [[211.58214]] => [[44.417862]]\n",
      "Start of: M Pedagogische Wetenschappen, Niet-EER\n",
      "Start of: M Physics and Astronomy, EER\n"
     ]
    },
    {
     "name": "stderr",
     "output_type": "stream",
     "text": [
      "c:\\Users\\jjble\\anaconda3\\Lib\\site-packages\\keras\\src\\layers\\rnn\\rnn.py:204: UserWarning: Do not pass an `input_shape`/`input_dim` argument to a layer. When using Sequential models, prefer using an `Input(shape)` object as the first layer in the model instead.\n",
      "  super().__init__(**kwargs)\n"
     ]
    },
    {
     "name": "stdout",
     "output_type": "stream",
     "text": [
      "M Physics and Astronomy, EER: [[9.2493105]] => [[11.7506895]]\n",
      "Start of: M Physics and Astronomy, NL\n"
     ]
    },
    {
     "name": "stderr",
     "output_type": "stream",
     "text": [
      "c:\\Users\\jjble\\anaconda3\\Lib\\site-packages\\keras\\src\\layers\\rnn\\rnn.py:204: UserWarning: Do not pass an `input_shape`/`input_dim` argument to a layer. When using Sequential models, prefer using an `Input(shape)` object as the first layer in the model instead.\n",
      "  super().__init__(**kwargs)\n"
     ]
    },
    {
     "name": "stdout",
     "output_type": "stream",
     "text": [
      "M Physics and Astronomy, NL: [[85.82674]] => [[34.173264]]\n",
      "Start of: M Physics and Astronomy, Niet-EER\n"
     ]
    },
    {
     "name": "stderr",
     "output_type": "stream",
     "text": [
      "c:\\Users\\jjble\\anaconda3\\Lib\\site-packages\\keras\\src\\layers\\rnn\\rnn.py:204: UserWarning: Do not pass an `input_shape`/`input_dim` argument to a layer. When using Sequential models, prefer using an `Input(shape)` object as the first layer in the model instead.\n",
      "  super().__init__(**kwargs)\n"
     ]
    },
    {
     "name": "stdout",
     "output_type": "stream",
     "text": [
      "M Physics and Astronomy, Niet-EER: [[3.0680099]] => [[4.93199]]\n",
      "Start of: M Political Science, EER\n"
     ]
    },
    {
     "name": "stderr",
     "output_type": "stream",
     "text": [
      "c:\\Users\\jjble\\anaconda3\\Lib\\site-packages\\keras\\src\\layers\\rnn\\rnn.py:204: UserWarning: Do not pass an `input_shape`/`input_dim` argument to a layer. When using Sequential models, prefer using an `Input(shape)` object as the first layer in the model instead.\n",
      "  super().__init__(**kwargs)\n"
     ]
    },
    {
     "name": "stdout",
     "output_type": "stream",
     "text": [
      "M Political Science, EER: [[5.0187]] => [[2.0187001]]\n",
      "Start of: M Political Science, NL\n"
     ]
    },
    {
     "name": "stderr",
     "output_type": "stream",
     "text": [
      "c:\\Users\\jjble\\anaconda3\\Lib\\site-packages\\keras\\src\\layers\\rnn\\rnn.py:204: UserWarning: Do not pass an `input_shape`/`input_dim` argument to a layer. When using Sequential models, prefer using an `Input(shape)` object as the first layer in the model instead.\n",
      "  super().__init__(**kwargs)\n"
     ]
    },
    {
     "name": "stdout",
     "output_type": "stream",
     "text": [
      "M Political Science, NL: [[60.14753]] => [[9.85247]]\n",
      "Start of: M Political Science, Niet-EER\n"
     ]
    },
    {
     "name": "stderr",
     "output_type": "stream",
     "text": [
      "c:\\Users\\jjble\\anaconda3\\Lib\\site-packages\\keras\\src\\layers\\rnn\\rnn.py:204: UserWarning: Do not pass an `input_shape`/`input_dim` argument to a layer. When using Sequential models, prefer using an `Input(shape)` object as the first layer in the model instead.\n",
      "  super().__init__(**kwargs)\n"
     ]
    },
    {
     "name": "stdout",
     "output_type": "stream",
     "text": [
      "M Political Science, Niet-EER: [[0.67256445]] => [[0.32743555]]\n",
      "Start of: M Psychologie, EER\n"
     ]
    },
    {
     "name": "stderr",
     "output_type": "stream",
     "text": [
      "c:\\Users\\jjble\\anaconda3\\Lib\\site-packages\\keras\\src\\layers\\rnn\\rnn.py:204: UserWarning: Do not pass an `input_shape`/`input_dim` argument to a layer. When using Sequential models, prefer using an `Input(shape)` object as the first layer in the model instead.\n",
      "  super().__init__(**kwargs)\n"
     ]
    },
    {
     "name": "stdout",
     "output_type": "stream",
     "text": [
      "M Psychologie, EER: [[26.099228]] => [[9.099228]]\n",
      "Start of: M Psychologie, NL\n"
     ]
    },
    {
     "name": "stderr",
     "output_type": "stream",
     "text": [
      "c:\\Users\\jjble\\anaconda3\\Lib\\site-packages\\keras\\src\\layers\\rnn\\rnn.py:204: UserWarning: Do not pass an `input_shape`/`input_dim` argument to a layer. When using Sequential models, prefer using an `Input(shape)` object as the first layer in the model instead.\n",
      "  super().__init__(**kwargs)\n"
     ]
    },
    {
     "name": "stdout",
     "output_type": "stream",
     "text": [
      "M Psychologie, NL: [[80.86055]] => [[57.13945]]\n",
      "Start of: M Psychologie, Niet-EER\n"
     ]
    },
    {
     "name": "stderr",
     "output_type": "stream",
     "text": [
      "c:\\Users\\jjble\\anaconda3\\Lib\\site-packages\\keras\\src\\layers\\rnn\\rnn.py:204: UserWarning: Do not pass an `input_shape`/`input_dim` argument to a layer. When using Sequential models, prefer using an `Input(shape)` object as the first layer in the model instead.\n",
      "  super().__init__(**kwargs)\n"
     ]
    },
    {
     "name": "stdout",
     "output_type": "stream",
     "text": [
      "M Psychologie, Niet-EER: [[0.19509585]] => [[0.80490416]]\n",
      "Start of: M Religiestudies, EER\n",
      "Start of: M Religiestudies, NL\n",
      "Start of: M Religiestudies, Niet-EER\n",
      "Start of: M Sociologie, EER\n",
      "Start of: M Sociologie, NL\n"
     ]
    },
    {
     "name": "stderr",
     "output_type": "stream",
     "text": [
      "c:\\Users\\jjble\\anaconda3\\Lib\\site-packages\\keras\\src\\layers\\rnn\\rnn.py:204: UserWarning: Do not pass an `input_shape`/`input_dim` argument to a layer. When using Sequential models, prefer using an `Input(shape)` object as the first layer in the model instead.\n",
      "  super().__init__(**kwargs)\n"
     ]
    },
    {
     "name": "stdout",
     "output_type": "stream",
     "text": [
      "M Sociologie, NL: [[6.5296254]] => [[2.4703746]]\n",
      "Start of: M Sociologie, Niet-EER\n",
      "Start of: M Spatial Planning, EER\n"
     ]
    },
    {
     "name": "stderr",
     "output_type": "stream",
     "text": [
      "c:\\Users\\jjble\\anaconda3\\Lib\\site-packages\\keras\\src\\layers\\rnn\\rnn.py:204: UserWarning: Do not pass an `input_shape`/`input_dim` argument to a layer. When using Sequential models, prefer using an `Input(shape)` object as the first layer in the model instead.\n",
      "  super().__init__(**kwargs)\n"
     ]
    },
    {
     "name": "stdout",
     "output_type": "stream",
     "text": [
      "M Spatial Planning, EER: [[11.577997]] => [[0.5779972]]\n",
      "Start of: M Spatial Planning, NL\n"
     ]
    },
    {
     "name": "stderr",
     "output_type": "stream",
     "text": [
      "c:\\Users\\jjble\\anaconda3\\Lib\\site-packages\\keras\\src\\layers\\rnn\\rnn.py:204: UserWarning: Do not pass an `input_shape`/`input_dim` argument to a layer. When using Sequential models, prefer using an `Input(shape)` object as the first layer in the model instead.\n",
      "  super().__init__(**kwargs)\n"
     ]
    },
    {
     "name": "stdout",
     "output_type": "stream",
     "text": [
      "M Spatial Planning, NL: [[55.14983]] => [[27.85017]]\n",
      "Start of: M Spatial Planning, Niet-EER\n"
     ]
    },
    {
     "name": "stderr",
     "output_type": "stream",
     "text": [
      "c:\\Users\\jjble\\anaconda3\\Lib\\site-packages\\keras\\src\\layers\\rnn\\rnn.py:204: UserWarning: Do not pass an `input_shape`/`input_dim` argument to a layer. When using Sequential models, prefer using an `Input(shape)` object as the first layer in the model instead.\n",
      "  super().__init__(**kwargs)\n"
     ]
    },
    {
     "name": "stdout",
     "output_type": "stream",
     "text": [
      "M Spatial Planning, Niet-EER: [[3.0324183]] => [[0.03241825]]\n",
      "Start of: M Taalwetenschappen, EER\n"
     ]
    },
    {
     "name": "stderr",
     "output_type": "stream",
     "text": [
      "c:\\Users\\jjble\\anaconda3\\Lib\\site-packages\\keras\\src\\layers\\rnn\\rnn.py:204: UserWarning: Do not pass an `input_shape`/`input_dim` argument to a layer. When using Sequential models, prefer using an `Input(shape)` object as the first layer in the model instead.\n",
      "  super().__init__(**kwargs)\n"
     ]
    },
    {
     "name": "stdout",
     "output_type": "stream",
     "text": [
      "M Taalwetenschappen, EER: [[6.4407187]] => [[0.44071865]]\n",
      "Start of: M Taalwetenschappen, NL\n"
     ]
    },
    {
     "name": "stderr",
     "output_type": "stream",
     "text": [
      "c:\\Users\\jjble\\anaconda3\\Lib\\site-packages\\keras\\src\\layers\\rnn\\rnn.py:204: UserWarning: Do not pass an `input_shape`/`input_dim` argument to a layer. When using Sequential models, prefer using an `Input(shape)` object as the first layer in the model instead.\n",
      "  super().__init__(**kwargs)\n"
     ]
    },
    {
     "name": "stdout",
     "output_type": "stream",
     "text": [
      "M Taalwetenschappen, NL: [[20.93236]] => [[21.06764]]\n",
      "Start of: M Taalwetenschappen, Niet-EER\n"
     ]
    },
    {
     "name": "stderr",
     "output_type": "stream",
     "text": [
      "c:\\Users\\jjble\\anaconda3\\Lib\\site-packages\\keras\\src\\layers\\rnn\\rnn.py:204: UserWarning: Do not pass an `input_shape`/`input_dim` argument to a layer. When using Sequential models, prefer using an `Input(shape)` object as the first layer in the model instead.\n",
      "  super().__init__(**kwargs)\n"
     ]
    },
    {
     "name": "stdout",
     "output_type": "stream",
     "text": [
      "M Taalwetenschappen, Niet-EER: [[1.5077082]] => [[0.5077082]]\n",
      "Start of: M Taalwetenschappen (research), EER\n",
      "Start of: M Taalwetenschappen (research), NL\n",
      "Start of: M Taalwetenschappen (research), Niet-EER\n",
      "Start of: M Tandheelkunde, EER\n"
     ]
    },
    {
     "name": "stderr",
     "output_type": "stream",
     "text": [
      "c:\\Users\\jjble\\anaconda3\\Lib\\site-packages\\keras\\src\\layers\\rnn\\rnn.py:204: UserWarning: Do not pass an `input_shape`/`input_dim` argument to a layer. When using Sequential models, prefer using an `Input(shape)` object as the first layer in the model instead.\n",
      "  super().__init__(**kwargs)\n"
     ]
    },
    {
     "name": "stdout",
     "output_type": "stream",
     "text": [
      "M Tandheelkunde, EER: [[3.4699922]] => [[2.5300078]]\n",
      "Start of: M Tandheelkunde, NL\n"
     ]
    },
    {
     "name": "stderr",
     "output_type": "stream",
     "text": [
      "c:\\Users\\jjble\\anaconda3\\Lib\\site-packages\\keras\\src\\layers\\rnn\\rnn.py:204: UserWarning: Do not pass an `input_shape`/`input_dim` argument to a layer. When using Sequential models, prefer using an `Input(shape)` object as the first layer in the model instead.\n",
      "  super().__init__(**kwargs)\n"
     ]
    },
    {
     "name": "stdout",
     "output_type": "stream",
     "text": [
      "M Tandheelkunde, NL: [[143.46947]] => [[12.530533]]\n",
      "Start of: M Tandheelkunde, Niet-EER\n",
      "Start of: M Theologie, EER\n",
      "Start of: M Theologie, NL\n"
     ]
    },
    {
     "name": "stderr",
     "output_type": "stream",
     "text": [
      "c:\\Users\\jjble\\anaconda3\\Lib\\site-packages\\keras\\src\\layers\\rnn\\rnn.py:204: UserWarning: Do not pass an `input_shape`/`input_dim` argument to a layer. When using Sequential models, prefer using an `Input(shape)` object as the first layer in the model instead.\n",
      "  super().__init__(**kwargs)\n"
     ]
    },
    {
     "name": "stdout",
     "output_type": "stream",
     "text": [
      "M Theologie, NL: [[2.7006364]] => [[2.2993636]]\n",
      "Start of: M Theologie, Niet-EER\n",
      "Start of: M Theologie & Religiewetenschappen, EER\n",
      "Start of: M Theologie & Religiewetenschappen, NL\n"
     ]
    },
    {
     "name": "stderr",
     "output_type": "stream",
     "text": [
      "c:\\Users\\jjble\\anaconda3\\Lib\\site-packages\\keras\\src\\layers\\rnn\\rnn.py:204: UserWarning: Do not pass an `input_shape`/`input_dim` argument to a layer. When using Sequential models, prefer using an `Input(shape)` object as the first layer in the model instead.\n",
      "  super().__init__(**kwargs)\n"
     ]
    },
    {
     "name": "stdout",
     "output_type": "stream",
     "text": [
      "M Theologie & Religiewetenschappen, NL: [[111.44352]] => [[29.55648]]\n",
      "Start of: M Theologie & Religiewetenschappen, Niet-EER\n",
      "Final MAE: [[27.242483]]\n",
      "Final MAPE: [[0.3836243]]\n"
     ]
    }
   ],
   "source": [
    "total_MAE = 0.0\n",
    "total_MAPE = 0.0\n",
    "count = 0.0\n",
    "\n",
    "for programme, origin in itertools.product(np.sort(combined_data_student_numbers[\"Croho groepeernaam\"].unique()), np.sort(combined_data_student_numbers[\"Herkomst\"].unique())):\n",
    "    print(f\"Start of: {programme}, {origin}\")\n",
    "    data = combined_data_student_numbers\n",
    "    data = data.sort_values(by=[\"Collegejaar\"])\n",
    "    train = data[(data[\"Collegejaar\"] < predict_year) & (data['Croho groepeernaam'] == programme) & (data[\"Herkomst\"] == origin)]\n",
    "    true_label = data[(data[\"Collegejaar\"] == predict_year) & (data['Croho groepeernaam'] == programme) & (data[\"Herkomst\"] == origin)]\n",
    "    if len(true_label) == 0 or len(train) == 0:\n",
    "        continue\n",
    "\n",
    "    train_dataset = []\n",
    "    for year in all_unique_years:\n",
    "        year_train = train[train[\"Collegejaar\"] == year]\n",
    "        if len(year_train) == 0:\n",
    "            train_dataset.append([0])\n",
    "        else:\n",
    "            train_dataset.append([year_train[\"Aantal_studenten_h\"].iloc[0]])\n",
    "\n",
    "    def create_dataset(dataset, look_back=1):\n",
    "        dataX, dataY = [], []\n",
    "        for i in range(len(dataset)-look_back-1):\n",
    "            a = dataset[i:(i+look_back), 0]\n",
    "            dataX.append(a)\n",
    "            dataY.append(dataset[i + look_back, 0])\n",
    "        return np.array(dataX), np.array(dataY)\n",
    "\n",
    "    scaler = MinMaxScaler(feature_range=(0, 1))\n",
    "    train_dataset = scaler.fit_transform(train_dataset)\n",
    "\n",
    "    X_train, Y_train = create_dataset(train_dataset, look_back)\n",
    "\n",
    "    trainX = np.reshape(X_train, (X_train.shape[0], 1, X_train.shape[1]))\n",
    "\n",
    "    model = Sequential()\n",
    "    model.add(LSTM(input_shape=(1, look_back), units=4))\n",
    "    model.add(Dense(8, activation='relu'))\n",
    "    model.add(Dense(1, activation='linear'))\n",
    "\n",
    "    model.compile(loss='mean_squared_error', optimizer='adam')\n",
    "    model.fit(trainX, Y_train, epochs=nr_of_epochs, batch_size=1, verbose=0)\n",
    "\n",
    "    test = train_dataset[-look_back:]\n",
    "\n",
    "    reshaped_test = np.reshape(test, (1, 1, look_back))\n",
    "\n",
    "    prediction = model.predict(reshaped_test, verbose=0)\n",
    "    prediction = scaler.inverse_transform(prediction)\n",
    "    \n",
    "    mae = abs(prediction - true_label[\"Aantal_studenten_h\"].iloc[0])\n",
    "    mape = abs((prediction - true_label[\"Aantal_studenten_h\"].iloc[0]) / true_label[\"Aantal_studenten_h\"].iloc[0])\n",
    "    print(f\"{programme}, {origin}: {prediction} => {mae}\")\n",
    "\n",
    "    total_MAE += mae\n",
    "    total_MAPE += mape\n",
    "    count += 1.0\n",
    "\n",
    "print(f\"Final MAE: {total_MAE / count}\")\n",
    "print(f\"Final MAPE: {total_MAPE / count}\")"
   ]
  },
  {
   "cell_type": "code",
   "execution_count": null,
   "metadata": {},
   "outputs": [],
   "source": []
  }
 ],
 "metadata": {
  "kernelspec": {
   "display_name": "base",
   "language": "python",
   "name": "python3"
  },
  "language_info": {
   "codemirror_mode": {
    "name": "ipython",
    "version": 3
   },
   "file_extension": ".py",
   "mimetype": "text/x-python",
   "name": "python",
   "nbconvert_exporter": "python",
   "pygments_lexer": "ipython3",
   "version": "3.11.5"
  }
 },
 "nbformat": 4,
 "nbformat_minor": 2
}
