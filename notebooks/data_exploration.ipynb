{
 "cells": [
  {
   "cell_type": "markdown",
   "metadata": {},
   "source": [
    "**Load the data from csv file**"
   ]
  },
  {
   "cell_type": "code",
   "execution_count": 2,
   "metadata": {},
   "outputs": [],
   "source": [
    "import os\n",
    "import sys\n",
    "module_path = os.path.abspath(os.path.join('..'))\n",
    "if module_path not in sys.path:\n",
    "    sys.path.append(module_path)\n",
    "\n",
    "import pandas as pd\n",
    "import matplotlib.pyplot as plt\n",
    "from scripts.load_data import *\n",
    "from scripts.preprocess import *\n",
    "from scripts.predict_sarima import *\n",
    "from scripts.helper import *\n",
    "from scripts.postprocess import *"
   ]
  },
  {
   "cell_type": "code",
   "execution_count": null,
   "metadata": {},
   "outputs": [],
   "source": [
    "data_individual, data_cumulative, data_student_numbers, data_latest, data_distances, weighted_ensemble_data = load_data()"
   ]
  },
  {
   "cell_type": "code",
   "execution_count": 2,
   "metadata": {},
   "outputs": [],
   "source": [
    "preprocessed_data_individual = read_and_preprocess(data_individual, data_distances, FilterStudentYear.FIRST_YEARS)"
   ]
  },
  {
   "cell_type": "markdown",
   "metadata": {},
   "source": [
    "**Raw data analysis**"
   ]
  },
  {
   "cell_type": "code",
   "execution_count": 3,
   "metadata": {},
   "outputs": [
    {
     "name": "stdout",
     "output_type": "stream",
     "text": [
      "Shape of data_individual:  (472536, 30)\n",
      "Shape of data_cumulative:  (178567, 14)\n",
      "Shape of data_student_numbers:  (2425, 4)\n",
      "Shape of data_latest:  (164784, 17)\n",
      "Shape of data_distances:  (2438, 2)\n"
     ]
    }
   ],
   "source": [
    "print(\"Shape of data_individual: \", data_individual.shape)\n",
    "print(\"Shape of data_cumulative: \", data_cumulative.shape)\n",
    "print(\"Shape of data_student_numbers: \", data_student_numbers.shape)\n",
    "print(\"Shape of data_latest: \", data_latest.shape)\n",
    "print(\"Shape of data_distances: \", data_distances.shape)"
   ]
  },
  {
   "cell_type": "code",
   "execution_count": 4,
   "metadata": {},
   "outputs": [
    {
     "name": "stdout",
     "output_type": "stream",
     "text": [
      "Features of data_individual: Index(['Sleutel', 'Datum Verzoek Inschr', 'Ingangsdatum', 'Collegejaar',\n",
      "       'Datum intrekking vooraanmelding', 'Inschrijfstatus', 'Faculteit',\n",
      "       'Examentype', 'Croho', 'Croho groepeernaam', 'Opleiding',\n",
      "       'Hoofdopleiding', 'Eerstejaars croho jaar',\n",
      "       'Is eerstejaars croho opleiding', 'Is hogerejaars', 'BBC ontvangen',\n",
      "       'Type vooropleiding', 'Nationaliteit', 'EER', 'Geslacht',\n",
      "       'Geverifieerd adres postcode', 'Geverifieerd adres plaats',\n",
      "       'Geverifieerd adres land', 'Studieadres postcode', 'Studieadres land',\n",
      "       'School code eerste vooropleiding', 'School eerste vooropleiding',\n",
      "       'Plaats code eerste vooropleiding', 'Land code eerste vooropleiding',\n",
      "       'Aantal studenten'],\n",
      "      dtype='object')\n",
      "Features of data_cumulative: Index(['Korte naam instelling', 'Collegejaar', 'Weeknummer rapportage',\n",
      "       'Weeknummer', 'Faculteit', 'Type hoger onderwijs', 'Groepeernaam Croho',\n",
      "       'Naam Croho opleiding Nederlands', 'Croho', 'Herkomst',\n",
      "       'Gewogen vooraanmelders', 'Ongwogen vooraanmelders',\n",
      "       'Aantal aanmelders met 1 aanmelding', 'Inschrijvingen'],\n",
      "      dtype='object')\n",
      "Features of data_student_numbers: Index(['Collegejaar', 'Croho groepeernaam', 'Herkomst', 'Aantal_studenten'], dtype='object')\n",
      "Features of data_latest: Index(['Examentype', 'Croho groepeernaam', 'Herkomst', 'Faculteit',\n",
      "       'Collegejaar', 'Weeknummer', 'Aantal_studenten', 'SARIMA_new',\n",
      "       'SARIMA_old', 'Gewogen vooraanmelders', 'Ongwogen vooraanmelders',\n",
      "       'Aantal aanmelders met 1 aanmelding', 'Inschrijvingen', 'Prognose',\n",
      "       'Ratio', 'Aanmelding', 'Average_Ratio'],\n",
      "      dtype='object')\n",
      "Features of data_distances: Index(['Geverifieerd adres plaats', 'Afstand'], dtype='object')\n"
     ]
    }
   ],
   "source": [
    "print(\"Features of data_individual:\", data_individual.columns)\n",
    "print(\"Features of data_cumulative:\", data_cumulative.columns)\n",
    "print(\"Features of data_student_numbers:\", data_student_numbers.columns)\n",
    "print(\"Features of data_latest:\", data_latest.columns)\n",
    "print(\"Features of data_distances:\", data_distances.columns)"
   ]
  },
  {
   "cell_type": "code",
   "execution_count": 5,
   "metadata": {},
   "outputs": [
    {
     "data": {
      "image/png": "[encoded data removed]",
      "text/plain": [
       "<Figure size 640x480 with 1 Axes>"
      ]
     },
     "metadata": {},
     "output_type": "display_data"
    }
   ],
   "source": [
    "def student_count_years(data):\n",
    "    year_list = data['Collegejaar'].unique()\n",
    "    year_list.sort()\n",
    "\n",
    "    year_counts = data['Collegejaar'].value_counts().sort_index()\n",
    "    # print(year_counts)\n",
    "\n",
    "    plt.bar(year_list, year_counts)\n",
    "\n",
    "    plt.xlabel(\"Years\")\n",
    "    plt.ylabel(\"Student count\")\n",
    "    plt.title(\"Student count per year\")\n",
    "\n",
    "    plt.show()\n",
    "\n",
    "student_count_years(data_individual)"
   ]
  },
  {
   "cell_type": "code",
   "execution_count": 6,
   "metadata": {},
   "outputs": [
    {
     "name": "stdout",
     "output_type": "stream",
     "text": [
      "Inschrijfstatus\n",
      "Ingeschreven                235344\n",
      "Geannuleerd                 178693\n",
      "Uitgeschreven                47620\n",
      "Verzoek tot inschrijving     10733\n",
      "Studie gestaakt                143\n",
      "Aanmelding vervolgen             3\n",
      "Name: count, dtype: int64\n"
     ]
    }
   ],
   "source": [
    "print(data_individual[\"Inschrijfstatus\"].value_counts())"
   ]
  },
  {
   "cell_type": "markdown",
   "metadata": {},
   "source": [
    "**Preprocessed data analysis**"
   ]
  },
  {
   "cell_type": "code",
   "execution_count": 7,
   "metadata": {},
   "outputs": [
    {
     "name": "stdout",
     "output_type": "stream",
     "text": [
      "Shape of preproccesed data:  (221394, 28)\n",
      "Features of preproccesed data: Index(['Datum Verzoek Inschr', 'Collegejaar',\n",
      "       'Datum intrekking vooraanmelding', 'Inschrijfstatus', 'Faculteit',\n",
      "       'Examentype', 'Croho groepeernaam', 'Opleiding', 'Hoofdopleiding',\n",
      "       'Type vooropleiding', 'Nationaliteit', 'EER', 'Geslacht',\n",
      "       'Geverifieerd adres postcode', 'Geverifieerd adres plaats',\n",
      "       'Geverifieerd adres land', 'Studieadres postcode', 'Studieadres land',\n",
      "       'School code eerste vooropleiding', 'School eerste vooropleiding',\n",
      "       'Plaats code eerste vooropleiding', 'Land code eerste vooropleiding',\n",
      "       'Sleutel_count', 'Weeknummer', 'Herkomst', 'is_numerus_fixus',\n",
      "       'Afstand', 'Deadlineweek'],\n",
      "      dtype='object')\n"
     ]
    }
   ],
   "source": [
    "print(\"Shape of preproccesed data: \", preprocessed_data_individual.shape)\n",
    "print(\"Features of preproccesed data:\", preprocessed_data_individual.columns)"
   ]
  },
  {
   "cell_type": "code",
   "execution_count": 8,
   "metadata": {},
   "outputs": [
    {
     "name": "stdout",
     "output_type": "stream",
     "text": [
      "Datum Verzoek Inschr\n",
      "['18-06-22' '13-05-14' '04-03-14' '28-04-14' '04-08-15' '12-07-13'\n",
      " '02-08-16' '31-08-14' '14-07-15' '16-06-13' '05-03-14' '21-07-15'\n",
      " '11-08-14' '06-10-16' '16-10-16' '20-10-16' '22-10-16' '25-10-16'\n",
      " '28-10-16' '30-01-20']\n",
      "<class 'str'>\n",
      "\n",
      "Collegejaar\n",
      "[2022 2014 2015 2013 2016 2017 2020 2021 2018 2019 2023 2024]\n",
      "<class 'numpy.int64'>\n",
      "\n",
      "Datum intrekking vooraanmelding\n",
      "[nan 10. 46. 40. 16. 36. 37. 19.  7. 17.  5.  3. 31. 23. 26. 24.  2. 33.\n",
      " 35. 27.]\n",
      "<class 'numpy.float64'>\n",
      "\n",
      "Inschrijfstatus\n",
      "['Ingeschreven' 'Geannuleerd' 'Verzoek tot inschrijving' 'Uitgeschreven'\n",
      " 'Studie gestaakt' 'Aanmelding vervolgen']\n",
      "<class 'str'>\n",
      "\n",
      "Faculteit\n",
      "['FSW' 'FdM' 'FdL' 'FdR' 'FMW' 'FNWI' 'FFTR' 'RDA']\n",
      "<class 'str'>\n",
      "\n",
      "Examentype\n",
      "['Master' 'Bachelor']\n",
      "<class 'str'>\n",
      "\n",
      "Croho groepeernaam\n",
      "['M Pedagogische Wetenschappen' 'M Psychologie' 'M Political Science'\n",
      " 'M Taalwetenschappen' 'M Business Administration' 'M Nederlands Recht'\n",
      " 'M Onderwijswetenschappen' 'M Artificial Intelligence' 'M Fiscaal Recht'\n",
      " 'B Tandheelkunde' 'B Biomedische Wetenschappen' 'M Science'\n",
      " 'B Algemene Cultuurwetenschappen' 'B Psychologie' 'M Biomedical Sciences'\n",
      " 'B Geneeskunde' 'B Wiskunde' 'B Computing Science'\n",
      " 'B Natuur- en Sterrenkunde' 'M Computing Science']\n",
      "<class 'str'>\n",
      "\n",
      "Opleiding\n",
      "['SOW-M-PW' 'SOW-M-PS' 'MAN-M-POLSC' 'LET-M-TAALW' 'MAN-M-BA' 'JUR-M-NED'\n",
      " 'SOW-M-OWK' 'SOW-M-AI' 'JUR-M-FISCR' 'MED-B-THK' 'MED-B-BMW' 'NWI-M-NATW'\n",
      " 'LET-B-ACW-ACS' 'SOW-B-PS' 'SOW-M-PS-GZP' 'MED-M-BMS' 'MED-B-GNK'\n",
      " 'NWI-B-WISK' 'NWI-B-INFCA' 'NWI-B-NASTK']\n",
      "<class 'str'>\n",
      "\n",
      "Hoofdopleiding\n",
      "['ja' 'nee']\n",
      "<class 'str'>\n",
      "\n",
      "Type vooropleiding\n",
      "['VWO' 'HBO-P' 'Onbekend' 'WO' 'BUITENL_SL' 'HBO' 'OVERIG' 'HAVO'\n",
      " 'BUITENL_MO' 'WO-P' 'BUITENL_WO']\n",
      "<class 'str'>\n",
      "\n",
      "Nationaliteit\n",
      "['Nederlandse' 'Indonesische' 'Amerikaanse' 'Roemeense' 'Ghanese' 'Duitse'\n",
      " 'Colombiaanse' 'Nepalese' 'Pakistaanse' 'Britse' 'Spaanse' 'Tanzaniaanse'\n",
      " 'Vietnamese' 'Noorse' 'Russische' 'Bengalese' 'Cypriotische'\n",
      " 'Zuid-Koreaanse' 'Overig' 'Filipijnse']\n",
      "<class 'str'>\n",
      "\n",
      "EER\n",
      "['J' 'N']\n",
      "<class 'str'>\n",
      "\n",
      "Geslacht\n",
      "['V' 'M' 'O']\n",
      "<class 'str'>\n",
      "\n",
      "Geverifieerd adres postcode\n",
      "['5621 DC' '6541 EE' '6511 GK' '5302 TC' '2563 HG' '6596 DB' '6712 EG'\n",
      " '6512 BD' '6511 SV' '7331 BG' '5709 RH' '6533 MX' nan '9717 JM' '5051 SW'\n",
      " '6546 VB' '6026 CW' '6524 NT' '6533 GE' '6524 CS']\n",
      "<class 'str'>\n",
      "\n",
      "Geverifieerd adres plaats\n",
      "['EINDHOVEN' 'NIJMEGEN' 'Zaltbommel' \"'S-GRAVENHAGE\" 'MILSBEEK' 'EDE GLD'\n",
      " 'APELDOORN' 'HELMOND' nan 'GRONINGEN' 'GOIRLE' 'MAARHEEZE' 'ROSMALEN'\n",
      " 'Arnhem' 'HEERENVEEN' 'Amsterdam' 'HEYTHUYSEN' 'Maastricht' 'Nijmegen'\n",
      " 'AMSTERDAM']\n",
      "<class 'str'>\n",
      "\n",
      "Geverifieerd adres land\n",
      "['Nederland' nan 'Bondsrepubliek Duitsland' 'België' 'Ethiopië' 'Zambia'\n",
      " 'Letland']\n",
      "<class 'str'>\n",
      "\n",
      "Studieadres postcode\n",
      "['5621 DC' '6541 EE' '6851 EV' '5302 TC' '2563 HG' '6596 DB' '6712 EG'\n",
      " '6512 BD' '6511 SV' '7331 BG' '5709 RH' '6524 NS' '40192' '72118'\n",
      " '013531' '5453 LD' '00000' '6533 HR' '48691' '760033']\n",
      "<class 'str'>\n",
      "\n",
      "Studieadres land\n",
      "['Nederland' 'Indonesië' 'Verenigde Staten van Amerika' 'Roemenië' 'Ghana'\n",
      " 'Bondsrepubliek Duitsland' 'Colombia' 'Nepal' 'Pakistan'\n",
      " 'Verenigd Koninkrijk' 'Spanje' 'Japan' 'Vietnam' 'Noorwegen' 'Italië'\n",
      " 'Cyprus' 'Rusland' 'Zuid-Korea' 'Libië' 'Filipijnen']\n",
      "<class 'str'>\n",
      "\n",
      "School code eerste vooropleiding\n",
      "['25FY00' '02RA00' '20RM00' '20CI00' '06XL00' '25PN00' '25GE00' '03RR00'\n",
      " '02TC00' '25KB00' '14LF00' '21PM00' nan '06HF00' '14NQ00' '02TC04'\n",
      " '01VN00' '27UM01' '17CK00' '18XR00']\n",
      "<class 'str'>\n",
      "\n",
      "School eerste vooropleiding\n",
      "['Raayland College RK SGM v Gymn Ath Havo Mavo Vmbo Pro'\n",
      " 'Katholieke Scholengemeenschap Veluws College voor Gymn Ath Havo Mavo e'\n",
      " 'Stedelijk Gymnasium Arnhem' 'Stedelijk Gymnasium Nijmegen'\n",
      " 'Markland College Oudenbosch Katholieke SGM voor Gymn Ath Havo Mavo Vmb'\n",
      " 'Regionaal Opleidingen Centrum Nijmegen eo'\n",
      " 'Het Streek Lyceum, Christelijke School voor mavo, havo, vwo en gymnasi'\n",
      " 'Candea College Atheneum Havo Mavo Vmbo'\n",
      " 'Christiaan Huygens College voor Lyceum Havo Mavo Vbo Lwoo'\n",
      " 'Hogeschool van Arnhem en Nijmegen; Arnhem' nan\n",
      " 'Radboud Universiteit Nijmegen; Nijmegen'\n",
      " 'Udens College voor Lyceum Havo Mavo Vbo Lwoo'\n",
      " 'Dominicus Mavo/Havo/Atheneum/Gymnasium'\n",
      " 'Christiaan Huygens Coll. voor Lyc Havo Mavo Vbo Lwoo loc. Frits Philip'\n",
      " 'Canisius College Lyceum Havo Mavo Vbo Lwoo'\n",
      " 'Regionale Scholengemeenschap Slingerbos/Levant voor Ath Havo Mavo'\n",
      " 'Rythovius College Scholengemeenschap voor Lyc Havo Mavo'\n",
      " 'Lingecollege voor vwo havo mavo vmbo pro lwoo loc. Lyceum'\n",
      " 'Onze Lieve Vrouwelyceum - Breda']\n",
      "<class 'str'>\n",
      "\n",
      "Plaats code eerste vooropleiding\n",
      "['VENRAY' 'APELDOORN' 'ARNHEM' 'NIJMEGEN' 'OUDENBOSCH' 'EDE GLD' 'DUIVEN'\n",
      " 'EINDHOVEN' 'HELMOND' nan 'UDEN' \"'S-GRAVENHAGE\" 'HARDERWIJK' 'EERSEL'\n",
      " 'GRONINGEN' 'TIEL' 'BREDA' 'WAALWIJK' 'DRUTEN' 'UTRECHT']\n",
      "<class 'str'>\n",
      "\n",
      "Land code eerste vooropleiding\n",
      "['NL' nan]\n",
      "<class 'str'>\n",
      "\n",
      "Sleutel_count\n",
      "[ 1  3  2  5  6  4  8  7  9 10 13 11 24 18 20 14 12]\n",
      "<class 'numpy.int64'>\n",
      "\n",
      "Weeknummer\n",
      "[24 20 10 18 32 28 31 35 29 30 33 40 41 42 43  5 13 44 47 45]\n",
      "<class 'numpy.int64'>\n",
      "\n",
      "Herkomst\n",
      "['NL' 'Niet-EER' 'EER']\n",
      "<class 'str'>\n",
      "\n",
      "is_numerus_fixus\n",
      "[0 1]\n",
      "<class 'numpy.int32'>\n",
      "\n",
      "Afstand\n",
      "[ 51.33938147   0.          45.26929554 110.92680353  15.20591444\n",
      "  24.59269583  38.01536061  42.3811048           nan 160.96207727\n",
      "  67.1399273   61.01122155  35.6284408   16.52241382 128.75049735\n",
      "  87.6894073   66.04704043 110.77126596  94.1678946   60.58759365]\n",
      "<class 'numpy.float64'>\n",
      "\n",
      "Deadlineweek\n",
      "[False  True]\n",
      "<class 'numpy.bool_'>\n",
      "\n"
     ]
    }
   ],
   "source": [
    "def feature_type(data):\n",
    "    for label, sub_data in data.items():\n",
    "        print(label)\n",
    "        index = min(len(sub_data), 20)\n",
    "        print(sub_data.unique()[:index])\n",
    "        print(type(sub_data.unique()[0]))\n",
    "        print()\n",
    "\n",
    "feature_type(preprocessed_data_individual)"
   ]
  },
  {
   "cell_type": "code",
   "execution_count": 9,
   "metadata": {},
   "outputs": [
    {
     "name": "stdout",
     "output_type": "stream",
     "text": [
      "Inschrijfstatus\n",
      "Geannuleerd                 131867\n",
      "Ingeschreven                 64686\n",
      "Uitgeschreven                15458\n",
      "Verzoek tot inschrijving      9366\n",
      "Studie gestaakt                 16\n",
      "Aanmelding vervolgen             1\n",
      "Name: count, dtype: int64\n"
     ]
    }
   ],
   "source": [
    "print(preprocessed_data_individual[\"Inschrijfstatus\"].value_counts())"
   ]
  },
  {
   "cell_type": "code",
   "execution_count": 10,
   "metadata": {},
   "outputs": [
    {
     "data": {
      "image/png": "[encoded data removed]",
      "text/plain": [
       "<Figure size 640x480 with 1 Axes>"
      ]
     },
     "metadata": {},
     "output_type": "display_data"
    }
   ],
   "source": [
    "student_count_years(preprocessed_data_individual)"
   ]
  },
  {
   "cell_type": "code",
   "execution_count": 11,
   "metadata": {},
   "outputs": [
    {
     "data": {
      "image/png": "[encoded data removed]",
      "text/plain": [
       "<Figure size 640x480 with 1 Axes>"
      ]
     },
     "metadata": {},
     "output_type": "display_data"
    }
   ],
   "source": [
    "def student_count_years_filter_EER(data):\n",
    "    year_list = data['Collegejaar'].unique()\n",
    "    year_list.sort()\n",
    "\n",
    "    herkomst_options = preprocessed_data_individual[\"Herkomst\"].unique()\n",
    "\n",
    "    year_counts = {}\n",
    "    for option in herkomst_options:\n",
    "        data = preprocessed_data_individual[preprocessed_data_individual[\"Herkomst\"] == option]\n",
    "        year_counts[option] = data['Collegejaar'].value_counts().sort_index()\n",
    "\n",
    "    for herkomst, year_count in year_counts.items():\n",
    "        plt.bar(year_list, year_count, label=herkomst)\n",
    "\n",
    "    # plt.bar(year_list, year_counts)\n",
    "\n",
    "    plt.xlabel(\"Years\")\n",
    "    plt.ylabel(\"Student count\")\n",
    "    plt.title(\"Student count per year\")\n",
    "    plt.legend()\n",
    "\n",
    "    plt.show()\n",
    "\n",
    "student_count_years_filter_EER(preprocessed_data_individual)"
   ]
  },
  {
   "cell_type": "code",
   "execution_count": 13,
   "metadata": {},
   "outputs": [],
   "source": [
    "data_cumulative = vooraanmeldingen_joinen(data_cumulative)\n",
    "\n",
    "preprocessed_data_individual = preprocessed_data_individual.merge(data_cumulative, on=['Croho groepeernaam', 'Collegejaar', 'Faculteit', 'Examentype', 'Weeknummer', 'Herkomst'], how='left')"
   ]
  },
  {
   "cell_type": "code",
   "execution_count": 15,
   "metadata": {},
   "outputs": [
    {
     "name": "stdout",
     "output_type": "stream",
     "text": [
      "Index(['Datum Verzoek Inschr', 'Collegejaar',\n",
      "       'Datum intrekking vooraanmelding', 'Inschrijfstatus', 'Faculteit',\n",
      "       'Examentype', 'Croho groepeernaam', 'Opleiding', 'Hoofdopleiding',\n",
      "       'Type vooropleiding', 'Nationaliteit', 'EER', 'Geslacht',\n",
      "       'Geverifieerd adres postcode', 'Geverifieerd adres plaats',\n",
      "       'Geverifieerd adres land', 'Studieadres postcode', 'Studieadres land',\n",
      "       'School code eerste vooropleiding', 'School eerste vooropleiding',\n",
      "       'Plaats code eerste vooropleiding', 'Land code eerste vooropleiding',\n",
      "       'Sleutel_count', 'Weeknummer', 'Herkomst', 'is_numerus_fixus',\n",
      "       'Afstand', 'Deadlineweek', 'Gewogen vooraanmelders',\n",
      "       'Ongwogen vooraanmelders', 'Aantal aanmelders met 1 aanmelding',\n",
      "       'Inschrijvingen'],\n",
      "      dtype='object')\n"
     ]
    }
   ],
   "source": [
    "print(preprocessed_data_individual.columns)"
   ]
  },
  {
   "cell_type": "code",
   "execution_count": 17,
   "metadata": {},
   "outputs": [
    {
     "name": "stdout",
     "output_type": "stream",
     "text": [
      "[0.00649714 0.69507772 0.39425752 ... 0.00477511 0.71125001 0.20452623]\n"
     ]
    }
   ],
   "source": [
    "max_year = preprocessed_data_individual.Collegejaar.max()\n",
    "year = 2024\n",
    "week = 4\n",
    "\n",
    "max_week = get_max_week(preprocessed_data_individual[preprocessed_data_individual.Collegejaar == year].Weeknummer)\n",
    "\n",
    "prediction_df = pd.DataFrame(columns=['Collegejaar', 'Faculteit', 'Examentype', 'Herkomst', 'Croho groepeernaam', 'Weeknummer', 'SARIMA'])\n",
    "\n",
    "predicties = predict_preapplication(preprocessed_data_individual, year, max_year, week)\n",
    "\n",
    "print(predicties)"
   ]
  },
  {
   "cell_type": "code",
   "execution_count": 36,
   "metadata": {},
   "outputs": [
    {
     "name": "stdout",
     "output_type": "stream",
     "text": [
      "Index(['Datum Verzoek Inschr', 'Collegejaar',\n",
      "       'Datum intrekking vooraanmelding', 'Inschrijfstatus', 'Faculteit',\n",
      "       'Examentype', 'Croho groepeernaam', 'Opleiding', 'Hoofdopleiding',\n",
      "       'Type vooropleiding', 'Nationaliteit', 'EER', 'Geslacht',\n",
      "       'Geverifieerd adres postcode', 'Geverifieerd adres plaats',\n",
      "       'Geverifieerd adres land', 'Studieadres postcode', 'Studieadres land',\n",
      "       'School code eerste vooropleiding', 'School eerste vooropleiding',\n",
      "       'Plaats code eerste vooropleiding', 'Land code eerste vooropleiding',\n",
      "       'Sleutel_count', 'Weeknummer', 'Herkomst', 'is_numerus_fixus',\n",
      "       'Afstand', 'Deadlineweek', 'Gewogen vooraanmelders',\n",
      "       'Ongwogen vooraanmelders', 'Aantal aanmelders met 1 aanmelding',\n",
      "       'Inschrijvingen', 'Inschrijvingen_predictie'],\n",
      "      dtype='object')\n",
      "Index(['Collegejaar', 'Faculteit', 'Herkomst', 'Examentype',\n",
      "       'Croho groepeernaam', 'Weeknummer', 'Inschrijfstatus',\n",
      "       'Inschrijvingen_predictie', 'Cumulative_sum_within_year'],\n",
      "      dtype='object')\n",
      "Index(['Collegejaar', 'Faculteit', 'Herkomst', 'Examentype',\n",
      "       'Croho groepeernaam', '39', '40', '41', '42', '43', '44', '45', '46',\n",
      "       '47', '48', '49', '50', '51', '52', '1', '2', '3', '4', '5', '6', '7',\n",
      "       '8', '9', '10', '11', '12', '13', '14', '15', '16', '17', '18', '19',\n",
      "       '20', '21', '22', '23', '24', '25', '26', '27', '28', '29', '30', '31',\n",
      "       '32', '33', '34', '35', '36', '37', '38'],\n",
      "      dtype='object')\n",
      "Index(['Collegejaar', 'Faculteit', 'Herkomst', 'Examentype',\n",
      "       'Croho groepeernaam', 'Weeknummer', 'Inschrijfstatus',\n",
      "       'Inschrijvingen_predictie', 'Cumulative_sum_within_year',\n",
      "       'Gewogen vooraanmelders', 'Ongwogen vooraanmelders',\n",
      "       'Aantal aanmelders met 1 aanmelding', 'Inschrijvingen'],\n",
      "      dtype='object')\n",
      "Index(['Weeknummer', 'Collegejaar', 'Faculteit', 'Examentype', 'Herkomst',\n",
      "       'Croho groepeernaam', 'Gewogen vooraanmelders',\n",
      "       'Ongwogen vooraanmelders', 'Aantal aanmelders met 1 aanmelding',\n",
      "       'Inschrijvingen'],\n",
      "      dtype='object')\n",
      "Index(['Weeknummer', 'Collegejaar', 'Faculteit', 'Examentype', 'Herkomst',\n",
      "       'Croho groepeernaam', 'Gewogen vooraanmelders',\n",
      "       'Ongwogen vooraanmelders', 'Aantal aanmelders met 1 aanmelding',\n",
      "       'Inschrijvingen', 'Aantal_studenten', 'ts'],\n",
      "      dtype='object')\n"
     ]
    }
   ],
   "source": [
    "data = preprocessed_data_individual\n",
    "\n",
    "data.loc[(data.Collegejaar == year) & (data.Weeknummer.isin(get_weeks_list(week))), 'Inschrijvingen_predictie'] = predicties\n",
    "print(data.columns)\n",
    "\n",
    "data = transform(data, year, max_week)\n",
    "print(data.columns)\n",
    "\n",
    "data_totaal_cumulatief = transform_data(data, targ_col='Cumulative_sum_within_year')\n",
    "print(data_totaal_cumulatief.columns)\n",
    "\n",
    "vooraanmeldingen = data_cumulative\n",
    "data.Weeknummer = data.Weeknummer.astype(int)\n",
    "data_exog = data.merge(vooraanmeldingen,\n",
    "                        on=['Croho groepeernaam', 'Collegejaar', 'Examentype', 'Faculteit', 'Weeknummer', 'Herkomst'], how='left')\n",
    "print(data_exog.columns)\n",
    "\n",
    "predict_df = vooraanmeldingen[(vooraanmeldingen.Collegejaar == year) & (vooraanmeldingen.Weeknummer == week)]\n",
    "print(predict_df.columns)\n",
    "\n",
    "total = data_student_numbers\n",
    "vooraanmeldingen = vooraanmeldingen.merge(total, on=['Croho groepeernaam', 'Collegejaar', 'Herkomst'], how = 'left')\n",
    "vooraanmeldingen['ts'] = vooraanmeldingen['Gewogen vooraanmelders'] + vooraanmeldingen['Inschrijvingen']\n",
    "\n",
    "vooraanmeldingen = vooraanmeldingen.drop_duplicates()\n",
    "\n",
    "vooraanmeldingen['Faculteit'] = vooraanmeldingen['Faculteit'].replace({'SOW': 'FSW', 'LET': 'FdL', 'FTR': 'FFTR',\n",
    "                                                                        'NWI': 'FNWI', 'MAN': 'FdM', 'JUR': 'Fdr',\n",
    "                                                                        'MED': 'FMW', 'RU': 'FdM'})\n",
    "print(vooraanmeldingen.columns)"
   ]
  },
  {
   "cell_type": "code",
   "execution_count": 33,
   "metadata": {},
   "outputs": [
    {
     "name": "stdout",
     "output_type": "stream",
     "text": [
      "predict_df: Index(['Weeknummer', 'Collegejaar', 'Faculteit', 'Examentype', 'Herkomst',\n",
      "       'Croho groepeernaam', 'Gewogen vooraanmelders',\n",
      "       'Ongwogen vooraanmelders', 'Aantal aanmelders met 1 aanmelding',\n",
      "       'Inschrijvingen'],\n",
      "      dtype='object')\n",
      "(211, 10)\n",
      "data_totaal_cumulatief: Index(['Collegejaar', 'Faculteit', 'Herkomst', 'Examentype',\n",
      "       'Croho groepeernaam', '39', '40', '41', '42', '43', '44', '45', '46',\n",
      "       '47', '48', '49', '50', '51', '52', '1', '2', '3', '4', '5', '6', '7',\n",
      "       '8', '9', '10', '11', '12', '13', '14', '15', '16', '17', '18', '19',\n",
      "       '20', '21', '22', '23', '24', '25', '26', '27', '28', '29', '30', '31',\n",
      "       '32', '33', '34', '35', '36', '37', '38'],\n",
      "      dtype='object')\n",
      "(2968, 57)\n",
      "data_exog: Index(['Collegejaar', 'Faculteit', 'Herkomst', 'Examentype',\n",
      "       'Croho groepeernaam', 'Weeknummer', 'Inschrijfstatus',\n",
      "       'Inschrijvingen_predictie', 'Cumulative_sum_within_year',\n",
      "       'Gewogen vooraanmelders', 'Ongwogen vooraanmelders',\n",
      "       'Aantal aanmelders met 1 aanmelding', 'Inschrijvingen'],\n",
      "      dtype='object')\n",
      "(146380, 13)\n",
      "vooraanmeldingen: Index(['Weeknummer', 'Collegejaar', 'Faculteit', 'Examentype', 'Herkomst',\n",
      "       'Croho groepeernaam', 'Gewogen vooraanmelders',\n",
      "       'Ongwogen vooraanmelders', 'Aantal aanmelders met 1 aanmelding',\n",
      "       'Inschrijvingen', 'Aantal_studenten', 'ts'],\n",
      "      dtype='object')\n",
      "(162325, 12)\n",
      "total: Index(['Collegejaar', 'Croho groepeernaam', 'Herkomst', 'Aantal_studenten'], dtype='object')\n",
      "(2425, 4)\n"
     ]
    }
   ],
   "source": [
    "print(\"predict_df:\", predict_df.columns)\n",
    "print(predict_df.shape)\n",
    "print(\"data_totaal_cumulatief:\", data_totaal_cumulatief.columns)\n",
    "print(data_totaal_cumulatief.shape)\n",
    "print(\"data_exog:\", data_exog.columns)\n",
    "print(data_exog.shape)\n",
    "print(\"vooraanmeldingen:\", vooraanmeldingen.columns)\n",
    "print(vooraanmeldingen.shape)\n",
    "print(\"total:\", total.columns)\n",
    "print(total.shape)"
   ]
  },
  {
   "cell_type": "code",
   "execution_count": 34,
   "metadata": {},
   "outputs": [
    {
     "name": "stdout",
     "output_type": "stream",
     "text": [
      "data_totaal_cumulatief:       Collegejaar Faculteit  Herkomst Examentype  \\\n",
      "0            2013      FFTR       EER   Bachelor   \n",
      "1            2013      FFTR       EER   Bachelor   \n",
      "2            2013      FFTR       EER   Bachelor   \n",
      "3            2013      FFTR       EER     Master   \n",
      "4            2013      FFTR       EER     Master   \n",
      "...           ...       ...       ...        ...   \n",
      "2963         2024       RDA        NL     Master   \n",
      "2964         2024       RDA        NL     Master   \n",
      "2965         2024       RDA  Niet-EER     Master   \n",
      "2966         2024       RDA  Niet-EER     Master   \n",
      "2967         2024       RDA  Niet-EER     Master   \n",
      "\n",
      "                                   Croho groepeernaam   39   40   41   42  \\\n",
      "0                                         B Filosofie  0.0  0.0  0.0  0.0   \n",
      "1                              B Religiewetenschappen  0.0  0.0  0.0  0.0   \n",
      "2                                         B Theologie  0.0  0.0  0.0  0.0   \n",
      "3                                   M Filosofie (1jr)  0.0  0.0  0.0  0.0   \n",
      "4                                   M Filosofie (2jr)  0.0  0.0  0.0  0.0   \n",
      "...                                               ...  ...  ...  ...  ...   \n",
      "2963  M LVHO in de Mens- en Maatschappijwetenschappen  0.0  0.0  0.0  0.0   \n",
      "2964        M LVHO in de Taal en Cultuurwetenschappen  0.0  0.0  0.0  0.0   \n",
      "2965                   M LVHO in de Bètawetenschappen  0.0  0.0  0.0  0.0   \n",
      "2966  M LVHO in de Mens- en Maatschappijwetenschappen  0.0  0.0  0.0  0.0   \n",
      "2967        M LVHO in de Taal en Cultuurwetenschappen  0.0  0.0  0.0  0.0   \n",
      "\n",
      "            43  ...   29   30   31   32   33   34   35   36   37   38  \n",
      "0     0.000000  ...  1.0  1.0  1.0  1.0  1.0  1.0  1.0  1.0  1.0  1.0  \n",
      "1     0.000000  ...  1.0  1.0  1.0  1.0  1.0  1.0  1.0  1.0  1.0  1.0  \n",
      "2     0.000000  ...  0.0  0.0  0.0  0.0  0.0  0.0  0.0  0.0  0.0  0.0  \n",
      "3     0.000000  ...  0.0  0.0  0.0  0.0  0.0  0.0  0.0  0.0  0.0  0.0  \n",
      "4     0.000000  ...  0.0  0.0  0.0  0.0  0.0  0.0  0.0  0.0  0.0  0.0  \n",
      "...        ...  ...  ...  ...  ...  ...  ...  ...  ...  ...  ...  ...  \n",
      "2963  0.000000  ...  0.0  0.0  0.0  0.0  0.0  0.0  0.0  0.0  0.0  0.0  \n",
      "2964  0.530504  ...  0.0  0.0  0.0  0.0  0.0  0.0  0.0  0.0  0.0  0.0  \n",
      "2965  0.000000  ...  0.0  0.0  0.0  0.0  0.0  0.0  0.0  0.0  0.0  0.0  \n",
      "2966  0.000000  ...  0.0  0.0  0.0  0.0  0.0  0.0  0.0  0.0  0.0  0.0  \n",
      "2967  0.000000  ...  0.0  0.0  0.0  0.0  0.0  0.0  0.0  0.0  0.0  0.0  \n",
      "\n",
      "[2968 rows x 57 columns]\n"
     ]
    }
   ],
   "source": [
    "print(\"data_totaal_cumulatief:\", data_totaal_cumulatief)"
   ]
  },
  {
   "cell_type": "code",
   "execution_count": null,
   "metadata": {},
   "outputs": [],
   "source": []
  }
 ],
 "metadata": {
  "kernelspec": {
   "display_name": "base",
   "language": "python",
   "name": "python3"
  },
  "language_info": {
   "codemirror_mode": {
    "name": "ipython",
    "version": 3
   },
   "file_extension": ".py",
   "mimetype": "text/x-python",
   "name": "python",
   "nbconvert_exporter": "python",
   "pygments_lexer": "ipython3",
   "version": "3.11.5"
  }
 },
 "nbformat": 4,
 "nbformat_minor": 2
}
