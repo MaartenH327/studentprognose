{
 "cells": [
  {
   "cell_type": "code",
   "execution_count": 1,
   "metadata": {},
   "outputs": [],
   "source": [
    "# import os\n",
    "# import sys\n",
    "# module_path = os.path.abspath(os.path.join('..'))\n",
    "# if module_path not in sys.path:\n",
    "#     sys.path.append(module_path)"
   ]
  },
  {
   "cell_type": "code",
   "execution_count": 2,
   "metadata": {},
   "outputs": [],
   "source": [
    "from scripts.load_data import *\n",
    "from scripts.preprocess import *\n",
    "from scripts.helper import *\n",
    "from scripts.applicant_prediction import *\n",
    "from scripts.transform_data import *\n",
    "from scripts.predict_sarima import *"
   ]
  },
  {
   "cell_type": "code",
   "execution_count": 3,
   "metadata": {},
   "outputs": [],
   "source": [
    "data_individual, data_cumulative, data_student_numbers, data_latest, data_distances, data_weighted_ensemble = load_data()"
   ]
  },
  {
   "cell_type": "code",
   "execution_count": 4,
   "metadata": {},
   "outputs": [],
   "source": [
    "data_individual = read_and_preprocess(data_individual, data_distances, FilterStudentYear.HIGHER_YEARS)"
   ]
  },
  {
   "cell_type": "code",
   "execution_count": 5,
   "metadata": {},
   "outputs": [],
   "source": [
    "predict_year = 2023\n",
    "predict_week = 7\n",
    "\n",
    "max_year = data_individual[\"Collegejaar\"].max()\n",
    "max_week = get_max_week(data_individual[data_individual[\"Collegejaar\"] == predict_year][\"Weeknummer\"])"
   ]
  },
  {
   "cell_type": "code",
   "execution_count": 6,
   "metadata": {},
   "outputs": [],
   "source": [
    "predicties = predict_preapplication(data_individual, predict_year, max_year, predict_week)"
   ]
  },
  {
   "cell_type": "code",
   "execution_count": 7,
   "metadata": {},
   "outputs": [],
   "source": [
    "data_individual.loc[(data_individual[\"Collegejaar\"] == predict_year) & (data_individual[\"Weeknummer\"].isin(get_weeks_list(predict_week))), 'Inschrijvingen_predictie'] = predicties"
   ]
  },
  {
   "cell_type": "code",
   "execution_count": 8,
   "metadata": {},
   "outputs": [],
   "source": [
    "data_individual = transform(data_individual, predict_year, max_week)"
   ]
  },
  {
   "cell_type": "code",
   "execution_count": 9,
   "metadata": {},
   "outputs": [],
   "source": [
    "data_individual = transform_data(data_individual, targ_col='Cumulative_sum_within_year')"
   ]
  },
  {
   "cell_type": "code",
   "execution_count": 10,
   "metadata": {},
   "outputs": [],
   "source": [
    "# dict = {'Collegejaar': [], 'Weeknummer': [], 'Faculteit': [], 'Examentype': [], 'Herkomst': [], 'Croho groepeernaam': [], 'SARIMA_individual': []}\n",
    "\n",
    "# for index, row in data_individual[data_individual[\"Collegejaar\"] == predict_year].iterrows():\n",
    "#     sarima_ind = predict_with_sarima(data_individual, None, row[\"Croho groepeernaam\"], row[\"Herkomst\"], predict_week, predict_year, max_year)\n",
    "\n",
    "#     dict['Collegejaar'].append(predict_year)\n",
    "#     dict['Weeknummer'].append(predict_week)\n",
    "#     dict['Faculteit'].append(row[\"Faculteit\"])\n",
    "#     dict['Examentype'].append(row[\"Examentype\"])\n",
    "#     dict['Herkomst'].append(row[\"Herkomst\"])\n",
    "#     dict['Croho groepeernaam'].append(row[\"Croho groepeernaam\"])\n",
    "#     dict['SARIMA_individual'].append(sarima_ind)\n",
    "\n",
    "# dict = pd.DataFrame(dict)\n",
    "# dict.to_excel(\"individual_output.xlsx\", index=False)"
   ]
  },
  {
   "cell_type": "code",
   "execution_count": 11,
   "metadata": {},
   "outputs": [],
   "source": [
    "data_to_predict = data_individual[data_individual[\"Collegejaar\"] == predict_year]\n",
    "\n",
    "nr_CPU_cores = os.cpu_count()\n",
    "chunk_size = math.ceil(len(data_to_predict) / nr_CPU_cores) # Make as much chunks as you have CPU cores\n",
    "\n",
    "chunks = [data_to_predict[i:i + chunk_size] for i in range(0, len(data_to_predict), chunk_size)]"
   ]
  },
  {
   "cell_type": "code",
   "execution_count": 12,
   "metadata": {},
   "outputs": [],
   "source": [
    "def sarima_parallel(data_individual, row, predict_week, predict_year, max_year):\n",
    "    print(\"Opleiding:\", row[\"Croho groepeernaam\"], \" Herkomst:\", row[\"Herkomst\"])\n",
    "    return predict_with_sarima(data_individual, None, row[\"Croho groepeernaam\"], row[\"Herkomst\"], predict_week, predict_year, max_year)"
   ]
  },
  {
   "cell_type": "code",
   "execution_count": 13,
   "metadata": {},
   "outputs": [
    {
     "name": "stdout",
     "output_type": "stream",
     "text": [
      "Start parallel work\n"
     ]
    }
   ],
   "source": [
    "print(\"Start parallel work\")\n",
    "\n",
    "results = joblib.Parallel(n_jobs=nr_CPU_cores)(\n",
    "        joblib.delayed(sarima_parallel)(data_individual, row, predict_week, predict_year, max_year) for chunk in chunks for _, row in chunk.iterrows()\n",
    "    )\n",
    "\n",
    "data_to_predict[\"SARIMA_individual\"] = results\n",
    "data_to_predict = data_to_predict[[\"Collegejaar\", \"Faculteit\", \"Herkomst\", \"Examentype\", \"Croho groepeernaam\", \"SARIMA_individual\"]]\n",
    "data_to_predict.to_excel(\"individual_output_higher-years.xlsx\", index=False)"
   ]
  }
 ],
 "metadata": {
  "kernelspec": {
   "display_name": "base",
   "language": "python",
   "name": "python3"
  },
  "language_info": {
   "codemirror_mode": {
    "name": "ipython",
    "version": 3
   },
   "file_extension": ".py",
   "mimetype": "text/x-python",
   "name": "python",
   "nbconvert_exporter": "python",
   "pygments_lexer": "ipython3",
   "version": "3.11.5"
  }
 },
 "nbformat": 4,
 "nbformat_minor": 2
}
