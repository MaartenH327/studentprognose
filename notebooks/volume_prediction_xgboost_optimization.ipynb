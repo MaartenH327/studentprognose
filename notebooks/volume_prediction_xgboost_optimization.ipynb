{
 "cells": [
  {
   "cell_type": "code",
   "execution_count": 1,
   "metadata": {},
   "outputs": [],
   "source": [
    "import os\n",
    "import sys\n",
    "module_path = os.path.abspath(os.path.join('..'))\n",
    "if module_path not in sys.path:\n",
    "    sys.path.append(module_path)"
   ]
  },
  {
   "cell_type": "code",
   "execution_count": 2,
   "metadata": {},
   "outputs": [],
   "source": [
    "import pandas as pd\n",
    "import json\n",
    "import numpy as np\n",
    "from scripts.load_data import *\n",
    "\n",
    "from sklearn.preprocessing import OneHotEncoder\n",
    "from sklearn.compose import ColumnTransformer\n",
    "from xgboost import XGBRegressor\n",
    "\n",
    "import optuna"
   ]
  },
  {
   "cell_type": "code",
   "execution_count": 3,
   "metadata": {},
   "outputs": [],
   "source": [
    "configuration = load_configuration(\"../configuration/configuration.json\")\n",
    "\n",
    "paths = configuration[\"paths\"]\n",
    "data_student_numbers_f = pd.read_excel(paths[\"path_student_count_first-years\"])\n",
    "data_student_numbers_h = pd.read_excel(paths[\"path_student_count_higher-years\"])\n",
    "data_student_numbers_v = pd.read_excel(paths[\"path_student_volume\"])"
   ]
  },
  {
   "cell_type": "code",
   "execution_count": 4,
   "metadata": {},
   "outputs": [
    {
     "data": {
      "text/html": [
       "<div>\n",
       "<style scoped>\n",
       "    .dataframe tbody tr th:only-of-type {\n",
       "        vertical-align: middle;\n",
       "    }\n",
       "\n",
       "    .dataframe tbody tr th {\n",
       "        vertical-align: top;\n",
       "    }\n",
       "\n",
       "    .dataframe thead th {\n",
       "        text-align: right;\n",
       "    }\n",
       "</style>\n",
       "<table border=\"1\" class=\"dataframe\">\n",
       "  <thead>\n",
       "    <tr style=\"text-align: right;\">\n",
       "      <th></th>\n",
       "      <th>Collegejaar</th>\n",
       "      <th>Croho groepeernaam</th>\n",
       "      <th>Herkomst</th>\n",
       "      <th>Aantal_studenten_f</th>\n",
       "      <th>Aantal_studenten_h</th>\n",
       "    </tr>\n",
       "  </thead>\n",
       "  <tbody>\n",
       "    <tr>\n",
       "      <th>0</th>\n",
       "      <td>2012</td>\n",
       "      <td>M Geneeskunde</td>\n",
       "      <td>NL</td>\n",
       "      <td>180</td>\n",
       "      <td>868</td>\n",
       "    </tr>\n",
       "    <tr>\n",
       "      <th>1</th>\n",
       "      <td>2013</td>\n",
       "      <td>M Geneeskunde</td>\n",
       "      <td>NL</td>\n",
       "      <td>173</td>\n",
       "      <td>892</td>\n",
       "    </tr>\n",
       "    <tr>\n",
       "      <th>2</th>\n",
       "      <td>2014</td>\n",
       "      <td>M Geneeskunde</td>\n",
       "      <td>NL</td>\n",
       "      <td>177</td>\n",
       "      <td>914</td>\n",
       "    </tr>\n",
       "    <tr>\n",
       "      <th>3</th>\n",
       "      <td>2015</td>\n",
       "      <td>M Geneeskunde</td>\n",
       "      <td>NL</td>\n",
       "      <td>21</td>\n",
       "      <td>1086</td>\n",
       "    </tr>\n",
       "    <tr>\n",
       "      <th>4</th>\n",
       "      <td>2016</td>\n",
       "      <td>M Geneeskunde</td>\n",
       "      <td>NL</td>\n",
       "      <td>148</td>\n",
       "      <td>984</td>\n",
       "    </tr>\n",
       "    <tr>\n",
       "      <th>...</th>\n",
       "      <td>...</td>\n",
       "      <td>...</td>\n",
       "      <td>...</td>\n",
       "      <td>...</td>\n",
       "      <td>...</td>\n",
       "    </tr>\n",
       "    <tr>\n",
       "      <th>2104</th>\n",
       "      <td>2016</td>\n",
       "      <td>M Leraar Voorbereidend Hoger Onderwijs in Gods...</td>\n",
       "      <td>NL</td>\n",
       "      <td>1</td>\n",
       "      <td>1</td>\n",
       "    </tr>\n",
       "    <tr>\n",
       "      <th>2105</th>\n",
       "      <td>2014</td>\n",
       "      <td>M Leraar Voorbereidend Hoger Onderwijs in Natu...</td>\n",
       "      <td>NL</td>\n",
       "      <td>3</td>\n",
       "      <td>1</td>\n",
       "    </tr>\n",
       "    <tr>\n",
       "      <th>2106</th>\n",
       "      <td>2015</td>\n",
       "      <td>M Leraar Voorbereidend Hoger Onderwijs in Natu...</td>\n",
       "      <td>NL</td>\n",
       "      <td>1</td>\n",
       "      <td>1</td>\n",
       "    </tr>\n",
       "    <tr>\n",
       "      <th>2107</th>\n",
       "      <td>2017</td>\n",
       "      <td>M Leraar Voorbereidend Hoger Onderwijs in Natu...</td>\n",
       "      <td>NL</td>\n",
       "      <td>2</td>\n",
       "      <td>1</td>\n",
       "    </tr>\n",
       "    <tr>\n",
       "      <th>2108</th>\n",
       "      <td>2012</td>\n",
       "      <td>M Kunstgeschiedenis</td>\n",
       "      <td>NL</td>\n",
       "      <td>1</td>\n",
       "      <td>1</td>\n",
       "    </tr>\n",
       "  </tbody>\n",
       "</table>\n",
       "<p>2109 rows × 5 columns</p>\n",
       "</div>"
      ],
      "text/plain": [
       "      Collegejaar                                 Croho groepeernaam Herkomst  \\\n",
       "0            2012                                      M Geneeskunde       NL   \n",
       "1            2013                                      M Geneeskunde       NL   \n",
       "2            2014                                      M Geneeskunde       NL   \n",
       "3            2015                                      M Geneeskunde       NL   \n",
       "4            2016                                      M Geneeskunde       NL   \n",
       "...           ...                                                ...      ...   \n",
       "2104         2016  M Leraar Voorbereidend Hoger Onderwijs in Gods...       NL   \n",
       "2105         2014  M Leraar Voorbereidend Hoger Onderwijs in Natu...       NL   \n",
       "2106         2015  M Leraar Voorbereidend Hoger Onderwijs in Natu...       NL   \n",
       "2107         2017  M Leraar Voorbereidend Hoger Onderwijs in Natu...       NL   \n",
       "2108         2012                                M Kunstgeschiedenis       NL   \n",
       "\n",
       "      Aantal_studenten_f  Aantal_studenten_h  \n",
       "0                    180                 868  \n",
       "1                    173                 892  \n",
       "2                    177                 914  \n",
       "3                     21                1086  \n",
       "4                    148                 984  \n",
       "...                  ...                 ...  \n",
       "2104                   1                   1  \n",
       "2105                   3                   1  \n",
       "2106                   1                   1  \n",
       "2107                   2                   1  \n",
       "2108                   1                   1  \n",
       "\n",
       "[2109 rows x 5 columns]"
      ]
     },
     "execution_count": 4,
     "metadata": {},
     "output_type": "execute_result"
    }
   ],
   "source": [
    "combined_data_student_numbers = data_student_numbers_f.merge(data_student_numbers_h, on=[\"Croho groepeernaam\", \"Herkomst\", \"Collegejaar\"])\n",
    "combined_data_student_numbers = combined_data_student_numbers.rename(columns={\"Aantal_studenten_x\": \"Aantal_studenten_f\", \"Aantal_studenten_y\": \"Aantal_studenten_h\"})\n",
    "combined_data_student_numbers"
   ]
  },
  {
   "cell_type": "code",
   "execution_count": 5,
   "metadata": {},
   "outputs": [
    {
     "data": {
      "text/html": [
       "<div>\n",
       "<style scoped>\n",
       "    .dataframe tbody tr th:only-of-type {\n",
       "        vertical-align: middle;\n",
       "    }\n",
       "\n",
       "    .dataframe tbody tr th {\n",
       "        vertical-align: top;\n",
       "    }\n",
       "\n",
       "    .dataframe thead th {\n",
       "        text-align: right;\n",
       "    }\n",
       "</style>\n",
       "<table border=\"1\" class=\"dataframe\">\n",
       "  <thead>\n",
       "    <tr style=\"text-align: right;\">\n",
       "      <th></th>\n",
       "      <th>Collegejaar</th>\n",
       "      <th>Croho groepeernaam</th>\n",
       "      <th>Herkomst</th>\n",
       "      <th>Aantal_studenten_f</th>\n",
       "      <th>Aantal_studenten_h</th>\n",
       "    </tr>\n",
       "  </thead>\n",
       "  <tbody>\n",
       "    <tr>\n",
       "      <th>1776</th>\n",
       "      <td>2012</td>\n",
       "      <td>B Sociologie</td>\n",
       "      <td>NL</td>\n",
       "      <td>49</td>\n",
       "      <td>76</td>\n",
       "    </tr>\n",
       "    <tr>\n",
       "      <th>1777</th>\n",
       "      <td>2013</td>\n",
       "      <td>B Sociologie</td>\n",
       "      <td>NL</td>\n",
       "      <td>51</td>\n",
       "      <td>88</td>\n",
       "    </tr>\n",
       "    <tr>\n",
       "      <th>1778</th>\n",
       "      <td>2014</td>\n",
       "      <td>B Sociologie</td>\n",
       "      <td>NL</td>\n",
       "      <td>38</td>\n",
       "      <td>108</td>\n",
       "    </tr>\n",
       "    <tr>\n",
       "      <th>1779</th>\n",
       "      <td>2015</td>\n",
       "      <td>B Sociologie</td>\n",
       "      <td>NL</td>\n",
       "      <td>32</td>\n",
       "      <td>105</td>\n",
       "    </tr>\n",
       "    <tr>\n",
       "      <th>1780</th>\n",
       "      <td>2016</td>\n",
       "      <td>B Sociologie</td>\n",
       "      <td>NL</td>\n",
       "      <td>44</td>\n",
       "      <td>95</td>\n",
       "    </tr>\n",
       "    <tr>\n",
       "      <th>1781</th>\n",
       "      <td>2017</td>\n",
       "      <td>B Sociologie</td>\n",
       "      <td>NL</td>\n",
       "      <td>31</td>\n",
       "      <td>98</td>\n",
       "    </tr>\n",
       "    <tr>\n",
       "      <th>1782</th>\n",
       "      <td>2018</td>\n",
       "      <td>B Sociologie</td>\n",
       "      <td>NL</td>\n",
       "      <td>43</td>\n",
       "      <td>89</td>\n",
       "    </tr>\n",
       "    <tr>\n",
       "      <th>1783</th>\n",
       "      <td>2019</td>\n",
       "      <td>B Sociologie</td>\n",
       "      <td>NL</td>\n",
       "      <td>48</td>\n",
       "      <td>99</td>\n",
       "    </tr>\n",
       "    <tr>\n",
       "      <th>1784</th>\n",
       "      <td>2020</td>\n",
       "      <td>B Sociologie</td>\n",
       "      <td>NL</td>\n",
       "      <td>63</td>\n",
       "      <td>99</td>\n",
       "    </tr>\n",
       "    <tr>\n",
       "      <th>1785</th>\n",
       "      <td>2021</td>\n",
       "      <td>B Sociologie</td>\n",
       "      <td>NL</td>\n",
       "      <td>86</td>\n",
       "      <td>111</td>\n",
       "    </tr>\n",
       "    <tr>\n",
       "      <th>1786</th>\n",
       "      <td>2022</td>\n",
       "      <td>B Sociologie</td>\n",
       "      <td>NL</td>\n",
       "      <td>79</td>\n",
       "      <td>141</td>\n",
       "    </tr>\n",
       "    <tr>\n",
       "      <th>1787</th>\n",
       "      <td>2023</td>\n",
       "      <td>B Sociologie</td>\n",
       "      <td>NL</td>\n",
       "      <td>66</td>\n",
       "      <td>162</td>\n",
       "    </tr>\n",
       "    <tr>\n",
       "      <th>1788</th>\n",
       "      <td>2013</td>\n",
       "      <td>B Sociologie</td>\n",
       "      <td>EER</td>\n",
       "      <td>7</td>\n",
       "      <td>1</td>\n",
       "    </tr>\n",
       "    <tr>\n",
       "      <th>1789</th>\n",
       "      <td>2014</td>\n",
       "      <td>B Sociologie</td>\n",
       "      <td>EER</td>\n",
       "      <td>5</td>\n",
       "      <td>2</td>\n",
       "    </tr>\n",
       "    <tr>\n",
       "      <th>1790</th>\n",
       "      <td>2016</td>\n",
       "      <td>B Sociologie</td>\n",
       "      <td>EER</td>\n",
       "      <td>1</td>\n",
       "      <td>4</td>\n",
       "    </tr>\n",
       "    <tr>\n",
       "      <th>1791</th>\n",
       "      <td>2019</td>\n",
       "      <td>B Sociologie</td>\n",
       "      <td>EER</td>\n",
       "      <td>1</td>\n",
       "      <td>2</td>\n",
       "    </tr>\n",
       "  </tbody>\n",
       "</table>\n",
       "</div>"
      ],
      "text/plain": [
       "      Collegejaar Croho groepeernaam Herkomst  Aantal_studenten_f  \\\n",
       "1776         2012       B Sociologie       NL                  49   \n",
       "1777         2013       B Sociologie       NL                  51   \n",
       "1778         2014       B Sociologie       NL                  38   \n",
       "1779         2015       B Sociologie       NL                  32   \n",
       "1780         2016       B Sociologie       NL                  44   \n",
       "1781         2017       B Sociologie       NL                  31   \n",
       "1782         2018       B Sociologie       NL                  43   \n",
       "1783         2019       B Sociologie       NL                  48   \n",
       "1784         2020       B Sociologie       NL                  63   \n",
       "1785         2021       B Sociologie       NL                  86   \n",
       "1786         2022       B Sociologie       NL                  79   \n",
       "1787         2023       B Sociologie       NL                  66   \n",
       "1788         2013       B Sociologie      EER                   7   \n",
       "1789         2014       B Sociologie      EER                   5   \n",
       "1790         2016       B Sociologie      EER                   1   \n",
       "1791         2019       B Sociologie      EER                   1   \n",
       "\n",
       "      Aantal_studenten_h  \n",
       "1776                  76  \n",
       "1777                  88  \n",
       "1778                 108  \n",
       "1779                 105  \n",
       "1780                  95  \n",
       "1781                  98  \n",
       "1782                  89  \n",
       "1783                  99  \n",
       "1784                  99  \n",
       "1785                 111  \n",
       "1786                 141  \n",
       "1787                 162  \n",
       "1788                   1  \n",
       "1789                   2  \n",
       "1790                   4  \n",
       "1791                   2  "
      ]
     },
     "execution_count": 5,
     "metadata": {},
     "output_type": "execute_result"
    }
   ],
   "source": [
    "combined_data_student_numbers[combined_data_student_numbers[\"Croho groepeernaam\"] == \"B Sociologie\"]"
   ]
  },
  {
   "cell_type": "code",
   "execution_count": 6,
   "metadata": {},
   "outputs": [],
   "source": [
    "predict_year = 2023\n",
    "programme = \"B Sociologie\"\n",
    "origin = \"NL\"\n",
    "examtype = \"Bac\""
   ]
  },
  {
   "cell_type": "code",
   "execution_count": 7,
   "metadata": {},
   "outputs": [],
   "source": [
    "data = combined_data_student_numbers\n",
    "train = data[(data[\"Collegejaar\"] < predict_year)]\n",
    "# test = data[(data[\"Collegejaar\"] == predict_year) & (data['Croho groepeernaam'] == programme) & (data[\"Herkomst\"] == origin)].drop(['Aantal_studenten_h'], axis=1)\n",
    "test = data[(data[\"Collegejaar\"] == predict_year)]\n",
    "\n",
    "train = train.drop_duplicates()"
   ]
  },
  {
   "cell_type": "code",
   "execution_count": 8,
   "metadata": {},
   "outputs": [],
   "source": [
    "X_train = train.drop(['Aantal_studenten_h'], axis=1)\n",
    "y_train = train.pop('Aantal_studenten_h')"
   ]
  },
  {
   "cell_type": "code",
   "execution_count": 9,
   "metadata": {},
   "outputs": [],
   "source": [
    "numeric_cols = ['Collegejaar', 'Aantal_studenten_f']\n",
    "categorical_cols = ['Croho groepeernaam', 'Herkomst']\n",
    "\n",
    "numeric_transformer = \"passthrough\"  # No transformation for numeric columns\n",
    "categorical_transformer = OneHotEncoder(handle_unknown='ignore')\n",
    "\n",
    "# Create the column transformer\n",
    "preprocessor = ColumnTransformer(\n",
    "    transformers=[\n",
    "        ('numeric', numeric_transformer, numeric_cols),\n",
    "        ('categorical', categorical_transformer, categorical_cols)\n",
    "    ])\n",
    "\n",
    "X_train = preprocessor.fit_transform(X_train)\n",
    "preprocessed_test = preprocessor.transform(test)"
   ]
  },
  {
   "cell_type": "code",
   "execution_count": 10,
   "metadata": {},
   "outputs": [
    {
     "name": "stdout",
     "output_type": "stream",
     "text": [
      "(184, 123)\n",
      "184\n"
     ]
    }
   ],
   "source": [
    "print(preprocessed_test.shape)\n",
    "print(len(test))"
   ]
  },
  {
   "cell_type": "code",
   "execution_count": 13,
   "metadata": {},
   "outputs": [],
   "source": [
    "def objective(trial):\n",
    "    learning_rate = trial.suggest_float(\"learning_rate\", 0, 1)\n",
    "    model = XGBRegressor(learning_rate=learning_rate)\n",
    "\n",
    "    model.fit(X_train, y_train)\n",
    "\n",
    "    predictie = model.predict(preprocessed_test)\n",
    "\n",
    "    total_mae = 0.0\n",
    "    i = 0\n",
    "    for _, row in test.iterrows():\n",
    "        programme = row[\"Croho groepeernaam\"]\n",
    "        origin = row[\"Herkomst\"]\n",
    "        higher_year_row = data_student_numbers_h[(data_student_numbers_h[\"Croho groepeernaam\"] == programme) &\n",
    "                                                        (data_student_numbers_h[\"Herkomst\"] == origin) &\n",
    "                                                        (data_student_numbers_h[\"Collegejaar\"] == predict_year)]\n",
    "\n",
    "        mae = abs(predictie[i] - higher_year_row[\"Aantal_studenten\"].iloc[0])\n",
    "\n",
    "        total_mae += mae\n",
    "        i += 1\n",
    "\n",
    "    print(f\"Final MAE: {total_mae / i}\")\n",
    "    return total_mae / i"
   ]
  },
  {
   "cell_type": "code",
   "execution_count": 14,
   "metadata": {},
   "outputs": [
    {
     "name": "stderr",
     "output_type": "stream",
     "text": [
      "[I 2024-05-07 11:26:44,427] A new study created in memory with name: no-name-7b819094-9526-44ee-96de-5db26e5d9855\n",
      "[I 2024-05-07 11:26:45,472] Trial 0 finished with value: 19.199328552121703 and parameters: {'learning_rate': 0.05904011884215821}. Best is trial 0 with value: 19.199328552121703.\n"
     ]
    },
    {
     "name": "stdout",
     "output_type": "stream",
     "text": [
      "Final MAE: 19.199328552121703\n"
     ]
    },
    {
     "name": "stderr",
     "output_type": "stream",
     "text": [
      "[I 2024-05-07 11:26:46,145] Trial 1 finished with value: 19.827080628146295 and parameters: {'learning_rate': 0.047636140252034}. Best is trial 0 with value: 19.199328552121703.\n"
     ]
    },
    {
     "name": "stdout",
     "output_type": "stream",
     "text": [
      "Final MAE: 19.827080628146295\n"
     ]
    },
    {
     "name": "stderr",
     "output_type": "stream",
     "text": [
      "[I 2024-05-07 11:26:46,513] Trial 2 finished with value: 17.71652816430382 and parameters: {'learning_rate': 0.30989148982567805}. Best is trial 2 with value: 17.71652816430382.\n"
     ]
    },
    {
     "name": "stdout",
     "output_type": "stream",
     "text": [
      "Final MAE: 17.71652816430382\n"
     ]
    },
    {
     "name": "stderr",
     "output_type": "stream",
     "text": [
      "[I 2024-05-07 11:26:46,924] Trial 3 finished with value: 16.57655570283532 and parameters: {'learning_rate': 0.5625650152384774}. Best is trial 3 with value: 16.57655570283532.\n"
     ]
    },
    {
     "name": "stdout",
     "output_type": "stream",
     "text": [
      "Final MAE: 16.57655570283532\n"
     ]
    },
    {
     "name": "stderr",
     "output_type": "stream",
     "text": [
      "[I 2024-05-07 11:26:47,362] Trial 4 finished with value: 19.525013139754858 and parameters: {'learning_rate': 0.7027804547429868}. Best is trial 3 with value: 16.57655570283532.\n"
     ]
    },
    {
     "name": "stdout",
     "output_type": "stream",
     "text": [
      "Final MAE: 19.525013139754858\n"
     ]
    },
    {
     "name": "stderr",
     "output_type": "stream",
     "text": [
      "[I 2024-05-07 11:26:47,760] Trial 5 finished with value: 16.712923229307584 and parameters: {'learning_rate': 0.43977030700114683}. Best is trial 3 with value: 16.57655570283532.\n"
     ]
    },
    {
     "name": "stdout",
     "output_type": "stream",
     "text": [
      "Final MAE: 16.712923229307584\n"
     ]
    },
    {
     "name": "stderr",
     "output_type": "stream",
     "text": [
      "[I 2024-05-07 11:26:48,145] Trial 6 finished with value: 18.616434889643088 and parameters: {'learning_rate': 0.9733800683953377}. Best is trial 3 with value: 16.57655570283532.\n"
     ]
    },
    {
     "name": "stdout",
     "output_type": "stream",
     "text": [
      "Final MAE: 18.616434889643088\n"
     ]
    },
    {
     "name": "stderr",
     "output_type": "stream",
     "text": [
      "[I 2024-05-07 11:26:48,556] Trial 7 finished with value: 19.357208566497203 and parameters: {'learning_rate': 0.4194230939190038}. Best is trial 3 with value: 16.57655570283532.\n"
     ]
    },
    {
     "name": "stdout",
     "output_type": "stream",
     "text": [
      "Final MAE: 19.357208566497203\n"
     ]
    },
    {
     "name": "stderr",
     "output_type": "stream",
     "text": [
      "[I 2024-05-07 11:26:48,970] Trial 8 finished with value: 16.39063697081545 and parameters: {'learning_rate': 0.2796963302844857}. Best is trial 8 with value: 16.39063697081545.\n"
     ]
    },
    {
     "name": "stdout",
     "output_type": "stream",
     "text": [
      "Final MAE: 16.39063697081545\n"
     ]
    },
    {
     "name": "stderr",
     "output_type": "stream",
     "text": [
      "[I 2024-05-07 11:26:49,379] Trial 9 finished with value: 17.858017202304758 and parameters: {'learning_rate': 0.11453055335233275}. Best is trial 8 with value: 16.39063697081545.\n"
     ]
    },
    {
     "name": "stdout",
     "output_type": "stream",
     "text": [
      "Final MAE: 17.858017202304758\n"
     ]
    },
    {
     "name": "stderr",
     "output_type": "stream",
     "text": [
      "[I 2024-05-07 11:26:49,989] Trial 10 finished with value: 17.372574065690454 and parameters: {'learning_rate': 0.2588654451199571}. Best is trial 8 with value: 16.39063697081545.\n"
     ]
    },
    {
     "name": "stdout",
     "output_type": "stream",
     "text": [
      "Final MAE: 17.372574065690454\n"
     ]
    },
    {
     "name": "stderr",
     "output_type": "stream",
     "text": [
      "[I 2024-05-07 11:26:50,399] Trial 11 finished with value: 17.183335519679215 and parameters: {'learning_rate': 0.6515156063581513}. Best is trial 8 with value: 16.39063697081545.\n"
     ]
    },
    {
     "name": "stdout",
     "output_type": "stream",
     "text": [
      "Final MAE: 17.183335519679215\n"
     ]
    },
    {
     "name": "stderr",
     "output_type": "stream",
     "text": [
      "[I 2024-05-07 11:26:50,796] Trial 12 finished with value: 18.11239861243445 and parameters: {'learning_rate': 0.6342251393248005}. Best is trial 8 with value: 16.39063697081545.\n"
     ]
    },
    {
     "name": "stdout",
     "output_type": "stream",
     "text": [
      "Final MAE: 18.11239861243445\n"
     ]
    },
    {
     "name": "stderr",
     "output_type": "stream",
     "text": [
      "[I 2024-05-07 11:26:51,237] Trial 13 finished with value: 17.40256677001067 and parameters: {'learning_rate': 0.8506046365839784}. Best is trial 8 with value: 16.39063697081545.\n"
     ]
    },
    {
     "name": "stdout",
     "output_type": "stream",
     "text": [
      "Final MAE: 17.40256677001067\n"
     ]
    },
    {
     "name": "stderr",
     "output_type": "stream",
     "text": [
      "[I 2024-05-07 11:26:51,665] Trial 14 finished with value: 16.739835415197454 and parameters: {'learning_rate': 0.2556167431715771}. Best is trial 8 with value: 16.39063697081545.\n"
     ]
    },
    {
     "name": "stdout",
     "output_type": "stream",
     "text": [
      "Final MAE: 16.739835415197454\n"
     ]
    },
    {
     "name": "stderr",
     "output_type": "stream",
     "text": [
      "[I 2024-05-07 11:26:52,068] Trial 15 finished with value: 16.83329798605131 and parameters: {'learning_rate': 0.5238471113286524}. Best is trial 8 with value: 16.39063697081545.\n"
     ]
    },
    {
     "name": "stdout",
     "output_type": "stream",
     "text": [
      "Final MAE: 16.83329798605131\n"
     ]
    },
    {
     "name": "stderr",
     "output_type": "stream",
     "text": [
      "[I 2024-05-07 11:26:52,500] Trial 16 finished with value: 15.79778509044453 and parameters: {'learning_rate': 0.5298061224993138}. Best is trial 16 with value: 15.79778509044453.\n"
     ]
    },
    {
     "name": "stdout",
     "output_type": "stream",
     "text": [
      "Final MAE: 15.79778509044453\n"
     ]
    },
    {
     "name": "stderr",
     "output_type": "stream",
     "text": [
      "[I 2024-05-07 11:26:52,925] Trial 17 finished with value: 17.73108038727356 and parameters: {'learning_rate': 0.1840452049421143}. Best is trial 16 with value: 15.79778509044453.\n"
     ]
    },
    {
     "name": "stdout",
     "output_type": "stream",
     "text": [
      "Final MAE: 17.73108038727356\n"
     ]
    },
    {
     "name": "stderr",
     "output_type": "stream",
     "text": [
      "[I 2024-05-07 11:26:53,322] Trial 18 finished with value: 17.769090037307013 and parameters: {'learning_rate': 0.3743421936141643}. Best is trial 16 with value: 15.79778509044453.\n"
     ]
    },
    {
     "name": "stdout",
     "output_type": "stream",
     "text": [
      "Final MAE: 17.769090037307013\n"
     ]
    },
    {
     "name": "stderr",
     "output_type": "stream",
     "text": [
      "[I 2024-05-07 11:26:53,821] Trial 19 finished with value: 18.487430981157914 and parameters: {'learning_rate': 0.8438323244692199}. Best is trial 16 with value: 15.79778509044453.\n"
     ]
    },
    {
     "name": "stdout",
     "output_type": "stream",
     "text": [
      "Final MAE: 18.487430981157914\n"
     ]
    },
    {
     "name": "stderr",
     "output_type": "stream",
     "text": [
      "[I 2024-05-07 11:26:54,214] Trial 20 finished with value: 16.667449828075327 and parameters: {'learning_rate': 0.3548154650678341}. Best is trial 16 with value: 15.79778509044453.\n"
     ]
    },
    {
     "name": "stdout",
     "output_type": "stream",
     "text": [
      "Final MAE: 16.667449828075327\n"
     ]
    },
    {
     "name": "stderr",
     "output_type": "stream",
     "text": [
      "[I 2024-05-07 11:26:54,678] Trial 21 finished with value: 16.771826420303274 and parameters: {'learning_rate': 0.533705768232443}. Best is trial 16 with value: 15.79778509044453.\n"
     ]
    },
    {
     "name": "stdout",
     "output_type": "stream",
     "text": [
      "Final MAE: 16.771826420303274\n"
     ]
    },
    {
     "name": "stderr",
     "output_type": "stream",
     "text": [
      "[I 2024-05-07 11:26:55,081] Trial 22 finished with value: 16.36014233059857 and parameters: {'learning_rate': 0.5697672683617537}. Best is trial 16 with value: 15.79778509044453.\n"
     ]
    },
    {
     "name": "stdout",
     "output_type": "stream",
     "text": [
      "Final MAE: 16.36014233059857\n"
     ]
    },
    {
     "name": "stderr",
     "output_type": "stream",
     "text": [
      "[I 2024-05-07 11:26:55,487] Trial 23 finished with value: 17.386907095575463 and parameters: {'learning_rate': 0.7695724162911899}. Best is trial 16 with value: 15.79778509044453.\n"
     ]
    },
    {
     "name": "stdout",
     "output_type": "stream",
     "text": [
      "Final MAE: 17.386907095575463\n"
     ]
    },
    {
     "name": "stderr",
     "output_type": "stream",
     "text": [
      "[I 2024-05-07 11:26:55,887] Trial 24 finished with value: 17.258446520437364 and parameters: {'learning_rate': 0.4547811156819238}. Best is trial 16 with value: 15.79778509044453.\n"
     ]
    },
    {
     "name": "stdout",
     "output_type": "stream",
     "text": [
      "Final MAE: 17.258446520437364\n"
     ]
    },
    {
     "name": "stderr",
     "output_type": "stream",
     "text": [
      "[I 2024-05-07 11:26:56,283] Trial 25 finished with value: 17.902138208403535 and parameters: {'learning_rate': 0.6189416036709897}. Best is trial 16 with value: 15.79778509044453.\n"
     ]
    },
    {
     "name": "stdout",
     "output_type": "stream",
     "text": [
      "Final MAE: 17.902138208403535\n"
     ]
    },
    {
     "name": "stderr",
     "output_type": "stream",
     "text": [
      "[I 2024-05-07 11:26:56,643] Trial 26 finished with value: 17.548564750053313 and parameters: {'learning_rate': 0.21932437625913448}. Best is trial 16 with value: 15.79778509044453.\n"
     ]
    },
    {
     "name": "stdout",
     "output_type": "stream",
     "text": [
      "Final MAE: 17.548564750053313\n"
     ]
    },
    {
     "name": "stderr",
     "output_type": "stream",
     "text": [
      "[I 2024-05-07 11:26:57,087] Trial 27 finished with value: 19.127074291929603 and parameters: {'learning_rate': 0.7547029341505704}. Best is trial 16 with value: 15.79778509044453.\n"
     ]
    },
    {
     "name": "stdout",
     "output_type": "stream",
     "text": [
      "Final MAE: 19.127074291929603\n"
     ]
    },
    {
     "name": "stderr",
     "output_type": "stream",
     "text": [
      "[I 2024-05-07 11:26:57,601] Trial 28 finished with value: 16.97792227436667 and parameters: {'learning_rate': 0.5793746262848836}. Best is trial 16 with value: 15.79778509044453.\n"
     ]
    },
    {
     "name": "stdout",
     "output_type": "stream",
     "text": [
      "Final MAE: 16.97792227436667\n"
     ]
    },
    {
     "name": "stderr",
     "output_type": "stream",
     "text": [
      "[I 2024-05-07 11:26:58,101] Trial 29 finished with value: 17.388784357711025 and parameters: {'learning_rate': 0.13762329405414792}. Best is trial 16 with value: 15.79778509044453.\n"
     ]
    },
    {
     "name": "stdout",
     "output_type": "stream",
     "text": [
      "Final MAE: 17.388784357711025\n"
     ]
    },
    {
     "name": "stderr",
     "output_type": "stream",
     "text": [
      "[I 2024-05-07 11:26:58,608] Trial 30 finished with value: 16.888637402874377 and parameters: {'learning_rate': 0.4745775763578021}. Best is trial 16 with value: 15.79778509044453.\n"
     ]
    },
    {
     "name": "stdout",
     "output_type": "stream",
     "text": [
      "Final MAE: 16.888637402874377\n"
     ]
    },
    {
     "name": "stderr",
     "output_type": "stream",
     "text": [
      "[I 2024-05-07 11:26:59,106] Trial 31 finished with value: 16.360244527135205 and parameters: {'learning_rate': 0.5394183533721215}. Best is trial 16 with value: 15.79778509044453.\n"
     ]
    },
    {
     "name": "stdout",
     "output_type": "stream",
     "text": [
      "Final MAE: 16.360244527135205\n"
     ]
    },
    {
     "name": "stderr",
     "output_type": "stream",
     "text": [
      "[I 2024-05-07 11:26:59,624] Trial 32 finished with value: 16.413962865815215 and parameters: {'learning_rate': 0.49969978645002416}. Best is trial 16 with value: 15.79778509044453.\n"
     ]
    },
    {
     "name": "stdout",
     "output_type": "stream",
     "text": [
      "Final MAE: 16.413962865815215\n"
     ]
    },
    {
     "name": "stderr",
     "output_type": "stream",
     "text": [
      "[I 2024-05-07 11:27:00,115] Trial 33 finished with value: 18.066724810263384 and parameters: {'learning_rate': 0.35829257858712327}. Best is trial 16 with value: 15.79778509044453.\n"
     ]
    },
    {
     "name": "stdout",
     "output_type": "stream",
     "text": [
      "Final MAE: 18.066724810263384\n"
     ]
    },
    {
     "name": "stderr",
     "output_type": "stream",
     "text": [
      "[I 2024-05-07 11:27:00,610] Trial 34 finished with value: 20.746804579444554 and parameters: {'learning_rate': 0.03817319340092115}. Best is trial 16 with value: 15.79778509044453.\n"
     ]
    },
    {
     "name": "stdout",
     "output_type": "stream",
     "text": [
      "Final MAE: 20.746804579444554\n"
     ]
    },
    {
     "name": "stderr",
     "output_type": "stream",
     "text": [
      "[I 2024-05-07 11:27:01,096] Trial 35 finished with value: 18.194112206282824 and parameters: {'learning_rate': 0.5840353240399583}. Best is trial 16 with value: 15.79778509044453.\n"
     ]
    },
    {
     "name": "stdout",
     "output_type": "stream",
     "text": [
      "Final MAE: 18.194112206282824\n"
     ]
    },
    {
     "name": "stderr",
     "output_type": "stream",
     "text": [
      "[I 2024-05-07 11:27:01,651] Trial 36 finished with value: 17.650040035864905 and parameters: {'learning_rate': 0.6873491121284295}. Best is trial 16 with value: 15.79778509044453.\n"
     ]
    },
    {
     "name": "stdout",
     "output_type": "stream",
     "text": [
      "Final MAE: 17.650040035864905\n"
     ]
    },
    {
     "name": "stderr",
     "output_type": "stream",
     "text": [
      "[I 2024-05-07 11:27:02,149] Trial 37 finished with value: 17.595530596116316 and parameters: {'learning_rate': 0.30864586167646096}. Best is trial 16 with value: 15.79778509044453.\n"
     ]
    },
    {
     "name": "stdout",
     "output_type": "stream",
     "text": [
      "Final MAE: 17.595530596116316\n"
     ]
    },
    {
     "name": "stderr",
     "output_type": "stream",
     "text": [
      "[I 2024-05-07 11:27:02,622] Trial 38 finished with value: 18.172223719889704 and parameters: {'learning_rate': 0.40887953116258646}. Best is trial 16 with value: 15.79778509044453.\n"
     ]
    },
    {
     "name": "stdout",
     "output_type": "stream",
     "text": [
      "Final MAE: 18.172223719889704\n"
     ]
    },
    {
     "name": "stderr",
     "output_type": "stream",
     "text": [
      "[I 2024-05-07 11:27:03,081] Trial 39 finished with value: 17.610632599452916 and parameters: {'learning_rate': 0.708314742157891}. Best is trial 16 with value: 15.79778509044453.\n"
     ]
    },
    {
     "name": "stdout",
     "output_type": "stream",
     "text": [
      "Final MAE: 17.610632599452916\n"
     ]
    },
    {
     "name": "stderr",
     "output_type": "stream",
     "text": [
      "[I 2024-05-07 11:27:03,588] Trial 40 finished with value: 16.749159528833367 and parameters: {'learning_rate': 0.5776989829591965}. Best is trial 16 with value: 15.79778509044453.\n"
     ]
    },
    {
     "name": "stdout",
     "output_type": "stream",
     "text": [
      "Final MAE: 16.749159528833367\n"
     ]
    },
    {
     "name": "stderr",
     "output_type": "stream",
     "text": [
      "[I 2024-05-07 11:27:04,055] Trial 41 finished with value: 16.212054942937 and parameters: {'learning_rate': 0.4923183756896794}. Best is trial 16 with value: 15.79778509044453.\n"
     ]
    },
    {
     "name": "stdout",
     "output_type": "stream",
     "text": [
      "Final MAE: 16.212054942937\n"
     ]
    },
    {
     "name": "stderr",
     "output_type": "stream",
     "text": [
      "[I 2024-05-07 11:27:04,525] Trial 42 finished with value: 16.990174125439648 and parameters: {'learning_rate': 0.4931285445985475}. Best is trial 16 with value: 15.79778509044453.\n"
     ]
    },
    {
     "name": "stdout",
     "output_type": "stream",
     "text": [
      "Final MAE: 16.990174125439648\n"
     ]
    },
    {
     "name": "stderr",
     "output_type": "stream",
     "text": [
      "[I 2024-05-07 11:27:04,985] Trial 43 finished with value: 18.034273391832475 and parameters: {'learning_rate': 0.411844129704554}. Best is trial 16 with value: 15.79778509044453.\n"
     ]
    },
    {
     "name": "stdout",
     "output_type": "stream",
     "text": [
      "Final MAE: 18.034273391832475\n"
     ]
    },
    {
     "name": "stderr",
     "output_type": "stream",
     "text": [
      "[I 2024-05-07 11:27:05,457] Trial 44 finished with value: 17.733097372819547 and parameters: {'learning_rate': 0.3058510404015351}. Best is trial 16 with value: 15.79778509044453.\n"
     ]
    },
    {
     "name": "stdout",
     "output_type": "stream",
     "text": [
      "Final MAE: 17.733097372819547\n"
     ]
    },
    {
     "name": "stderr",
     "output_type": "stream",
     "text": [
      "[I 2024-05-07 11:27:06,088] Trial 45 finished with value: 16.727695425521866 and parameters: {'learning_rate': 0.5448559419243115}. Best is trial 16 with value: 15.79778509044453.\n"
     ]
    },
    {
     "name": "stdout",
     "output_type": "stream",
     "text": [
      "Final MAE: 16.727695425521866\n"
     ]
    },
    {
     "name": "stderr",
     "output_type": "stream",
     "text": [
      "[I 2024-05-07 11:27:06,667] Trial 46 finished with value: 17.39665398519972 and parameters: {'learning_rate': 0.6090469962167461}. Best is trial 16 with value: 15.79778509044453.\n"
     ]
    },
    {
     "name": "stdout",
     "output_type": "stream",
     "text": [
      "Final MAE: 17.39665398519972\n"
     ]
    },
    {
     "name": "stderr",
     "output_type": "stream",
     "text": [
      "[I 2024-05-07 11:27:07,220] Trial 47 finished with value: 17.103090115296453 and parameters: {'learning_rate': 0.6755099321630709}. Best is trial 16 with value: 15.79778509044453.\n"
     ]
    },
    {
     "name": "stdout",
     "output_type": "stream",
     "text": [
      "Final MAE: 17.103090115296453\n"
     ]
    },
    {
     "name": "stderr",
     "output_type": "stream",
     "text": [
      "[I 2024-05-07 11:27:07,725] Trial 48 finished with value: 18.21750943362713 and parameters: {'learning_rate': 0.09337922443002353}. Best is trial 16 with value: 15.79778509044453.\n"
     ]
    },
    {
     "name": "stdout",
     "output_type": "stream",
     "text": [
      "Final MAE: 18.21750943362713\n"
     ]
    },
    {
     "name": "stderr",
     "output_type": "stream",
     "text": [
      "[I 2024-05-07 11:27:08,214] Trial 49 finished with value: 17.867477166263953 and parameters: {'learning_rate': 0.9974360688630955}. Best is trial 16 with value: 15.79778509044453.\n"
     ]
    },
    {
     "name": "stdout",
     "output_type": "stream",
     "text": [
      "Final MAE: 17.867477166263953\n"
     ]
    },
    {
     "name": "stderr",
     "output_type": "stream",
     "text": [
      "[I 2024-05-07 11:27:08,711] Trial 50 finished with value: 17.70359727545925 and parameters: {'learning_rate': 0.4681281085060376}. Best is trial 16 with value: 15.79778509044453.\n"
     ]
    },
    {
     "name": "stdout",
     "output_type": "stream",
     "text": [
      "Final MAE: 17.70359727545925\n"
     ]
    },
    {
     "name": "stderr",
     "output_type": "stream",
     "text": [
      "[I 2024-05-07 11:27:09,185] Trial 51 finished with value: 15.509662225518538 and parameters: {'learning_rate': 0.506291632431911}. Best is trial 51 with value: 15.509662225518538.\n"
     ]
    },
    {
     "name": "stdout",
     "output_type": "stream",
     "text": [
      "Final MAE: 15.509662225518538\n"
     ]
    },
    {
     "name": "stderr",
     "output_type": "stream",
     "text": [
      "[I 2024-05-07 11:27:09,669] Trial 52 finished with value: 15.516622782634247 and parameters: {'learning_rate': 0.5391636839217705}. Best is trial 51 with value: 15.509662225518538.\n"
     ]
    },
    {
     "name": "stdout",
     "output_type": "stream",
     "text": [
      "Final MAE: 15.516622782634247\n"
     ]
    },
    {
     "name": "stderr",
     "output_type": "stream",
     "text": [
      "[I 2024-05-07 11:27:10,228] Trial 53 finished with value: 15.367107813894425 and parameters: {'learning_rate': 0.5301857237491415}. Best is trial 53 with value: 15.367107813894425.\n"
     ]
    },
    {
     "name": "stdout",
     "output_type": "stream",
     "text": [
      "Final MAE: 15.367107813894425\n"
     ]
    },
    {
     "name": "stderr",
     "output_type": "stream",
     "text": [
      "[I 2024-05-07 11:27:10,717] Trial 54 finished with value: 18.526644150847975 and parameters: {'learning_rate': 0.4362402057744432}. Best is trial 53 with value: 15.367107813894425.\n"
     ]
    },
    {
     "name": "stdout",
     "output_type": "stream",
     "text": [
      "Final MAE: 18.526644150847975\n"
     ]
    },
    {
     "name": "stderr",
     "output_type": "stream",
     "text": [
      "[I 2024-05-07 11:27:11,186] Trial 55 finished with value: 17.476399034069367 and parameters: {'learning_rate': 0.5084423183229859}. Best is trial 53 with value: 15.367107813894425.\n"
     ]
    },
    {
     "name": "stdout",
     "output_type": "stream",
     "text": [
      "Final MAE: 17.476399034069367\n"
     ]
    },
    {
     "name": "stderr",
     "output_type": "stream",
     "text": [
      "[I 2024-05-07 11:27:11,664] Trial 56 finished with value: 17.600415881378982 and parameters: {'learning_rate': 0.6301634341097184}. Best is trial 53 with value: 15.367107813894425.\n"
     ]
    },
    {
     "name": "stdout",
     "output_type": "stream",
     "text": [
      "Final MAE: 17.600415881378982\n"
     ]
    },
    {
     "name": "stderr",
     "output_type": "stream",
     "text": [
      "[I 2024-05-07 11:27:12,141] Trial 57 finished with value: 17.26544356929219 and parameters: {'learning_rate': 0.3944766573068367}. Best is trial 53 with value: 15.367107813894425.\n"
     ]
    },
    {
     "name": "stdout",
     "output_type": "stream",
     "text": [
      "Final MAE: 17.26544356929219\n"
     ]
    },
    {
     "name": "stderr",
     "output_type": "stream",
     "text": [
      "[I 2024-05-07 11:27:12,622] Trial 58 finished with value: 17.731859050367188 and parameters: {'learning_rate': 0.7294162453918189}. Best is trial 53 with value: 15.367107813894425.\n"
     ]
    },
    {
     "name": "stdout",
     "output_type": "stream",
     "text": [
      "Final MAE: 17.731859050367188\n"
     ]
    },
    {
     "name": "stderr",
     "output_type": "stream",
     "text": [
      "[I 2024-05-07 11:27:13,089] Trial 59 finished with value: 17.744954922600932 and parameters: {'learning_rate': 0.6510129331051696}. Best is trial 53 with value: 15.367107813894425.\n"
     ]
    },
    {
     "name": "stdout",
     "output_type": "stream",
     "text": [
      "Final MAE: 17.744954922600932\n"
     ]
    },
    {
     "name": "stderr",
     "output_type": "stream",
     "text": [
      "[I 2024-05-07 11:27:13,542] Trial 60 finished with value: 17.227402214932702 and parameters: {'learning_rate': 0.5991767185364922}. Best is trial 53 with value: 15.367107813894425.\n"
     ]
    },
    {
     "name": "stdout",
     "output_type": "stream",
     "text": [
      "Final MAE: 17.227402214932702\n"
     ]
    },
    {
     "name": "stderr",
     "output_type": "stream",
     "text": [
      "[I 2024-05-07 11:27:13,977] Trial 61 finished with value: 16.659235015511513 and parameters: {'learning_rate': 0.54904451868895}. Best is trial 53 with value: 15.367107813894425.\n"
     ]
    },
    {
     "name": "stdout",
     "output_type": "stream",
     "text": [
      "Final MAE: 16.659235015511513\n"
     ]
    },
    {
     "name": "stderr",
     "output_type": "stream",
     "text": [
      "[I 2024-05-07 11:27:14,512] Trial 62 finished with value: 16.552432834697157 and parameters: {'learning_rate': 0.5337937888310018}. Best is trial 53 with value: 15.367107813894425.\n"
     ]
    },
    {
     "name": "stdout",
     "output_type": "stream",
     "text": [
      "Final MAE: 16.552432834697157\n"
     ]
    },
    {
     "name": "stderr",
     "output_type": "stream",
     "text": [
      "[I 2024-05-07 11:27:14,953] Trial 63 finished with value: 17.08939901512602 and parameters: {'learning_rate': 0.4723270162086519}. Best is trial 53 with value: 15.367107813894425.\n"
     ]
    },
    {
     "name": "stdout",
     "output_type": "stream",
     "text": [
      "Final MAE: 17.08939901512602\n"
     ]
    },
    {
     "name": "stderr",
     "output_type": "stream",
     "text": [
      "[I 2024-05-07 11:27:15,395] Trial 64 finished with value: 17.249093920964263 and parameters: {'learning_rate': 0.5574305543040612}. Best is trial 53 with value: 15.367107813894425.\n"
     ]
    },
    {
     "name": "stdout",
     "output_type": "stream",
     "text": [
      "Final MAE: 17.249093920964263\n"
     ]
    },
    {
     "name": "stderr",
     "output_type": "stream",
     "text": [
      "[I 2024-05-07 11:27:15,845] Trial 65 finished with value: 16.19138132618821 and parameters: {'learning_rate': 0.5123571922560674}. Best is trial 53 with value: 15.367107813894425.\n"
     ]
    },
    {
     "name": "stdout",
     "output_type": "stream",
     "text": [
      "Final MAE: 16.19138132618821\n"
     ]
    },
    {
     "name": "stderr",
     "output_type": "stream",
     "text": [
      "[I 2024-05-07 11:27:16,289] Trial 66 finished with value: 16.71295603065063 and parameters: {'learning_rate': 0.43979384186506865}. Best is trial 53 with value: 15.367107813894425.\n"
     ]
    },
    {
     "name": "stdout",
     "output_type": "stream",
     "text": [
      "Final MAE: 16.71295603065063\n"
     ]
    },
    {
     "name": "stderr",
     "output_type": "stream",
     "text": [
      "[I 2024-05-07 11:27:16,726] Trial 67 finished with value: 16.98853014749677 and parameters: {'learning_rate': 0.5046155038020983}. Best is trial 53 with value: 15.367107813894425.\n"
     ]
    },
    {
     "name": "stdout",
     "output_type": "stream",
     "text": [
      "Final MAE: 16.98853014749677\n"
     ]
    },
    {
     "name": "stderr",
     "output_type": "stream",
     "text": [
      "[I 2024-05-07 11:27:17,169] Trial 68 finished with value: 17.98014556405985 and parameters: {'learning_rate': 0.3745491904246956}. Best is trial 53 with value: 15.367107813894425.\n"
     ]
    },
    {
     "name": "stdout",
     "output_type": "stream",
     "text": [
      "Final MAE: 17.98014556405985\n"
     ]
    },
    {
     "name": "stderr",
     "output_type": "stream",
     "text": [
      "[I 2024-05-07 11:27:17,631] Trial 69 finished with value: 16.23113155802307 and parameters: {'learning_rate': 0.6613493995320759}. Best is trial 53 with value: 15.367107813894425.\n"
     ]
    },
    {
     "name": "stdout",
     "output_type": "stream",
     "text": [
      "Final MAE: 16.23113155802307\n"
     ]
    },
    {
     "name": "stderr",
     "output_type": "stream",
     "text": [
      "[I 2024-05-07 11:27:18,143] Trial 70 finished with value: 18.894650848501403 and parameters: {'learning_rate': 0.8068854675647938}. Best is trial 53 with value: 15.367107813894425.\n"
     ]
    },
    {
     "name": "stdout",
     "output_type": "stream",
     "text": [
      "Final MAE: 18.894650848501403\n"
     ]
    },
    {
     "name": "stderr",
     "output_type": "stream",
     "text": [
      "[I 2024-05-07 11:27:18,602] Trial 71 finished with value: 16.06634926913387 and parameters: {'learning_rate': 0.6611764596685495}. Best is trial 53 with value: 15.367107813894425.\n"
     ]
    },
    {
     "name": "stdout",
     "output_type": "stream",
     "text": [
      "Final MAE: 16.06634926913387\n"
     ]
    },
    {
     "name": "stderr",
     "output_type": "stream",
     "text": [
      "[I 2024-05-07 11:27:19,037] Trial 72 finished with value: 17.47220449975651 and parameters: {'learning_rate': 0.6530208865046776}. Best is trial 53 with value: 15.367107813894425.\n"
     ]
    },
    {
     "name": "stdout",
     "output_type": "stream",
     "text": [
      "Final MAE: 17.47220449975651\n"
     ]
    },
    {
     "name": "stderr",
     "output_type": "stream",
     "text": [
      "[I 2024-05-07 11:27:19,477] Trial 73 finished with value: 18.63227278334291 and parameters: {'learning_rate': 0.6118193692404628}. Best is trial 53 with value: 15.367107813894425.\n"
     ]
    },
    {
     "name": "stdout",
     "output_type": "stream",
     "text": [
      "Final MAE: 18.63227278334291\n"
     ]
    },
    {
     "name": "stderr",
     "output_type": "stream",
     "text": [
      "[I 2024-05-07 11:27:19,908] Trial 74 finished with value: 16.908869483548663 and parameters: {'learning_rate': 0.4888447835716888}. Best is trial 53 with value: 15.367107813894425.\n"
     ]
    },
    {
     "name": "stdout",
     "output_type": "stream",
     "text": [
      "Final MAE: 16.908869483548663\n"
     ]
    },
    {
     "name": "stderr",
     "output_type": "stream",
     "text": [
      "[I 2024-05-07 11:27:20,374] Trial 75 finished with value: 16.099838242096745 and parameters: {'learning_rate': 0.5200111029699}. Best is trial 53 with value: 15.367107813894425.\n"
     ]
    },
    {
     "name": "stdout",
     "output_type": "stream",
     "text": [
      "Final MAE: 16.099838242096745\n"
     ]
    },
    {
     "name": "stderr",
     "output_type": "stream",
     "text": [
      "[I 2024-05-07 11:27:20,857] Trial 76 finished with value: 16.452641841995977 and parameters: {'learning_rate': 0.5237440169795963}. Best is trial 53 with value: 15.367107813894425.\n"
     ]
    },
    {
     "name": "stdout",
     "output_type": "stream",
     "text": [
      "Final MAE: 16.452641841995977\n"
     ]
    },
    {
     "name": "stderr",
     "output_type": "stream",
     "text": [
      "[I 2024-05-07 11:27:21,361] Trial 77 finished with value: 17.92969072363137 and parameters: {'learning_rate': 0.4339426217716632}. Best is trial 53 with value: 15.367107813894425.\n"
     ]
    },
    {
     "name": "stdout",
     "output_type": "stream",
     "text": [
      "Final MAE: 17.92969072363137\n"
     ]
    },
    {
     "name": "stderr",
     "output_type": "stream",
     "text": [
      "[I 2024-05-07 11:27:21,868] Trial 78 finished with value: 16.655120679541774 and parameters: {'learning_rate': 0.4570234207699974}. Best is trial 53 with value: 15.367107813894425.\n"
     ]
    },
    {
     "name": "stdout",
     "output_type": "stream",
     "text": [
      "Final MAE: 16.655120679541774\n"
     ]
    },
    {
     "name": "stderr",
     "output_type": "stream",
     "text": [
      "[I 2024-05-07 11:27:22,479] Trial 79 finished with value: 17.135687542350396 and parameters: {'learning_rate': 0.5703866796243106}. Best is trial 53 with value: 15.367107813894425.\n"
     ]
    },
    {
     "name": "stdout",
     "output_type": "stream",
     "text": [
      "Final MAE: 17.135687542350396\n"
     ]
    },
    {
     "name": "stderr",
     "output_type": "stream",
     "text": [
      "[I 2024-05-07 11:27:22,991] Trial 80 finished with value: 17.394069451028887 and parameters: {'learning_rate': 0.3383056969993731}. Best is trial 53 with value: 15.367107813894425.\n"
     ]
    },
    {
     "name": "stdout",
     "output_type": "stream",
     "text": [
      "Final MAE: 17.394069451028887\n"
     ]
    },
    {
     "name": "stderr",
     "output_type": "stream",
     "text": [
      "[I 2024-05-07 11:27:23,511] Trial 81 finished with value: 16.759145214181878 and parameters: {'learning_rate': 0.515788488814452}. Best is trial 53 with value: 15.367107813894425.\n"
     ]
    },
    {
     "name": "stdout",
     "output_type": "stream",
     "text": [
      "Final MAE: 16.759145214181878\n"
     ]
    },
    {
     "name": "stderr",
     "output_type": "stream",
     "text": [
      "[I 2024-05-07 11:27:24,005] Trial 82 finished with value: 17.503474304999184 and parameters: {'learning_rate': 0.5931001794368514}. Best is trial 53 with value: 15.367107813894425.\n"
     ]
    },
    {
     "name": "stdout",
     "output_type": "stream",
     "text": [
      "Final MAE: 17.503474304999184\n"
     ]
    },
    {
     "name": "stderr",
     "output_type": "stream",
     "text": [
      "[I 2024-05-07 11:27:24,536] Trial 83 finished with value: 18.23692406454812 and parameters: {'learning_rate': 0.8818303477542019}. Best is trial 53 with value: 15.367107813894425.\n"
     ]
    },
    {
     "name": "stdout",
     "output_type": "stream",
     "text": [
      "Final MAE: 18.23692406454812\n"
     ]
    },
    {
     "name": "stderr",
     "output_type": "stream",
     "text": [
      "[I 2024-05-07 11:27:25,059] Trial 84 finished with value: 17.488216861272637 and parameters: {'learning_rate': 0.6690961168041021}. Best is trial 53 with value: 15.367107813894425.\n"
     ]
    },
    {
     "name": "stdout",
     "output_type": "stream",
     "text": [
      "Final MAE: 17.488216861272637\n"
     ]
    },
    {
     "name": "stderr",
     "output_type": "stream",
     "text": [
      "[I 2024-05-07 11:27:25,586] Trial 85 finished with value: 17.522095179104287 and parameters: {'learning_rate': 0.7555767057158008}. Best is trial 53 with value: 15.367107813894425.\n"
     ]
    },
    {
     "name": "stdout",
     "output_type": "stream",
     "text": [
      "Final MAE: 17.522095179104287\n"
     ]
    },
    {
     "name": "stderr",
     "output_type": "stream",
     "text": [
      "[I 2024-05-07 11:27:26,075] Trial 86 finished with value: 16.923919425629403 and parameters: {'learning_rate': 0.7177934056499772}. Best is trial 53 with value: 15.367107813894425.\n"
     ]
    },
    {
     "name": "stdout",
     "output_type": "stream",
     "text": [
      "Final MAE: 16.923919425629403\n"
     ]
    },
    {
     "name": "stderr",
     "output_type": "stream",
     "text": [
      "[I 2024-05-07 11:27:26,687] Trial 87 finished with value: 17.678273730789837 and parameters: {'learning_rate': 0.6338741628837036}. Best is trial 53 with value: 15.367107813894425.\n"
     ]
    },
    {
     "name": "stdout",
     "output_type": "stream",
     "text": [
      "Final MAE: 17.678273730789837\n"
     ]
    },
    {
     "name": "stderr",
     "output_type": "stream",
     "text": [
      "[I 2024-05-07 11:27:27,151] Trial 88 finished with value: 16.899259442058593 and parameters: {'learning_rate': 0.48919199202356933}. Best is trial 53 with value: 15.367107813894425.\n"
     ]
    },
    {
     "name": "stdout",
     "output_type": "stream",
     "text": [
      "Final MAE: 16.899259442058593\n"
     ]
    },
    {
     "name": "stderr",
     "output_type": "stream",
     "text": [
      "[I 2024-05-07 11:27:27,614] Trial 89 finished with value: 15.981148012144411 and parameters: {'learning_rate': 0.5466208734320063}. Best is trial 53 with value: 15.367107813894425.\n"
     ]
    },
    {
     "name": "stdout",
     "output_type": "stream",
     "text": [
      "Final MAE: 15.981148012144411\n"
     ]
    },
    {
     "name": "stderr",
     "output_type": "stream",
     "text": [
      "[I 2024-05-07 11:27:28,067] Trial 90 finished with value: 17.06550935331894 and parameters: {'learning_rate': 0.5608626080997792}. Best is trial 53 with value: 15.367107813894425.\n"
     ]
    },
    {
     "name": "stdout",
     "output_type": "stream",
     "text": [
      "Final MAE: 17.06550935331894\n"
     ]
    },
    {
     "name": "stderr",
     "output_type": "stream",
     "text": [
      "[I 2024-05-07 11:27:28,517] Trial 91 finished with value: 16.574854557280954 and parameters: {'learning_rate': 0.5281346570266803}. Best is trial 53 with value: 15.367107813894425.\n"
     ]
    },
    {
     "name": "stdout",
     "output_type": "stream",
     "text": [
      "Final MAE: 16.574854557280954\n"
     ]
    },
    {
     "name": "stderr",
     "output_type": "stream",
     "text": [
      "[I 2024-05-07 11:27:28,967] Trial 92 finished with value: 17.713925938729357 and parameters: {'learning_rate': 0.5840989842609952}. Best is trial 53 with value: 15.367107813894425.\n"
     ]
    },
    {
     "name": "stdout",
     "output_type": "stream",
     "text": [
      "Final MAE: 17.713925938729357\n"
     ]
    },
    {
     "name": "stderr",
     "output_type": "stream",
     "text": [
      "[I 2024-05-07 11:27:29,412] Trial 93 finished with value: 17.401331378875867 and parameters: {'learning_rate': 0.4786053870467818}. Best is trial 53 with value: 15.367107813894425.\n"
     ]
    },
    {
     "name": "stdout",
     "output_type": "stream",
     "text": [
      "Final MAE: 17.401331378875867\n"
     ]
    },
    {
     "name": "stderr",
     "output_type": "stream",
     "text": [
      "[I 2024-05-07 11:27:29,863] Trial 94 finished with value: 16.79960595516731 and parameters: {'learning_rate': 0.4544682827487852}. Best is trial 53 with value: 15.367107813894425.\n"
     ]
    },
    {
     "name": "stdout",
     "output_type": "stream",
     "text": [
      "Final MAE: 16.79960595516731\n"
     ]
    },
    {
     "name": "stderr",
     "output_type": "stream",
     "text": [
      "[I 2024-05-07 11:27:30,398] Trial 95 finished with value: 16.441643112399817 and parameters: {'learning_rate': 0.5445674734915976}. Best is trial 53 with value: 15.367107813894425.\n"
     ]
    },
    {
     "name": "stdout",
     "output_type": "stream",
     "text": [
      "Final MAE: 16.441643112399817\n"
     ]
    },
    {
     "name": "stderr",
     "output_type": "stream",
     "text": [
      "[I 2024-05-07 11:27:30,839] Trial 96 finished with value: 17.073837516343463 and parameters: {'learning_rate': 0.5096543890681392}. Best is trial 53 with value: 15.367107813894425.\n"
     ]
    },
    {
     "name": "stdout",
     "output_type": "stream",
     "text": [
      "Final MAE: 17.073837516343463\n"
     ]
    },
    {
     "name": "stderr",
     "output_type": "stream",
     "text": [
      "[I 2024-05-07 11:27:31,283] Trial 97 finished with value: 17.3501552330411 and parameters: {'learning_rate': 0.6854070905740136}. Best is trial 53 with value: 15.367107813894425.\n"
     ]
    },
    {
     "name": "stdout",
     "output_type": "stream",
     "text": [
      "Final MAE: 17.3501552330411\n"
     ]
    },
    {
     "name": "stderr",
     "output_type": "stream",
     "text": [
      "[I 2024-05-07 11:27:31,766] Trial 98 finished with value: 17.39994311073552 and parameters: {'learning_rate': 0.6149217746063853}. Best is trial 53 with value: 15.367107813894425.\n"
     ]
    },
    {
     "name": "stdout",
     "output_type": "stream",
     "text": [
      "Final MAE: 17.39994311073552\n"
     ]
    },
    {
     "name": "stderr",
     "output_type": "stream",
     "text": [
      "[I 2024-05-07 11:27:32,212] Trial 99 finished with value: 17.4358165288425 and parameters: {'learning_rate': 0.3950497735080184}. Best is trial 53 with value: 15.367107813894425.\n"
     ]
    },
    {
     "name": "stdout",
     "output_type": "stream",
     "text": [
      "Final MAE: 17.4358165288425\n"
     ]
    },
    {
     "name": "stderr",
     "output_type": "stream",
     "text": [
      "[I 2024-05-07 11:27:32,648] Trial 100 finished with value: 17.00422150625483 and parameters: {'learning_rate': 0.5663486053232142}. Best is trial 53 with value: 15.367107813894425.\n"
     ]
    },
    {
     "name": "stdout",
     "output_type": "stream",
     "text": [
      "Final MAE: 17.00422150625483\n"
     ]
    },
    {
     "name": "stderr",
     "output_type": "stream",
     "text": [
      "[I 2024-05-07 11:27:33,083] Trial 101 finished with value: 17.614357813706864 and parameters: {'learning_rate': 0.595224414426654}. Best is trial 53 with value: 15.367107813894425.\n"
     ]
    },
    {
     "name": "stdout",
     "output_type": "stream",
     "text": [
      "Final MAE: 17.614357813706864\n"
     ]
    },
    {
     "name": "stderr",
     "output_type": "stream",
     "text": [
      "[I 2024-05-07 11:27:33,529] Trial 102 finished with value: 17.022509368703417 and parameters: {'learning_rate': 0.54081956193035}. Best is trial 53 with value: 15.367107813894425.\n"
     ]
    },
    {
     "name": "stdout",
     "output_type": "stream",
     "text": [
      "Final MAE: 17.022509368703417\n"
     ]
    },
    {
     "name": "stderr",
     "output_type": "stream",
     "text": [
      "[I 2024-05-07 11:27:34,069] Trial 103 finished with value: 16.679721057334024 and parameters: {'learning_rate': 0.6469217779878917}. Best is trial 53 with value: 15.367107813894425.\n"
     ]
    },
    {
     "name": "stdout",
     "output_type": "stream",
     "text": [
      "Final MAE: 16.679721057334024\n"
     ]
    },
    {
     "name": "stderr",
     "output_type": "stream",
     "text": [
      "[I 2024-05-07 11:27:34,535] Trial 104 finished with value: 16.510098627404027 and parameters: {'learning_rate': 0.5185537542056339}. Best is trial 53 with value: 15.367107813894425.\n"
     ]
    },
    {
     "name": "stdout",
     "output_type": "stream",
     "text": [
      "Final MAE: 16.510098627404027\n"
     ]
    },
    {
     "name": "stderr",
     "output_type": "stream",
     "text": [
      "[I 2024-05-07 11:27:34,986] Trial 105 finished with value: 17.298402103392974 and parameters: {'learning_rate': 0.496839724940331}. Best is trial 53 with value: 15.367107813894425.\n"
     ]
    },
    {
     "name": "stdout",
     "output_type": "stream",
     "text": [
      "Final MAE: 17.298402103392974\n"
     ]
    },
    {
     "name": "stderr",
     "output_type": "stream",
     "text": [
      "[I 2024-05-07 11:27:35,427] Trial 106 finished with value: 19.790860328985296 and parameters: {'learning_rate': 0.4222312280877931}. Best is trial 53 with value: 15.367107813894425.\n"
     ]
    },
    {
     "name": "stdout",
     "output_type": "stream",
     "text": [
      "Final MAE: 19.790860328985296\n"
     ]
    },
    {
     "name": "stderr",
     "output_type": "stream",
     "text": [
      "[I 2024-05-07 11:27:35,878] Trial 107 finished with value: 17.238684046851553 and parameters: {'learning_rate': 0.4542189459766103}. Best is trial 53 with value: 15.367107813894425.\n"
     ]
    },
    {
     "name": "stdout",
     "output_type": "stream",
     "text": [
      "Final MAE: 17.238684046851553\n"
     ]
    },
    {
     "name": "stderr",
     "output_type": "stream",
     "text": [
      "[I 2024-05-07 11:27:36,315] Trial 108 finished with value: 16.68111410923302 and parameters: {'learning_rate': 0.5702494040920943}. Best is trial 53 with value: 15.367107813894425.\n"
     ]
    },
    {
     "name": "stdout",
     "output_type": "stream",
     "text": [
      "Final MAE: 16.68111410923302\n"
     ]
    },
    {
     "name": "stderr",
     "output_type": "stream",
     "text": [
      "[I 2024-05-07 11:27:36,755] Trial 109 finished with value: 18.40870786263891 and parameters: {'learning_rate': 0.6202966661041349}. Best is trial 53 with value: 15.367107813894425.\n"
     ]
    },
    {
     "name": "stdout",
     "output_type": "stream",
     "text": [
      "Final MAE: 18.40870786263891\n"
     ]
    },
    {
     "name": "stderr",
     "output_type": "stream",
     "text": [
      "[I 2024-05-07 11:27:37,219] Trial 110 finished with value: 16.23999545253489 and parameters: {'learning_rate': 0.5481610179251557}. Best is trial 53 with value: 15.367107813894425.\n"
     ]
    },
    {
     "name": "stdout",
     "output_type": "stream",
     "text": [
      "Final MAE: 16.23999545253489\n"
     ]
    },
    {
     "name": "stderr",
     "output_type": "stream",
     "text": [
      "[I 2024-05-07 11:27:37,667] Trial 111 finished with value: 16.294344146290552 and parameters: {'learning_rate': 0.5334963949021572}. Best is trial 53 with value: 15.367107813894425.\n"
     ]
    },
    {
     "name": "stdout",
     "output_type": "stream",
     "text": [
      "Final MAE: 16.294344146290552\n"
     ]
    },
    {
     "name": "stderr",
     "output_type": "stream",
     "text": [
      "[I 2024-05-07 11:27:38,195] Trial 112 finished with value: 16.293419385085937 and parameters: {'learning_rate': 0.5311090072791058}. Best is trial 53 with value: 15.367107813894425.\n"
     ]
    },
    {
     "name": "stdout",
     "output_type": "stream",
     "text": [
      "Final MAE: 16.293419385085937\n"
     ]
    },
    {
     "name": "stderr",
     "output_type": "stream",
     "text": [
      "[I 2024-05-07 11:27:38,648] Trial 113 finished with value: 17.71637847376785 and parameters: {'learning_rate': 0.4787609257644373}. Best is trial 53 with value: 15.367107813894425.\n"
     ]
    },
    {
     "name": "stdout",
     "output_type": "stream",
     "text": [
      "Final MAE: 17.71637847376785\n"
     ]
    },
    {
     "name": "stderr",
     "output_type": "stream",
     "text": [
      "[I 2024-05-07 11:27:39,087] Trial 114 finished with value: 17.190561233412314 and parameters: {'learning_rate': 0.5565899512117187}. Best is trial 53 with value: 15.367107813894425.\n"
     ]
    },
    {
     "name": "stdout",
     "output_type": "stream",
     "text": [
      "Final MAE: 17.190561233412314\n"
     ]
    },
    {
     "name": "stderr",
     "output_type": "stream",
     "text": [
      "[I 2024-05-07 11:27:39,540] Trial 115 finished with value: 16.890092405753776 and parameters: {'learning_rate': 0.5043150151823548}. Best is trial 53 with value: 15.367107813894425.\n"
     ]
    },
    {
     "name": "stdout",
     "output_type": "stream",
     "text": [
      "Final MAE: 16.890092405753776\n"
     ]
    },
    {
     "name": "stderr",
     "output_type": "stream",
     "text": [
      "[I 2024-05-07 11:27:39,976] Trial 116 finished with value: 16.57788041493167 and parameters: {'learning_rate': 0.5998758889742108}. Best is trial 53 with value: 15.367107813894425.\n"
     ]
    },
    {
     "name": "stdout",
     "output_type": "stream",
     "text": [
      "Final MAE: 16.57788041493167\n"
     ]
    },
    {
     "name": "stderr",
     "output_type": "stream",
     "text": [
      "[I 2024-05-07 11:27:40,415] Trial 117 finished with value: 17.227425297317296 and parameters: {'learning_rate': 0.47164497325796095}. Best is trial 53 with value: 15.367107813894425.\n"
     ]
    },
    {
     "name": "stdout",
     "output_type": "stream",
     "text": [
      "Final MAE: 17.227425297317296\n"
     ]
    },
    {
     "name": "stderr",
     "output_type": "stream",
     "text": [
      "[I 2024-05-07 11:27:40,864] Trial 118 finished with value: 15.798531676440135 and parameters: {'learning_rate': 0.5232852970533236}. Best is trial 53 with value: 15.367107813894425.\n"
     ]
    },
    {
     "name": "stdout",
     "output_type": "stream",
     "text": [
      "Final MAE: 15.798531676440135\n"
     ]
    },
    {
     "name": "stderr",
     "output_type": "stream",
     "text": [
      "[I 2024-05-07 11:27:41,315] Trial 119 finished with value: 17.72783281451658 and parameters: {'learning_rate': 0.6666326170500148}. Best is trial 53 with value: 15.367107813894425.\n"
     ]
    },
    {
     "name": "stdout",
     "output_type": "stream",
     "text": [
      "Final MAE: 17.72783281451658\n"
     ]
    },
    {
     "name": "stderr",
     "output_type": "stream",
     "text": [
      "[I 2024-05-07 11:27:41,759] Trial 120 finished with value: 16.640794371133264 and parameters: {'learning_rate': 0.5779790818911058}. Best is trial 53 with value: 15.367107813894425.\n"
     ]
    },
    {
     "name": "stdout",
     "output_type": "stream",
     "text": [
      "Final MAE: 16.640794371133264\n"
     ]
    },
    {
     "name": "stderr",
     "output_type": "stream",
     "text": [
      "[I 2024-05-07 11:27:42,302] Trial 121 finished with value: 16.94820301817811 and parameters: {'learning_rate': 0.5223792876787862}. Best is trial 53 with value: 15.367107813894425.\n"
     ]
    },
    {
     "name": "stdout",
     "output_type": "stream",
     "text": [
      "Final MAE: 16.94820301817811\n"
     ]
    },
    {
     "name": "stderr",
     "output_type": "stream",
     "text": [
      "[I 2024-05-07 11:27:42,772] Trial 122 finished with value: 16.65924517551194 and parameters: {'learning_rate': 0.5490199158480102}. Best is trial 53 with value: 15.367107813894425.\n"
     ]
    },
    {
     "name": "stdout",
     "output_type": "stream",
     "text": [
      "Final MAE: 16.65924517551194\n"
     ]
    },
    {
     "name": "stderr",
     "output_type": "stream",
     "text": [
      "[I 2024-05-07 11:27:43,228] Trial 123 finished with value: 16.858980697782144 and parameters: {'learning_rate': 0.49977794164513706}. Best is trial 53 with value: 15.367107813894425.\n"
     ]
    },
    {
     "name": "stdout",
     "output_type": "stream",
     "text": [
      "Final MAE: 16.858980697782144\n"
     ]
    },
    {
     "name": "stderr",
     "output_type": "stream",
     "text": [
      "[I 2024-05-07 11:27:43,677] Trial 124 finished with value: 17.56663335863825 and parameters: {'learning_rate': 0.44483994005449645}. Best is trial 53 with value: 15.367107813894425.\n"
     ]
    },
    {
     "name": "stdout",
     "output_type": "stream",
     "text": [
      "Final MAE: 17.56663335863825\n"
     ]
    },
    {
     "name": "stderr",
     "output_type": "stream",
     "text": [
      "[I 2024-05-07 11:27:44,123] Trial 125 finished with value: 15.797685485535666 and parameters: {'learning_rate': 0.529843679158726}. Best is trial 53 with value: 15.367107813894425.\n"
     ]
    },
    {
     "name": "stdout",
     "output_type": "stream",
     "text": [
      "Final MAE: 15.797685485535666\n"
     ]
    },
    {
     "name": "stderr",
     "output_type": "stream",
     "text": [
      "[I 2024-05-07 11:27:44,575] Trial 126 finished with value: 17.388969007717527 and parameters: {'learning_rate': 0.4849627245625405}. Best is trial 53 with value: 15.367107813894425.\n"
     ]
    },
    {
     "name": "stdout",
     "output_type": "stream",
     "text": [
      "Final MAE: 17.388969007717527\n"
     ]
    },
    {
     "name": "stderr",
     "output_type": "stream",
     "text": [
      "[I 2024-05-07 11:27:45,021] Trial 127 finished with value: 19.38524034684119 and parameters: {'learning_rate': 0.7963659961886387}. Best is trial 53 with value: 15.367107813894425.\n"
     ]
    },
    {
     "name": "stdout",
     "output_type": "stream",
     "text": [
      "Final MAE: 19.38524034684119\n"
     ]
    },
    {
     "name": "stderr",
     "output_type": "stream",
     "text": [
      "[I 2024-05-07 11:27:45,465] Trial 128 finished with value: 16.434198575823203 and parameters: {'learning_rate': 0.552119054755763}. Best is trial 53 with value: 15.367107813894425.\n"
     ]
    },
    {
     "name": "stdout",
     "output_type": "stream",
     "text": [
      "Final MAE: 16.434198575823203\n"
     ]
    },
    {
     "name": "stderr",
     "output_type": "stream",
     "text": [
      "[I 2024-05-07 11:27:45,974] Trial 129 finished with value: 17.018429118006125 and parameters: {'learning_rate': 0.5846164650268639}. Best is trial 53 with value: 15.367107813894425.\n"
     ]
    },
    {
     "name": "stdout",
     "output_type": "stream",
     "text": [
      "Final MAE: 17.018429118006125\n"
     ]
    },
    {
     "name": "stderr",
     "output_type": "stream",
     "text": [
      "[I 2024-05-07 11:27:46,428] Trial 130 finished with value: 16.543618890254393 and parameters: {'learning_rate': 0.6316736614128536}. Best is trial 53 with value: 15.367107813894425.\n"
     ]
    },
    {
     "name": "stdout",
     "output_type": "stream",
     "text": [
      "Final MAE: 16.543618890254393\n"
     ]
    },
    {
     "name": "stderr",
     "output_type": "stream",
     "text": [
      "[I 2024-05-07 11:27:46,874] Trial 131 finished with value: 16.47272454428932 and parameters: {'learning_rate': 0.5135702902399268}. Best is trial 53 with value: 15.367107813894425.\n"
     ]
    },
    {
     "name": "stdout",
     "output_type": "stream",
     "text": [
      "Final MAE: 16.47272454428932\n"
     ]
    },
    {
     "name": "stderr",
     "output_type": "stream",
     "text": [
      "[I 2024-05-07 11:27:47,328] Trial 132 finished with value: 16.206495859376762 and parameters: {'learning_rate': 0.5320852974246242}. Best is trial 53 with value: 15.367107813894425.\n"
     ]
    },
    {
     "name": "stdout",
     "output_type": "stream",
     "text": [
      "Final MAE: 16.206495859376762\n"
     ]
    },
    {
     "name": "stderr",
     "output_type": "stream",
     "text": [
      "[I 2024-05-07 11:27:47,807] Trial 133 finished with value: 17.606995559257008 and parameters: {'learning_rate': 0.46814392967730717}. Best is trial 53 with value: 15.367107813894425.\n"
     ]
    },
    {
     "name": "stdout",
     "output_type": "stream",
     "text": [
      "Final MAE: 17.606995559257008\n"
     ]
    },
    {
     "name": "stderr",
     "output_type": "stream",
     "text": [
      "[I 2024-05-07 11:27:48,249] Trial 134 finished with value: 16.0356927956252 and parameters: {'learning_rate': 0.5274999673386757}. Best is trial 53 with value: 15.367107813894425.\n"
     ]
    },
    {
     "name": "stdout",
     "output_type": "stream",
     "text": [
      "Final MAE: 16.0356927956252\n"
     ]
    },
    {
     "name": "stderr",
     "output_type": "stream",
     "text": [
      "[I 2024-05-07 11:27:48,699] Trial 135 finished with value: 16.731063109377157 and parameters: {'learning_rate': 0.49657247520303616}. Best is trial 53 with value: 15.367107813894425.\n"
     ]
    },
    {
     "name": "stdout",
     "output_type": "stream",
     "text": [
      "Final MAE: 16.731063109377157\n"
     ]
    },
    {
     "name": "stderr",
     "output_type": "stream",
     "text": [
      "[I 2024-05-07 11:27:49,164] Trial 136 finished with value: 16.980264495734286 and parameters: {'learning_rate': 0.5183322922528422}. Best is trial 53 with value: 15.367107813894425.\n"
     ]
    },
    {
     "name": "stdout",
     "output_type": "stream",
     "text": [
      "Final MAE: 16.980264495734286\n"
     ]
    },
    {
     "name": "stderr",
     "output_type": "stream",
     "text": [
      "[I 2024-05-07 11:27:49,624] Trial 137 finished with value: 17.78674099011266 and parameters: {'learning_rate': 0.7010726096723071}. Best is trial 53 with value: 15.367107813894425.\n"
     ]
    },
    {
     "name": "stdout",
     "output_type": "stream",
     "text": [
      "Final MAE: 17.78674099011266\n"
     ]
    },
    {
     "name": "stderr",
     "output_type": "stream",
     "text": [
      "[I 2024-05-07 11:27:50,166] Trial 138 finished with value: 15.859521034295144 and parameters: {'learning_rate': 0.5695631226897743}. Best is trial 53 with value: 15.367107813894425.\n"
     ]
    },
    {
     "name": "stdout",
     "output_type": "stream",
     "text": [
      "Final MAE: 15.859521034295144\n"
     ]
    },
    {
     "name": "stderr",
     "output_type": "stream",
     "text": [
      "[I 2024-05-07 11:27:50,622] Trial 139 finished with value: 16.144470209012862 and parameters: {'learning_rate': 0.5321251488226943}. Best is trial 53 with value: 15.367107813894425.\n"
     ]
    },
    {
     "name": "stdout",
     "output_type": "stream",
     "text": [
      "Final MAE: 16.144470209012862\n"
     ]
    },
    {
     "name": "stderr",
     "output_type": "stream",
     "text": [
      "[I 2024-05-07 11:27:51,078] Trial 140 finished with value: 17.65121106305362 and parameters: {'learning_rate': 0.5659554088378418}. Best is trial 53 with value: 15.367107813894425.\n"
     ]
    },
    {
     "name": "stdout",
     "output_type": "stream",
     "text": [
      "Final MAE: 17.65121106305362\n"
     ]
    },
    {
     "name": "stderr",
     "output_type": "stream",
     "text": [
      "[I 2024-05-07 11:27:51,527] Trial 141 finished with value: 15.875459965318441 and parameters: {'learning_rate': 0.5387127230296698}. Best is trial 53 with value: 15.367107813894425.\n"
     ]
    },
    {
     "name": "stdout",
     "output_type": "stream",
     "text": [
      "Final MAE: 15.875459965318441\n"
     ]
    },
    {
     "name": "stderr",
     "output_type": "stream",
     "text": [
      "[I 2024-05-07 11:27:51,976] Trial 142 finished with value: 17.14023232884685 and parameters: {'learning_rate': 0.5227000188800267}. Best is trial 53 with value: 15.367107813894425.\n"
     ]
    },
    {
     "name": "stdout",
     "output_type": "stream",
     "text": [
      "Final MAE: 17.14023232884685\n"
     ]
    },
    {
     "name": "stderr",
     "output_type": "stream",
     "text": [
      "[I 2024-05-07 11:27:52,422] Trial 143 finished with value: 17.385705440993544 and parameters: {'learning_rate': 0.5992003271557946}. Best is trial 53 with value: 15.367107813894425.\n"
     ]
    },
    {
     "name": "stdout",
     "output_type": "stream",
     "text": [
      "Final MAE: 17.385705440993544\n"
     ]
    },
    {
     "name": "stderr",
     "output_type": "stream",
     "text": [
      "[I 2024-05-07 11:27:52,886] Trial 144 finished with value: 16.395010522202305 and parameters: {'learning_rate': 0.5432801558576844}. Best is trial 53 with value: 15.367107813894425.\n"
     ]
    },
    {
     "name": "stdout",
     "output_type": "stream",
     "text": [
      "Final MAE: 16.395010522202305\n"
     ]
    },
    {
     "name": "stderr",
     "output_type": "stream",
     "text": [
      "[I 2024-05-07 11:27:53,365] Trial 145 finished with value: 17.428602875686128 and parameters: {'learning_rate': 0.5718613510397961}. Best is trial 53 with value: 15.367107813894425.\n"
     ]
    },
    {
     "name": "stdout",
     "output_type": "stream",
     "text": [
      "Final MAE: 17.428602875686128\n"
     ]
    },
    {
     "name": "stderr",
     "output_type": "stream",
     "text": [
      "[I 2024-05-07 11:27:53,908] Trial 146 finished with value: 16.851610929421756 and parameters: {'learning_rate': 0.5283740137358905}. Best is trial 53 with value: 15.367107813894425.\n"
     ]
    },
    {
     "name": "stdout",
     "output_type": "stream",
     "text": [
      "Final MAE: 16.851610929421756\n"
     ]
    },
    {
     "name": "stderr",
     "output_type": "stream",
     "text": [
      "[I 2024-05-07 11:27:54,374] Trial 147 finished with value: 17.135075391513173 and parameters: {'learning_rate': 0.4908986501866303}. Best is trial 53 with value: 15.367107813894425.\n"
     ]
    },
    {
     "name": "stdout",
     "output_type": "stream",
     "text": [
      "Final MAE: 17.135075391513173\n"
     ]
    },
    {
     "name": "stderr",
     "output_type": "stream",
     "text": [
      "[I 2024-05-07 11:27:54,821] Trial 148 finished with value: 16.692087228936344 and parameters: {'learning_rate': 0.5610390859988306}. Best is trial 53 with value: 15.367107813894425.\n"
     ]
    },
    {
     "name": "stdout",
     "output_type": "stream",
     "text": [
      "Final MAE: 16.692087228936344\n"
     ]
    },
    {
     "name": "stderr",
     "output_type": "stream",
     "text": [
      "[I 2024-05-07 11:27:55,253] Trial 149 finished with value: 17.05181889689487 and parameters: {'learning_rate': 0.4706811809422585}. Best is trial 53 with value: 15.367107813894425.\n"
     ]
    },
    {
     "name": "stdout",
     "output_type": "stream",
     "text": [
      "Final MAE: 17.05181889689487\n"
     ]
    },
    {
     "name": "stderr",
     "output_type": "stream",
     "text": [
      "[I 2024-05-07 11:27:55,693] Trial 150 finished with value: 16.603277788052093 and parameters: {'learning_rate': 0.5081668262232071}. Best is trial 53 with value: 15.367107813894425.\n"
     ]
    },
    {
     "name": "stdout",
     "output_type": "stream",
     "text": [
      "Final MAE: 16.603277788052093\n"
     ]
    },
    {
     "name": "stderr",
     "output_type": "stream",
     "text": [
      "[I 2024-05-07 11:27:56,150] Trial 151 finished with value: 16.167667294002097 and parameters: {'learning_rate': 0.5336204453310182}. Best is trial 53 with value: 15.367107813894425.\n"
     ]
    },
    {
     "name": "stdout",
     "output_type": "stream",
     "text": [
      "Final MAE: 16.167667294002097\n"
     ]
    },
    {
     "name": "stderr",
     "output_type": "stream",
     "text": [
      "[I 2024-05-07 11:27:56,705] Trial 152 finished with value: 16.28229343453827 and parameters: {'learning_rate': 0.5404334762881106}. Best is trial 53 with value: 15.367107813894425.\n"
     ]
    },
    {
     "name": "stdout",
     "output_type": "stream",
     "text": [
      "Final MAE: 16.28229343453827\n"
     ]
    },
    {
     "name": "stderr",
     "output_type": "stream",
     "text": [
      "[I 2024-05-07 11:27:57,255] Trial 153 finished with value: 17.55563861342228 and parameters: {'learning_rate': 0.5889418140216993}. Best is trial 53 with value: 15.367107813894425.\n"
     ]
    },
    {
     "name": "stdout",
     "output_type": "stream",
     "text": [
      "Final MAE: 17.55563861342228\n"
     ]
    },
    {
     "name": "stderr",
     "output_type": "stream",
     "text": [
      "[I 2024-05-07 11:27:57,820] Trial 154 finished with value: 16.423129344763964 and parameters: {'learning_rate': 0.5329325495469626}. Best is trial 53 with value: 15.367107813894425.\n"
     ]
    },
    {
     "name": "stdout",
     "output_type": "stream",
     "text": [
      "Final MAE: 16.423129344763964\n"
     ]
    },
    {
     "name": "stderr",
     "output_type": "stream",
     "text": [
      "[I 2024-05-07 11:27:58,564] Trial 155 finished with value: 16.880384336995043 and parameters: {'learning_rate': 0.5096880550791503}. Best is trial 53 with value: 15.367107813894425.\n"
     ]
    },
    {
     "name": "stdout",
     "output_type": "stream",
     "text": [
      "Final MAE: 16.880384336995043\n"
     ]
    },
    {
     "name": "stderr",
     "output_type": "stream",
     "text": [
      "[I 2024-05-07 11:27:59,087] Trial 156 finished with value: 16.328111577293146 and parameters: {'learning_rate': 0.5551628250959674}. Best is trial 53 with value: 15.367107813894425.\n"
     ]
    },
    {
     "name": "stdout",
     "output_type": "stream",
     "text": [
      "Final MAE: 16.328111577293146\n"
     ]
    },
    {
     "name": "stderr",
     "output_type": "stream",
     "text": [
      "[I 2024-05-07 11:27:59,863] Trial 157 finished with value: 17.19941169768572 and parameters: {'learning_rate': 0.6102751265473714}. Best is trial 53 with value: 15.367107813894425.\n"
     ]
    },
    {
     "name": "stdout",
     "output_type": "stream",
     "text": [
      "Final MAE: 17.19941169768572\n"
     ]
    },
    {
     "name": "stderr",
     "output_type": "stream",
     "text": [
      "[I 2024-05-07 11:28:00,584] Trial 158 finished with value: 17.548447774804156 and parameters: {'learning_rate': 0.48685590068323675}. Best is trial 53 with value: 15.367107813894425.\n"
     ]
    },
    {
     "name": "stdout",
     "output_type": "stream",
     "text": [
      "Final MAE: 17.548447774804156\n"
     ]
    },
    {
     "name": "stderr",
     "output_type": "stream",
     "text": [
      "[I 2024-05-07 11:28:01,286] Trial 159 finished with value: 18.743679986659277 and parameters: {'learning_rate': 0.4246794170630093}. Best is trial 53 with value: 15.367107813894425.\n"
     ]
    },
    {
     "name": "stdout",
     "output_type": "stream",
     "text": [
      "Final MAE: 18.743679986659277\n"
     ]
    },
    {
     "name": "stderr",
     "output_type": "stream",
     "text": [
      "[I 2024-05-07 11:28:03,243] Trial 160 finished with value: 16.496995511262313 and parameters: {'learning_rate': 0.45714701449166284}. Best is trial 53 with value: 15.367107813894425.\n"
     ]
    },
    {
     "name": "stdout",
     "output_type": "stream",
     "text": [
      "Final MAE: 16.496995511262313\n"
     ]
    },
    {
     "name": "stderr",
     "output_type": "stream",
     "text": [
      "[I 2024-05-07 11:28:04,189] Trial 161 finished with value: 16.469215221217144 and parameters: {'learning_rate': 0.5243623649693036}. Best is trial 53 with value: 15.367107813894425.\n"
     ]
    },
    {
     "name": "stdout",
     "output_type": "stream",
     "text": [
      "Final MAE: 16.469215221217144\n"
     ]
    },
    {
     "name": "stderr",
     "output_type": "stream",
     "text": [
      "[I 2024-05-07 11:28:04,711] Trial 162 finished with value: 17.059840005620018 and parameters: {'learning_rate': 0.49455566596388034}. Best is trial 53 with value: 15.367107813894425.\n"
     ]
    },
    {
     "name": "stdout",
     "output_type": "stream",
     "text": [
      "Final MAE: 17.059840005620018\n"
     ]
    },
    {
     "name": "stderr",
     "output_type": "stream",
     "text": [
      "[I 2024-05-07 11:28:05,176] Trial 163 finished with value: 16.26566061993008 and parameters: {'learning_rate': 0.5401301478527061}. Best is trial 53 with value: 15.367107813894425.\n"
     ]
    },
    {
     "name": "stdout",
     "output_type": "stream",
     "text": [
      "Final MAE: 16.26566061993008\n"
     ]
    },
    {
     "name": "stderr",
     "output_type": "stream",
     "text": [
      "[I 2024-05-07 11:28:05,653] Trial 164 finished with value: 16.59605640642669 and parameters: {'learning_rate': 0.5804489873269886}. Best is trial 53 with value: 15.367107813894425.\n"
     ]
    },
    {
     "name": "stdout",
     "output_type": "stream",
     "text": [
      "Final MAE: 16.59605640642669\n"
     ]
    },
    {
     "name": "stderr",
     "output_type": "stream",
     "text": [
      "[I 2024-05-07 11:28:06,114] Trial 165 finished with value: 17.38343957390474 and parameters: {'learning_rate': 0.5106158826480259}. Best is trial 53 with value: 15.367107813894425.\n"
     ]
    },
    {
     "name": "stdout",
     "output_type": "stream",
     "text": [
      "Final MAE: 17.38343957390474\n"
     ]
    },
    {
     "name": "stderr",
     "output_type": "stream",
     "text": [
      "[I 2024-05-07 11:28:06,580] Trial 166 finished with value: 17.490060806274414 and parameters: {'learning_rate': 0.5596787774028051}. Best is trial 53 with value: 15.367107813894425.\n"
     ]
    },
    {
     "name": "stdout",
     "output_type": "stream",
     "text": [
      "Final MAE: 17.490060806274414\n"
     ]
    },
    {
     "name": "stderr",
     "output_type": "stream",
     "text": [
      "[I 2024-05-07 11:28:07,031] Trial 167 finished with value: 17.51262859992035 and parameters: {'learning_rate': 0.48122186823900165}. Best is trial 53 with value: 15.367107813894425.\n"
     ]
    },
    {
     "name": "stdout",
     "output_type": "stream",
     "text": [
      "Final MAE: 17.51262859992035\n"
     ]
    },
    {
     "name": "stderr",
     "output_type": "stream",
     "text": [
      "[I 2024-05-07 11:28:07,518] Trial 168 finished with value: 18.775496498884067 and parameters: {'learning_rate': 0.4585292601510307}. Best is trial 53 with value: 15.367107813894425.\n"
     ]
    },
    {
     "name": "stdout",
     "output_type": "stream",
     "text": [
      "Final MAE: 18.775496498884067\n"
     ]
    },
    {
     "name": "stderr",
     "output_type": "stream",
     "text": [
      "[I 2024-05-07 11:28:08,069] Trial 169 finished with value: 16.423160766939755 and parameters: {'learning_rate': 0.5329425669146508}. Best is trial 53 with value: 15.367107813894425.\n"
     ]
    },
    {
     "name": "stdout",
     "output_type": "stream",
     "text": [
      "Final MAE: 16.423160766939755\n"
     ]
    },
    {
     "name": "stderr",
     "output_type": "stream",
     "text": [
      "[I 2024-05-07 11:28:08,554] Trial 170 finished with value: 16.676690600488495 and parameters: {'learning_rate': 0.572603249643683}. Best is trial 53 with value: 15.367107813894425.\n"
     ]
    },
    {
     "name": "stdout",
     "output_type": "stream",
     "text": [
      "Final MAE: 16.676690600488495\n"
     ]
    },
    {
     "name": "stderr",
     "output_type": "stream",
     "text": [
      "[I 2024-05-07 11:28:09,016] Trial 171 finished with value: 16.301801601991706 and parameters: {'learning_rate': 0.5143795269094799}. Best is trial 53 with value: 15.367107813894425.\n"
     ]
    },
    {
     "name": "stdout",
     "output_type": "stream",
     "text": [
      "Final MAE: 16.301801601991706\n"
     ]
    },
    {
     "name": "stderr",
     "output_type": "stream",
     "text": [
      "[I 2024-05-07 11:28:09,487] Trial 172 finished with value: 16.659244951994523 and parameters: {'learning_rate': 0.549013019964589}. Best is trial 53 with value: 15.367107813894425.\n"
     ]
    },
    {
     "name": "stdout",
     "output_type": "stream",
     "text": [
      "Final MAE: 16.659244951994523\n"
     ]
    },
    {
     "name": "stderr",
     "output_type": "stream",
     "text": [
      "[I 2024-05-07 11:28:09,951] Trial 173 finished with value: 17.09099695507599 and parameters: {'learning_rate': 0.5019481125143481}. Best is trial 53 with value: 15.367107813894425.\n"
     ]
    },
    {
     "name": "stdout",
     "output_type": "stream",
     "text": [
      "Final MAE: 17.09099695507599\n"
     ]
    },
    {
     "name": "stderr",
     "output_type": "stream",
     "text": [
      "[I 2024-05-07 11:28:10,417] Trial 174 finished with value: 17.412698869998366 and parameters: {'learning_rate': 0.6406223545500468}. Best is trial 53 with value: 15.367107813894425.\n"
     ]
    },
    {
     "name": "stdout",
     "output_type": "stream",
     "text": [
      "Final MAE: 17.412698869998366\n"
     ]
    },
    {
     "name": "stderr",
     "output_type": "stream",
     "text": [
      "[I 2024-05-07 11:28:10,879] Trial 175 finished with value: 16.14446373429635 and parameters: {'learning_rate': 0.532138209766677}. Best is trial 53 with value: 15.367107813894425.\n"
     ]
    },
    {
     "name": "stdout",
     "output_type": "stream",
     "text": [
      "Final MAE: 16.14446373429635\n"
     ]
    },
    {
     "name": "stderr",
     "output_type": "stream",
     "text": [
      "[I 2024-05-07 11:28:11,331] Trial 176 finished with value: 15.973240253394065 and parameters: {'learning_rate': 0.5300030004542293}. Best is trial 53 with value: 15.367107813894425.\n"
     ]
    },
    {
     "name": "stdout",
     "output_type": "stream",
     "text": [
      "Final MAE: 15.973240253394065\n"
     ]
    },
    {
     "name": "stderr",
     "output_type": "stream",
     "text": [
      "[I 2024-05-07 11:28:11,791] Trial 177 finished with value: 17.15644491625869 and parameters: {'learning_rate': 0.5319910337402782}. Best is trial 53 with value: 15.367107813894425.\n"
     ]
    },
    {
     "name": "stdout",
     "output_type": "stream",
     "text": [
      "Final MAE: 17.15644491625869\n"
     ]
    },
    {
     "name": "stderr",
     "output_type": "stream",
     "text": [
      "[I 2024-05-07 11:28:12,310] Trial 178 finished with value: 17.389361775763657 and parameters: {'learning_rate': 0.5605619723622772}. Best is trial 53 with value: 15.367107813894425.\n"
     ]
    },
    {
     "name": "stdout",
     "output_type": "stream",
     "text": [
      "Final MAE: 17.389361775763657\n"
     ]
    },
    {
     "name": "stderr",
     "output_type": "stream",
     "text": [
      "[I 2024-05-07 11:28:12,845] Trial 179 finished with value: 17.154337470622167 and parameters: {'learning_rate': 0.5852621200522119}. Best is trial 53 with value: 15.367107813894425.\n"
     ]
    },
    {
     "name": "stdout",
     "output_type": "stream",
     "text": [
      "Final MAE: 17.154337470622167\n"
     ]
    },
    {
     "name": "stderr",
     "output_type": "stream",
     "text": [
      "[I 2024-05-07 11:28:13,318] Trial 180 finished with value: 16.803681635662265 and parameters: {'learning_rate': 0.5175841237624608}. Best is trial 53 with value: 15.367107813894425.\n"
     ]
    },
    {
     "name": "stdout",
     "output_type": "stream",
     "text": [
      "Final MAE: 16.803681635662265\n"
     ]
    },
    {
     "name": "stderr",
     "output_type": "stream",
     "text": [
      "[I 2024-05-07 11:28:13,802] Trial 181 finished with value: 17.683915953921236 and parameters: {'learning_rate': 0.48579548383729637}. Best is trial 53 with value: 15.367107813894425.\n"
     ]
    },
    {
     "name": "stdout",
     "output_type": "stream",
     "text": [
      "Final MAE: 17.683915953921236\n"
     ]
    },
    {
     "name": "stderr",
     "output_type": "stream",
     "text": [
      "[I 2024-05-07 11:28:14,261] Trial 182 finished with value: 16.19713777202465 and parameters: {'learning_rate': 0.5451205964896433}. Best is trial 53 with value: 15.367107813894425.\n"
     ]
    },
    {
     "name": "stdout",
     "output_type": "stream",
     "text": [
      "Final MAE: 16.19713777202465\n"
     ]
    },
    {
     "name": "stderr",
     "output_type": "stream",
     "text": [
      "[I 2024-05-07 11:28:14,715] Trial 183 finished with value: 16.50473061333532 and parameters: {'learning_rate': 0.537500755806192}. Best is trial 53 with value: 15.367107813894425.\n"
     ]
    },
    {
     "name": "stdout",
     "output_type": "stream",
     "text": [
      "Final MAE: 16.50473061333532\n"
     ]
    },
    {
     "name": "stderr",
     "output_type": "stream",
     "text": [
      "[I 2024-05-07 11:28:15,174] Trial 184 finished with value: 16.323242715681378 and parameters: {'learning_rate': 0.5515995859990541}. Best is trial 53 with value: 15.367107813894425.\n"
     ]
    },
    {
     "name": "stdout",
     "output_type": "stream",
     "text": [
      "Final MAE: 16.323242715681378\n"
     ]
    },
    {
     "name": "stderr",
     "output_type": "stream",
     "text": [
      "[I 2024-05-07 11:28:15,626] Trial 185 finished with value: 16.16684132028857 and parameters: {'learning_rate': 0.5065933761403915}. Best is trial 53 with value: 15.367107813894425.\n"
     ]
    },
    {
     "name": "stdout",
     "output_type": "stream",
     "text": [
      "Final MAE: 16.16684132028857\n"
     ]
    },
    {
     "name": "stderr",
     "output_type": "stream",
     "text": [
      "[I 2024-05-07 11:28:16,191] Trial 186 finished with value: 16.65138208509787 and parameters: {'learning_rate': 0.5054072997719022}. Best is trial 53 with value: 15.367107813894425.\n"
     ]
    },
    {
     "name": "stdout",
     "output_type": "stream",
     "text": [
      "Final MAE: 16.65138208509787\n"
     ]
    },
    {
     "name": "stderr",
     "output_type": "stream",
     "text": [
      "[I 2024-05-07 11:28:16,660] Trial 187 finished with value: 17.35777712661935 and parameters: {'learning_rate': 0.5668488499355744}. Best is trial 53 with value: 15.367107813894425.\n"
     ]
    },
    {
     "name": "stdout",
     "output_type": "stream",
     "text": [
      "Final MAE: 17.35777712661935\n"
     ]
    },
    {
     "name": "stderr",
     "output_type": "stream",
     "text": [
      "[I 2024-05-07 11:28:17,118] Trial 188 finished with value: 16.655037005148504 and parameters: {'learning_rate': 0.5165589110830938}. Best is trial 53 with value: 15.367107813894425.\n"
     ]
    },
    {
     "name": "stdout",
     "output_type": "stream",
     "text": [
      "Final MAE: 16.655037005148504\n"
     ]
    },
    {
     "name": "stderr",
     "output_type": "stream",
     "text": [
      "[I 2024-05-07 11:28:17,579] Trial 189 finished with value: 16.604297930617694 and parameters: {'learning_rate': 0.46794234671566476}. Best is trial 53 with value: 15.367107813894425.\n"
     ]
    },
    {
     "name": "stdout",
     "output_type": "stream",
     "text": [
      "Final MAE: 16.604297930617694\n"
     ]
    },
    {
     "name": "stderr",
     "output_type": "stream",
     "text": [
      "[I 2024-05-07 11:28:18,056] Trial 190 finished with value: 16.293460617894713 and parameters: {'learning_rate': 0.5496530796861736}. Best is trial 53 with value: 15.367107813894425.\n"
     ]
    },
    {
     "name": "stdout",
     "output_type": "stream",
     "text": [
      "Final MAE: 16.293460617894713\n"
     ]
    },
    {
     "name": "stderr",
     "output_type": "stream",
     "text": [
      "[I 2024-05-07 11:28:18,515] Trial 191 finished with value: 16.860325015190504 and parameters: {'learning_rate': 0.5283944069326125}. Best is trial 53 with value: 15.367107813894425.\n"
     ]
    },
    {
     "name": "stdout",
     "output_type": "stream",
     "text": [
      "Final MAE: 16.860325015190504\n"
     ]
    },
    {
     "name": "stderr",
     "output_type": "stream",
     "text": [
      "[I 2024-05-07 11:28:18,986] Trial 192 finished with value: 16.961013365830496 and parameters: {'learning_rate': 0.4967589662174092}. Best is trial 53 with value: 15.367107813894425.\n"
     ]
    },
    {
     "name": "stdout",
     "output_type": "stream",
     "text": [
      "Final MAE: 16.961013365830496\n"
     ]
    },
    {
     "name": "stderr",
     "output_type": "stream",
     "text": [
      "[I 2024-05-07 11:28:19,446] Trial 193 finished with value: 16.354379523707472 and parameters: {'learning_rate': 0.5360824915892978}. Best is trial 53 with value: 15.367107813894425.\n"
     ]
    },
    {
     "name": "stdout",
     "output_type": "stream",
     "text": [
      "Final MAE: 16.354379523707472\n"
     ]
    },
    {
     "name": "stderr",
     "output_type": "stream",
     "text": [
      "[I 2024-05-07 11:28:20,049] Trial 194 finished with value: 16.74753292892938 and parameters: {'learning_rate': 0.5730738801061429}. Best is trial 53 with value: 15.367107813894425.\n"
     ]
    },
    {
     "name": "stdout",
     "output_type": "stream",
     "text": [
      "Final MAE: 16.74753292892938\n"
     ]
    },
    {
     "name": "stderr",
     "output_type": "stream",
     "text": [
      "[I 2024-05-07 11:28:20,569] Trial 195 finished with value: 16.5760525546806 and parameters: {'learning_rate': 0.5048202059023318}. Best is trial 53 with value: 15.367107813894425.\n"
     ]
    },
    {
     "name": "stdout",
     "output_type": "stream",
     "text": [
      "Final MAE: 16.5760525546806\n"
     ]
    },
    {
     "name": "stderr",
     "output_type": "stream",
     "text": [
      "[I 2024-05-07 11:28:21,089] Trial 196 finished with value: 17.667458172725595 and parameters: {'learning_rate': 0.9125212340176302}. Best is trial 53 with value: 15.367107813894425.\n"
     ]
    },
    {
     "name": "stdout",
     "output_type": "stream",
     "text": [
      "Final MAE: 17.667458172725595\n"
     ]
    },
    {
     "name": "stderr",
     "output_type": "stream",
     "text": [
      "[I 2024-05-07 11:28:21,662] Trial 197 finished with value: 16.764774119238492 and parameters: {'learning_rate': 0.5434722252565114}. Best is trial 53 with value: 15.367107813894425.\n"
     ]
    },
    {
     "name": "stdout",
     "output_type": "stream",
     "text": [
      "Final MAE: 16.764774119238492\n"
     ]
    },
    {
     "name": "stderr",
     "output_type": "stream",
     "text": [
      "[I 2024-05-07 11:28:22,181] Trial 198 finished with value: 17.27264589395212 and parameters: {'learning_rate': 0.5893663188165881}. Best is trial 53 with value: 15.367107813894425.\n"
     ]
    },
    {
     "name": "stdout",
     "output_type": "stream",
     "text": [
      "Final MAE: 17.27264589395212\n"
     ]
    },
    {
     "name": "stderr",
     "output_type": "stream",
     "text": [
      "[I 2024-05-07 11:28:22,710] Trial 199 finished with value: 16.833295379967794 and parameters: {'learning_rate': 0.5238388707172675}. Best is trial 53 with value: 15.367107813894425.\n"
     ]
    },
    {
     "name": "stdout",
     "output_type": "stream",
     "text": [
      "Final MAE: 16.833295379967794\n"
     ]
    }
   ],
   "source": [
    "study = optuna.create_study()\n",
    "study.optimize(objective, n_trials=200)"
   ]
  },
  {
   "cell_type": "code",
   "execution_count": null,
   "metadata": {},
   "outputs": [],
   "source": []
  }
 ],
 "metadata": {
  "kernelspec": {
   "display_name": "base",
   "language": "python",
   "name": "python3"
  },
  "language_info": {
   "codemirror_mode": {
    "name": "ipython",
    "version": 3
   },
   "file_extension": ".py",
   "mimetype": "text/x-python",
   "name": "python",
   "nbconvert_exporter": "python",
   "pygments_lexer": "ipython3",
   "version": "3.11.5"
  }
 },
 "nbformat": 4,
 "nbformat_minor": 2
}
