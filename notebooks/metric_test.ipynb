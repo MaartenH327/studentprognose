{
 "cells": [
  {
   "cell_type": "code",
   "execution_count": 1,
   "metadata": {},
   "outputs": [],
   "source": [
    "import pandas as pd\n",
    "import numpy as np"
   ]
  },
  {
   "cell_type": "code",
   "execution_count": 3,
   "metadata": {},
   "outputs": [],
   "source": [
    "data = pd.read_excel(\"../data/output/output_volume.xlsx\")"
   ]
  },
  {
   "cell_type": "code",
   "execution_count": 4,
   "metadata": {},
   "outputs": [],
   "source": [
    "d = data[(data[\"Collegejaar\"] == 2023) & (data[\"Weeknummer\"] == 5)]"
   ]
  },
  {
   "cell_type": "code",
   "execution_count": 5,
   "metadata": {},
   "outputs": [
    {
     "name": "stderr",
     "output_type": "stream",
     "text": [
      "C:\\Users\\jjble\\AppData\\Local\\Temp\\ipykernel_20960\\327651422.py:1: SettingWithCopyWarning: \n",
      "A value is trying to be set on a copy of a slice from a DataFrame.\n",
      "Try using .loc[row_indexer,col_indexer] = value instead\n",
      "\n",
      "See the caveats in the documentation: https://pandas.pydata.org/pandas-docs/stable/user_guide/indexing.html#returning-a-view-versus-a-copy\n",
      "  d[\"MAE_skip\"] = abs(d[\"Skip_prediction\"] - d[\"Aantal_studenten\"])\n",
      "C:\\Users\\jjble\\AppData\\Local\\Temp\\ipykernel_20960\\327651422.py:2: SettingWithCopyWarning: \n",
      "A value is trying to be set on a copy of a slice from a DataFrame.\n",
      "Try using .loc[row_indexer,col_indexer] = value instead\n",
      "\n",
      "See the caveats in the documentation: https://pandas.pydata.org/pandas-docs/stable/user_guide/indexing.html#returning-a-view-versus-a-copy\n",
      "  d[\"MAPE_skip\"] = abs(d[\"Skip_prediction\"] - d[\"Aantal_studenten\"]) / d[\"Aantal_studenten\"]\n"
     ]
    }
   ],
   "source": [
    "d[\"MAE_skip\"] = abs(d[\"Skip_prediction\"] - d[\"Aantal_studenten\"])\n",
    "d[\"MAPE_skip\"] = abs(d[\"Skip_prediction\"] - d[\"Aantal_studenten\"]) / d[\"Aantal_studenten\"]"
   ]
  },
  {
   "cell_type": "code",
   "execution_count": 6,
   "metadata": {},
   "outputs": [
    {
     "name": "stderr",
     "output_type": "stream",
     "text": [
      "C:\\Users\\jjble\\AppData\\Local\\Temp\\ipykernel_20960\\646020896.py:1: SettingWithCopyWarning: \n",
      "A value is trying to be set on a copy of a slice from a DataFrame.\n",
      "Try using .loc[row_indexer,col_indexer] = value instead\n",
      "\n",
      "See the caveats in the documentation: https://pandas.pydata.org/pandas-docs/stable/user_guide/indexing.html#returning-a-view-versus-a-copy\n",
      "  d[\"MAE_skip_v\"] = abs(d[\"Volume_prediction\"] - d[\"Aantal_studenten_volume\"])\n",
      "C:\\Users\\jjble\\AppData\\Local\\Temp\\ipykernel_20960\\646020896.py:2: SettingWithCopyWarning: \n",
      "A value is trying to be set on a copy of a slice from a DataFrame.\n",
      "Try using .loc[row_indexer,col_indexer] = value instead\n",
      "\n",
      "See the caveats in the documentation: https://pandas.pydata.org/pandas-docs/stable/user_guide/indexing.html#returning-a-view-versus-a-copy\n",
      "  d[\"MAPE_skip_v\"] = abs(d[\"Volume_prediction\"] - d[\"Aantal_studenten_volume\"]) / d[\"Aantal_studenten_volume\"]\n"
     ]
    }
   ],
   "source": [
    "d[\"MAE_skip_v\"] = abs(d[\"Volume_prediction\"] - d[\"Aantal_studenten_volume\"])\n",
    "d[\"MAPE_skip_v\"] = abs(d[\"Volume_prediction\"] - d[\"Aantal_studenten_volume\"]) / d[\"Aantal_studenten_volume\"]"
   ]
  },
  {
   "cell_type": "code",
   "execution_count": 8,
   "metadata": {},
   "outputs": [
    {
     "name": "stdout",
     "output_type": "stream",
     "text": [
      "12.134831460674157\n",
      "0.6163783155177199\n",
      "30.649876476720323\n",
      "0.755225062919601\n"
     ]
    }
   ],
   "source": [
    "print(d[\"MAE_skip\"].mean())\n",
    "print(d[\"MAPE_skip\"].mean())\n",
    "print(d[\"MAE_skip_v\"].mean())\n",
    "print(d[\"MAPE_skip_v\"].mean())"
   ]
  },
  {
   "cell_type": "code",
   "execution_count": 9,
   "metadata": {},
   "outputs": [
    {
     "name": "stderr",
     "output_type": "stream",
     "text": [
      "C:\\Users\\jjble\\AppData\\Local\\Temp\\ipykernel_20960\\1986866660.py:1: SettingWithCopyWarning: \n",
      "A value is trying to be set on a copy of a slice from a DataFrame.\n",
      "Try using .loc[row_indexer,col_indexer] = value instead\n",
      "\n",
      "See the caveats in the documentation: https://pandas.pydata.org/pandas-docs/stable/user_guide/indexing.html#returning-a-view-versus-a-copy\n",
      "  d[\"MAE_skip_h\"] = abs(d[\"Higher_years_prediction\"] - d[\"Aantal_studenten_higher_years\"])\n",
      "C:\\Users\\jjble\\AppData\\Local\\Temp\\ipykernel_20960\\1986866660.py:2: SettingWithCopyWarning: \n",
      "A value is trying to be set on a copy of a slice from a DataFrame.\n",
      "Try using .loc[row_indexer,col_indexer] = value instead\n",
      "\n",
      "See the caveats in the documentation: https://pandas.pydata.org/pandas-docs/stable/user_guide/indexing.html#returning-a-view-versus-a-copy\n",
      "  d[\"MAPE_skip_h\"] = abs(d[\"Higher_years_prediction\"] - d[\"Aantal_studenten_higher_years\"]) / d[\"Aantal_studenten_higher_years\"]\n"
     ]
    }
   ],
   "source": [
    "d[\"MAE_skip_h\"] = abs(d[\"Higher_years_prediction\"] - d[\"Aantal_studenten_higher_years\"])\n",
    "d[\"MAPE_skip_h\"] = abs(d[\"Higher_years_prediction\"] - d[\"Aantal_studenten_higher_years\"]) / d[\"Aantal_studenten_higher_years\"]"
   ]
  },
  {
   "cell_type": "code",
   "execution_count": 10,
   "metadata": {},
   "outputs": [
    {
     "name": "stdout",
     "output_type": "stream",
     "text": [
      "22.649265438324793\n",
      "0.6367102787922303\n"
     ]
    }
   ],
   "source": [
    "print(d[\"MAE_skip_h\"].mean())\n",
    "print(d[\"MAPE_skip_h\"].mean())"
   ]
  },
  {
   "cell_type": "code",
   "execution_count": null,
   "metadata": {},
   "outputs": [],
   "source": []
  }
 ],
 "metadata": {
  "kernelspec": {
   "display_name": "base",
   "language": "python",
   "name": "python3"
  },
  "language_info": {
   "codemirror_mode": {
    "name": "ipython",
    "version": 3
   },
   "file_extension": ".py",
   "mimetype": "text/x-python",
   "name": "python",
   "nbconvert_exporter": "python",
   "pygments_lexer": "ipython3",
   "version": "3.11.5"
  }
 },
 "nbformat": 4,
 "nbformat_minor": 2
}
