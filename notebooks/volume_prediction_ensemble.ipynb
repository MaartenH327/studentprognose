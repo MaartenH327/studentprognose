{
 "cells": [
  {
   "cell_type": "code",
   "execution_count": 1,
   "metadata": {},
   "outputs": [],
   "source": [
    "import os\n",
    "import sys\n",
    "module_path = os.path.abspath(os.path.join('..'))\n",
    "if module_path not in sys.path:\n",
    "    sys.path.append(module_path)"
   ]
  },
  {
   "cell_type": "code",
   "execution_count": 2,
   "metadata": {},
   "outputs": [],
   "source": [
    "import pandas as pd\n",
    "import json\n",
    "import numpy as np\n",
    "from scripts.load_data import *\n",
    "\n",
    "from sklearn.preprocessing import OneHotEncoder\n",
    "from sklearn.compose import ColumnTransformer\n",
    "from xgboost import XGBRegressor"
   ]
  },
  {
   "cell_type": "code",
   "execution_count": 3,
   "metadata": {},
   "outputs": [],
   "source": [
    "configuration = load_configuration(\"../configuration/configuration.json\")\n",
    "\n",
    "paths = configuration[\"paths\"]\n",
    "data_student_numbers_f = pd.read_excel(paths[\"path_student_count_first-years\"])\n",
    "data_student_numbers_h = pd.read_excel(paths[\"path_student_count_higher-years\"])\n",
    "data_student_numbers_v = pd.read_excel(paths[\"path_student_volume\"])"
   ]
  },
  {
   "cell_type": "code",
   "execution_count": 4,
   "metadata": {},
   "outputs": [],
   "source": [
    "combined_data_student_numbers = data_student_numbers_f.merge(data_student_numbers_h, on=[\"Croho groepeernaam\", \"Herkomst\", \"Collegejaar\"])\n",
    "combined_data_student_numbers = combined_data_student_numbers.rename(columns={\"Aantal_studenten_x\": \"Aantal_studenten_f\", \"Aantal_studenten_y\": \"Aantal_studenten_h\"})"
   ]
  },
  {
   "cell_type": "code",
   "execution_count": 5,
   "metadata": {},
   "outputs": [],
   "source": [
    "starting_year = 2021\n",
    "ending_year = 2022\n",
    "predict_year = 2023"
   ]
  },
  {
   "cell_type": "code",
   "execution_count": 6,
   "metadata": {},
   "outputs": [
    {
     "name": "stderr",
     "output_type": "stream",
     "text": [
      "C:\\Users\\jjble\\AppData\\Local\\Temp\\ipykernel_9888\\1705177450.py:2: SettingWithCopyWarning: \n",
      "A value is trying to be set on a copy of a slice from a DataFrame.\n",
      "Try using .loc[row_indexer,col_indexer] = value instead\n",
      "\n",
      "See the caveats in the documentation: https://pandas.pydata.org/pandas-docs/stable/user_guide/indexing.html#returning-a-view-versus-a-copy\n",
      "  ratio_data[\"Ratio\"] = ratio_data[\"Aantal_studenten_h\"].divide(ratio_data[\"Aantal_studenten_f\"])\n",
      "C:\\Users\\jjble\\AppData\\Local\\Temp\\ipykernel_9888\\1705177450.py:3: SettingWithCopyWarning: \n",
      "A value is trying to be set on a copy of a slice from a DataFrame.\n",
      "Try using .loc[row_indexer,col_indexer] = value instead\n",
      "\n",
      "See the caveats in the documentation: https://pandas.pydata.org/pandas-docs/stable/user_guide/indexing.html#returning-a-view-versus-a-copy\n",
      "  ratio_data[\"Ratio\"] = ratio_data['Ratio'].replace(np.inf, np.nan)\n"
     ]
    }
   ],
   "source": [
    "ratio_data = combined_data_student_numbers[(combined_data_student_numbers[\"Collegejaar\"] >= starting_year) & (combined_data_student_numbers[\"Collegejaar\"] <= ending_year)]\n",
    "ratio_data[\"Ratio\"] = ratio_data[\"Aantal_studenten_h\"].divide(ratio_data[\"Aantal_studenten_f\"])\n",
    "ratio_data[\"Ratio\"] = ratio_data['Ratio'].replace(np.inf, np.nan)\n",
    "ratio_data[ratio_data[\"Croho groepeernaam\"] == \"M Geneeskunde\"]\n",
    "\n",
    "ratio = ratio_data[[\"Croho groepeernaam\", \"Herkomst\", \"Ratio\"]].groupby(['Croho groepeernaam', 'Herkomst'], as_index=False).mean()"
   ]
  },
  {
   "cell_type": "code",
   "execution_count": 7,
   "metadata": {},
   "outputs": [],
   "source": [
    "data = combined_data_student_numbers\n",
    "train = data[(data[\"Collegejaar\"] < predict_year)]\n",
    "test = data[(data[\"Collegejaar\"] == predict_year)]\n",
    "\n",
    "train = train.drop_duplicates()\n",
    "\n",
    "X_train = train.drop(['Aantal_studenten_h'], axis=1)\n",
    "y_train = train.pop('Aantal_studenten_h')\n",
    "\n",
    "test = test.sort_values(by=[\"Croho groepeernaam\", \"Herkomst\"])\n",
    "\n",
    "numeric_cols = ['Collegejaar', 'Aantal_studenten_f']\n",
    "categorical_cols = ['Croho groepeernaam', 'Herkomst']\n",
    "\n",
    "numeric_transformer = \"passthrough\"  # No transformation for numeric columns\n",
    "categorical_transformer = OneHotEncoder(handle_unknown='ignore')\n",
    "\n",
    "# Create the column transformer\n",
    "preprocessor = ColumnTransformer(\n",
    "    transformers=[\n",
    "        ('numeric', numeric_transformer, numeric_cols),\n",
    "        ('categorical', categorical_transformer, categorical_cols)\n",
    "    ])\n",
    "\n",
    "X_train = preprocessor.fit_transform(X_train)\n",
    "preprocessed_test = preprocessor.transform(test)\n",
    "\n",
    "model = XGBRegressor(learning_rate=0.5301857237491415)\n",
    "\n",
    "model.fit(X_train, y_train)\n",
    "\n",
    "predictie = model.predict(preprocessed_test)"
   ]
  },
  {
   "cell_type": "code",
   "execution_count": 21,
   "metadata": {},
   "outputs": [
    {
     "name": "stdout",
     "output_type": "stream",
     "text": [
      "Final MAE: ratio 21.045883668539968 & xgboost 15.430184893092218\n",
      "Final MAPE: ratio 0.5404465423649051 & xgboost 0.5144048317787553\n",
      "Final ensemble: MAE 15.331977989398965 & MAPE 0.5026494514340419\n",
      "Count: 184\n"
     ]
    }
   ],
   "source": [
    "total_mae_ratio = 0.0\n",
    "total_mape_ratio = 0.0\n",
    "\n",
    "total_mae_xgboost = 0.0\n",
    "total_mape_xgboost = 0.0\n",
    "\n",
    "total_mae_ensemble = 0.0\n",
    "total_mape_ensemble = 0.0\n",
    "\n",
    "i = 0\n",
    "count = 0.0\n",
    "\n",
    "for _, row in test.iterrows():\n",
    "    programme = row[\"Croho groepeernaam\"]\n",
    "    origin = row[\"Herkomst\"]\n",
    "    first_year_row = data_student_numbers_f[(data_student_numbers_f[\"Croho groepeernaam\"] == programme) &\n",
    "                                            (data_student_numbers_f[\"Herkomst\"] == origin) &\n",
    "                                            (data_student_numbers_f[\"Collegejaar\"] == predict_year)]\n",
    "    higher_year_row = data_student_numbers_h[(data_student_numbers_h[\"Croho groepeernaam\"] == programme) & \n",
    "                                             (data_student_numbers_h[\"Herkomst\"] == origin) &\n",
    "                                             (data_student_numbers_h[\"Collegejaar\"] == predict_year)]\n",
    "    current_ratio = ratio[(ratio[\"Croho groepeernaam\"] == programme) & \n",
    "                          (ratio[\"Herkomst\"] == origin)]\n",
    "\n",
    "    if len(first_year_row) > 0 and len(higher_year_row) > 0 and len(current_ratio) > 0:\n",
    "        true_label = higher_year_row[\"Aantal_studenten\"].iloc[0]\n",
    "        ratio_pred = first_year_row[\"Aantal_studenten\"].iloc[0] * current_ratio[\"Ratio\"].iloc[0]\n",
    "        xgboost_pred = predictie[i]\n",
    "\n",
    "        mae_ratio = abs(true_label - ratio_pred)\n",
    "        mape_ratio = abs((true_label - ratio_pred) / true_label)\n",
    "\n",
    "        mae_xgboost = abs(true_label - xgboost_pred)\n",
    "        mape_xgboost = abs((true_label - xgboost_pred) / true_label)\n",
    "\n",
    "        ensemble_prediction = ratio_pred * 0.16 + xgboost_pred * 0.84\n",
    "        mae_ensemble = abs(true_label - ensemble_prediction)\n",
    "        mape_ensemble = abs((true_label - ensemble_prediction) / true_label)\n",
    "        \n",
    "        # print(f\"{programme}, {origin}: {mae_ratio} & {mape} => {predictie[i]} & {higher_year_row['Aantal_studenten'].iloc[0]}\")\n",
    "\n",
    "        total_mae_ratio += mae_ratio\n",
    "        total_mape_ratio += mape_ratio\n",
    "        \n",
    "        total_mae_xgboost += mae_xgboost\n",
    "        total_mape_xgboost += mape_xgboost\n",
    "\n",
    "        total_mae_ensemble += mae_ensemble\n",
    "        total_mape_ensemble += mape_ensemble\n",
    "\n",
    "        count += 1.0\n",
    "        \n",
    "    i += 1\n",
    "\n",
    "print(f\"Final MAE: ratio {total_mae_ratio / count} & xgboost {total_mae_xgboost / count}\")\n",
    "print(f\"Final MAPE: ratio {total_mape_ratio / count} & xgboost {total_mape_xgboost / count}\")\n",
    "print(f\"Final ensemble: MAE {total_mae_ensemble / count} & MAPE {total_mape_ensemble / count}\")\n",
    "print(f\"Count: {i}\")\n",
    "\n",
    "# Fifty-fifty:\n",
    "# Final MAE: ratio 21.045883668539968 & xgboost 15.430184893092218\n",
    "# Final MAPE: ratio 0.5404465423649051 & xgboost 0.5144048317787553\n",
    "# Final ensemble: MAE 16.982791701778673 & MAPE 0.5042866041640258\n",
    "# Count: 184"
   ]
  },
  {
   "cell_type": "code",
   "execution_count": 19,
   "metadata": {},
   "outputs": [],
   "source": [
    "import optuna\n",
    "\n",
    "def objective(trial):\n",
    "    ensemble_splitter = trial.suggest_float(\"ensemble_splitter\", 0.0, 1.0)\n",
    "\n",
    "    total_mae_ratio = 0.0\n",
    "    total_mape_ratio = 0.0\n",
    "\n",
    "    total_mae_xgboost = 0.0\n",
    "    total_mape_xgboost = 0.0\n",
    "\n",
    "    total_mae_ensemble = 0.0\n",
    "    total_mape_ensemble = 0.0\n",
    "\n",
    "    i = 0\n",
    "    count = 0.0\n",
    "\n",
    "    for _, row in test.iterrows():\n",
    "        programme = row[\"Croho groepeernaam\"]\n",
    "        origin = row[\"Herkomst\"]\n",
    "        first_year_row = data_student_numbers_f[(data_student_numbers_f[\"Croho groepeernaam\"] == programme) &\n",
    "                                                (data_student_numbers_f[\"Herkomst\"] == origin) &\n",
    "                                                (data_student_numbers_f[\"Collegejaar\"] == predict_year)]\n",
    "        higher_year_row = data_student_numbers_h[(data_student_numbers_h[\"Croho groepeernaam\"] == programme) & \n",
    "                                                (data_student_numbers_h[\"Herkomst\"] == origin) &\n",
    "                                                (data_student_numbers_h[\"Collegejaar\"] == predict_year)]\n",
    "        current_ratio = ratio[(ratio[\"Croho groepeernaam\"] == programme) & \n",
    "                            (ratio[\"Herkomst\"] == origin)]\n",
    "\n",
    "        if len(first_year_row) > 0 and len(higher_year_row) > 0 and len(current_ratio) > 0:\n",
    "            true_label = higher_year_row[\"Aantal_studenten\"].iloc[0]\n",
    "            ratio_pred = first_year_row[\"Aantal_studenten\"].iloc[0] * current_ratio[\"Ratio\"].iloc[0]\n",
    "            xgboost_pred = predictie[i]\n",
    "\n",
    "            mae_ratio = abs(true_label - ratio_pred)\n",
    "            mape_ratio = abs((true_label - ratio_pred) / true_label)\n",
    "\n",
    "            mae_xgboost = abs(true_label - xgboost_pred)\n",
    "            mape_xgboost = abs((true_label - xgboost_pred) / true_label)\n",
    "\n",
    "            ensemble_prediction = ratio_pred * ensemble_splitter + xgboost_pred * (1.0 - ensemble_splitter)\n",
    "            mae_ensemble = abs(true_label - ensemble_prediction)\n",
    "            mape_ensemble = abs((true_label - ensemble_prediction) / true_label)\n",
    "            \n",
    "            # print(f\"{programme}, {origin}: {mae_ratio} & {mape} => {predictie[i]} & {higher_year_row['Aantal_studenten'].iloc[0]}\")\n",
    "\n",
    "            total_mae_ratio += mae_ratio\n",
    "            total_mape_ratio += mape_ratio\n",
    "            \n",
    "            total_mae_xgboost += mae_xgboost\n",
    "            total_mape_xgboost += mape_xgboost\n",
    "\n",
    "            total_mae_ensemble += mae_ensemble\n",
    "            total_mape_ensemble += mape_ensemble\n",
    "\n",
    "            count += 1.0\n",
    "            \n",
    "        i += 1\n",
    "\n",
    "    print(f\"Final MAE: ratio {total_mae_ratio / count} & xgboost {total_mae_xgboost / count}\")\n",
    "    print(f\"Final MAPE: ratio {total_mape_ratio / count} & xgboost {total_mape_xgboost / count}\")\n",
    "    print(f\"Final ensemble: MAE {total_mae_ensemble / count} & MAPE {total_mape_ensemble / count}\")\n",
    "\n",
    "    return np.mean([total_mae_ensemble / count, total_mape_ensemble / count])"
   ]
  },
  {
   "cell_type": "code",
   "execution_count": 20,
   "metadata": {},
   "outputs": [
    {
     "name": "stderr",
     "output_type": "stream",
     "text": [
      "[I 2024-05-14 15:59:45,337] A new study created in memory with name: no-name-2ec59b72-3593-47bb-bc42-cec544ea57f9\n",
      "[I 2024-05-14 15:59:46,132] Trial 0 finished with value: 8.049827807714268 and parameters: {'ensemble_splitter': 0.29864118927856087}. Best is trial 0 with value: 8.049827807714268.\n"
     ]
    },
    {
     "name": "stdout",
     "output_type": "stream",
     "text": [
      "Final MAE: ratio 21.045883668539968 & xgboost 15.430184893092218\n",
      "Final MAPE: ratio 0.5404465423649051 & xgboost 0.5144048317787553\n",
      "Final ensemble: MAE 15.599799175785174 & MAPE 0.49985643964336224\n"
     ]
    },
    {
     "name": "stderr",
     "output_type": "stream",
     "text": [
      "[I 2024-05-14 15:59:46,802] Trial 1 finished with value: 7.931271206439595 and parameters: {'ensemble_splitter': 0.08291086595009756}. Best is trial 1 with value: 7.931271206439595.\n"
     ]
    },
    {
     "name": "stdout",
     "output_type": "stream",
     "text": [
      "Final MAE: ratio 21.045883668539968 & xgboost 15.430184893092218\n",
      "Final MAPE: ratio 0.5404465423649051 & xgboost 0.5144048317787553\n",
      "Final ensemble: MAE 15.355594455395014 & MAPE 0.506947957484176\n"
     ]
    },
    {
     "name": "stderr",
     "output_type": "stream",
     "text": [
      "[I 2024-05-14 15:59:47,415] Trial 2 finished with value: 9.179474140561284 and parameters: {'ensemble_splitter': 0.6112260317441568}. Best is trial 1 with value: 7.931271206439595.\n"
     ]
    },
    {
     "name": "stdout",
     "output_type": "stream",
     "text": [
      "Final MAE: ratio 21.045883668539968 & xgboost 15.430184893092218\n",
      "Final MAPE: ratio 0.5404465423649051 & xgboost 0.5144048317787553\n",
      "Final ensemble: MAE 17.850820430896047 & MAPE 0.508127850226523\n"
     ]
    },
    {
     "name": "stderr",
     "output_type": "stream",
     "text": [
      "[I 2024-05-14 15:59:47,930] Trial 3 finished with value: 7.917431182678963 and parameters: {'ensemble_splitter': 0.15780555651859673}. Best is trial 3 with value: 7.917431182678963.\n"
     ]
    },
    {
     "name": "stdout",
     "output_type": "stream",
     "text": [
      "Final MAE: ratio 21.045883668539968 & xgboost 15.430184893092218\n",
      "Final MAPE: ratio 0.5404465423649051 & xgboost 0.5144048317787553\n",
      "Final ensemble: MAE 15.332119409784601 & MAPE 0.5027429555733243\n"
     ]
    },
    {
     "name": "stderr",
     "output_type": "stream",
     "text": [
      "[I 2024-05-14 15:59:48,447] Trial 4 finished with value: 8.774567443684425 and parameters: {'ensemble_splitter': 0.5079318139458683}. Best is trial 3 with value: 7.917431182678963.\n"
     ]
    },
    {
     "name": "stdout",
     "output_type": "stream",
     "text": [
      "Final MAE: ratio 21.045883668539968 & xgboost 15.430184893092218\n",
      "Final MAPE: ratio 0.5404465423649051 & xgboost 0.5144048317787553\n",
      "Final ensemble: MAE 17.044580184023594 & MAPE 0.5045547033452578\n"
     ]
    },
    {
     "name": "stderr",
     "output_type": "stream",
     "text": [
      "[I 2024-05-14 15:59:48,978] Trial 5 finished with value: 9.826457375227788 and parameters: {'ensemble_splitter': 0.7733410908504619}. Best is trial 3 with value: 7.917431182678963.\n"
     ]
    },
    {
     "name": "stdout",
     "output_type": "stream",
     "text": [
      "Final MAE: ratio 21.045883668539968 & xgboost 15.430184893092218\n",
      "Final MAPE: ratio 0.5404465423649051 & xgboost 0.5144048317787553\n",
      "Final ensemble: MAE 19.136708477254018 & MAPE 0.5162062732015592\n"
     ]
    },
    {
     "name": "stderr",
     "output_type": "stream",
     "text": [
      "[I 2024-05-14 15:59:49,516] Trial 6 finished with value: 7.93008448430961 and parameters: {'ensemble_splitter': 0.08776268622206662}. Best is trial 3 with value: 7.917431182678963.\n"
     ]
    },
    {
     "name": "stdout",
     "output_type": "stream",
     "text": [
      "Final MAE: ratio 21.045883668539968 & xgboost 15.430184893092218\n",
      "Final MAPE: ratio 0.5404465423649051 & xgboost 0.5144048317787553\n",
      "Final ensemble: MAE 15.353566569759257 & MAPE 0.5066023988599626\n"
     ]
    },
    {
     "name": "stderr",
     "output_type": "stream",
     "text": [
      "[I 2024-05-14 15:59:50,051] Trial 7 finished with value: 9.823432861753489 and parameters: {'ensemble_splitter': 0.7725894137490816}. Best is trial 3 with value: 7.917431182678963.\n"
     ]
    },
    {
     "name": "stdout",
     "output_type": "stream",
     "text": [
      "Final MAE: ratio 21.045883668539968 & xgboost 15.430184893092218\n",
      "Final MAPE: ratio 0.5404465423649051 & xgboost 0.5144048317787553\n",
      "Final ensemble: MAE 19.130703985438455 & MAPE 0.5161617380685228\n"
     ]
    },
    {
     "name": "stderr",
     "output_type": "stream",
     "text": [
      "[I 2024-05-14 15:59:50,669] Trial 8 finished with value: 8.072688741516627 and parameters: {'ensemble_splitter': 0.3123353854288208}. Best is trial 3 with value: 7.917431182678963.\n"
     ]
    },
    {
     "name": "stdout",
     "output_type": "stream",
     "text": [
      "Final MAE: ratio 21.045883668539968 & xgboost 15.430184893092218\n",
      "Final MAPE: ratio 0.5404465423649051 & xgboost 0.5144048317787553\n",
      "Final ensemble: MAE 15.64552431969893 & MAPE 0.4998531633343246\n"
     ]
    },
    {
     "name": "stderr",
     "output_type": "stream",
     "text": [
      "[I 2024-05-14 15:59:51,186] Trial 9 finished with value: 8.238007534760516 and parameters: {'ensemble_splitter': 0.3666107960431273}. Best is trial 3 with value: 7.917431182678963.\n"
     ]
    },
    {
     "name": "stdout",
     "output_type": "stream",
     "text": [
      "Final MAE: ratio 21.045883668539968 & xgboost 15.430184893092218\n",
      "Final MAPE: ratio 0.5404465423649051 & xgboost 0.5144048317787553\n",
      "Final ensemble: MAE 15.975650849621294 & MAPE 0.500364219899737\n"
     ]
    },
    {
     "name": "stderr",
     "output_type": "stream",
     "text": [
      "[I 2024-05-14 15:59:51,774] Trial 10 finished with value: 10.523762335198061 and parameters: {'ensemble_splitter': 0.9390407472149515}. Best is trial 3 with value: 7.917431182678963.\n"
     ]
    },
    {
     "name": "stdout",
     "output_type": "stream",
     "text": [
      "Final MAE: ratio 21.045883668539968 & xgboost 15.430184893092218\n",
      "Final MAPE: ratio 0.5404465423649051 & xgboost 0.5144048317787553\n",
      "Final ensemble: MAE 20.515572564078553 & MAPE 0.5319521063175686\n"
     ]
    },
    {
     "name": "stderr",
     "output_type": "stream",
     "text": [
      "[I 2024-05-14 15:59:52,279] Trial 11 finished with value: 7.970397674186785 and parameters: {'ensemble_splitter': 0.0013911264884882424}. Best is trial 3 with value: 7.917431182678963.\n"
     ]
    },
    {
     "name": "stdout",
     "output_type": "stream",
     "text": [
      "Final MAE: ratio 21.045883668539968 & xgboost 15.430184893092218\n",
      "Final MAPE: ratio 0.5404465423649051 & xgboost 0.5144048317787553\n",
      "Final ensemble: MAE 15.426543812724793 & MAPE 0.5142515356487765\n"
     ]
    },
    {
     "name": "stderr",
     "output_type": "stream",
     "text": [
      "[I 2024-05-14 15:59:52,805] Trial 12 finished with value: 7.918119343392697 and parameters: {'ensemble_splitter': 0.1487608620522959}. Best is trial 3 with value: 7.917431182678963.\n"
     ]
    },
    {
     "name": "stdout",
     "output_type": "stream",
     "text": [
      "Final MAE: ratio 21.045883668539968 & xgboost 15.430184893092218\n",
      "Final MAPE: ratio 0.5404465423649051 & xgboost 0.5144048317787553\n",
      "Final ensemble: MAE 15.33310085180776 & MAPE 0.5031378349776342\n"
     ]
    },
    {
     "name": "stderr",
     "output_type": "stream",
     "text": [
      "[I 2024-05-14 15:59:53,345] Trial 13 finished with value: 7.929895552639784 and parameters: {'ensemble_splitter': 0.1939953102165629}. Best is trial 3 with value: 7.917431182678963.\n"
     ]
    },
    {
     "name": "stdout",
     "output_type": "stream",
     "text": [
      "Final MAE: ratio 21.045883668539968 & xgboost 15.430184893092218\n",
      "Final MAPE: ratio 0.5404465423649051 & xgboost 0.5144048317787553\n",
      "Final ensemble: MAE 15.35850970887399 & MAPE 0.5012813964055772\n"
     ]
    },
    {
     "name": "stderr",
     "output_type": "stream",
     "text": [
      "[I 2024-05-14 15:59:54,226] Trial 14 finished with value: 7.933041232494044 and parameters: {'ensemble_splitter': 0.19977478659484976}. Best is trial 3 with value: 7.917431182678963.\n"
     ]
    },
    {
     "name": "stdout",
     "output_type": "stream",
     "text": [
      "Final MAE: ratio 21.045883668539968 & xgboost 15.430184893092218\n",
      "Final MAPE: ratio 0.5404465423649051 & xgboost 0.5144048317787553\n",
      "Final ensemble: MAE 15.365008601130686 & MAPE 0.5010738638574007\n"
     ]
    },
    {
     "name": "stderr",
     "output_type": "stream",
     "text": [
      "[I 2024-05-14 15:59:54,888] Trial 15 finished with value: 8.546345871939913 and parameters: {'ensemble_splitter': 0.4492931165662606}. Best is trial 3 with value: 7.917431182678963.\n"
     ]
    },
    {
     "name": "stdout",
     "output_type": "stream",
     "text": [
      "Final MAE: ratio 21.045883668539968 & xgboost 15.430184893092218\n",
      "Final MAPE: ratio 0.5404465423649051 & xgboost 0.5144048317787553\n",
      "Final ensemble: MAE 16.59008738438305 & MAPE 0.5026043594967767\n"
     ]
    },
    {
     "name": "stderr",
     "output_type": "stream",
     "text": [
      "[I 2024-05-14 15:59:55,461] Trial 16 finished with value: 7.936651682826836 and parameters: {'ensemble_splitter': 0.20590673541403307}. Best is trial 3 with value: 7.917431182678963.\n"
     ]
    },
    {
     "name": "stdout",
     "output_type": "stream",
     "text": [
      "Final MAE: ratio 21.045883668539968 & xgboost 15.430184893092218\n",
      "Final MAPE: ratio 0.5404465423649051 & xgboost 0.5144048317787553\n",
      "Final ensemble: MAE 15.37241330109252 & MAPE 0.5008900645611528\n"
     ]
    },
    {
     "name": "stderr",
     "output_type": "stream",
     "text": [
      "[I 2024-05-14 15:59:56,073] Trial 17 finished with value: 7.935912753130812 and parameters: {'ensemble_splitter': 0.06393426665974697}. Best is trial 3 with value: 7.917431182678963.\n"
     ]
    },
    {
     "name": "stdout",
     "output_type": "stream",
     "text": [
      "Final MAE: ratio 21.045883668539968 & xgboost 15.430184893092218\n",
      "Final MAPE: ratio 0.5404465423649051 & xgboost 0.5144048317787553\n",
      "Final ensemble: MAE 15.363525988502037 & MAPE 0.5082995177595871\n"
     ]
    },
    {
     "name": "stderr",
     "output_type": "stream",
     "text": [
      "[I 2024-05-14 15:59:56,716] Trial 18 finished with value: 8.828509841914464 and parameters: {'ensemble_splitter': 0.5217211995910924}. Best is trial 3 with value: 7.917431182678963.\n"
     ]
    },
    {
     "name": "stdout",
     "output_type": "stream",
     "text": [
      "Final MAE: ratio 21.045883668539968 & xgboost 15.430184893092218\n",
      "Final MAPE: ratio 0.5404465423649051 & xgboost 0.5144048317787553\n",
      "Final ensemble: MAE 17.151998892521142 & MAPE 0.5050207913077851\n"
     ]
    },
    {
     "name": "stderr",
     "output_type": "stream",
     "text": [
      "[I 2024-05-14 15:59:57,366] Trial 19 finished with value: 7.95254409223464 and parameters: {'ensemble_splitter': 0.22236431611878577}. Best is trial 3 with value: 7.917431182678963.\n"
     ]
    },
    {
     "name": "stdout",
     "output_type": "stream",
     "text": [
      "Final MAE: ratio 21.045883668539968 & xgboost 15.430184893092218\n",
      "Final MAPE: ratio 0.5404465423649051 & xgboost 0.5144048317787553\n",
      "Final ensemble: MAE 15.404598848549956 & MAPE 0.5004893359193239\n"
     ]
    },
    {
     "name": "stderr",
     "output_type": "stream",
     "text": [
      "[I 2024-05-14 15:59:58,014] Trial 20 finished with value: 8.32734197366506 and parameters: {'ensemble_splitter': 0.39118141884845403}. Best is trial 3 with value: 7.917431182678963.\n"
     ]
    },
    {
     "name": "stdout",
     "output_type": "stream",
     "text": [
      "Final MAE: ratio 21.045883668539968 & xgboost 15.430184893092218\n",
      "Final MAPE: ratio 0.5404465423649051 & xgboost 0.5144048317787553\n",
      "Final ensemble: MAE 16.153750845764943 & MAPE 0.5009331015651779\n"
     ]
    },
    {
     "name": "stderr",
     "output_type": "stream",
     "text": [
      "[I 2024-05-14 15:59:58,693] Trial 21 finished with value: 7.917346634486372 and parameters: {'ensemble_splitter': 0.16811509883904283}. Best is trial 21 with value: 7.917346634486372.\n"
     ]
    },
    {
     "name": "stdout",
     "output_type": "stream",
     "text": [
      "Final MAE: ratio 21.045883668539968 & xgboost 15.430184893092218\n",
      "Final MAPE: ratio 0.5404465423649051 & xgboost 0.5144048317787553\n",
      "Final ensemble: MAE 15.332377615995036 & MAPE 0.5023156529777094\n"
     ]
    },
    {
     "name": "stderr",
     "output_type": "stream",
     "text": [
      "[I 2024-05-14 15:59:59,368] Trial 22 finished with value: 7.920899566846015 and parameters: {'ensemble_splitter': 0.1287794536515368}. Best is trial 21 with value: 7.917346634486372.\n"
     ]
    },
    {
     "name": "stdout",
     "output_type": "stream",
     "text": [
      "Final MAE: ratio 21.045883668539968 & xgboost 15.430184893092218\n",
      "Final MAPE: ratio 0.5404465423649051 & xgboost 0.5144048317787553\n",
      "Final ensemble: MAE 15.337734473580797 & MAPE 0.5040646601112322\n"
     ]
    },
    {
     "name": "stderr",
     "output_type": "stream",
     "text": [
      "[I 2024-05-14 16:00:00,030] Trial 23 finished with value: 8.043251142774176 and parameters: {'ensemble_splitter': 0.29393801559274424}. Best is trial 21 with value: 7.917346634486372.\n"
     ]
    },
    {
     "name": "stdout",
     "output_type": "stream",
     "text": [
      "Final MAE: ratio 21.045883668539968 & xgboost 15.430184893092218\n",
      "Final MAPE: ratio 0.5404465423649051 & xgboost 0.5144048317787553\n",
      "Final ensemble: MAE 15.586638432087758 & MAPE 0.4998638534605927\n"
     ]
    },
    {
     "name": "stderr",
     "output_type": "stream",
     "text": [
      "[I 2024-05-14 16:00:01,226] Trial 24 finished with value: 7.962947952132061 and parameters: {'ensemble_splitter': 0.006853687037919359}. Best is trial 21 with value: 7.917346634486372.\n"
     ]
    },
    {
     "name": "stdout",
     "output_type": "stream",
     "text": [
      "Final MAE: ratio 21.045883668539968 & xgboost 15.430184893092218\n",
      "Final MAPE: ratio 0.5404465423649051 & xgboost 0.5144048317787553\n",
      "Final ensemble: MAE 15.412246319192043 & MAPE 0.513649585072079\n"
     ]
    },
    {
     "name": "stderr",
     "output_type": "stream",
     "text": [
      "[I 2024-05-14 16:00:02,488] Trial 25 finished with value: 7.919441093204629 and parameters: {'ensemble_splitter': 0.13841942030912038}. Best is trial 21 with value: 7.917346634486372.\n"
     ]
    },
    {
     "name": "stdout",
     "output_type": "stream",
     "text": [
      "Final MAE: ratio 21.045883668539968 & xgboost 15.430184893092218\n",
      "Final MAPE: ratio 0.5404465423649051 & xgboost 0.5144048317787553\n",
      "Final ensemble: MAE 15.335269655813317 & MAPE 0.5036125305959407\n"
     ]
    },
    {
     "name": "stderr",
     "output_type": "stream",
     "text": [
      "[I 2024-05-14 16:00:03,170] Trial 26 finished with value: 7.995693454825302 and parameters: {'ensemble_splitter': 0.2599280624390987}. Best is trial 21 with value: 7.917346634486372.\n"
     ]
    },
    {
     "name": "stdout",
     "output_type": "stream",
     "text": [
      "Final MAE: ratio 21.045883668539968 & xgboost 15.430184893092218\n",
      "Final MAPE: ratio 0.5404465423649051 & xgboost 0.5144048317787553\n",
      "Final ensemble: MAE 15.491469444821703 & MAPE 0.4999174648288998\n"
     ]
    },
    {
     "name": "stderr",
     "output_type": "stream",
     "text": [
      "[I 2024-05-14 16:00:03,833] Trial 27 finished with value: 9.090075969235407 and parameters: {'ensemble_splitter': 0.588489825818761}. Best is trial 21 with value: 7.917346634486372.\n"
     ]
    },
    {
     "name": "stdout",
     "output_type": "stream",
     "text": [
      "Final MAE: ratio 21.045883668539968 & xgboost 15.430184893092218\n",
      "Final MAPE: ratio 0.5404465423649051 & xgboost 0.5144048317787553\n",
      "Final ensemble: MAE 17.672836796175666 & MAPE 0.5073151422951477\n"
     ]
    },
    {
     "name": "stderr",
     "output_type": "stream",
     "text": [
      "[I 2024-05-14 16:00:04,604] Trial 28 finished with value: 8.289432123025048 and parameters: {'ensemble_splitter': 0.3807646237874344}. Best is trial 21 with value: 7.917346634486372.\n"
     ]
    },
    {
     "name": "stdout",
     "output_type": "stream",
     "text": [
      "Final MAE: ratio 21.045883668539968 & xgboost 15.430184893092218\n",
      "Final MAPE: ratio 0.5404465423649051 & xgboost 0.5144048317787553\n",
      "Final ensemble: MAE 16.07817522179904 & MAPE 0.5006890242510562\n"
     ]
    },
    {
     "name": "stderr",
     "output_type": "stream",
     "text": [
      "[I 2024-05-14 16:00:05,295] Trial 29 finished with value: 7.920790338805501 and parameters: {'ensemble_splitter': 0.12950141024973158}. Best is trial 21 with value: 7.917346634486372.\n"
     ]
    },
    {
     "name": "stdout",
     "output_type": "stream",
     "text": [
      "Final MAE: ratio 21.045883668539968 & xgboost 15.430184893092218\n",
      "Final MAPE: ratio 0.5404465423649051 & xgboost 0.5144048317787553\n",
      "Final ensemble: MAE 15.337549878393528 & MAPE 0.5040307992174754\n"
     ]
    },
    {
     "name": "stderr",
     "output_type": "stream",
     "text": [
      "[I 2024-05-14 16:00:05,966] Trial 30 finished with value: 8.054012398691004 and parameters: {'ensemble_splitter': 0.30163371791534144}. Best is trial 21 with value: 7.917346634486372.\n"
     ]
    },
    {
     "name": "stdout",
     "output_type": "stream",
     "text": [
      "Final MAE: ratio 21.045883668539968 & xgboost 15.430184893092218\n",
      "Final MAPE: ratio 0.5404465423649051 & xgboost 0.5144048317787553\n",
      "Final ensemble: MAE 15.608173074991685 & MAPE 0.4998517223903219\n"
     ]
    },
    {
     "name": "stderr",
     "output_type": "stream",
     "text": [
      "[I 2024-05-14 16:00:06,637] Trial 31 finished with value: 7.920849149422298 and parameters: {'ensemble_splitter': 0.12911269401310915}. Best is trial 21 with value: 7.917346634486372.\n"
     ]
    },
    {
     "name": "stdout",
     "output_type": "stream",
     "text": [
      "Final MAE: ratio 21.045883668539968 & xgboost 15.430184893092218\n",
      "Final MAPE: ratio 0.5404465423649051 & xgboost 0.5144048317787553\n",
      "Final ensemble: MAE 15.337649268227585 & MAPE 0.5040490306170121\n"
     ]
    },
    {
     "name": "stderr",
     "output_type": "stream",
     "text": [
      "[I 2024-05-14 16:00:07,321] Trial 32 finished with value: 7.921934205288434 and parameters: {'ensemble_splitter': 0.17851598604916863}. Best is trial 21 with value: 7.917346634486372.\n"
     ]
    },
    {
     "name": "stdout",
     "output_type": "stream",
     "text": [
      "Final MAE: ratio 21.045883668539968 & xgboost 15.430184893092218\n",
      "Final MAPE: ratio 0.5404465423649051 & xgboost 0.5144048317787553\n",
      "Final ensemble: MAE 15.341969332928306 & MAPE 0.5018990776485607\n"
     ]
    },
    {
     "name": "stderr",
     "output_type": "stream",
     "text": [
      "[I 2024-05-14 16:00:08,000] Trial 33 finished with value: 7.934085637917641 and parameters: {'ensemble_splitter': 0.07140428378214159}. Best is trial 21 with value: 7.917346634486372.\n"
     ]
    },
    {
     "name": "stdout",
     "output_type": "stream",
     "text": [
      "Final MAE: ratio 21.045883668539968 & xgboost 15.430184893092218\n",
      "Final MAPE: ratio 0.5404465423649051 & xgboost 0.5144048317787553\n",
      "Final ensemble: MAE 15.360403791146783 & MAPE 0.5077674846884985\n"
     ]
    },
    {
     "name": "stderr",
     "output_type": "stream",
     "text": [
      "[I 2024-05-14 16:00:08,694] Trial 34 finished with value: 7.98810211103129 and parameters: {'ensemble_splitter': 0.254499260957304}. Best is trial 21 with value: 7.917346634486372.\n"
     ]
    },
    {
     "name": "stdout",
     "output_type": "stream",
     "text": [
      "Final MAE: ratio 21.045883668539968 & xgboost 15.430184893092218\n",
      "Final MAPE: ratio 0.5404465423649051 & xgboost 0.5144048317787553\n",
      "Final ensemble: MAE 15.476278199577797 & MAPE 0.499926022484784\n"
     ]
    },
    {
     "name": "stderr",
     "output_type": "stream",
     "text": [
      "[I 2024-05-14 16:00:09,364] Trial 35 finished with value: 7.917468019129295 and parameters: {'ensemble_splitter': 0.15711737372168647}. Best is trial 21 with value: 7.917346634486372.\n"
     ]
    },
    {
     "name": "stdout",
     "output_type": "stream",
     "text": [
      "Final MAE: ratio 21.045883668539968 & xgboost 15.430184893092218\n",
      "Final MAPE: ratio 0.5404465423649051 & xgboost 0.5144048317787553\n",
      "Final ensemble: MAE 15.332163759560455 & MAPE 0.5027722786981342\n"
     ]
    },
    {
     "name": "stderr",
     "output_type": "stream",
     "text": [
      "[I 2024-05-14 16:00:10,158] Trial 36 finished with value: 7.939389156495852 and parameters: {'ensemble_splitter': 0.04972126439596347}. Best is trial 21 with value: 7.917346634486372.\n"
     ]
    },
    {
     "name": "stdout",
     "output_type": "stream",
     "text": [
      "Final MAE: ratio 21.045883668539968 & xgboost 15.430184893092218\n",
      "Final MAPE: ratio 0.5404465423649051 & xgboost 0.5144048317787553\n",
      "Final ensemble: MAE 15.369466510103463 & MAPE 0.5093118028882413\n"
     ]
    },
    {
     "name": "stderr",
     "output_type": "stream",
     "text": [
      "[I 2024-05-14 16:00:10,883] Trial 37 finished with value: 8.160778486317124 and parameters: {'ensemble_splitter': 0.3439175070363029}. Best is trial 21 with value: 7.917346634486372.\n"
     ]
    },
    {
     "name": "stdout",
     "output_type": "stream",
     "text": [
      "Final MAE: ratio 21.045883668539968 & xgboost 15.430184893092218\n",
      "Final MAPE: ratio 0.5404465423649051 & xgboost 0.5144048317787553\n",
      "Final ensemble: MAE 15.82156179377595 & MAPE 0.4999951788582962\n"
     ]
    },
    {
     "name": "stderr",
     "output_type": "stream",
     "text": [
      "[I 2024-05-14 16:00:11,586] Trial 38 finished with value: 8.550051279621902 and parameters: {'ensemble_splitter': 0.4502549356970419}. Best is trial 21 with value: 7.917346634486372.\n"
     ]
    },
    {
     "name": "stdout",
     "output_type": "stream",
     "text": [
      "Final MAE: ratio 21.045883668539968 & xgboost 15.430184893092218\n",
      "Final MAPE: ratio 0.5404465423649051 & xgboost 0.5144048317787553\n",
      "Final ensemble: MAE 16.597467245036924 & MAPE 0.5026353142068813\n"
     ]
    },
    {
     "name": "stderr",
     "output_type": "stream",
     "text": [
      "[I 2024-05-14 16:00:12,554] Trial 39 finished with value: 9.80745157475035 and parameters: {'ensemble_splitter': 0.7686176121376997}. Best is trial 21 with value: 7.917346634486372.\n"
     ]
    },
    {
     "name": "stdout",
     "output_type": "stream",
     "text": [
      "Final MAE: ratio 21.045883668539968 & xgboost 15.430184893092218\n",
      "Final MAPE: ratio 0.5404465423649051 & xgboost 0.5144048317787553\n",
      "Final ensemble: MAE 19.098976731508888 & MAPE 0.5159264179918123\n"
     ]
    },
    {
     "name": "stderr",
     "output_type": "stream",
     "text": [
      "[I 2024-05-14 16:00:13,337] Trial 40 finished with value: 7.9985550335787545 and parameters: {'ensemble_splitter': 0.26197446468335495}. Best is trial 21 with value: 7.917346634486372.\n"
     ]
    },
    {
     "name": "stdout",
     "output_type": "stream",
     "text": [
      "Final MAE: ratio 21.045883668539968 & xgboost 15.430184893092218\n",
      "Final MAPE: ratio 0.5404465423649051 & xgboost 0.5144048317787553\n",
      "Final ensemble: MAE 15.497195828161468 & MAPE 0.4999142389960409\n"
     ]
    },
    {
     "name": "stderr",
     "output_type": "stream",
     "text": [
      "[I 2024-05-14 16:00:13,967] Trial 41 finished with value: 7.918730417974445 and parameters: {'ensemble_splitter': 0.14311671844937066}. Best is trial 21 with value: 7.917346634486372.\n"
     ]
    },
    {
     "name": "stdout",
     "output_type": "stream",
     "text": [
      "Final MAE: ratio 21.045883668539968 & xgboost 15.430184893092218\n",
      "Final MAPE: ratio 0.5404465423649051 & xgboost 0.5144048317787553\n",
      "Final ensemble: MAE 15.334068615983346 & MAPE 0.5033922199655447\n"
     ]
    },
    {
     "name": "stderr",
     "output_type": "stream",
     "text": [
      "[I 2024-05-14 16:00:14,573] Trial 42 finished with value: 7.917466156892516 and parameters: {'ensemble_splitter': 0.15715216424308598}. Best is trial 21 with value: 7.917346634486372.\n"
     ]
    },
    {
     "name": "stdout",
     "output_type": "stream",
     "text": [
      "Final MAE: ratio 21.045883668539968 & xgboost 15.430184893092218\n",
      "Final MAPE: ratio 0.5404465423649051 & xgboost 0.5144048317787553\n",
      "Final ensemble: MAE 15.332161517493615 & MAPE 0.5027707962914164\n"
     ]
    },
    {
     "name": "stderr",
     "output_type": "stream",
     "text": [
      "[I 2024-05-14 16:00:15,140] Trial 43 finished with value: 7.9172952459562085 and parameters: {'ensemble_splitter': 0.16396227259178228}. Best is trial 43 with value: 7.9172952459562085.\n"
     ]
    },
    {
     "name": "stdout",
     "output_type": "stream",
     "text": [
      "Final MAE: ratio 21.045883668539968 & xgboost 15.430184893092218\n",
      "Final MAPE: ratio 0.5404465423649051 & xgboost 0.5144048317787553\n",
      "Final ensemble: MAE 15.332104906454468 & MAPE 0.502485585457949\n"
     ]
    },
    {
     "name": "stderr",
     "output_type": "stream",
     "text": [
      "[I 2024-05-14 16:00:15,720] Trial 44 finished with value: 7.927824715260564 and parameters: {'ensemble_splitter': 0.09750626700481345}. Best is trial 43 with value: 7.9172952459562085.\n"
     ]
    },
    {
     "name": "stdout",
     "output_type": "stream",
     "text": [
      "Final MAE: ratio 21.045883668539968 & xgboost 15.430184893092218\n",
      "Final MAPE: ratio 0.5404465423649051 & xgboost 0.5144048317787553\n",
      "Final ensemble: MAE 15.349679271391661 & MAPE 0.505970159129467\n"
     ]
    },
    {
     "name": "stderr",
     "output_type": "stream",
     "text": [
      "[I 2024-05-14 16:00:16,327] Trial 45 finished with value: 7.942444701088265 and parameters: {'ensemble_splitter': 0.03947235360436066}. Best is trial 43 with value: 7.9172952459562085.\n"
     ]
    },
    {
     "name": "stdout",
     "output_type": "stream",
     "text": [
      "Final MAE: ratio 21.045883668539968 & xgboost 15.430184893092218\n",
      "Final MAPE: ratio 0.5404465423649051 & xgboost 0.5144048317787553\n",
      "Final ensemble: MAE 15.374690866274308 & MAPE 0.5101985359022205\n"
     ]
    },
    {
     "name": "stderr",
     "output_type": "stream",
     "text": [
      "[I 2024-05-14 16:00:17,080] Trial 46 finished with value: 7.960247414915764 and parameters: {'ensemble_splitter': 0.22974816328648318}. Best is trial 43 with value: 7.9172952459562085.\n"
     ]
    },
    {
     "name": "stdout",
     "output_type": "stream",
     "text": [
      "Final MAE: ratio 21.045883668539968 & xgboost 15.430184893092218\n",
      "Final MAPE: ratio 0.5404465423649051 & xgboost 0.5144048317787553\n",
      "Final ensemble: MAE 15.420176731648212 & MAPE 0.5003180981833164\n"
     ]
    },
    {
     "name": "stderr",
     "output_type": "stream",
     "text": [
      "[I 2024-05-14 16:00:17,687] Trial 47 finished with value: 7.9230158250866065 and parameters: {'ensemble_splitter': 0.1806189898176203}. Best is trial 43 with value: 7.9172952459562085.\n"
     ]
    },
    {
     "name": "stdout",
     "output_type": "stream",
     "text": [
      "Final MAE: ratio 21.045883668539968 & xgboost 15.430184893092218\n",
      "Final MAPE: ratio 0.5404465423649051 & xgboost 0.5144048317787553\n",
      "Final ensemble: MAE 15.344216490011465 & MAPE 0.5018151601617473\n"
     ]
    },
    {
     "name": "stderr",
     "output_type": "stream",
     "text": [
      "[I 2024-05-14 16:00:18,489] Trial 48 finished with value: 10.530339798682972 and parameters: {'ensemble_splitter': 0.9405290662061866}. Best is trial 43 with value: 7.9172952459562085.\n"
     ]
    },
    {
     "name": "stdout",
     "output_type": "stream",
     "text": [
      "Final MAE: ratio 21.045883668539968 & xgboost 15.430184893092218\n",
      "Final MAPE: ratio 0.5404465423649051 & xgboost 0.5144048317787553\n",
      "Final ensemble: MAE 20.52852009955469 & MAPE 0.5321594978112547\n"
     ]
    },
    {
     "name": "stderr",
     "output_type": "stream",
     "text": [
      "[I 2024-05-14 16:00:19,570] Trial 49 finished with value: 8.133696890484545 and parameters: {'ensemble_splitter': 0.3342996172709931}. Best is trial 43 with value: 7.9172952459562085.\n"
     ]
    },
    {
     "name": "stdout",
     "output_type": "stream",
     "text": [
      "Final MAE: ratio 21.045883668539968 & xgboost 15.430184893092218\n",
      "Final MAPE: ratio 0.5404465423649051 & xgboost 0.5144048317787553\n",
      "Final ensemble: MAE 15.767458360088616 & MAPE 0.4999354208804742\n"
     ]
    },
    {
     "name": "stderr",
     "output_type": "stream",
     "text": [
      "[I 2024-05-14 16:00:20,630] Trial 50 finished with value: 7.931473939987444 and parameters: {'ensemble_splitter': 0.08208200575406915}. Best is trial 43 with value: 7.9172952459562085.\n"
     ]
    },
    {
     "name": "stdout",
     "output_type": "stream",
     "text": [
      "Final MAE: ratio 21.045883668539968 & xgboost 15.430184893092218\n",
      "Final MAPE: ratio 0.5404465423649051 & xgboost 0.5144048317787553\n",
      "Final ensemble: MAE 15.35594088902019 & MAPE 0.5070069909546983\n"
     ]
    },
    {
     "name": "stderr",
     "output_type": "stream",
     "text": [
      "[I 2024-05-14 16:00:21,447] Trial 51 finished with value: 7.920958999597329 and parameters: {'ensemble_splitter': 0.1766198842517916}. Best is trial 43 with value: 7.9172952459562085.\n"
     ]
    },
    {
     "name": "stdout",
     "output_type": "stream",
     "text": [
      "Final MAE: ratio 21.045883668539968 & xgboost 15.430184893092218\n",
      "Final MAPE: ratio 0.5404465423649051 & xgboost 0.5144048317787553\n",
      "Final ensemble: MAE 15.339943260199234 & MAPE 0.5019747389954233\n"
     ]
    },
    {
     "name": "stderr",
     "output_type": "stream",
     "text": [
      "[I 2024-05-14 16:00:22,380] Trial 52 finished with value: 7.9173435319086956 and parameters: {'ensemble_splitter': 0.16786437234438314}. Best is trial 43 with value: 7.9172952459562085.\n"
     ]
    },
    {
     "name": "stdout",
     "output_type": "stream",
     "text": [
      "Final MAE: ratio 21.045883668539968 & xgboost 15.430184893092218\n",
      "Final MAPE: ratio 0.5404465423649051 & xgboost 0.5144048317787553\n",
      "Final ensemble: MAE 15.332361151182146 & MAPE 0.5023259126352445\n"
     ]
    },
    {
     "name": "stderr",
     "output_type": "stream",
     "text": [
      "[I 2024-05-14 16:00:23,248] Trial 53 finished with value: 7.959500651955126 and parameters: {'ensemble_splitter': 0.22903237040072977}. Best is trial 43 with value: 7.9172952459562085.\n"
     ]
    },
    {
     "name": "stdout",
     "output_type": "stream",
     "text": [
      "Final MAE: ratio 21.045883668539968 & xgboost 15.430184893092218\n",
      "Final MAPE: ratio 0.5404465423649051 & xgboost 0.5144048317787553\n",
      "Final ensemble: MAE 15.418666605877233 & MAPE 0.5003346980330188\n"
     ]
    },
    {
     "name": "stderr",
     "output_type": "stream",
     "text": [
      "[I 2024-05-14 16:00:23,953] Trial 54 finished with value: 9.592339976487173 and parameters: {'ensemble_splitter': 0.7151562987628299}. Best is trial 43 with value: 7.9172952459562085.\n"
     ]
    },
    {
     "name": "stdout",
     "output_type": "stream",
     "text": [
      "Final MAE: ratio 21.045883668539968 & xgboost 15.430184893092218\n",
      "Final MAPE: ratio 0.5404465423649051 & xgboost 0.5144048317787553\n",
      "Final ensemble: MAE 18.67192099438644 & MAPE 0.5127589585879069\n"
     ]
    },
    {
     "name": "stderr",
     "output_type": "stream",
     "text": [
      "[I 2024-05-14 16:00:25,582] Trial 55 finished with value: 7.927236914454022 and parameters: {'ensemble_splitter': 0.10011035155299287}. Best is trial 43 with value: 7.9172952459562085.\n"
     ]
    },
    {
     "name": "stdout",
     "output_type": "stream",
     "text": [
      "Final MAE: ratio 21.045883668539968 & xgboost 15.430184893092218\n",
      "Final MAPE: ratio 0.5404465423649051 & xgboost 0.5144048317787553\n",
      "Final ensemble: MAE 15.348664568860514 & MAPE 0.5058092600475291\n"
     ]
    },
    {
     "name": "stderr",
     "output_type": "stream",
     "text": [
      "[I 2024-05-14 16:00:26,919] Trial 56 finished with value: 7.970639249905658 and parameters: {'ensemble_splitter': 0.001213989411166877}. Best is trial 43 with value: 7.9172952459562085.\n"
     ]
    },
    {
     "name": "stdout",
     "output_type": "stream",
     "text": [
      "Final MAE: ratio 21.045883668539968 & xgboost 15.430184893092218\n",
      "Final MAPE: ratio 0.5404465423649051 & xgboost 0.5144048317787553\n",
      "Final ensemble: MAE 15.427007444421774 & MAPE 0.5142710553895431\n"
     ]
    },
    {
     "name": "stderr",
     "output_type": "stream",
     "text": [
      "[I 2024-05-14 16:00:27,940] Trial 57 finished with value: 10.323939467203127 and parameters: {'ensemble_splitter': 0.8930049792287661}. Best is trial 43 with value: 7.9172952459562085.\n"
     ]
    },
    {
     "name": "stdout",
     "output_type": "stream",
     "text": [
      "Final MAE: ratio 21.045883668539968 & xgboost 15.430184893092218\n",
      "Final MAPE: ratio 0.5404465423649051 & xgboost 0.5144048317787553\n",
      "Final ensemble: MAE 20.121762636489 & MAPE 0.5261162979172569\n"
     ]
    },
    {
     "name": "stderr",
     "output_type": "stream",
     "text": [
      "[I 2024-05-14 16:00:28,698] Trial 58 finished with value: 8.01284633487021 and parameters: {'ensemble_splitter': 0.27219461011914287}. Best is trial 43 with value: 7.9172952459562085.\n"
     ]
    },
    {
     "name": "stdout",
     "output_type": "stream",
     "text": [
      "Final MAE: ratio 21.045883668539968 & xgboost 15.430184893092218\n",
      "Final MAPE: ratio 0.5404465423649051 & xgboost 0.5144048317787553\n",
      "Final ensemble: MAE 15.52579454120412 & MAPE 0.499898128536299\n"
     ]
    },
    {
     "name": "stderr",
     "output_type": "stream",
     "text": [
      "[I 2024-05-14 16:00:29,360] Trial 59 finished with value: 7.917295322108175 and parameters: {'ensemble_splitter': 0.16396842660840255}. Best is trial 43 with value: 7.9172952459562085.\n"
     ]
    },
    {
     "name": "stdout",
     "output_type": "stream",
     "text": [
      "Final MAE: ratio 21.045883668539968 & xgboost 15.430184893092218\n",
      "Final MAPE: ratio 0.5404465423649051 & xgboost 0.5144048317787553\n",
      "Final ensemble: MAE 15.332105310579028 & MAPE 0.5024853336373224\n"
     ]
    },
    {
     "name": "stderr",
     "output_type": "stream",
     "text": [
      "[I 2024-05-14 16:00:29,952] Trial 60 finished with value: 7.954328232553783 and parameters: {'ensemble_splitter': 0.22407446380278329}. Best is trial 43 with value: 7.9172952459562085.\n"
     ]
    },
    {
     "name": "stdout",
     "output_type": "stream",
     "text": [
      "Final MAE: ratio 21.045883668539968 & xgboost 15.430184893092218\n",
      "Final MAPE: ratio 0.5404465423649051 & xgboost 0.5144048317787553\n",
      "Final ensemble: MAE 15.40820678897683 & MAPE 0.5004496761307345\n"
     ]
    },
    {
     "name": "stderr",
     "output_type": "stream",
     "text": [
      "[I 2024-05-14 16:00:30,551] Trial 61 finished with value: 7.917263851042558 and parameters: {'ensemble_splitter': 0.16142517684176702}. Best is trial 61 with value: 7.917263851042558.\n"
     ]
    },
    {
     "name": "stdout",
     "output_type": "stream",
     "text": [
      "Final MAE: ratio 21.045883668539968 & xgboost 15.430184893092218\n",
      "Final MAPE: ratio 0.5404465423649051 & xgboost 0.5144048317787553\n",
      "Final ensemble: MAE 15.331938299383745 & MAPE 0.5025894027013718\n"
     ]
    },
    {
     "name": "stderr",
     "output_type": "stream",
     "text": [
      "[I 2024-05-14 16:00:31,141] Trial 62 finished with value: 7.927695554769157 and parameters: {'ensemble_splitter': 0.09807847588265511}. Best is trial 61 with value: 7.917263851042558.\n"
     ]
    },
    {
     "name": "stdout",
     "output_type": "stream",
     "text": [
      "Final MAE: ratio 21.045883668539968 & xgboost 15.430184893092218\n",
      "Final MAPE: ratio 0.5404465423649051 & xgboost 0.5144048317787553\n",
      "Final ensemble: MAE 15.349456305590838 & MAPE 0.5059348039474757\n"
     ]
    },
    {
     "name": "stderr",
     "output_type": "stream",
     "text": [
      "[I 2024-05-14 16:00:31,793] Trial 63 finished with value: 7.929809230549595 and parameters: {'ensemble_splitter': 0.1938274733470141}. Best is trial 61 with value: 7.917263851042558.\n"
     ]
    },
    {
     "name": "stdout",
     "output_type": "stream",
     "text": [
      "Final MAE: ratio 21.045883668539968 & xgboost 15.430184893092218\n",
      "Final MAPE: ratio 0.5404465423649051 & xgboost 0.5144048317787553\n",
      "Final ensemble: MAE 15.358330367393068 & MAPE 0.5012880937061234\n"
     ]
    },
    {
     "name": "stderr",
     "output_type": "stream",
     "text": [
      "[I 2024-05-14 16:00:32,630] Trial 64 finished with value: 7.94175193436166 and parameters: {'ensemble_splitter': 0.04148266761759563}. Best is trial 61 with value: 7.917263851042558.\n"
     ]
    },
    {
     "name": "stdout",
     "output_type": "stream",
     "text": [
      "Final MAE: ratio 21.045883668539968 & xgboost 15.430184893092218\n",
      "Final MAPE: ratio 0.5404465423649051 & xgboost 0.5144048317787553\n",
      "Final ensemble: MAE 15.373505957389993 & MAPE 0.5099979113333278\n"
     ]
    },
    {
     "name": "stderr",
     "output_type": "stream",
     "text": [
      "[I 2024-05-14 16:00:33,934] Trial 65 finished with value: 7.917525541211876 and parameters: {'ensemble_splitter': 0.15604273956678127}. Best is trial 61 with value: 7.917263851042558.\n"
     ]
    },
    {
     "name": "stdout",
     "output_type": "stream",
     "text": [
      "Final MAE: ratio 21.045883668539968 & xgboost 15.430184893092218\n",
      "Final MAPE: ratio 0.5404465423649051 & xgboost 0.5144048317787553\n",
      "Final ensemble: MAE 15.33223301410171 & MAPE 0.5028180683220409\n"
     ]
    },
    {
     "name": "stderr",
     "output_type": "stream",
     "text": [
      "[I 2024-05-14 16:00:34,965] Trial 66 finished with value: 7.922050396446694 and parameters: {'ensemble_splitter': 0.12308774670364525}. Best is trial 61 with value: 7.917263851042558.\n"
     ]
    },
    {
     "name": "stdout",
     "output_type": "stream",
     "text": [
      "Final MAE: ratio 21.045883668539968 & xgboost 15.430184893092218\n",
      "Final MAPE: ratio 0.5404465423649051 & xgboost 0.5144048317787553\n",
      "Final ensemble: MAE 15.339711241659709 & MAPE 0.5043895512336783\n"
     ]
    },
    {
     "name": "stderr",
     "output_type": "stream",
     "text": [
      "[I 2024-05-14 16:00:35,776] Trial 67 finished with value: 8.035170157084293 and parameters: {'ensemble_splitter': 0.28815905625721694}. Best is trial 61 with value: 7.917263851042558.\n"
     ]
    },
    {
     "name": "stdout",
     "output_type": "stream",
     "text": [
      "Final MAE: ratio 21.045883668539968 & xgboost 15.430184893092218\n",
      "Final MAPE: ratio 0.5404465423649051 & xgboost 0.5144048317787553\n",
      "Final ensemble: MAE 15.570467351083057 & MAPE 0.49987296308552986\n"
     ]
    },
    {
     "name": "stderr",
     "output_type": "stream",
     "text": [
      "[I 2024-05-14 16:00:36,528] Trial 68 finished with value: 8.41339146793029 and parameters: {'ensemble_splitter': 0.4147287650279651}. Best is trial 61 with value: 7.917263851042558.\n"
     ]
    },
    {
     "name": "stdout",
     "output_type": "stream",
     "text": [
      "Final MAE: ratio 21.045883668539968 & xgboost 15.430184893092218\n",
      "Final MAPE: ratio 0.5404465423649051 & xgboost 0.5144048317787553\n",
      "Final ensemble: MAE 16.32526980381642 & MAPE 0.5015131320441621\n"
     ]
    },
    {
     "name": "stderr",
     "output_type": "stream",
     "text": [
      "[I 2024-05-14 16:00:37,141] Trial 69 finished with value: 8.09396153862305 and parameters: {'ensemble_splitter': 0.3200272366300825}. Best is trial 61 with value: 7.917263851042558.\n"
     ]
    },
    {
     "name": "stdout",
     "output_type": "stream",
     "text": [
      "Final MAE: ratio 21.045883668539968 & xgboost 15.430184893092218\n",
      "Final MAPE: ratio 0.5404465423649051 & xgboost 0.5144048317787553\n",
      "Final ensemble: MAE 15.68804690539565 & MAPE 0.4998761718504523\n"
     ]
    },
    {
     "name": "stderr",
     "output_type": "stream",
     "text": [
      "[I 2024-05-14 16:00:37,801] Trial 70 finished with value: 7.936693955259675 and parameters: {'ensemble_splitter': 0.205978530445315}. Best is trial 61 with value: 7.917263851042558.\n"
     ]
    },
    {
     "name": "stdout",
     "output_type": "stream",
     "text": [
      "Final MAE: ratio 21.045883668539968 & xgboost 15.430184893092218\n",
      "Final MAPE: ratio 0.5404465423649051 & xgboost 0.5144048317787553\n",
      "Final ensemble: MAE 15.372499997945537 & MAPE 0.5008879125738132\n"
     ]
    },
    {
     "name": "stderr",
     "output_type": "stream",
     "text": [
      "[I 2024-05-14 16:00:38,393] Trial 71 finished with value: 7.923038623840469 and parameters: {'ensemble_splitter': 0.1806633176538662}. Best is trial 61 with value: 7.917263851042558.\n"
     ]
    },
    {
     "name": "stdout",
     "output_type": "stream",
     "text": [
      "Final MAE: ratio 21.045883668539968 & xgboost 15.430184893092218\n",
      "Final MAPE: ratio 0.5404465423649051 & xgboost 0.5144048317787553\n",
      "Final ensemble: MAE 15.34426385636082 & MAPE 0.5018133913201174\n"
     ]
    },
    {
     "name": "stderr",
     "output_type": "stream",
     "text": [
      "[I 2024-05-14 16:00:39,247] Trial 72 finished with value: 7.917375828159466 and parameters: {'ensemble_splitter': 0.15883969601098752}. Best is trial 61 with value: 7.917263851042558.\n"
     ]
    },
    {
     "name": "stdout",
     "output_type": "stream",
     "text": [
      "Final MAE: ratio 21.045883668539968 & xgboost 15.430184893092218\n",
      "Final MAPE: ratio 0.5404465423649051 & xgboost 0.5144048317787553\n",
      "Final ensemble: MAE 15.332052764912197 & MAPE 0.5026988914067358\n"
     ]
    },
    {
     "name": "stderr",
     "output_type": "stream",
     "text": [
      "[I 2024-05-14 16:00:40,575] Trial 73 finished with value: 7.9174777313058495 and parameters: {'ensemble_splitter': 0.1569359297235478}. Best is trial 61 with value: 7.917263851042558.\n"
     ]
    },
    {
     "name": "stdout",
     "output_type": "stream",
     "text": [
      "Final MAE: ratio 21.045883668539968 & xgboost 15.430184893092218\n",
      "Final MAPE: ratio 0.5404465423649051 & xgboost 0.5144048317787553\n",
      "Final ensemble: MAE 15.332175452675546 & MAPE 0.5027800099361532\n"
     ]
    },
    {
     "name": "stderr",
     "output_type": "stream",
     "text": [
      "[I 2024-05-14 16:00:41,811] Trial 74 finished with value: 7.924147141299356 and parameters: {'ensemble_splitter': 0.11379871407298334}. Best is trial 61 with value: 7.917263851042558.\n"
     ]
    },
    {
     "name": "stdout",
     "output_type": "stream",
     "text": [
      "Final MAE: ratio 21.045883668539968 & xgboost 15.430184893092218\n",
      "Final MAPE: ratio 0.5404465423649051 & xgboost 0.5144048317787553\n",
      "Final ensemble: MAE 15.343330788086806 & MAPE 0.5049634945119058\n"
     ]
    },
    {
     "name": "stderr",
     "output_type": "stream",
     "text": [
      "[I 2024-05-14 16:00:42,556] Trial 75 finished with value: 7.978202188715524 and parameters: {'ensemble_splitter': 0.246686742867543}. Best is trial 61 with value: 7.917263851042558.\n"
     ]
    },
    {
     "name": "stdout",
     "output_type": "stream",
     "text": [
      "Final MAE: ratio 21.045883668539968 & xgboost 15.430184893092218\n",
      "Final MAPE: ratio 0.5404465423649051 & xgboost 0.5144048317787553\n",
      "Final ensemble: MAE 15.45642243622433 & MAPE 0.49998194120671813\n"
     ]
    },
    {
     "name": "stderr",
     "output_type": "stream",
     "text": [
      "[I 2024-05-14 16:00:43,210] Trial 76 finished with value: 7.934268177694221 and parameters: {'ensemble_splitter': 0.07065798423474562}. Best is trial 61 with value: 7.917263851042558.\n"
     ]
    },
    {
     "name": "stdout",
     "output_type": "stream",
     "text": [
      "Final MAE: ratio 21.045883668539968 & xgboost 15.430184893092218\n",
      "Final MAPE: ratio 0.5404465423649051 & xgboost 0.5144048317787553\n",
      "Final ensemble: MAE 15.360715717402751 & MAPE 0.5078206379856921\n"
     ]
    },
    {
     "name": "stderr",
     "output_type": "stream",
     "text": [
      "[I 2024-05-14 16:00:43,852] Trial 77 finished with value: 7.932321050975899 and parameters: {'ensemble_splitter': 0.19855163828846933}. Best is trial 61 with value: 7.917263851042558.\n"
     ]
    },
    {
     "name": "stdout",
     "output_type": "stream",
     "text": [
      "Final MAE: ratio 21.045883668539968 & xgboost 15.430184893092218\n",
      "Final MAPE: ratio 0.5404465423649051 & xgboost 0.5144048317787553\n",
      "Final ensemble: MAE 15.363531575394733 & MAPE 0.5011105265570658\n"
     ]
    },
    {
     "name": "stderr",
     "output_type": "stream",
     "text": [
      "[I 2024-05-14 16:00:44,488] Trial 78 finished with value: 7.94672322192956 and parameters: {'ensemble_splitter': 0.027307890914546162}. Best is trial 61 with value: 7.917263851042558.\n"
     ]
    },
    {
     "name": "stdout",
     "output_type": "stream",
     "text": [
      "Final MAE: ratio 21.045883668539968 & xgboost 15.430184893092218\n",
      "Final MAPE: ratio 0.5404465423649051 & xgboost 0.5144048317787553\n",
      "Final ensemble: MAE 15.3819906378147 & MAPE 0.5114558060444188\n"
     ]
    },
    {
     "name": "stderr",
     "output_type": "stream",
     "text": [
      "[I 2024-05-14 16:00:45,105] Trial 79 finished with value: 7.9172630541957085 and parameters: {'ensemble_splitter': 0.16136078180077265}. Best is trial 79 with value: 7.9172630541957085.\n"
     ]
    },
    {
     "name": "stdout",
     "output_type": "stream",
     "text": [
      "Final MAE: ratio 21.045883668539968 & xgboost 15.430184893092218\n",
      "Final MAPE: ratio 0.5404465423649051 & xgboost 0.5144048317787553\n",
      "Final ensemble: MAE 15.331934070663108 & MAPE 0.5025920377283101\n"
     ]
    },
    {
     "name": "stderr",
     "output_type": "stream",
     "text": [
      "[I 2024-05-14 16:00:45,688] Trial 80 finished with value: 7.923899725994374 and parameters: {'ensemble_splitter': 0.11489481732002882}. Best is trial 79 with value: 7.9172630541957085.\n"
     ]
    },
    {
     "name": "stdout",
     "output_type": "stream",
     "text": [
      "Final MAE: ratio 21.045883668539968 & xgboost 15.430184893092218\n",
      "Final MAPE: ratio 0.5404465423649051 & xgboost 0.5144048317787553\n",
      "Final ensemble: MAE 15.342903682622818 & MAPE 0.5048957693659304\n"
     ]
    },
    {
     "name": "stderr",
     "output_type": "stream",
     "text": [
      "[I 2024-05-14 16:00:46,272] Trial 81 finished with value: 7.917379730881466 and parameters: {'ensemble_splitter': 0.15876678491045257}. Best is trial 79 with value: 7.9172630541957085.\n"
     ]
    },
    {
     "name": "stdout",
     "output_type": "stream",
     "text": [
      "Final MAE: ratio 21.045883668539968 & xgboost 15.430184893092218\n",
      "Final MAPE: ratio 0.5404465423649051 & xgboost 0.5144048317787553\n",
      "Final ensemble: MAE 15.332057463650665 & MAPE 0.502701998112266\n"
     ]
    },
    {
     "name": "stderr",
     "output_type": "stream",
     "text": [
      "[I 2024-05-14 16:00:46,868] Trial 82 finished with value: 7.94312643963689 and parameters: {'ensemble_splitter': 0.21333723646252845}. Best is trial 79 with value: 7.9172630541957085.\n"
     ]
    },
    {
     "name": "stdout",
     "output_type": "stream",
     "text": [
      "Final MAE: ratio 21.045883668539968 & xgboost 15.430184893092218\n",
      "Final MAPE: ratio 0.5404465423649051 & xgboost 0.5144048317787553\n",
      "Final ensemble: MAE 15.385554197650517 & MAPE 0.5006986816232618\n"
     ]
    },
    {
     "name": "stderr",
     "output_type": "stream",
     "text": [
      "[I 2024-05-14 16:00:47,692] Trial 83 finished with value: 7.917302882135018 and parameters: {'ensemble_splitter': 0.16457936990269606}. Best is trial 79 with value: 7.9172630541957085.\n"
     ]
    },
    {
     "name": "stdout",
     "output_type": "stream",
     "text": [
      "Final MAE: ratio 21.045883668539968 & xgboost 15.430184893092218\n",
      "Final MAPE: ratio 0.5404465423649051 & xgboost 0.5144048317787553\n",
      "Final ensemble: MAE 15.332145430260221 & MAPE 0.5024603340098147\n"
     ]
    },
    {
     "name": "stderr",
     "output_type": "stream",
     "text": [
      "[I 2024-05-14 16:00:48,339] Trial 84 finished with value: 7.920183270931037 and parameters: {'ensemble_splitter': 0.17511162755080958}. Best is trial 79 with value: 7.9172630541957085.\n"
     ]
    },
    {
     "name": "stdout",
     "output_type": "stream",
     "text": [
      "Final MAE: ratio 21.045883668539968 & xgboost 15.430184893092218\n",
      "Final MAPE: ratio 0.5404465423649051 & xgboost 0.5144048317787553\n",
      "Final ensemble: MAE 15.338331617947482 & MAPE 0.5020349239145923\n"
     ]
    },
    {
     "name": "stderr",
     "output_type": "stream",
     "text": [
      "[I 2024-05-14 16:00:48,947] Trial 85 finished with value: 7.964375280516875 and parameters: {'ensemble_splitter': 0.23370483626892247}. Best is trial 79 with value: 7.9172630541957085.\n"
     ]
    },
    {
     "name": "stdout",
     "output_type": "stream",
     "text": [
      "Final MAE: ratio 21.045883668539968 & xgboost 15.430184893092218\n",
      "Final MAPE: ratio 0.5404465423649051 & xgboost 0.5144048317787553\n",
      "Final ensemble: MAE 15.4285242214836 & MAPE 0.5002263395501486\n"
     ]
    },
    {
     "name": "stderr",
     "output_type": "stream",
     "text": [
      "[I 2024-05-14 16:00:49,544] Trial 86 finished with value: 7.919093018616275 and parameters: {'ensemble_splitter': 0.1407200634821523}. Best is trial 79 with value: 7.9172630541957085.\n"
     ]
    },
    {
     "name": "stdout",
     "output_type": "stream",
     "text": [
      "Final MAE: ratio 21.045883668539968 & xgboost 15.430184893092218\n",
      "Final MAPE: ratio 0.5404465423649051 & xgboost 0.5144048317787553\n",
      "Final ensemble: MAE 15.334681410400142 & MAPE 0.5035046268324083\n"
     ]
    },
    {
     "name": "stderr",
     "output_type": "stream",
     "text": [
      "[I 2024-05-14 16:00:50,141] Trial 87 finished with value: 7.936448404829125 and parameters: {'ensemble_splitter': 0.061744296739330864}. Best is trial 79 with value: 7.9172630541957085.\n"
     ]
    },
    {
     "name": "stdout",
     "output_type": "stream",
     "text": [
      "Final MAE: ratio 21.045883668539968 & xgboost 15.430184893092218\n",
      "Final MAPE: ratio 0.5404465423649051 & xgboost 0.5144048317787553\n",
      "Final ensemble: MAE 15.364441316831503 & MAPE 0.5084554928267472\n"
     ]
    },
    {
     "name": "stderr",
     "output_type": "stream",
     "text": [
      "[I 2024-05-14 16:00:50,730] Trial 88 finished with value: 8.024012753825007 and parameters: {'ensemble_splitter': 0.2801800568875934}. Best is trial 79 with value: 7.9172630541957085.\n"
     ]
    },
    {
     "name": "stdout",
     "output_type": "stream",
     "text": [
      "Final MAE: ratio 21.045883668539968 & xgboost 15.430184893092218\n",
      "Final MAPE: ratio 0.5404465423649051 & xgboost 0.5144048317787553\n",
      "Final ensemble: MAE 15.548139966920756 & MAPE 0.4998855407292567\n"
     ]
    },
    {
     "name": "stderr",
     "output_type": "stream",
     "text": [
      "[I 2024-05-14 16:00:51,330] Trial 89 finished with value: 7.929596344313215 and parameters: {'ensemble_splitter': 0.08975840827885416}. Best is trial 79 with value: 7.9172630541957085.\n"
     ]
    },
    {
     "name": "stdout",
     "output_type": "stream",
     "text": [
      "Final MAE: ratio 21.045883668539968 & xgboost 15.430184893092218\n",
      "Final MAPE: ratio 0.5404465423649051 & xgboost 0.5144048317787553\n",
      "Final ensemble: MAE 15.35273243002097 & MAPE 0.5064602586054604\n"
     ]
    },
    {
     "name": "stderr",
     "output_type": "stream",
     "text": [
      "[I 2024-05-14 16:00:51,912] Trial 90 finished with value: 7.917347788840829 and parameters: {'ensemble_splitter': 0.1682083848986513}. Best is trial 79 with value: 7.9172630541957085.\n"
     ]
    },
    {
     "name": "stdout",
     "output_type": "stream",
     "text": [
      "Final MAE: ratio 21.045883668539968 & xgboost 15.430184893092218\n",
      "Final MAPE: ratio 0.5404465423649051 & xgboost 0.5144048317787553\n",
      "Final ensemble: MAE 15.332383741943229 & MAPE 0.5023118357384279\n"
     ]
    },
    {
     "name": "stderr",
     "output_type": "stream",
     "text": [
      "[I 2024-05-14 16:00:52,508] Trial 91 finished with value: 7.918515013802648 and parameters: {'ensemble_splitter': 0.1718680191833914}. Best is trial 79 with value: 7.9172630541957085.\n"
     ]
    },
    {
     "name": "stdout",
     "output_type": "stream",
     "text": [
      "Final MAE: ratio 21.045883668539968 & xgboost 15.430184893092218\n",
      "Final MAPE: ratio 0.5404465423649051 & xgboost 0.5144048317787553\n",
      "Final ensemble: MAE 15.334865671938616 & MAPE 0.5021643556666809\n"
     ]
    },
    {
     "name": "stderr",
     "output_type": "stream",
     "text": [
      "[I 2024-05-14 16:00:53,089] Trial 92 finished with value: 8.940212055331157 and parameters: {'ensemble_splitter': 0.5502758235746084}. Best is trial 79 with value: 7.9172630541957085.\n"
     ]
    },
    {
     "name": "stdout",
     "output_type": "stream",
     "text": [
      "Final MAE: ratio 21.045883668539968 & xgboost 15.430184893092218\n",
      "Final MAPE: ratio 0.5404465423649051 & xgboost 0.5144048317787553\n",
      "Final ensemble: MAE 17.37443815913234 & MAPE 0.5059859515299753\n"
     ]
    },
    {
     "name": "stderr",
     "output_type": "stream",
     "text": [
      "[I 2024-05-14 16:00:53,824] Trial 93 finished with value: 7.976120536650079 and parameters: {'ensemble_splitter': 0.2447674279487675}. Best is trial 79 with value: 7.9172630541957085.\n"
     ]
    },
    {
     "name": "stdout",
     "output_type": "stream",
     "text": [
      "Final MAE: ratio 21.045883668539968 & xgboost 15.430184893092218\n",
      "Final MAPE: ratio 0.5404465423649051 & xgboost 0.5144048317787553\n",
      "Final ensemble: MAE 15.452230480440143 & MAPE 0.5000105928600157\n"
     ]
    },
    {
     "name": "stderr",
     "output_type": "stream",
     "text": [
      "[I 2024-05-14 16:00:54,489] Trial 94 finished with value: 7.920006640484845 and parameters: {'ensemble_splitter': 0.13468136377534454}. Best is trial 79 with value: 7.9172630541957085.\n"
     ]
    },
    {
     "name": "stdout",
     "output_type": "stream",
     "text": [
      "Final MAE: ratio 21.045883668539968 & xgboost 15.430184893092218\n",
      "Final MAPE: ratio 0.5404465423649051 & xgboost 0.5144048317787553\n",
      "Final ensemble: MAE 15.336225429675164 & MAPE 0.5037878512945259\n"
     ]
    },
    {
     "name": "stderr",
     "output_type": "stream",
     "text": [
      "[I 2024-05-14 16:00:55,120] Trial 95 finished with value: 7.931355571786514 and parameters: {'ensemble_splitter': 0.19683403947502429}. Best is trial 79 with value: 7.9172630541957085.\n"
     ]
    },
    {
     "name": "stdout",
     "output_type": "stream",
     "text": [
      "Final MAE: ratio 21.045883668539968 & xgboost 15.430184893092218\n",
      "Final MAPE: ratio 0.5404465423649051 & xgboost 0.5144048317787553\n",
      "Final ensemble: MAE 15.36154302277289 & MAPE 0.5011681208001376\n"
     ]
    },
    {
     "name": "stderr",
     "output_type": "stream",
     "text": [
      "[I 2024-05-14 16:00:55,721] Trial 96 finished with value: 7.9256260820198 and parameters: {'ensemble_splitter': 0.10724668720443475}. Best is trial 79 with value: 7.9172630541957085.\n"
     ]
    },
    {
     "name": "stdout",
     "output_type": "stream",
     "text": [
      "Final MAE: ratio 21.045883668539968 & xgboost 15.430184893092218\n",
      "Final MAPE: ratio 0.5404465423649051 & xgboost 0.5144048317787553\n",
      "Final ensemble: MAE 15.34588383816048 & MAPE 0.5053683258791204\n"
     ]
    },
    {
     "name": "stderr",
     "output_type": "stream",
     "text": [
      "[I 2024-05-14 16:00:56,364] Trial 97 finished with value: 7.917557460097686 and parameters: {'ensemble_splitter': 0.15544642727517222}. Best is trial 79 with value: 7.9172630541957085.\n"
     ]
    },
    {
     "name": "stdout",
     "output_type": "stream",
     "text": [
      "Final MAE: ratio 21.045883668539968 & xgboost 15.430184893092218\n",
      "Final MAPE: ratio 0.5404465423649051 & xgboost 0.5144048317787553\n",
      "Final ensemble: MAE 15.332271443304807 & MAPE 0.5028434768905652\n"
     ]
    },
    {
     "name": "stderr",
     "output_type": "stream",
     "text": [
      "[I 2024-05-14 16:00:56,953] Trial 98 finished with value: 7.950725123632122 and parameters: {'ensemble_splitter': 0.22062078456495043}. Best is trial 79 with value: 7.9172630541957085.\n"
     ]
    },
    {
     "name": "stdout",
     "output_type": "stream",
     "text": [
      "Final MAE: ratio 21.045883668539968 & xgboost 15.430184893092218\n",
      "Final MAPE: ratio 0.5404465423649051 & xgboost 0.5144048317787553\n",
      "Final ensemble: MAE 15.400920477355815 & MAPE 0.5005297699084295\n"
     ]
    },
    {
     "name": "stderr",
     "output_type": "stream",
     "text": [
      "[I 2024-05-14 16:00:57,560] Trial 99 finished with value: 7.920726875121192 and parameters: {'ensemble_splitter': 0.12992088152665676}. Best is trial 79 with value: 7.9172630541957085.\n"
     ]
    },
    {
     "name": "stdout",
     "output_type": "stream",
     "text": [
      "Final MAE: ratio 21.045883668539968 & xgboost 15.430184893092218\n",
      "Final MAPE: ratio 0.5404465423649051 & xgboost 0.5144048317787553\n",
      "Final ensemble: MAE 15.337442624883941 & MAPE 0.5040111253584416\n"
     ]
    },
    {
     "name": "stderr",
     "output_type": "stream",
     "text": [
      "[I 2024-05-14 16:00:58,179] Trial 100 finished with value: 7.992541778515323 and parameters: {'ensemble_splitter': 0.2576742025842364}. Best is trial 79 with value: 7.9172630541957085.\n"
     ]
    },
    {
     "name": "stdout",
     "output_type": "stream",
     "text": [
      "Final MAE: ratio 21.045883668539968 & xgboost 15.430184893092218\n",
      "Final MAPE: ratio 0.5404465423649051 & xgboost 0.5144048317787553\n",
      "Final ensemble: MAE 15.485162539344433 & MAPE 0.4999210176862137\n"
     ]
    },
    {
     "name": "stderr",
     "output_type": "stream",
     "text": [
      "[I 2024-05-14 16:00:58,771] Trial 101 finished with value: 7.917279435932354 and parameters: {'ensemble_splitter': 0.16064050667152288}. Best is trial 79 with value: 7.9172630541957085.\n"
     ]
    },
    {
     "name": "stdout",
     "output_type": "stream",
     "text": [
      "Final MAE: ratio 21.045883668539968 & xgboost 15.430184893092218\n",
      "Final MAPE: ratio 0.5404465423649051 & xgboost 0.5144048317787553\n",
      "Final ensemble: MAE 15.331936712099617 & MAPE 0.5026221597650915\n"
     ]
    },
    {
     "name": "stderr",
     "output_type": "stream",
     "text": [
      "[I 2024-05-14 16:00:59,369] Trial 102 finished with value: 7.92148610560983 and parameters: {'ensemble_splitter': 0.17764474153762497}. Best is trial 79 with value: 7.9172630541957085.\n"
     ]
    },
    {
     "name": "stdout",
     "output_type": "stream",
     "text": [
      "Final MAE: ratio 21.045883668539968 & xgboost 15.430184893092218\n",
      "Final MAPE: ratio 0.5404465423649051 & xgboost 0.5144048317787553\n",
      "Final ensemble: MAE 15.341038367751414 & MAPE 0.501933843468245\n"
     ]
    },
    {
     "name": "stderr",
     "output_type": "stream",
     "text": [
      "[I 2024-05-14 16:01:00,130] Trial 103 finished with value: 7.9333820848388354 and parameters: {'ensemble_splitter': 0.20035368643849866}. Best is trial 79 with value: 7.9172630541957085.\n"
     ]
    },
    {
     "name": "stdout",
     "output_type": "stream",
     "text": [
      "Final MAE: ratio 21.045883668539968 & xgboost 15.430184893092218\n",
      "Final MAPE: ratio 0.5404465423649051 & xgboost 0.5144048317787553\n",
      "Final ensemble: MAE 15.36570765778895 & MAPE 0.50105651188872\n"
     ]
    },
    {
     "name": "stderr",
     "output_type": "stream",
     "text": [
      "[I 2024-05-14 16:01:00,772] Trial 104 finished with value: 7.918674886142046 and parameters: {'ensemble_splitter': 0.14348376314431013}. Best is trial 79 with value: 7.9172630541957085.\n"
     ]
    },
    {
     "name": "stdout",
     "output_type": "stream",
     "text": [
      "Final MAE: ratio 21.045883668539968 & xgboost 15.430184893092218\n",
      "Final MAPE: ratio 0.5404465423649051 & xgboost 0.5144048317787553\n",
      "Final ensemble: MAE 15.333974767288879 & MAPE 0.5033750049952128\n"
     ]
    },
    {
     "name": "stderr",
     "output_type": "stream",
     "text": [
      "[I 2024-05-14 16:01:01,351] Trial 105 finished with value: 7.931582870940673 and parameters: {'ensemble_splitter': 0.08163665010277096}. Best is trial 79 with value: 7.9172630541957085.\n"
     ]
    },
    {
     "name": "stdout",
     "output_type": "stream",
     "text": [
      "Final MAE: ratio 21.045883668539968 & xgboost 15.430184893092218\n",
      "Final MAPE: ratio 0.5404465423649051 & xgboost 0.5144048317787553\n",
      "Final ensemble: MAE 15.356127031597092 & MAPE 0.5070387102842533\n"
     ]
    },
    {
     "name": "stderr",
     "output_type": "stream",
     "text": [
      "[I 2024-05-14 16:01:01,945] Trial 106 finished with value: 7.923927626600262 and parameters: {'ensemble_splitter': 0.11477121160891994}. Best is trial 79 with value: 7.9172630541957085.\n"
     ]
    },
    {
     "name": "stdout",
     "output_type": "stream",
     "text": [
      "Final MAE: ratio 21.045883668539968 & xgboost 15.430184893092218\n",
      "Final MAPE: ratio 0.5404465423649051 & xgboost 0.5144048317787553\n",
      "Final ensemble: MAE 15.342951846584317 & MAPE 0.5049034066162085\n"
     ]
    },
    {
     "name": "stderr",
     "output_type": "stream",
     "text": [
      "[I 2024-05-14 16:01:02,562] Trial 107 finished with value: 9.486532826386785 and parameters: {'ensemble_splitter': 0.6888217850046667}. Best is trial 79 with value: 7.9172630541957085.\n"
     ]
    },
    {
     "name": "stdout",
     "output_type": "stream",
     "text": [
      "Final MAE: ratio 21.045883668539968 & xgboost 15.430184893092218\n",
      "Final MAPE: ratio 0.5404465423649051 & xgboost 0.5144048317787553\n",
      "Final ensemble: MAE 18.4618514839508 & MAPE 0.5112141688227723\n"
     ]
    },
    {
     "name": "stderr",
     "output_type": "stream",
     "text": [
      "[I 2024-05-14 16:01:03,166] Trial 108 finished with value: 7.917319734392611 and parameters: {'ensemble_splitter': 0.1659412399042819}. Best is trial 79 with value: 7.9172630541957085.\n"
     ]
    },
    {
     "name": "stdout",
     "output_type": "stream",
     "text": [
      "Final MAE: ratio 21.045883668539968 & xgboost 15.430184893092218\n",
      "Final MAPE: ratio 0.5404465423649051 & xgboost 0.5144048317787553\n",
      "Final ensemble: MAE 15.33223486211225 & MAPE 0.5024046066729718\n"
     ]
    },
    {
     "name": "stderr",
     "output_type": "stream",
     "text": [
      "[I 2024-05-14 16:01:03,788] Trial 109 finished with value: 8.069619232152906 and parameters: {'ensemble_splitter': 0.31122550743917354}. Best is trial 79 with value: 7.9172630541957085.\n"
     ]
    },
    {
     "name": "stdout",
     "output_type": "stream",
     "text": [
      "Final MAE: ratio 21.045883668539968 & xgboost 15.430184893092218\n",
      "Final MAPE: ratio 0.5404465423649051 & xgboost 0.5144048317787553\n",
      "Final ensemble: MAE 15.639388620932436 & MAPE 0.49984984337337407\n"
     ]
    },
    {
     "name": "stderr",
     "output_type": "stream",
     "text": [
      "[I 2024-05-14 16:01:04,437] Trial 110 finished with value: 7.946792360074045 and parameters: {'ensemble_splitter': 0.02711334572122029}. Best is trial 79 with value: 7.9172630541957085.\n"
     ]
    },
    {
     "name": "stdout",
     "output_type": "stream",
     "text": [
      "Final MAE: ratio 21.045883668539968 & xgboost 15.430184893092218\n",
      "Final MAPE: ratio 0.5404465423649051 & xgboost 0.5144048317787553\n",
      "Final ensemble: MAE 15.382108450625209 & MAPE 0.5114762695228805\n"
     ]
    },
    {
     "name": "stderr",
     "output_type": "stream",
     "text": [
      "[I 2024-05-14 16:01:05,100] Trial 111 finished with value: 7.918900474230985 and parameters: {'ensemble_splitter': 0.17261747359865098}. Best is trial 79 with value: 7.9172630541957085.\n"
     ]
    },
    {
     "name": "stdout",
     "output_type": "stream",
     "text": [
      "Final MAE: ratio 21.045883668539968 & xgboost 15.430184893092218\n",
      "Final MAPE: ratio 0.5404465423649051 & xgboost 0.5144048317787553\n",
      "Final ensemble: MAE 15.335666498747885 & MAPE 0.5021344497140842\n"
     ]
    },
    {
     "name": "stderr",
     "output_type": "stream",
     "text": [
      "[I 2024-05-14 16:01:05,724] Trial 112 finished with value: 7.91731126169219 and parameters: {'ensemble_splitter': 0.16004593417013424}. Best is trial 79 with value: 7.9172630541957085.\n"
     ]
    },
    {
     "name": "stdout",
     "output_type": "stream",
     "text": [
      "Final MAE: ratio 21.045883668539968 & xgboost 15.430184893092218\n",
      "Final MAPE: ratio 0.5404465423649051 & xgboost 0.5144048317787553\n",
      "Final ensemble: MAE 15.331975029182356 & MAPE 0.5026474942020244\n"
     ]
    },
    {
     "name": "stderr",
     "output_type": "stream",
     "text": [
      "[I 2024-05-14 16:01:06,456] Trial 113 finished with value: 7.945482171823516 and parameters: {'ensemble_splitter': 0.21559527071010517}. Best is trial 79 with value: 7.9172630541957085.\n"
     ]
    },
    {
     "name": "stdout",
     "output_type": "stream",
     "text": [
      "Final MAE: ratio 21.045883668539968 & xgboost 15.430184893092218\n",
      "Final MAPE: ratio 0.5404465423649051 & xgboost 0.5144048317787553\n",
      "Final ensemble: MAE 15.39031802777073 & MAPE 0.5006463158763009\n"
     ]
    },
    {
     "name": "stderr",
     "output_type": "stream",
     "text": [
      "[I 2024-05-14 16:01:07,075] Trial 114 finished with value: 7.921080164377266 and parameters: {'ensemble_splitter': 0.12758577134540772}. Best is trial 79 with value: 7.9172630541957085.\n"
     ]
    },
    {
     "name": "stdout",
     "output_type": "stream",
     "text": [
      "Final MAE: ratio 21.045883668539968 & xgboost 15.430184893092218\n",
      "Final MAPE: ratio 0.5404465423649051 & xgboost 0.5144048317787553\n",
      "Final ensemble: MAE 15.338039683075959 & MAPE 0.5041206456785735\n"
     ]
    },
    {
     "name": "stderr",
     "output_type": "stream",
     "text": [
      "[I 2024-05-14 16:01:07,675] Trial 115 finished with value: 7.9284277012509055 and parameters: {'ensemble_splitter': 0.19114135265447538}. Best is trial 79 with value: 7.9172630541957085.\n"
     ]
    },
    {
     "name": "stdout",
     "output_type": "stream",
     "text": [
      "Final MAE: ratio 21.045883668539968 & xgboost 15.430184893092218\n",
      "Final MAPE: ratio 0.5404465423649051 & xgboost 0.5144048317787553\n",
      "Final ensemble: MAE 15.355460122826182 & MAPE 0.5013952796756287\n"
     ]
    },
    {
     "name": "stderr",
     "output_type": "stream",
     "text": [
      "[I 2024-05-14 16:01:08,327] Trial 116 finished with value: 7.966316198685176 and parameters: {'ensemble_splitter': 0.23556525984366428}. Best is trial 79 with value: 7.9172630541957085.\n"
     ]
    },
    {
     "name": "stdout",
     "output_type": "stream",
     "text": [
      "Final MAE: ratio 21.045883668539968 & xgboost 15.430184893092218\n",
      "Final MAPE: ratio 0.5404465423649051 & xgboost 0.5144048317787553\n",
      "Final ensemble: MAE 15.432449202635327 & MAPE 0.5001831947350246\n"
     ]
    },
    {
     "name": "stderr",
     "output_type": "stream",
     "text": [
      "[I 2024-05-14 16:01:08,933] Trial 117 finished with value: 7.91729347155885 and parameters: {'ensemble_splitter': 0.1638188794280319}. Best is trial 79 with value: 7.9172630541957085.\n"
     ]
    },
    {
     "name": "stdout",
     "output_type": "stream",
     "text": [
      "Final MAE: ratio 21.045883668539968 & xgboost 15.430184893092218\n",
      "Final MAPE: ratio 0.5404465423649051 & xgboost 0.5144048317787553\n",
      "Final ensemble: MAE 15.332095490051882 & MAPE 0.5024914530658176\n"
     ]
    },
    {
     "name": "stderr",
     "output_type": "stream",
     "text": [
      "[I 2024-05-14 16:01:09,527] Trial 118 finished with value: 7.926629528707543 and parameters: {'ensemble_splitter': 0.10280120161579631}. Best is trial 79 with value: 7.9172630541957085.\n"
     ]
    },
    {
     "name": "stdout",
     "output_type": "stream",
     "text": [
      "Final MAE: ratio 21.045883668539968 & xgboost 15.430184893092218\n",
      "Final MAPE: ratio 0.5404465423649051 & xgboost 0.5144048317787553\n",
      "Final ensemble: MAE 15.347616057447338 & MAPE 0.5056429999677479\n"
     ]
    },
    {
     "name": "stderr",
     "output_type": "stream",
     "text": [
      "[I 2024-05-14 16:01:10,112] Trial 119 finished with value: 7.940751719297409 and parameters: {'ensemble_splitter': 0.21106100154694096}. Best is trial 79 with value: 7.9172630541957085.\n"
     ]
    },
    {
     "name": "stdout",
     "output_type": "stream",
     "text": [
      "Final MAE: ratio 21.045883668539968 & xgboost 15.430184893092218\n",
      "Final MAPE: ratio 0.5404465423649051 & xgboost 0.5144048317787553\n",
      "Final ensemble: MAE 15.380751969135524 & MAPE 0.5007514694592932\n"
     ]
    },
    {
     "name": "stderr",
     "output_type": "stream",
     "text": [
      "[I 2024-05-14 16:01:10,686] Trial 120 finished with value: 7.935383122684166 and parameters: {'ensemble_splitter': 0.06609961916543536}. Best is trial 79 with value: 7.9172630541957085.\n"
     ]
    },
    {
     "name": "stdout",
     "output_type": "stream",
     "text": [
      "Final MAE: ratio 21.045883668539968 & xgboost 15.430184893092218\n",
      "Final MAPE: ratio 0.5404465423649051 & xgboost 0.5144048317787553\n",
      "Final ensemble: MAE 15.362620949362821 & MAPE 0.5081452960055113\n"
     ]
    },
    {
     "name": "stderr",
     "output_type": "stream",
     "text": [
      "[I 2024-05-14 16:01:11,271] Trial 121 finished with value: 7.917291191636773 and parameters: {'ensemble_splitter': 0.16042088525101209}. Best is trial 79 with value: 7.9172630541957085.\n"
     ]
    },
    {
     "name": "stdout",
     "output_type": "stream",
     "text": [
      "Final MAE: ratio 21.045883668539968 & xgboost 15.430184893092218\n",
      "Final MAPE: ratio 0.5404465423649051 & xgboost 0.5144048317787553\n",
      "Final ensemble: MAE 15.33195086554956 & MAPE 0.5026315177239847\n"
     ]
    },
    {
     "name": "stderr",
     "output_type": "stream",
     "text": [
      "[I 2024-05-14 16:01:11,904] Trial 122 finished with value: 7.9184279500166035 and parameters: {'ensemble_splitter': 0.14520593618448147}. Best is trial 79 with value: 7.9172630541957085.\n"
     ]
    },
    {
     "name": "stdout",
     "output_type": "stream",
     "text": [
      "Final MAE: ratio 21.045883668539968 & xgboost 15.430184893092218\n",
      "Final MAPE: ratio 0.5404465423649051 & xgboost 0.5144048317787553\n",
      "Final ensemble: MAE 15.333561088109947 & MAPE 0.5032948119232588\n"
     ]
    },
    {
     "name": "stderr",
     "output_type": "stream",
     "text": [
      "[I 2024-05-14 16:01:12,631] Trial 123 finished with value: 7.918561992074634 and parameters: {'ensemble_splitter': 0.1719593594890914}. Best is trial 79 with value: 7.9172630541957085.\n"
     ]
    },
    {
     "name": "stdout",
     "output_type": "stream",
     "text": [
      "Final MAE: ratio 21.045883668539968 & xgboost 15.430184893092218\n",
      "Final MAPE: ratio 0.5404465423649051 & xgboost 0.5144048317787553\n",
      "Final ensemble: MAE 15.33496327329246 & MAPE 0.5021607108568079\n"
     ]
    },
    {
     "name": "stderr",
     "output_type": "stream",
     "text": [
      "[I 2024-05-14 16:01:13,221] Trial 124 finished with value: 7.922989391248716 and parameters: {'ensemble_splitter': 0.11892779689147517}. Best is trial 79 with value: 7.9172630541957085.\n"
     ]
    },
    {
     "name": "stdout",
     "output_type": "stream",
     "text": [
      "Final MAE: ratio 21.045883668539968 & xgboost 15.430184893092218\n",
      "Final MAPE: ratio 0.5404465423649051 & xgboost 0.5144048317787553\n",
      "Final ensemble: MAE 15.341332199630063 & MAPE 0.5046465828673687\n"
     ]
    },
    {
     "name": "stderr",
     "output_type": "stream",
     "text": [
      "[I 2024-05-14 16:01:13,840] Trial 125 finished with value: 10.715906653615438 and parameters: {'ensemble_splitter': 0.9825183033906204}. Best is trial 79 with value: 7.9172630541957085.\n"
     ]
    },
    {
     "name": "stdout",
     "output_type": "stream",
     "text": [
      "Final MAE: ratio 21.045883668539968 & xgboost 15.430184893092218\n",
      "Final MAPE: ratio 0.5404465423649051 & xgboost 0.5144048317787553\n",
      "Final ensemble: MAE 20.893802771658425 & MAPE 0.5380105355724507\n"
     ]
    },
    {
     "name": "stderr",
     "output_type": "stream",
     "text": [
      "[I 2024-05-14 16:01:14,457] Trial 126 finished with value: 7.927192823941997 and parameters: {'ensemble_splitter': 0.1887403688350137}. Best is trial 79 with value: 7.9172630541957085.\n"
     ]
    },
    {
     "name": "stdout",
     "output_type": "stream",
     "text": [
      "Final MAE: ratio 21.045883668539968 & xgboost 15.430184893092218\n",
      "Final MAPE: ratio 0.5404465423649051 & xgboost 0.5144048317787553\n",
      "Final ensemble: MAE 15.352894560235487 & MAPE 0.5014910876485064\n"
     ]
    },
    {
     "name": "stderr",
     "output_type": "stream",
     "text": [
      "[I 2024-05-14 16:01:15,043] Trial 127 finished with value: 7.917282686608469 and parameters: {'ensemble_splitter': 0.16294732258625133}. Best is trial 79 with value: 7.9172630541957085.\n"
     ]
    },
    {
     "name": "stdout",
     "output_type": "stream",
     "text": [
      "Final MAE: ratio 21.045883668539968 & xgboost 15.430184893092218\n",
      "Final MAPE: ratio 0.5404465423649051 & xgboost 0.5144048317787553\n",
      "Final ensemble: MAE 15.33203825629066 & MAPE 0.5025271169262767\n"
     ]
    },
    {
     "name": "stderr",
     "output_type": "stream",
     "text": [
      "[I 2024-05-14 16:01:15,639] Trial 128 finished with value: 7.920047071211753 and parameters: {'ensemble_splitter': 0.13441413175394845}. Best is trial 79 with value: 7.9172630541957085.\n"
     ]
    },
    {
     "name": "stdout",
     "output_type": "stream",
     "text": [
      "Final MAE: ratio 21.045883668539968 & xgboost 15.430184893092218\n",
      "Final MAPE: ratio 0.5404465423649051 & xgboost 0.5144048317787553\n",
      "Final ensemble: MAE 15.336293757529166 & MAPE 0.5038003848943396\n"
     ]
    },
    {
     "name": "stderr",
     "output_type": "stream",
     "text": [
      "[I 2024-05-14 16:01:16,229] Trial 129 finished with value: 7.929875025939138 and parameters: {'ensemble_splitter': 0.08861904032746018}. Best is trial 79 with value: 7.9172630541957085.\n"
     ]
    },
    {
     "name": "stdout",
     "output_type": "stream",
     "text": [
      "Final MAE: ratio 21.045883668539968 & xgboost 15.430184893092218\n",
      "Final MAPE: ratio 0.5404465423649051 & xgboost 0.5144048317787553\n",
      "Final ensemble: MAE 15.353208644672973 & MAPE 0.5065414072053023\n"
     ]
    },
    {
     "name": "stderr",
     "output_type": "stream",
     "text": [
      "[I 2024-05-14 16:01:16,813] Trial 130 finished with value: 7.917657086839114 and parameters: {'ensemble_splitter': 0.15408572436100812}. Best is trial 79 with value: 7.9172630541957085.\n"
     ]
    },
    {
     "name": "stdout",
     "output_type": "stream",
     "text": [
      "Final MAE: ratio 21.045883668539968 & xgboost 15.430184893092218\n",
      "Final MAPE: ratio 0.5404465423649051 & xgboost 0.5144048317787553\n",
      "Final ensemble: MAE 15.332411471767266 & MAPE 0.5029027019109619\n"
     ]
    },
    {
     "name": "stderr",
     "output_type": "stream",
     "text": [
      "[I 2024-05-14 16:01:17,393] Trial 131 finished with value: 7.917261114396344 and parameters: {'ensemble_splitter': 0.16120402211734286}. Best is trial 131 with value: 7.917261114396344.\n"
     ]
    },
    {
     "name": "stdout",
     "output_type": "stream",
     "text": [
      "Final MAE: ratio 21.045883668539968 & xgboost 15.430184893092218\n",
      "Final MAPE: ratio 0.5404465423649051 & xgboost 0.5144048317787553\n",
      "Final ensemble: MAE 15.331923776502288 & MAPE 0.5025984522903989\n"
     ]
    },
    {
     "name": "stderr",
     "output_type": "stream",
     "text": [
      "[I 2024-05-14 16:01:17,971] Trial 132 finished with value: 7.926989280198469 and parameters: {'ensemble_splitter': 0.18834461677832853}. Best is trial 131 with value: 7.917261114396344.\n"
     ]
    },
    {
     "name": "stdout",
     "output_type": "stream",
     "text": [
      "Final MAE: ratio 21.045883668539968 & xgboost 15.430184893092218\n",
      "Final MAPE: ratio 0.5404465423649051 & xgboost 0.5144048317787553\n",
      "Final ensemble: MAE 15.35247168080431 & MAPE 0.5015068795926277\n"
     ]
    },
    {
     "name": "stderr",
     "output_type": "stream",
     "text": [
      "[I 2024-05-14 16:01:18,714] Trial 133 finished with value: 7.934637746387596 and parameters: {'ensemble_splitter': 0.2024862880924465}. Best is trial 131 with value: 7.917261114396344.\n"
     ]
    },
    {
     "name": "stdout",
     "output_type": "stream",
     "text": [
      "Final MAE: ratio 21.045883668539968 & xgboost 15.430184893092218\n",
      "Final MAPE: ratio 0.5404465423649051 & xgboost 0.5144048317787553\n",
      "Final ensemble: MAE 15.368282903579685 & MAPE 0.5009925891955062\n"
     ]
    },
    {
     "name": "stderr",
     "output_type": "stream",
     "text": [
      "[I 2024-05-14 16:01:19,330] Trial 134 finished with value: 7.918138476043173 and parameters: {'ensemble_splitter': 0.14854046770939838}. Best is trial 131 with value: 7.917261114396344.\n"
     ]
    },
    {
     "name": "stdout",
     "output_type": "stream",
     "text": [
      "Final MAE: ratio 21.045883668539968 & xgboost 15.430184893092218\n",
      "Final MAPE: ratio 0.5404465423649051 & xgboost 0.5144048317787553\n",
      "Final ensemble: MAE 15.333129385026506 & MAPE 0.50314756705984\n"
     ]
    },
    {
     "name": "stderr",
     "output_type": "stream",
     "text": [
      "[I 2024-05-14 16:01:19,935] Trial 135 finished with value: 7.9573591065157725 and parameters: {'ensemble_splitter': 0.22697964005546106}. Best is trial 131 with value: 7.917261114396344.\n"
     ]
    },
    {
     "name": "stdout",
     "output_type": "stream",
     "text": [
      "Final MAE: ratio 21.045883668539968 & xgboost 15.430184893092218\n",
      "Final MAPE: ratio 0.5404465423649051 & xgboost 0.5144048317787553\n",
      "Final ensemble: MAE 15.41433591042479 & MAPE 0.5003823026067556\n"
     ]
    },
    {
     "name": "stderr",
     "output_type": "stream",
     "text": [
      "[I 2024-05-14 16:01:20,522] Trial 136 finished with value: 7.926014940608667 and parameters: {'ensemble_splitter': 0.10552395965550342}. Best is trial 131 with value: 7.917261114396344.\n"
     ]
    },
    {
     "name": "stdout",
     "output_type": "stream",
     "text": [
      "Final MAE: ratio 21.045883668539968 & xgboost 15.430184893092218\n",
      "Final MAPE: ratio 0.5404465423649051 & xgboost 0.5144048317787553\n",
      "Final ensemble: MAE 15.346555112833785 & MAPE 0.505474768383549\n"
     ]
    },
    {
     "name": "stderr",
     "output_type": "stream",
     "text": [
      "[I 2024-05-14 16:01:21,115] Trial 137 finished with value: 7.994272324869116 and parameters: {'ensemble_splitter': 0.2589117690632058}. Best is trial 131 with value: 7.917261114396344.\n"
     ]
    },
    {
     "name": "stdout",
     "output_type": "stream",
     "text": [
      "Final MAE: ratio 21.045883668539968 & xgboost 15.430184893092218\n",
      "Final MAPE: ratio 0.5404465423649051 & xgboost 0.5144048317787553\n",
      "Final ensemble: MAE 15.488625582881884 & MAPE 0.49991906685634885\n"
     ]
    },
    {
     "name": "stderr",
     "output_type": "stream",
     "text": [
      "[I 2024-05-14 16:01:21,733] Trial 138 finished with value: 7.917325945499885 and parameters: {'ensemble_splitter': 0.16644317388126253}. Best is trial 131 with value: 7.917261114396344.\n"
     ]
    },
    {
     "name": "stdout",
     "output_type": "stream",
     "text": [
      "Final MAE: ratio 21.045883668539968 & xgboost 15.430184893092218\n",
      "Final MAPE: ratio 0.5404465423649051 & xgboost 0.5144048317787553\n",
      "Final ensemble: MAE 15.332267823323749 & MAPE 0.502384067676022\n"
     ]
    },
    {
     "name": "stderr",
     "output_type": "stream",
     "text": [
      "[I 2024-05-14 16:01:22,359] Trial 139 finished with value: 7.920935622968668 and parameters: {'ensemble_splitter': 0.12854113613231752}. Best is trial 131 with value: 7.917261114396344.\n"
     ]
    },
    {
     "name": "stdout",
     "output_type": "stream",
     "text": [
      "Final MAE: ratio 21.045883668539968 & xgboost 15.430184893092218\n",
      "Final MAPE: ratio 0.5404465423649051 & xgboost 0.5144048317787553\n",
      "Final ensemble: MAE 15.337795408361671 & MAPE 0.5040758375756645\n"
     ]
    },
    {
     "name": "stderr",
     "output_type": "stream",
     "text": [
      "[I 2024-05-14 16:01:23,003] Trial 140 finished with value: 7.919349800265811 and parameters: {'ensemble_splitter': 0.1734911025263809}. Best is trial 131 with value: 7.917261114396344.\n"
     ]
    },
    {
     "name": "stdout",
     "output_type": "stream",
     "text": [
      "Final MAE: ratio 21.045883668539968 & xgboost 15.430184893092218\n",
      "Final MAPE: ratio 0.5404465423649051 & xgboost 0.5144048317787553\n",
      "Final ensemble: MAE 15.336600011784087 & MAPE 0.5020995887475362\n"
     ]
    },
    {
     "name": "stderr",
     "output_type": "stream",
     "text": [
      "[I 2024-05-14 16:01:23,593] Trial 141 finished with value: 7.917362741237929 and parameters: {'ensemble_splitter': 0.1590841873827008}. Best is trial 131 with value: 7.917261114396344.\n"
     ]
    },
    {
     "name": "stdout",
     "output_type": "stream",
     "text": [
      "Final MAE: ratio 21.045883668539968 & xgboost 15.430184893092218\n",
      "Final MAPE: ratio 0.5404465423649051 & xgboost 0.5144048317787553\n",
      "Final ensemble: MAE 15.332037008724198 & MAPE 0.5026884737516589\n"
     ]
    },
    {
     "name": "stderr",
     "output_type": "stream",
     "text": [
      "[I 2024-05-14 16:01:24,321] Trial 142 finished with value: 7.939796227003627 and parameters: {'ensemble_splitter': 0.21014513584078004}. Best is trial 131 with value: 7.917261114396344.\n"
     ]
    },
    {
     "name": "stdout",
     "output_type": "stream",
     "text": [
      "Final MAE: ratio 21.045883668539968 & xgboost 15.430184893092218\n",
      "Final MAPE: ratio 0.5404465423649051 & xgboost 0.5144048317787553\n",
      "Final ensemble: MAE 15.378819744838303 & MAPE 0.5007727091689514\n"
     ]
    },
    {
     "name": "stderr",
     "output_type": "stream",
     "text": [
      "[I 2024-05-14 16:01:24,966] Trial 143 finished with value: 8.635083834431649 and parameters: {'ensemble_splitter': 0.47227538519437695}. Best is trial 131 with value: 7.917261114396344.\n"
     ]
    },
    {
     "name": "stdout",
     "output_type": "stream",
     "text": [
      "Final MAE: ratio 21.045883668539968 & xgboost 15.430184893092218\n",
      "Final MAPE: ratio 0.5404465423649051 & xgboost 0.5144048317787553\n",
      "Final ensemble: MAE 16.766818170206296 & MAPE 0.5033494986570027\n"
     ]
    },
    {
     "name": "stderr",
     "output_type": "stream",
     "text": [
      "[I 2024-05-14 16:01:25,590] Trial 144 finished with value: 7.928048905512669 and parameters: {'ensemble_splitter': 0.19040485646021266}. Best is trial 131 with value: 7.917261114396344.\n"
     ]
    },
    {
     "name": "stdout",
     "output_type": "stream",
     "text": [
      "Final MAE: ratio 21.045883668539968 & xgboost 15.430184893092218\n",
      "Final MAPE: ratio 0.5404465423649051 & xgboost 0.5144048317787553\n",
      "Final ensemble: MAE 15.354673142477184 & MAPE 0.5014246685481538\n"
     ]
    },
    {
     "name": "stderr",
     "output_type": "stream",
     "text": [
      "[I 2024-05-14 16:01:26,188] Trial 145 finished with value: 7.9187441698674865 and parameters: {'ensemble_splitter': 0.143025823566746}. Best is trial 131 with value: 7.917261114396344.\n"
     ]
    },
    {
     "name": "stdout",
     "output_type": "stream",
     "text": [
      "Final MAE: ratio 21.045883668539968 & xgboost 15.430184893092218\n",
      "Final MAPE: ratio 0.5404465423649051 & xgboost 0.5144048317787553\n",
      "Final ensemble: MAE 15.334091856657253 & MAPE 0.5033964830777198\n"
     ]
    },
    {
     "name": "stderr",
     "output_type": "stream",
     "text": [
      "[I 2024-05-14 16:01:26,804] Trial 146 finished with value: 7.9173372947501015 and parameters: {'ensemble_splitter': 0.16736033310055032}. Best is trial 131 with value: 7.917261114396344.\n"
     ]
    },
    {
     "name": "stdout",
     "output_type": "stream",
     "text": [
      "Final MAE: ratio 21.045883668539968 & xgboost 15.430184893092218\n",
      "Final MAPE: ratio 0.5404465423649051 & xgboost 0.5144048317787553\n",
      "Final ensemble: MAE 15.332328051721083 & MAPE 0.5023465377791207\n"
     ]
    },
    {
     "name": "stderr",
     "output_type": "stream",
     "text": [
      "[I 2024-05-14 16:01:27,412] Trial 147 finished with value: 7.9712963220576984 and parameters: {'ensemble_splitter': 0.24031942859661676}. Best is trial 131 with value: 7.917261114396344.\n"
     ]
    },
    {
     "name": "stdout",
     "output_type": "stream",
     "text": [
      "Final MAE: ratio 21.045883668539968 & xgboost 15.430184893092218\n",
      "Final MAPE: ratio 0.5404465423649051 & xgboost 0.5144048317787553\n",
      "Final ensemble: MAE 15.442515651242513 & MAPE 0.500076992872885\n"
     ]
    },
    {
     "name": "stderr",
     "output_type": "stream",
     "text": [
      "[I 2024-05-14 16:01:28,091] Trial 148 finished with value: 7.923639345658683 and parameters: {'ensemble_splitter': 0.11604835845386308}. Best is trial 131 with value: 7.917261114396344.\n"
     ]
    },
    {
     "name": "stdout",
     "output_type": "stream",
     "text": [
      "Final MAE: ratio 21.045883668539968 & xgboost 15.430184893092218\n",
      "Final MAPE: ratio 0.5404465423649051 & xgboost 0.5144048317787553\n",
      "Final ensemble: MAE 15.34245419602337 & MAPE 0.5048244952939953\n"
     ]
    },
    {
     "name": "stderr",
     "output_type": "stream",
     "text": [
      "[I 2024-05-14 16:01:28,730] Trial 149 finished with value: 7.919072172769374 and parameters: {'ensemble_splitter': 0.17295130871692618}. Best is trial 131 with value: 7.917261114396344.\n"
     ]
    },
    {
     "name": "stdout",
     "output_type": "stream",
     "text": [
      "Final MAE: ratio 21.045883668539968 & xgboost 15.430184893092218\n",
      "Final MAPE: ratio 0.5404465423649051 & xgboost 0.5144048317787553\n",
      "Final ensemble: MAE 15.33602321705811 & MAPE 0.5021211284806393\n"
     ]
    },
    {
     "name": "stderr",
     "output_type": "stream",
     "text": [
      "[I 2024-05-14 16:01:29,363] Trial 150 finished with value: 7.9314162294286215 and parameters: {'ensemble_splitter': 0.08231795084361195}. Best is trial 131 with value: 7.917261114396344.\n"
     ]
    },
    {
     "name": "stdout",
     "output_type": "stream",
     "text": [
      "Final MAE: ratio 21.045883668539968 & xgboost 15.430184893092218\n",
      "Final MAPE: ratio 0.5404465423649051 & xgboost 0.5144048317787553\n",
      "Final ensemble: MAE 15.355842272494627 & MAPE 0.5069901863626154\n"
     ]
    },
    {
     "name": "stderr",
     "output_type": "stream",
     "text": [
      "[I 2024-05-14 16:01:30,082] Trial 151 finished with value: 7.91742838534961 and parameters: {'ensemble_splitter': 0.15785781654684833}. Best is trial 131 with value: 7.917261114396344.\n"
     ]
    },
    {
     "name": "stdout",
     "output_type": "stream",
     "text": [
      "Final MAE: ratio 21.045883668539968 & xgboost 15.430184893092218\n",
      "Final MAPE: ratio 0.5404465423649051 & xgboost 0.5144048317787553\n",
      "Final ensemble: MAE 15.332116041899564 & MAPE 0.5027407287996561\n"
     ]
    },
    {
     "name": "stderr",
     "output_type": "stream",
     "text": [
      "[I 2024-05-14 16:01:30,740] Trial 152 finished with value: 7.927183624792458 and parameters: {'ensemble_splitter': 0.18872248284016574}. Best is trial 131 with value: 7.917261114396344.\n"
     ]
    },
    {
     "name": "stdout",
     "output_type": "stream",
     "text": [
      "Final MAE: ratio 21.045883668539968 & xgboost 15.430184893092218\n",
      "Final MAPE: ratio 0.5404465423649051 & xgboost 0.5144048317787553\n",
      "Final ensemble: MAE 15.352875448220267 & MAPE 0.5014918013646484\n"
     ]
    },
    {
     "name": "stderr",
     "output_type": "stream",
     "text": [
      "[I 2024-05-14 16:01:31,368] Trial 153 finished with value: 7.918594274207454 and parameters: {'ensemble_splitter': 0.144016577958095}. Best is trial 131 with value: 7.917261114396344.\n"
     ]
    },
    {
     "name": "stdout",
     "output_type": "stream",
     "text": [
      "Final MAE: ratio 21.045883668539968 & xgboost 15.430184893092218\n",
      "Final MAPE: ratio 0.5404465423649051 & xgboost 0.5144048317787553\n",
      "Final ensemble: MAE 15.333838533267901 & MAPE 0.5033500151470056\n"
     ]
    },
    {
     "name": "stderr",
     "output_type": "stream",
     "text": [
      "[I 2024-05-14 16:01:31,991] Trial 154 finished with value: 7.944026960677694 and parameters: {'ensemble_splitter': 0.214200410707181}. Best is trial 131 with value: 7.917261114396344.\n"
     ]
    },
    {
     "name": "stdout",
     "output_type": "stream",
     "text": [
      "Final MAE: ratio 21.045883668539968 & xgboost 15.430184893092218\n",
      "Final MAPE: ratio 0.5404465423649051 & xgboost 0.5144048317787553\n",
      "Final ensemble: MAE 15.387375257481692 & MAPE 0.5006786638736963\n"
     ]
    },
    {
     "name": "stderr",
     "output_type": "stream",
     "text": [
      "[I 2024-05-14 16:01:32,572] Trial 155 finished with value: 7.921095553481715 and parameters: {'ensemble_splitter': 0.12748405510627114}. Best is trial 131 with value: 7.917261114396344.\n"
     ]
    },
    {
     "name": "stdout",
     "output_type": "stream",
     "text": [
      "Final MAE: ratio 21.045883668539968 & xgboost 15.430184893092218\n",
      "Final MAPE: ratio 0.5404465423649051 & xgboost 0.5144048317787553\n",
      "Final ensemble: MAE 15.338065690634133 & MAPE 0.504125416329296\n"
     ]
    },
    {
     "name": "stderr",
     "output_type": "stream",
     "text": [
      "[I 2024-05-14 16:01:33,167] Trial 156 finished with value: 7.919385013570323 and parameters: {'ensemble_splitter': 0.17355956809276524}. Best is trial 131 with value: 7.917261114396344.\n"
     ]
    },
    {
     "name": "stdout",
     "output_type": "stream",
     "text": [
      "Final MAE: ratio 21.045883668539968 & xgboost 15.430184893092218\n",
      "Final MAPE: ratio 0.5404465423649051 & xgboost 0.5144048317787553\n",
      "Final ensemble: MAE 15.336673170417821 & MAPE 0.5020968567228244\n"
     ]
    },
    {
     "name": "stderr",
     "output_type": "stream",
     "text": [
      "[I 2024-05-14 16:01:33,745] Trial 157 finished with value: 7.9343899272880085 and parameters: {'ensemble_splitter': 0.202065394881071}. Best is trial 131 with value: 7.917261114396344.\n"
     ]
    },
    {
     "name": "stdout",
     "output_type": "stream",
     "text": [
      "Final MAE: ratio 21.045883668539968 & xgboost 15.430184893092218\n",
      "Final MAPE: ratio 0.5404465423649051 & xgboost 0.5144048317787553\n",
      "Final ensemble: MAE 15.367774649509386 & MAPE 0.5010052050666307\n"
     ]
    },
    {
     "name": "stderr",
     "output_type": "stream",
     "text": [
      "[I 2024-05-14 16:01:34,339] Trial 158 finished with value: 7.927098937089706 and parameters: {'ensemble_splitter': 0.10072162108239988}. Best is trial 131 with value: 7.917261114396344.\n"
     ]
    },
    {
     "name": "stdout",
     "output_type": "stream",
     "text": [
      "Final MAE: ratio 21.045883668539968 & xgboost 15.430184893092218\n",
      "Final MAPE: ratio 0.5404465423649051 & xgboost 0.5144048317787553\n",
      "Final ensemble: MAE 15.348426382762002 & MAPE 0.5057714914174106\n"
     ]
    },
    {
     "name": "stderr",
     "output_type": "stream",
     "text": [
      "[I 2024-05-14 16:01:34,931] Trial 159 finished with value: 7.91726621870912 and parameters: {'ensemble_splitter': 0.1608874323542157}. Best is trial 131 with value: 7.917261114396344.\n"
     ]
    },
    {
     "name": "stdout",
     "output_type": "stream",
     "text": [
      "Final MAE: ratio 21.045883668539968 & xgboost 15.430184893092218\n",
      "Final MAPE: ratio 0.5404465423649051 & xgboost 0.5144048317787553\n",
      "Final ensemble: MAE 15.331920799032998 & MAPE 0.5026116383852411\n"
     ]
    },
    {
     "name": "stderr",
     "output_type": "stream",
     "text": [
      "[I 2024-05-14 16:01:35,496] Trial 160 finished with value: 7.917416211576838 and parameters: {'ensemble_splitter': 0.1580852483683006}. Best is trial 131 with value: 7.917261114396344.\n"
     ]
    },
    {
     "name": "stdout",
     "output_type": "stream",
     "text": [
      "Final MAE: ratio 21.045883668539968 & xgboost 15.430184893092218\n",
      "Final MAPE: ratio 0.5404465423649051 & xgboost 0.5144048317787553\n",
      "Final ensemble: MAE 15.332101385110192 & MAPE 0.5027310380434845\n"
     ]
    },
    {
     "name": "stderr",
     "output_type": "stream",
     "text": [
      "[I 2024-05-14 16:01:36,267] Trial 161 finished with value: 7.918761343081969 and parameters: {'ensemble_splitter': 0.14291231502585097}. Best is trial 131 with value: 7.917261114396344.\n"
     ]
    },
    {
     "name": "stdout",
     "output_type": "stream",
     "text": [
      "Final MAE: ratio 21.045883668539968 & xgboost 15.430184893092218\n",
      "Final MAPE: ratio 0.5404465423649051 & xgboost 0.5144048317787553\n",
      "Final ensemble: MAE 15.334120879358098 & MAPE 0.5034018068058402\n"
     ]
    },
    {
     "name": "stderr",
     "output_type": "stream",
     "text": [
      "[I 2024-05-14 16:01:36,920] Trial 162 finished with value: 7.924022319135625 and parameters: {'ensemble_splitter': 0.18257592587000251}. Best is trial 131 with value: 7.917261114396344.\n"
     ]
    },
    {
     "name": "stdout",
     "output_type": "stream",
     "text": [
      "Final MAE: ratio 21.045883668539968 & xgboost 15.430184893092218\n",
      "Final MAPE: ratio 0.5404465423649051 & xgboost 0.5144048317787553\n",
      "Final ensemble: MAE 15.346307566964043 & MAPE 0.5017370713072083\n"
     ]
    },
    {
     "name": "stderr",
     "output_type": "stream",
     "text": [
      "[I 2024-05-14 16:01:37,526] Trial 163 finished with value: 7.917326391913116 and parameters: {'ensemble_splitter': 0.16647924956956092}. Best is trial 131 with value: 7.917261114396344.\n"
     ]
    },
    {
     "name": "stdout",
     "output_type": "stream",
     "text": [
      "Final MAE: ratio 21.045883668539968 & xgboost 15.430184893092218\n",
      "Final MAPE: ratio 0.5404465423649051 & xgboost 0.5144048317787553\n",
      "Final ensemble: MAE 15.332270192357214 & MAPE 0.5023825914690188\n"
     ]
    },
    {
     "name": "stderr",
     "output_type": "stream",
     "text": [
      "[I 2024-05-14 16:01:38,099] Trial 164 finished with value: 7.921306819927396 and parameters: {'ensemble_splitter': 0.12638195130961816}. Best is trial 131 with value: 7.917261114396344.\n"
     ]
    },
    {
     "name": "stdout",
     "output_type": "stream",
     "text": [
      "Final MAE: ratio 21.045883668539968 & xgboost 15.430184893092218\n",
      "Final MAPE: ratio 0.5404465423649051 & xgboost 0.5144048317787553\n",
      "Final ensemble: MAE 15.338427628286208 & MAPE 0.5041860115685831\n"
     ]
    },
    {
     "name": "stderr",
     "output_type": "stream",
     "text": [
      "[I 2024-05-14 16:01:38,695] Trial 165 finished with value: 7.9173420973650925 and parameters: {'ensemble_splitter': 0.1677484435504591}. Best is trial 131 with value: 7.917261114396344.\n"
     ]
    },
    {
     "name": "stdout",
     "output_type": "stream",
     "text": [
      "Final MAE: ratio 21.045883668539968 & xgboost 15.430184893092218\n",
      "Final MAPE: ratio 0.5404465423649051 & xgboost 0.5144048317787553\n",
      "Final ensemble: MAE 15.332353538321348 & MAPE 0.5023306564088366\n"
     ]
    },
    {
     "name": "stderr",
     "output_type": "stream",
     "text": [
      "[I 2024-05-14 16:01:39,293] Trial 166 finished with value: 7.917262405690103 and parameters: {'ensemble_splitter': 0.16130837455943164}. Best is trial 131 with value: 7.917261114396344.\n"
     ]
    },
    {
     "name": "stdout",
     "output_type": "stream",
     "text": [
      "Final MAE: ratio 21.045883668539968 & xgboost 15.430184893092218\n",
      "Final MAPE: ratio 0.5404465423649051 & xgboost 0.5144048317787553\n",
      "Final ensemble: MAE 15.331930629162342 & MAPE 0.5025941822178632\n"
     ]
    },
    {
     "name": "stderr",
     "output_type": "stream",
     "text": [
      "[I 2024-05-14 16:01:39,874] Trial 167 finished with value: 7.949953254226537 and parameters: {'ensemble_splitter': 0.219880926459542}. Best is trial 131 with value: 7.917261114396344.\n"
     ]
    },
    {
     "name": "stdout",
     "output_type": "stream",
     "text": [
      "Final MAE: ratio 21.045883668539968 & xgboost 15.430184893092218\n",
      "Final MAPE: ratio 0.5404465423649051 & xgboost 0.5144048317787553\n",
      "Final ensemble: MAE 15.399359580601901 & MAPE 0.5005469278511738\n"
     ]
    },
    {
     "name": "stderr",
     "output_type": "stream",
     "text": [
      "[I 2024-05-14 16:01:40,479] Trial 168 finished with value: 7.924695673813335 and parameters: {'ensemble_splitter': 0.11136859654345149}. Best is trial 131 with value: 7.917261114396344.\n"
     ]
    },
    {
     "name": "stdout",
     "output_type": "stream",
     "text": [
      "Final MAE: ratio 21.045883668539968 & xgboost 15.430184893092218\n",
      "Final MAPE: ratio 0.5404465423649051 & xgboost 0.5144048317787553\n",
      "Final ensemble: MAE 15.344277702967075 & MAPE 0.5051136446595952\n"
     ]
    },
    {
     "name": "stderr",
     "output_type": "stream",
     "text": [
      "[I 2024-05-14 16:01:41,087] Trial 169 finished with value: 7.918988767699913 and parameters: {'ensemble_splitter': 0.1414091231464429}. Best is trial 131 with value: 7.917261114396344.\n"
     ]
    },
    {
     "name": "stdout",
     "output_type": "stream",
     "text": [
      "Final MAE: ratio 21.045883668539968 & xgboost 15.430184893092218\n",
      "Final MAPE: ratio 0.5404465423649051 & xgboost 0.5144048317787553\n",
      "Final ensemble: MAE 15.334505226543515 & MAPE 0.5034723088563107\n"
     ]
    },
    {
     "name": "stderr",
     "output_type": "stream",
     "text": [
      "[I 2024-05-14 16:01:41,844] Trial 170 finished with value: 7.929550932059404 and parameters: {'ensemble_splitter': 0.19332526111017756}. Best is trial 131 with value: 7.917261114396344.\n"
     ]
    },
    {
     "name": "stdout",
     "output_type": "stream",
     "text": [
      "Final MAE: ratio 21.045883668539968 & xgboost 15.430184893092218\n",
      "Final MAPE: ratio 0.5404465423649051 & xgboost 0.5144048317787553\n",
      "Final ensemble: MAE 15.357793730320795 & MAPE 0.5013081337980123\n"
     ]
    },
    {
     "name": "stderr",
     "output_type": "stream",
     "text": [
      "[I 2024-05-14 16:01:42,470] Trial 171 finished with value: 7.9172890925297805 and parameters: {'ensemble_splitter': 0.16346499993709632}. Best is trial 131 with value: 7.917261114396344.\n"
     ]
    },
    {
     "name": "stdout",
     "output_type": "stream",
     "text": [
      "Final MAE: ratio 21.045883668539968 & xgboost 15.430184893092218\n",
      "Final MAPE: ratio 0.5404465423649051 & xgboost 0.5144048317787553\n",
      "Final ensemble: MAE 15.332072251344657 & MAPE 0.5025059337149032\n"
     ]
    },
    {
     "name": "stderr",
     "output_type": "stream",
     "text": [
      "[I 2024-05-14 16:01:43,144] Trial 172 finished with value: 7.917373278671058 and parameters: {'ensemble_splitter': 0.15888732584638202}. Best is trial 131 with value: 7.917261114396344.\n"
     ]
    },
    {
     "name": "stdout",
     "output_type": "stream",
     "text": [
      "Final MAE: ratio 21.045883668539968 & xgboost 15.430184893092218\n",
      "Final MAPE: ratio 0.5404465423649051 & xgboost 0.5144048317787553\n",
      "Final ensemble: MAE 15.332049695418847 & MAPE 0.5026968619232698\n"
     ]
    },
    {
     "name": "stderr",
     "output_type": "stream",
     "text": [
      "[I 2024-05-14 16:01:43,888] Trial 173 finished with value: 7.9251227197270975 and parameters: {'ensemble_splitter': 0.18471544531533618}. Best is trial 131 with value: 7.917261114396344.\n"
     ]
    },
    {
     "name": "stdout",
     "output_type": "stream",
     "text": [
      "Final MAE: ratio 21.045883668539968 & xgboost 15.430184893092218\n",
      "Final MAPE: ratio 0.5404465423649051 & xgboost 0.5144048317787553\n",
      "Final ensemble: MAE 15.348593742741903 & MAPE 0.5016516967122913\n"
     ]
    },
    {
     "name": "stderr",
     "output_type": "stream",
     "text": [
      "[I 2024-05-14 16:01:44,650] Trial 174 finished with value: 7.919447646329893 and parameters: {'ensemble_splitter': 0.1383761065958863}. Best is trial 131 with value: 7.917261114396344.\n"
     ]
    },
    {
     "name": "stdout",
     "output_type": "stream",
     "text": [
      "Final MAE: ratio 21.045883668539968 & xgboost 15.430184893092218\n",
      "Final MAPE: ratio 0.5404465423649051 & xgboost 0.5144048317787553\n",
      "Final ensemble: MAE 15.33528073058294 & MAPE 0.5036145620768439\n"
     ]
    },
    {
     "name": "stderr",
     "output_type": "stream",
     "text": [
      "[I 2024-05-14 16:01:45,441] Trial 175 finished with value: 7.9173206595396985 and parameters: {'ensemble_splitter': 0.1598703625033029}. Best is trial 131 with value: 7.917261114396344.\n"
     ]
    },
    {
     "name": "stdout",
     "output_type": "stream",
     "text": [
      "Final MAE: ratio 21.045883668539968 & xgboost 15.430184893092218\n",
      "Final MAPE: ratio 0.5404465423649051 & xgboost 0.5144048317787553\n",
      "Final ensemble: MAE 15.331986343856453 & MAPE 0.5026549752229437\n"
     ]
    },
    {
     "name": "stderr",
     "output_type": "stream",
     "text": [
      "[I 2024-05-14 16:01:46,215] Trial 176 finished with value: 10.158000350772477 and parameters: {'ensemble_splitter': 0.8542607484316067}. Best is trial 131 with value: 7.917261114396344.\n"
     ]
    },
    {
     "name": "stdout",
     "output_type": "stream",
     "text": [
      "Final MAE: ratio 21.045883668539968 & xgboost 15.430184893092218\n",
      "Final MAPE: ratio 0.5404465423649051 & xgboost 0.5144048317787553\n",
      "Final ensemble: MAE 19.79393907716301 & MAPE 0.522061624381945\n"
     ]
    },
    {
     "name": "stderr",
     "output_type": "stream",
     "text": [
      "[I 2024-05-14 16:01:46,992] Trial 177 finished with value: 7.9335068864876765 and parameters: {'ensemble_splitter': 0.20056564817532596}. Best is trial 131 with value: 7.917261114396344.\n"
     ]
    },
    {
     "name": "stdout",
     "output_type": "stream",
     "text": [
      "Final MAE: ratio 21.045883668539968 & xgboost 15.430184893092218\n",
      "Final MAPE: ratio 0.5404465423649051 & xgboost 0.5144048317787553\n",
      "Final ensemble: MAE 15.3659636144368 & MAPE 0.5010501585385521\n"
     ]
    },
    {
     "name": "stderr",
     "output_type": "stream",
     "text": [
      "[I 2024-05-14 16:01:47,730] Trial 178 finished with value: 7.920723100677014 and parameters: {'ensemble_splitter': 0.12994582919452008}. Best is trial 131 with value: 7.917261114396344.\n"
     ]
    },
    {
     "name": "stdout",
     "output_type": "stream",
     "text": [
      "Final MAE: ratio 21.045883668539968 & xgboost 15.430184893092218\n",
      "Final MAPE: ratio 0.5404465423649051 & xgboost 0.5144048317787553\n",
      "Final ensemble: MAE 15.337436246080234 & MAPE 0.5040099552737951\n"
     ]
    },
    {
     "name": "stderr",
     "output_type": "stream",
     "text": [
      "[I 2024-05-14 16:01:48,531] Trial 179 finished with value: 7.917711477930997 and parameters: {'ensemble_splitter': 0.15345917818686272}. Best is trial 131 with value: 7.917261114396344.\n"
     ]
    },
    {
     "name": "stdout",
     "output_type": "stream",
     "text": [
      "Final MAE: ratio 21.045883668539968 & xgboost 15.430184893092218\n",
      "Final MAPE: ratio 0.5404465423649051 & xgboost 0.5144048317787553\n",
      "Final ensemble: MAE 15.332492587184307 & MAPE 0.5029303686776868\n"
     ]
    },
    {
     "name": "stderr",
     "output_type": "stream",
     "text": [
      "[I 2024-05-14 16:01:49,328] Trial 180 finished with value: 7.926793921963081 and parameters: {'ensemble_splitter': 0.10207290398195228}. Best is trial 131 with value: 7.917261114396344.\n"
     ]
    },
    {
     "name": "stdout",
     "output_type": "stream",
     "text": [
      "Final MAE: ratio 21.045883668539968 & xgboost 15.430184893092218\n",
      "Final MAPE: ratio 0.5404465423649051 & xgboost 0.5144048317787553\n",
      "Final ensemble: MAE 15.34789984448989 & MAPE 0.5056879994362732\n"
     ]
    },
    {
     "name": "stderr",
     "output_type": "stream",
     "text": [
      "[I 2024-05-14 16:01:49,950] Trial 181 finished with value: 7.918777321863251 and parameters: {'ensemble_splitter': 0.17237802726650892}. Best is trial 131 with value: 7.917261114396344.\n"
     ]
    },
    {
     "name": "stdout",
     "output_type": "stream",
     "text": [
      "Final MAE: ratio 21.045883668539968 & xgboost 15.430184893092218\n",
      "Final MAPE: ratio 0.5404465423649051 & xgboost 0.5144048317787553\n",
      "Final ensemble: MAE 15.335410639234285 & MAPE 0.5021440044922175\n"
     ]
    },
    {
     "name": "stderr",
     "output_type": "stream",
     "text": [
      "[I 2024-05-14 16:01:50,541] Trial 182 finished with value: 7.917288904901279 and parameters: {'ensemble_splitter': 0.16344983724262352}. Best is trial 131 with value: 7.917261114396344.\n"
     ]
    },
    {
     "name": "stdout",
     "output_type": "stream",
     "text": [
      "Final MAE: ratio 21.045883668539968 & xgboost 15.430184893092218\n",
      "Final MAPE: ratio 0.5404465423649051 & xgboost 0.5144048317787553\n",
      "Final ensemble: MAE 15.33207125563447 & MAPE 0.5025065541680902\n"
     ]
    },
    {
     "name": "stderr",
     "output_type": "stream",
     "text": [
      "[I 2024-05-14 16:01:51,110] Trial 183 finished with value: 9.321220132961383 and parameters: {'ensemble_splitter': 0.6471138817239883}. Best is trial 131 with value: 7.917261114396344.\n"
     ]
    },
    {
     "name": "stdout",
     "output_type": "stream",
     "text": [
      "Final MAE: ratio 21.045883668539968 & xgboost 15.430184893092218\n",
      "Final MAPE: ratio 0.5404465423649051 & xgboost 0.5144048317787553\n",
      "Final ensemble: MAE 18.132974305454972 & MAPE 0.5094659604677925\n"
     ]
    },
    {
     "name": "stderr",
     "output_type": "stream",
     "text": [
      "[I 2024-05-14 16:01:51,713] Trial 184 finished with value: 7.9286928065978595 and parameters: {'ensemble_splitter': 0.1916567995283245}. Best is trial 131 with value: 7.917261114396344.\n"
     ]
    },
    {
     "name": "stdout",
     "output_type": "stream",
     "text": [
      "Final MAE: ratio 21.045883668539968 & xgboost 15.430184893092218\n",
      "Final MAPE: ratio 0.5404465423649051 & xgboost 0.5144048317787553\n",
      "Final ensemble: MAE 15.356010901722053 & MAPE 0.5013747114736655\n"
     ]
    },
    {
     "name": "stderr",
     "output_type": "stream",
     "text": [
      "[I 2024-05-14 16:01:52,308] Trial 185 finished with value: 7.917923985629873 and parameters: {'ensemble_splitter': 0.15101124266870736}. Best is trial 131 with value: 7.917261114396344.\n"
     ]
    },
    {
     "name": "stdout",
     "output_type": "stream",
     "text": [
      "Final MAE: ratio 21.045883668539968 & xgboost 15.430184893092218\n",
      "Final MAPE: ratio 0.5404465423649051 & xgboost 0.5144048317787553\n",
      "Final ensemble: MAE 15.332809507658277 & MAPE 0.5030384636014675\n"
     ]
    },
    {
     "name": "stderr",
     "output_type": "stream",
     "text": [
      "[I 2024-05-14 16:01:52,897] Trial 186 finished with value: 7.923169031204042 and parameters: {'ensemble_splitter': 0.1181319530840137}. Best is trial 131 with value: 7.917261114396344.\n"
     ]
    },
    {
     "name": "stdout",
     "output_type": "stream",
     "text": [
      "Final MAE: ratio 21.045883668539968 & xgboost 15.430184893092218\n",
      "Final MAPE: ratio 0.5404465423649051 & xgboost 0.5144048317787553\n",
      "Final ensemble: MAE 15.341642306583532 & MAPE 0.5046957558245508\n"
     ]
    },
    {
     "name": "stderr",
     "output_type": "stream",
     "text": [
      "[I 2024-05-14 16:01:53,475] Trial 187 finished with value: 7.958816389109617 and parameters: {'ensemble_splitter': 0.22837648559842721}. Best is trial 131 with value: 7.917261114396344.\n"
     ]
    },
    {
     "name": "stdout",
     "output_type": "stream",
     "text": [
      "Final MAE: ratio 21.045883668539968 & xgboost 15.430184893092218\n",
      "Final MAPE: ratio 0.5404465423649051 & xgboost 0.5144048317787553\n",
      "Final ensemble: MAE 15.417282869656248 & MAPE 0.5003499085629873\n"
     ]
    },
    {
     "name": "stderr",
     "output_type": "stream",
     "text": [
      "[I 2024-05-14 16:01:54,085] Trial 188 finished with value: 7.922679726733627 and parameters: {'ensemble_splitter': 0.17996551055987847}. Best is trial 131 with value: 7.917261114396344.\n"
     ]
    },
    {
     "name": "stdout",
     "output_type": "stream",
     "text": [
      "Final MAE: ratio 21.045883668539968 & xgboost 15.430184893092218\n",
      "Final MAPE: ratio 0.5404465423649051 & xgboost 0.5144048317787553\n",
      "Final ensemble: MAE 15.343518217110201 & MAPE 0.5018412363570527\n"
     ]
    },
    {
     "name": "stderr",
     "output_type": "stream",
     "text": [
      "[I 2024-05-14 16:01:54,787] Trial 189 finished with value: 7.939707011743704 and parameters: {'ensemble_splitter': 0.2100596205545079}. Best is trial 131 with value: 7.917261114396344.\n"
     ]
    },
    {
     "name": "stdout",
     "output_type": "stream",
     "text": [
      "Final MAE: ratio 21.045883668539968 & xgboost 15.430184893092218\n",
      "Final MAPE: ratio 0.5404465423649051 & xgboost 0.5144048317787553\n",
      "Final ensemble: MAE 15.37863933114577 & MAPE 0.5007746923416375\n"
     ]
    },
    {
     "name": "stderr",
     "output_type": "stream",
     "text": [
      "[I 2024-05-14 16:01:55,373] Trial 190 finished with value: 7.9197417433403805 and parameters: {'ensemble_splitter': 0.13643223507519656}. Best is trial 131 with value: 7.917261114396344.\n"
     ]
    },
    {
     "name": "stdout",
     "output_type": "stream",
     "text": [
      "Final MAE: ratio 21.045883668539968 & xgboost 15.430184893092218\n",
      "Final MAPE: ratio 0.5404465423649051 & xgboost 0.5144048317787553\n",
      "Final ensemble: MAE 15.33577775398895 & MAPE 0.5037057326918112\n"
     ]
    },
    {
     "name": "stderr",
     "output_type": "stream",
     "text": [
      "[I 2024-05-14 16:01:55,973] Trial 191 finished with value: 7.917294002707053 and parameters: {'ensemble_splitter': 0.1638618027448053}. Best is trial 131 with value: 7.917261114396344.\n"
     ]
    },
    {
     "name": "stdout",
     "output_type": "stream",
     "text": [
      "Final MAE: ratio 21.045883668539968 & xgboost 15.430184893092218\n",
      "Final MAPE: ratio 0.5404465423649051 & xgboost 0.5144048317787553\n",
      "Final ensemble: MAE 15.33209830875832 & MAPE 0.5024896966557864\n"
     ]
    },
    {
     "name": "stderr",
     "output_type": "stream",
     "text": [
      "[I 2024-05-14 16:01:56,607] Trial 192 finished with value: 7.917293751104095 and parameters: {'ensemble_splitter': 0.16384147012719694}. Best is trial 131 with value: 7.917261114396344.\n"
     ]
    },
    {
     "name": "stdout",
     "output_type": "stream",
     "text": [
      "Final MAE: ratio 21.045883668539968 & xgboost 15.430184893092218\n",
      "Final MAPE: ratio 0.5404465423649051 & xgboost 0.5144048317787553\n",
      "Final ensemble: MAE 15.332096973547419 & MAPE 0.5024905286607712\n"
     ]
    },
    {
     "name": "stderr",
     "output_type": "stream",
     "text": [
      "[I 2024-05-14 16:01:57,190] Trial 193 finished with value: 7.918105068783187 and parameters: {'ensemble_splitter': 0.14892529526476586}. Best is trial 131 with value: 7.917261114396344.\n"
     ]
    },
    {
     "name": "stdout",
     "output_type": "stream",
     "text": [
      "Final MAE: ratio 21.045883668539968 & xgboost 15.430184893092218\n",
      "Final MAPE: ratio 0.5404465423649051 & xgboost 0.5144048317787553\n",
      "Final ensemble: MAE 15.333079563562501 & MAPE 0.5031305740038722\n"
     ]
    },
    {
     "name": "stderr",
     "output_type": "stream",
     "text": [
      "[I 2024-05-14 16:01:57,807] Trial 194 finished with value: 7.924086696845064 and parameters: {'ensemble_splitter': 0.1827010960691518}. Best is trial 131 with value: 7.917261114396344.\n"
     ]
    },
    {
     "name": "stdout",
     "output_type": "stream",
     "text": [
      "Final MAE: ratio 21.045883668539968 & xgboost 15.430184893092218\n",
      "Final MAPE: ratio 0.5404465423649051 & xgboost 0.5144048317787553\n",
      "Final ensemble: MAE 15.346441317128386 & MAPE 0.5017320765617425\n"
     ]
    },
    {
     "name": "stderr",
     "output_type": "stream",
     "text": [
      "[I 2024-05-14 16:01:58,408] Trial 195 finished with value: 7.91734146670416 and parameters: {'ensemble_splitter': 0.15948164066650922}. Best is trial 131 with value: 7.917261114396344.\n"
     ]
    },
    {
     "name": "stdout",
     "output_type": "stream",
     "text": [
      "Final MAE: ratio 21.045883668539968 & xgboost 15.430184893092218\n",
      "Final MAPE: ratio 0.5404465423649051 & xgboost 0.5144048317787553\n",
      "Final ensemble: MAE 15.332011394942315 & MAPE 0.5026715384660057\n"
     ]
    },
    {
     "name": "stderr",
     "output_type": "stream",
     "text": [
      "[I 2024-05-14 16:01:59,014] Trial 196 finished with value: 7.922241947552216 and parameters: {'ensemble_splitter': 0.12223913392782021}. Best is trial 131 with value: 7.917261114396344.\n"
     ]
    },
    {
     "name": "stdout",
     "output_type": "stream",
     "text": [
      "Final MAE: ratio 21.045883668539968 & xgboost 15.430184893092218\n",
      "Final MAPE: ratio 0.5404465423649051 & xgboost 0.5144048317787553\n",
      "Final ensemble: MAE 15.340041910466988 & MAPE 0.5044419846374428\n"
     ]
    },
    {
     "name": "stderr",
     "output_type": "stream",
     "text": [
      "[I 2024-05-14 16:01:59,610] Trial 197 finished with value: 7.928599701056711 and parameters: {'ensemble_splitter': 0.1914757735298832}. Best is trial 131 with value: 7.917261114396344.\n"
     ]
    },
    {
     "name": "stdout",
     "output_type": "stream",
     "text": [
      "Final MAE: ratio 21.045883668539968 & xgboost 15.430184893092218\n",
      "Final MAPE: ratio 0.5404465423649051 & xgboost 0.5144048317787553\n",
      "Final ensemble: MAE 15.355817467045075 & MAPE 0.5013819350683472\n"
     ]
    },
    {
     "name": "stderr",
     "output_type": "stream",
     "text": [
      "[I 2024-05-14 16:02:00,847] Trial 198 finished with value: 7.919336790041842 and parameters: {'ensemble_splitter': 0.13910882530277024}. Best is trial 131 with value: 7.917261114396344.\n"
     ]
    },
    {
     "name": "stdout",
     "output_type": "stream",
     "text": [
      "Final MAE: ratio 21.045883668539968 & xgboost 15.430184893092218\n",
      "Final MAPE: ratio 0.5404465423649051 & xgboost 0.5144048317787553\n",
      "Final ensemble: MAE 15.335093383660329 & MAPE 0.5035801964233559\n"
     ]
    },
    {
     "name": "stderr",
     "output_type": "stream",
     "text": [
      "[I 2024-05-14 16:02:01,950] Trial 199 finished with value: 7.917270560998305 and parameters: {'ensemble_splitter': 0.16196742392050362}. Best is trial 131 with value: 7.917261114396344.\n"
     ]
    },
    {
     "name": "stdout",
     "output_type": "stream",
     "text": [
      "Final MAE: ratio 21.045883668539968 & xgboost 15.430184893092218\n",
      "Final MAPE: ratio 0.5404465423649051 & xgboost 0.5144048317787553\n",
      "Final ensemble: MAE 15.331973907892955 & MAPE 0.502567214103654\n",
      "{'ensemble_splitter': 0.16120402211734286}\n"
     ]
    }
   ],
   "source": [
    "study = optuna.create_study()\n",
    "study.optimize(objective, n_trials=200)\n",
    "\n",
    "print(study.best_params)"
   ]
  },
  {
   "cell_type": "code",
   "execution_count": null,
   "metadata": {},
   "outputs": [],
   "source": []
  }
 ],
 "metadata": {
  "kernelspec": {
   "display_name": "base",
   "language": "python",
   "name": "python3"
  },
  "language_info": {
   "codemirror_mode": {
    "name": "ipython",
    "version": 3
   },
   "file_extension": ".py",
   "mimetype": "text/x-python",
   "name": "python",
   "nbconvert_exporter": "python",
   "pygments_lexer": "ipython3",
   "version": "3.11.5"
  }
 },
 "nbformat": 4,
 "nbformat_minor": 2
}
