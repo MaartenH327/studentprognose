{
 "cells": [
  {
   "cell_type": "code",
   "execution_count": 4,
   "metadata": {},
   "outputs": [],
   "source": [
    "import pandas as pd\n",
    "import numpy as np"
   ]
  },
  {
   "cell_type": "code",
   "execution_count": 5,
   "metadata": {},
   "outputs": [],
   "source": [
    "data = pd.read_excel(\"../data/output/output_volume.xlsx\")"
   ]
  },
  {
   "cell_type": "code",
   "execution_count": 6,
   "metadata": {},
   "outputs": [
    {
     "data": {
      "text/plain": [
       "Index(['level_0', 'index', 'Examentype', 'Croho groepeernaam', 'Herkomst',\n",
       "       'Faculteit', 'Collegejaar', 'Weeknummer', 'SARIMA_cumulative',\n",
       "       'SARIMA_individual', 'Gewogen vooraanmelders',\n",
       "       'Ongewogen vooraanmelders', 'Aantal aanmelders met 1 aanmelding',\n",
       "       'Inschrijvingen', 'Prognose_ratio', 'Ratio', 'Aanmelding',\n",
       "       'Average_Ratio', 'Ensemble_prediction', 'Weighted_ensemble_prediction',\n",
       "       'Average_ensemble_prediction', 'MAE weighted ensemble',\n",
       "       'MAE average ensemble', 'MAE ensemble', 'MAE ratio',\n",
       "       'MAE sarima cumulative', 'MAE sarima individual',\n",
       "       'MAPE weighted ensemble', 'MAPE average ensemble', 'MAPE ensemble',\n",
       "       'MAPE ratio', 'MAPE sarima cumulative', 'MAPE sarima individual',\n",
       "       'Aantal_studenten', 'Voorspelde vooraanmelders_y',\n",
       "       'Voorspelde vooraanmelders', 'Skip_training_prediction',\n",
       "       'Ahead_prediction', 'Skip_prediction',\n",
       "       'Higher_years_prediction_XGBoost', 'Higher_years_prediction_Ratio',\n",
       "       'Higher_years_prediction', 'Volume_prediction',\n",
       "       'Aantal_studenten_higher_years', 'Aantal_studenten_volume',\n",
       "       'MAE_higher_years_XGBoost', 'MAE_higher_years_Ratio',\n",
       "       'MAE_higher_years', 'MAPE_higher_years_XGBoost',\n",
       "       'MAPE_higher_years_Ratio', 'MAPE_higher_years'],\n",
       "      dtype='object')"
      ]
     },
     "execution_count": 6,
     "metadata": {},
     "output_type": "execute_result"
    }
   ],
   "source": [
    "data.columns"
   ]
  },
  {
   "cell_type": "code",
   "execution_count": 7,
   "metadata": {},
   "outputs": [],
   "source": [
    "predict_year = 2023\n",
    "predict_week = 5"
   ]
  },
  {
   "cell_type": "code",
   "execution_count": 8,
   "metadata": {},
   "outputs": [],
   "source": [
    "pred_data = data[(data[\"Collegejaar\"] == predict_year) & (data[\"Weeknummer\"] == predict_week)]"
   ]
  },
  {
   "cell_type": "code",
   "execution_count": 9,
   "metadata": {},
   "outputs": [
    {
     "name": "stderr",
     "output_type": "stream",
     "text": [
      "C:\\Users\\jjble\\AppData\\Local\\Temp\\ipykernel_4540\\2076253584.py:1: SettingWithCopyWarning: \n",
      "A value is trying to be set on a copy of a slice from a DataFrame.\n",
      "Try using .loc[row_indexer,col_indexer] = value instead\n",
      "\n",
      "See the caveats in the documentation: https://pandas.pydata.org/pandas-docs/stable/user_guide/indexing.html#returning-a-view-versus-a-copy\n",
      "  pred_data[\"MAE_Skip_training_prediction\"] = abs(pred_data[\"Skip_training_prediction\"] - pred_data[\"Aantal_studenten\"])\n",
      "C:\\Users\\jjble\\AppData\\Local\\Temp\\ipykernel_4540\\2076253584.py:2: SettingWithCopyWarning: \n",
      "A value is trying to be set on a copy of a slice from a DataFrame.\n",
      "Try using .loc[row_indexer,col_indexer] = value instead\n",
      "\n",
      "See the caveats in the documentation: https://pandas.pydata.org/pandas-docs/stable/user_guide/indexing.html#returning-a-view-versus-a-copy\n",
      "  pred_data[\"MAE_Ahead_prediction\"] = abs(pred_data[\"Ahead_prediction\"] - pred_data[\"Aantal_studenten\"])\n",
      "C:\\Users\\jjble\\AppData\\Local\\Temp\\ipykernel_4540\\2076253584.py:3: SettingWithCopyWarning: \n",
      "A value is trying to be set on a copy of a slice from a DataFrame.\n",
      "Try using .loc[row_indexer,col_indexer] = value instead\n",
      "\n",
      "See the caveats in the documentation: https://pandas.pydata.org/pandas-docs/stable/user_guide/indexing.html#returning-a-view-versus-a-copy\n",
      "  pred_data[\"MAE_Skip_prediction\"] = abs(pred_data[\"Skip_prediction\"] - pred_data[\"Aantal_studenten\"])\n",
      "C:\\Users\\jjble\\AppData\\Local\\Temp\\ipykernel_4540\\2076253584.py:5: SettingWithCopyWarning: \n",
      "A value is trying to be set on a copy of a slice from a DataFrame.\n",
      "Try using .loc[row_indexer,col_indexer] = value instead\n",
      "\n",
      "See the caveats in the documentation: https://pandas.pydata.org/pandas-docs/stable/user_guide/indexing.html#returning-a-view-versus-a-copy\n",
      "  pred_data[\"MAPE_Skip_training_prediction\"] = abs(pred_data[\"Skip_training_prediction\"] - pred_data[\"Aantal_studenten\"]) / pred_data[\"Aantal_studenten\"]\n",
      "C:\\Users\\jjble\\AppData\\Local\\Temp\\ipykernel_4540\\2076253584.py:6: SettingWithCopyWarning: \n",
      "A value is trying to be set on a copy of a slice from a DataFrame.\n",
      "Try using .loc[row_indexer,col_indexer] = value instead\n",
      "\n",
      "See the caveats in the documentation: https://pandas.pydata.org/pandas-docs/stable/user_guide/indexing.html#returning-a-view-versus-a-copy\n",
      "  pred_data[\"MAPE_Ahead_prediction\"] = abs(pred_data[\"Ahead_prediction\"] - pred_data[\"Aantal_studenten\"]) / pred_data[\"Aantal_studenten\"]\n",
      "C:\\Users\\jjble\\AppData\\Local\\Temp\\ipykernel_4540\\2076253584.py:7: SettingWithCopyWarning: \n",
      "A value is trying to be set on a copy of a slice from a DataFrame.\n",
      "Try using .loc[row_indexer,col_indexer] = value instead\n",
      "\n",
      "See the caveats in the documentation: https://pandas.pydata.org/pandas-docs/stable/user_guide/indexing.html#returning-a-view-versus-a-copy\n",
      "  pred_data[\"MAPE_Skip_prediction\"] = abs(pred_data[\"Skip_prediction\"] - pred_data[\"Aantal_studenten\"]) / pred_data[\"Aantal_studenten\"]\n"
     ]
    }
   ],
   "source": [
    "pred_data[\"MAE_Skip_training_prediction\"] = abs(pred_data[\"Skip_training_prediction\"] - pred_data[\"Aantal_studenten\"])\n",
    "pred_data[\"MAE_Ahead_prediction\"] = abs(pred_data[\"Ahead_prediction\"] - pred_data[\"Aantal_studenten\"])\n",
    "pred_data[\"MAE_Skip_prediction\"] = abs(pred_data[\"Skip_prediction\"] - pred_data[\"Aantal_studenten\"])\n",
    "\n",
    "pred_data[\"MAPE_Skip_training_prediction\"] = abs(pred_data[\"Skip_training_prediction\"] - pred_data[\"Aantal_studenten\"]) / pred_data[\"Aantal_studenten\"]\n",
    "pred_data[\"MAPE_Ahead_prediction\"] = abs(pred_data[\"Ahead_prediction\"] - pred_data[\"Aantal_studenten\"]) / pred_data[\"Aantal_studenten\"]\n",
    "pred_data[\"MAPE_Skip_prediction\"] = abs(pred_data[\"Skip_prediction\"] - pred_data[\"Aantal_studenten\"]) / pred_data[\"Aantal_studenten\"]"
   ]
  },
  {
   "cell_type": "code",
   "execution_count": 10,
   "metadata": {},
   "outputs": [],
   "source": [
    "pred_data.to_excel(\"new_output_volume.xlsx\")"
   ]
  },
  {
   "cell_type": "code",
   "execution_count": null,
   "metadata": {},
   "outputs": [],
   "source": []
  }
 ],
 "metadata": {
  "kernelspec": {
   "display_name": "base",
   "language": "python",
   "name": "python3"
  },
  "language_info": {
   "codemirror_mode": {
    "name": "ipython",
    "version": 3
   },
   "file_extension": ".py",
   "mimetype": "text/x-python",
   "name": "python",
   "nbconvert_exporter": "python",
   "pygments_lexer": "ipython3",
   "version": "3.11.5"
  }
 },
 "nbformat": 4,
 "nbformat_minor": 2
}
