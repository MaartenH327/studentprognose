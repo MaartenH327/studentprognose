{
 "cells": [
  {
   "cell_type": "code",
   "execution_count": 1,
   "metadata": {},
   "outputs": [],
   "source": [
    "import os\n",
    "import sys\n",
    "module_path = os.path.abspath(os.path.join('..'))\n",
    "if module_path not in sys.path:\n",
    "    sys.path.append(module_path)"
   ]
  },
  {
   "cell_type": "code",
   "execution_count": 2,
   "metadata": {},
   "outputs": [],
   "source": [
    "import numpy as np\n",
    "import pandas as pd"
   ]
  },
  {
   "cell_type": "code",
   "execution_count": 3,
   "metadata": {},
   "outputs": [],
   "source": [
    "# Average MAE: 13.45493434178517\n",
    "# Average MAPE: 30.81535258671969\n",
    "\n",
    "prediction_data = pd.read_excel(\"../individual_output_2023-14.xlsx\")\n",
    "actual_data = pd.read_excel(\"../student_volume.xlsx\")\n",
    "\n",
    "# Average MAE: 19.955903562479094\n",
    "# Average MAPE: 75.06377172286473\n",
    "# prediction_data = pd.read_excel(\"../individual_output_higher-years.xlsx\")\n",
    "# actual_data = pd.read_excel(\"../student_count_higher-years.xlsx\")"
   ]
  },
  {
   "cell_type": "code",
   "execution_count": 4,
   "metadata": {},
   "outputs": [],
   "source": [
    "def mean_absolute_error(actual, prediction):\n",
    "    return abs(actual - prediction)\n",
    "\n",
    "def mean_absolute_percentage_error(actual, key):\n",
    "    if actual == 0:\n",
    "        return 0\n",
    "    else:\n",
    "        return abs((actual - key) / actual)"
   ]
  },
  {
   "cell_type": "code",
   "execution_count": 5,
   "metadata": {},
   "outputs": [
    {
     "name": "stdout",
     "output_type": "stream",
     "text": [
      "Average MAE: 13.45493434178517\n",
      "Average MAPE: 30.81535258671969\n"
     ]
    }
   ],
   "source": [
    "dict = {\"Collegejaar\": [], \"Croho groepeernaam\": [], \"Herkomst\": [], \"MAE\": [], \"MAPE\": [], \"Prediction\": [], \"Actual\": []}\n",
    "\n",
    "total_MAE = 0.0\n",
    "total_MAPE = 0.0\n",
    "count = 0.0\n",
    "\n",
    "# prediction_data = prediction_data[prediction_data[\"Examentype\"] == \"Bachelor\"]\n",
    "for i, row in prediction_data.iterrows():\n",
    "\n",
    "    student_volume_row = actual_data[(actual_data[\"Collegejaar\"] == row[\"Collegejaar\"]) &\n",
    "                                                       (actual_data[\"Croho groepeernaam\"] == row[\"Croho groepeernaam\"]) &\n",
    "                                                        (actual_data[\"Herkomst\"] == row[\"Herkomst\"])]\n",
    "\n",
    "    if not student_volume_row.empty:\n",
    "        # print(student_volume_row)\n",
    "        student_volume = student_volume_row[\"Aantal_studenten\"].iloc[0]\n",
    "\n",
    "        MAE = mean_absolute_error(student_volume, row[\"SARIMA_individual\"])\n",
    "        MAPE = mean_absolute_percentage_error(student_volume, row[\"SARIMA_individual\"])\n",
    "\n",
    "        dict[\"Collegejaar\"].append(row[\"Collegejaar\"])\n",
    "        dict[\"Croho groepeernaam\"].append(row[\"Croho groepeernaam\"])\n",
    "        dict[\"Herkomst\"].append(row[\"Herkomst\"])\n",
    "        \n",
    "        dict[\"Actual\"].append(student_volume)\n",
    "        dict[\"Prediction\"].append(row[\"SARIMA_individual\"])\n",
    "\n",
    "        dict[\"MAE\"].append(MAE)\n",
    "\n",
    "        if np.isnan(MAPE):\n",
    "            MAPE = 0\n",
    "\n",
    "        dict[\"MAPE\"].append(MAPE)\n",
    "\n",
    "        total_MAE += MAE\n",
    "        total_MAPE += MAPE\n",
    "        count += 1.0\n",
    "\n",
    "print(\"Average MAE:\", total_MAE / count)\n",
    "print(\"Average MAPE:\", total_MAPE / count * 100)\n",
    "\n",
    "dict = pd.DataFrame(dict)\n",
    "dict.to_excel(\"../student_volume_comparison_higher-years.xlsx\", index=False)"
   ]
  },
  {
   "cell_type": "code",
   "execution_count": null,
   "metadata": {},
   "outputs": [],
   "source": []
  }
 ],
 "metadata": {
  "kernelspec": {
   "display_name": "base",
   "language": "python",
   "name": "python3"
  },
  "language_info": {
   "codemirror_mode": {
    "name": "ipython",
    "version": 3
   },
   "file_extension": ".py",
   "mimetype": "text/x-python",
   "name": "python",
   "nbconvert_exporter": "python",
   "pygments_lexer": "ipython3",
   "version": "3.11.5"
  }
 },
 "nbformat": 4,
 "nbformat_minor": 2
}
